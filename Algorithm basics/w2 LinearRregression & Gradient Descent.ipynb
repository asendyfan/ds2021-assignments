{
  "nbformat": 4,
  "nbformat_minor": 0,
  "metadata": {
    "colab": {
      "name": "algorithm-exercise-w2.ipynb",
      "provenance": [],
      "collapsed_sections": []
    },
    "kernelspec": {
      "name": "python3",
      "display_name": "Python 3"
    },
    "language_info": {
      "name": "python"
    }
  },
  "cells": [
    {
      "cell_type": "markdown",
      "metadata": {
        "id": "WiNxauUgYEsG"
      },
      "source": [
        "### Gradient Descent\n",
        "\n",
        "L5 exercise: use gradient descent to find linear regression model"
      ]
    },
    {
      "cell_type": "code",
      "metadata": {
        "colab": {
          "base_uri": "https://localhost:8080/",
          "height": 282
        },
        "id": "BUFP0FCDYdrj",
        "outputId": "3b08db04-3160-4567-bd04-64f4e2a2d209"
      },
      "source": [
        "data = [\n",
        "        (5, 12),\n",
        "        (9, 20),\n",
        "        (10, 34),\n",
        "        (13, 30),\n",
        "        (14, 60),\n",
        "        (16, 40),\n",
        "        (18, 70),\n",
        "        (23, 85)\n",
        "]\n",
        "data = [(point[0]*100, point[1]*10000 )for point in data]\n",
        "\n",
        "import pandas as pd\n",
        "data = pd.DataFrame(data, columns=['x', 'y'])\n",
        "# data.plot(x='x', y='y', kind='scatter')\n",
        "import matplotlib.pyplot as plt\n",
        "\n",
        "plt.plot(data.iloc[:, 0], data.iloc[:, 1], 'b.')"
      ],
      "execution_count": null,
      "outputs": [
        {
          "output_type": "execute_result",
          "data": {
            "text/plain": [
              "[<matplotlib.lines.Line2D at 0x7f93303aa5d0>]"
            ]
          },
          "metadata": {},
          "execution_count": 1
        },
        {
          "output_type": "display_data",
          "data": {
            "image/png": "[encoded data removed]",
            "text/plain": [
              "<Figure size 432x288 with 1 Axes>"
            ]
          },
          "metadata": {
            "needs_background": "light"
          }
        }
      ]
    },
    {
      "cell_type": "markdown",
      "metadata": {
        "id": "5eiOAOmVGm8F"
      },
      "source": [
        "### income_recreation data"
      ]
    },
    {
      "cell_type": "code",
      "metadata": {
        "id": "Uo1xnLQXGnXh"
      },
      "source": [
        "import numpy as np\n",
        "data1 = np.array([\n",
        "        [2400, 41200],\n",
        "        [2650, 50100],\n",
        "        [2350, 52000],\n",
        "        [4950, 66000],\n",
        "        [3100, 44500],\n",
        "        [2500, 37700],\n",
        "        [5106, 73500],\n",
        "        [3100, 37500],\n",
        "        [2900, 56700],\n",
        "        [1750, 35600]\n",
        "])\n",
        "def feature_scaling(data):\n",
        "  return np.array([(v - np.mean(data)) / (max(data) - min(data)) for v in data])\n",
        "scalling_X1 = feature_scaling(data1[:, 0]).reshape(-1, 1)\n",
        "scalling_y1 = feature_scaling(data1[:, 1]).reshape(-1, 1)"
      ],
      "execution_count": null,
      "outputs": []
    },
    {
      "cell_type": "markdown",
      "metadata": {
        "id": "ZuvPh5f5Hyq7"
      },
      "source": [
        "### process income_recreation data"
      ]
    },
    {
      "cell_type": "code",
      "metadata": {
        "colab": {
          "base_uri": "https://localhost:8080/",
          "height": 337
        },
        "id": "EUj0wBqoQ0hJ",
        "outputId": "be90deb6-2c41-4a66-b0c4-8a60950d0b8a"
      },
      "source": [
        "import numpy as np\n",
        "import matplotlib.pyplot as plt\n",
        "\n",
        "data = np.array([\n",
        "        [2400, 41200],\n",
        "        [2650, 50100],\n",
        "        [2350, 52000],\n",
        "        [4950, 66000],\n",
        "        [3100, 44500],\n",
        "        [2500, 37700],\n",
        "        [5106, 73500],\n",
        "        [3100, 37500],\n",
        "        [2900, 56700],\n",
        "        [1750, 35600]\n",
        "])\n",
        "def batch_gradient_descent(X, y, eta, limit):\n",
        "  X.shape\n",
        "  m = len(X)\n",
        "  X_b = np.c_[np.ones((m, 1)), X]\n",
        "  n = len(X_b[0])\n",
        "  theta = np.zeros((n, 1))\n",
        "  for i in range(limit):\n",
        "    theta = theta - eta * (2/m) * X_b.T.dot(X_b.dot(theta) - y)\n",
        "  return theta\n",
        "\n",
        "X = data[:, 0]\n",
        "X = np.array([(v - np.mean(X))/(np.max(X) - np.min(X)) for v in X]).reshape(-1, 1)\n",
        "y = data[:, 1]\n",
        "y = np.array([(v - np.mean(y))/(np.max(y) - np.min(y)) for v in y]).reshape(-1, 1)\n",
        "\n",
        "cal_theta = batch_gradient_descent(X, y, 0.001, 100000)\n",
        "X_new = np.array([-1, 1]).reshape(2, 1)\n",
        "X_new_b = np.c_[np.ones((2, 1)), X_new]\n",
        "y_new = X_new_b.dot(cal_theta)\n",
        "\n",
        "plt.figure(figsize=(15, 5))\n",
        "plt.subplot(121)\n",
        "plt.plot(X, y, 'b.')\n",
        "plt.plot(X_new, y_new, 'r-')\n",
        "\n",
        "\n",
        "XX = np.c_[X, X**2]\n",
        "# print(XX)\n",
        "quadratic_theta = batch_gradient_descent(XX, y, .001, 100000)\n",
        "# XX_new_b = np.array([[1, -1, 1], [1, 1, 1]])\n",
        "# yy_new_b = XX_new_b.dot(quardratic_theta)\n",
        "XX_new = np.linspace(-1, 1, 100).reshape(100, 1)\n",
        "XX_new_b = np.c_[np.ones((len(XX_new), 1)), XX_new, XX_new**2]\n",
        "yy_quad = XX_new_b.dot(quadratic_theta)\n",
        "\n",
        "plt.subplot(122)\n",
        "plt.plot(X, y, 'b.')\n",
        "plt.plot(XX_new, yy_quad, 'r')"
      ],
      "execution_count": null,
      "outputs": [
        {
          "output_type": "execute_result",
          "data": {
            "text/plain": [
              "[<matplotlib.lines.Line2D at 0x7f32763bdd50>]"
            ]
          },
          "metadata": {},
          "execution_count": 2
        },
        {
          "output_type": "display_data",
          "data": {
            "image/png": "[encoded data removed]",
            "text/plain": [
              "<Figure size 1080x360 with 2 Axes>"
            ]
          },
          "metadata": {
            "needs_background": "light"
          }
        }
      ]
    },
    {
      "cell_type": "markdown",
      "metadata": {
        "id": "UzrjrDxeOIYu"
      },
      "source": [
        "### process income_recreation data using scikit-learn"
      ]
    },
    {
      "cell_type": "code",
      "metadata": {
        "colab": {
          "base_uri": "https://localhost:8080/",
          "height": 395
        },
        "id": "66ACbJNWDpCx",
        "outputId": "6522fbf9-c1f7-40bc-9dbb-5b712dec2200"
      },
      "source": [
        "# use scikit learn to do it one more time\n",
        "data = np.array([\n",
        "        [2400, 41200],\n",
        "        [2650, 50100],\n",
        "        [2350, 52000],\n",
        "        [4950, 66000],\n",
        "        [3100, 44500],\n",
        "        [2500, 37700],\n",
        "        [5106, 73500],\n",
        "        [3100, 37500],\n",
        "        [2900, 56700],\n",
        "        [1750, 35600]\n",
        "])\n",
        "\n",
        "from sklearn.preprocessing import StandardScaler, PolynomialFeatures\n",
        "\n",
        "scaler = StandardScaler()\n",
        "scalling_X = scaler.fit_transform(data[:, 0].reshape(-1, 1))\n",
        "scalling_y = scaler.fit_transform(data[:, 1].reshape(-1, 1))\n",
        "\n",
        "from sklearn.linear_model import SGDRegressor\n",
        "sgd = SGDRegressor(max_iter=10000, tol=1e-3)\n",
        "sgd.fit(scalling_X, scalling_y)\n",
        "sgd.intercept_, sgd.coef_\n",
        "theta = np.c_[sgd.intercept_, sgd.coef_].reshape(2, 1)\n",
        "\n",
        "polynomial = PolynomialFeatures(1)\n",
        "\n",
        "X_new = np.linspace(-2, 2, 100).reshape(100, 1)\n",
        "X_new_b = polynomial.fit_transform(X_new)\n",
        "# X_new_b = np.c_[np.ones((100, 1)), X_new]\n",
        "y_new = X_new_b.dot(theta)\n",
        "plt.figure(figsize=(15, 5))\n",
        "plt.subplot(121)\n",
        "plt.plot(scalling_X, scalling_y, 'r.')\n",
        "plt.plot(X_new, y_new, 'b-')\n",
        "plt.axis([-2, 2, -2, 2])\n",
        "def plot_scatter(X, y):\n",
        "  plt.plot(X, y, 'b.')\n",
        "\n",
        "\n",
        "from sklearn.preprocessing import PolynomialFeatures\n",
        "poly_features = PolynomialFeatures(2)\n",
        "\n",
        "X_poly = poly_features.fit_transform(scalling_X)\n",
        "# print(X_poly)\n",
        "X_new_poly = poly_features.fit_transform(X_new)\n",
        "\n",
        "from sklearn.linear_model import LinearRegression\n",
        "lin_reg = LinearRegression()\n",
        "lin_reg.fit(X_poly, scalling_y)\n",
        "\n",
        "y_poly = lin_reg.predict(X_new_poly)\n",
        "\n",
        "plt.subplot(122)\n",
        "plt.plot(scalling_X, scalling_y, 'r.')\n",
        "plt.plot(X_new, y_poly, 'b-')\n",
        "plt.axis([-2, 2, -2, 2])\n",
        " \n",
        "# trans_y = scaler.fit_transform(y)"
      ],
      "execution_count": null,
      "outputs": [
        {
          "output_type": "stream",
          "name": "stderr",
          "text": [
            "/usr/local/lib/python3.7/dist-packages/sklearn/utils/validation.py:760: DataConversionWarning: A column-vector y was passed when a 1d array was expected. Please change the shape of y to (n_samples, ), for example using ravel().\n",
            "  y = column_or_1d(y, warn=True)\n"
          ]
        },
        {
          "output_type": "execute_result",
          "data": {
            "text/plain": [
              "(-2.0, 2.0, -2.0, 2.0)"
            ]
          },
          "metadata": {},
          "execution_count": 4
        },
        {
          "output_type": "display_data",
          "data": {
            "image/png": "[encoded data removed]",
            "text/plain": [
              "<Figure size 1080x360 with 2 Axes>"
            ]
          },
          "metadata": {
            "needs_background": "light"
          }
        }
      ]
    }
  ]
}