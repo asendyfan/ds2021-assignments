{
  "nbformat": 4,
  "nbformat_minor": 0,
  "metadata": {
    "colab": {
      "name": "algorithm-exercise-w4-logistic.ipynb",
      "provenance": [],
      "collapsed_sections": []
    },
    "kernelspec": {
      "name": "python3",
      "display_name": "Python 3"
    },
    "language_info": {
      "name": "python"
    }
  },
  "cells": [
    {
      "cell_type": "code",
      "metadata": {
        "id": "rmGq9db3IzfB"
      },
      "source": [
        "import numpy as np\n"
      ],
      "execution_count": null,
      "outputs": []
    },
    {
      "cell_type": "code",
      "metadata": {
        "id": "dR1Pz62lIEt-"
      },
      "source": [
        "def feature_scaling(data, pre_data=None):\n",
        "  '''\n",
        "    Param data: matrics\n",
        "    Param pre_data: null or matrics\n",
        "  '''\n",
        "  n = len(data[0])\n",
        "  changedData = np.array([[] for i in range(len(data))])\n",
        "  for i in range(n):\n",
        "    column = data[:, i]\n",
        "    cal_column = column if (pre_data is None) else pre_data[:, i]\n",
        "    # print('column', i, column)\n",
        "    scaling_column = ((column - np.average(cal_column)) / (np.max(cal_column) - np.min(cal_column))).reshape(-1, 1)\n",
        "    changedData = np.c_[changedData, scaling_column]\n",
        "  return changedData"
      ],
      "execution_count": null,
      "outputs": []
    },
    {
      "cell_type": "code",
      "metadata": {
        "id": "iwJ3wtKhRIrb"
      },
      "source": [
        " # eta: learning rate\n",
        " # lam: regularisation parameter\n",
        "def logistic_batch_gradient_descent(X, y, eta, iterations, lam=0):\n",
        "  \"\"\"\"using regularise batch gradient descent to calculte the theta\n",
        "    Param X: Metrics\n",
        "    Param y: metrics\n",
        "    Param eta: learning rate\n",
        "    Param iterations: iterate times\n",
        "    Param lam: regularisation param\n",
        "\n",
        "    Return the optimal theta\n",
        "  \"\"\"\n",
        "  m = len(X)\n",
        "  X_b = np.c_[np.ones((m, 1)), X]\n",
        "  n = len(X_b[0])\n",
        "  theta = np.zeros((n, 1))\n",
        "  for i in range(iterations):\n",
        "    predict_value = X_b.dot(theta)\n",
        "    SIG = 1 / (1 + np.exp(-predict_value))\n",
        "    regularisation = lam * np.array([[0], *theta[1:]])\n",
        "    theta = theta - eta*(1/m) * (X_b.T.dot(SIG - y) + regularisation )\n",
        "  return theta\n"
      ],
      "execution_count": null,
      "outputs": []
    },
    {
      "cell_type": "code",
      "metadata": {
        "id": "Hh32yaV8TmxH"
      },
      "source": [
        "def logistic_cost_function(X, y, theta):\n",
        "  \"\"\"calculate cost function\n",
        "  Param X: 2D dimentions\n",
        "  Param y: 2D dimentions\n",
        "  Param theta: Metrics\n",
        "  Param lam: the regularisation param\n",
        "  \n",
        "  Return: the value of the cost function\n",
        "  \"\"\"\n",
        "  m = len(X)\n",
        "  X_b = np.c_[np.ones((m, 1)), X]\n",
        "  predict_value = X_b.dot(theta)\n",
        "  SIG = 1 / (1 + np.exp(-predict_value))\n",
        "  cal_theta = np.array([[0], *theta[1:]])\n",
        "  J = -1/(m) * (sum(y.T.dot(np.log(SIG)) + (1 - y).T.dot(np.log(1-SIG))))\n",
        "  # accuracy = (SIG + y)[, :]\n",
        "  trueValue = ((SIG + y) < 0.5) | ((SIG + y) >= 1.5)\n",
        "  print(len(SIG[trueValue]), len(SIG))\n",
        "  accuracy = len(SIG[trueValue])/len(SIG)\n",
        "  return J[0], accuracy\n"
      ],
      "execution_count": null,
      "outputs": []
    },
    {
      "cell_type": "code",
      "metadata": {
        "id": "na_QGX3pIqr9"
      },
      "source": [
        "data =np.array([\n",
        "                [0, 400],\n",
        "                [0, 200],\n",
        "                [1, 350],\n",
        "                [0, 150],\n",
        "                [1, 600],\n",
        "                [1, 450],\n",
        "                [0, 100],\n",
        "                [1, 500],\n",
        "                [1, 1000]\n",
        "])\n"
      ],
      "execution_count": null,
      "outputs": []
    },
    {
      "cell_type": "code",
      "metadata": {
        "colab": {
          "base_uri": "https://localhost:8080/"
        },
        "id": "A8F2FSpmRIrc",
        "outputId": "d559da95-6edb-4127-f516-d16817a2fa95"
      },
      "source": [
        "X = feature_scaling(data[:, 1].reshape(-1, 1))\n",
        "y = data[:, 0].reshape(-1, 1)\n",
        "learning_rate = .1\n",
        "iterations = 10000\n",
        "print(X, y)"
      ],
      "execution_count": null,
      "outputs": [
        {
          "output_type": "stream",
          "name": "stdout",
          "text": [
            "[[-0.01851852]\n",
            " [-0.24074074]\n",
            " [-0.07407407]\n",
            " [-0.2962963 ]\n",
            " [ 0.2037037 ]\n",
            " [ 0.03703704]\n",
            " [-0.35185185]\n",
            " [ 0.09259259]\n",
            " [ 0.64814815]] [[0]\n",
            " [0]\n",
            " [1]\n",
            " [0]\n",
            " [1]\n",
            " [1]\n",
            " [0]\n",
            " [1]\n",
            " [1]]\n"
          ]
        }
      ]
    },
    {
      "cell_type": "code",
      "metadata": {
        "colab": {
          "base_uri": "https://localhost:8080/"
        },
        "id": "7Ast6bcERsfM",
        "outputId": "e85ee83c-cc8c-4e23-a8a9-1c7c9e142dc5"
      },
      "source": [
        "cal_theta = logistic_batch_gradient_descent(X, y, learning_rate, iterations)\n",
        "cal_theta\n",
        "results = logistic_cost_function(X, y, cal_theta)\n",
        "print('theta: {}, cost: {}, accuracy: {}'.format(cal_theta, *results))\n",
        "print(X, y)"
      ],
      "execution_count": null,
      "outputs": [
        {
          "output_type": "stream",
          "name": "stdout",
          "text": [
            "7 9\n",
            "theta: [[ 0.9711529]\n",
            " [13.9702667]], cost: 0.2565592844216175, accuracy: 0.7777777777777778\n",
            "[[-0.01851852]\n",
            " [-0.24074074]\n",
            " [-0.07407407]\n",
            " [-0.2962963 ]\n",
            " [ 0.2037037 ]\n",
            " [ 0.03703704]\n",
            " [-0.35185185]\n",
            " [ 0.09259259]\n",
            " [ 0.64814815]] [[0]\n",
            " [0]\n",
            " [1]\n",
            " [0]\n",
            " [1]\n",
            " [1]\n",
            " [0]\n",
            " [1]\n",
            " [1]]\n"
          ]
        }
      ]
    },
    {
      "cell_type": "code",
      "metadata": {
        "colab": {
          "base_uri": "https://localhost:8080/"
        },
        "id": "wfrHYkrub_BR",
        "outputId": "7c8bacc3-7bff-4c0f-f175-13482564ba81"
      },
      "source": [
        "new_feature = np.array([\n",
        "               15000,\n",
        "               35000,\n",
        "               60000,\n",
        "               35000,\n",
        "               70000,\n",
        "               40000,\n",
        "               36000,\n",
        "               22000,\n",
        "               42000            \n",
        "])\n",
        "X2 = feature_scaling(np.c_[X, new_feature])\n",
        "X2"
      ],
      "execution_count": null,
      "outputs": [
        {
          "output_type": "execute_result",
          "data": {
            "text/plain": [
              "array([[-0.01851852, -0.44444444],\n",
              "       [-0.24074074, -0.08080808],\n",
              "       [-0.07407407,  0.37373737],\n",
              "       [-0.2962963 , -0.08080808],\n",
              "       [ 0.2037037 ,  0.55555556],\n",
              "       [ 0.03703704,  0.01010101],\n",
              "       [-0.35185185, -0.06262626],\n",
              "       [ 0.09259259, -0.31717172],\n",
              "       [ 0.64814815,  0.04646465]])"
            ]
          },
          "metadata": {},
          "execution_count": 8
        }
      ]
    },
    {
      "cell_type": "code",
      "metadata": {
        "colab": {
          "base_uri": "https://localhost:8080/"
        },
        "id": "9Dtfd9ScjHxh",
        "outputId": "abc2c2cb-e62f-4724-8a73-943d455c8d6b"
      },
      "source": [
        "cal_theta2 = logistic_batch_gradient_descent(X2, y, learning_rate, iterations)\n",
        "results2 = logistic_cost_function(X2, y, cal_theta2)\n",
        "print('theta: {}, cost: {}, accuracy: {}'.format(cal_theta2, *results2))\n",
        "print(X2, y)"
      ],
      "execution_count": null,
      "outputs": [
        {
          "output_type": "stream",
          "name": "stdout",
          "text": [
            "9 9\n",
            "theta: [[ 2.10280501]\n",
            " [16.39035914]\n",
            " [ 7.56251856]], cost: 0.07387858027698649, accuracy: 1.0\n",
            "[[-0.01851852 -0.44444444]\n",
            " [-0.24074074 -0.08080808]\n",
            " [-0.07407407  0.37373737]\n",
            " [-0.2962963  -0.08080808]\n",
            " [ 0.2037037   0.55555556]\n",
            " [ 0.03703704  0.01010101]\n",
            " [-0.35185185 -0.06262626]\n",
            " [ 0.09259259 -0.31717172]\n",
            " [ 0.64814815  0.04646465]] [[0]\n",
            " [0]\n",
            " [1]\n",
            " [0]\n",
            " [1]\n",
            " [1]\n",
            " [0]\n",
            " [1]\n",
            " [1]]\n"
          ]
        }
      ]
    },
    {
      "cell_type": "code",
      "metadata": {
        "id": "a9F3E-SWjzVV"
      },
      "source": [
        "newData = np.array([\n",
        "           [1, 700, 50000],\n",
        "           [0, 400, 20000],\n",
        "           [1, 400, 40000],\n",
        "           [0, 200, 55000]\n",
        "])\n",
        "X3 = feature_scaling(newData[:, 1:], pre_data=np.c_[data[:, 1], new_feature])\n",
        "y3 = newData[:, 0].reshape(-1, 1)"
      ],
      "execution_count": null,
      "outputs": []
    },
    {
      "cell_type": "code",
      "metadata": {
        "colab": {
          "base_uri": "https://localhost:8080/"
        },
        "id": "OG75eObyolOT",
        "outputId": "6b7f116a-61a8-4c33-bcf1-677f476ff79b"
      },
      "source": [
        "logistic_cost_function(X3, y3, cal_theta2)"
      ],
      "execution_count": null,
      "outputs": [
        {
          "output_type": "stream",
          "name": "stdout",
          "text": [
            "3 4\n"
          ]
        },
        {
          "output_type": "execute_result",
          "data": {
            "text/plain": [
              "(0.3358439562821681, 0.75)"
            ]
          },
          "metadata": {},
          "execution_count": 11
        }
      ]
    },
    {
      "cell_type": "markdown",
      "metadata": {
        "id": "bneILftbBBGp"
      },
      "source": [
        "### 使用sklearn实现一遍"
      ]
    },
    {
      "cell_type": "code",
      "metadata": {
        "colab": {
          "base_uri": "https://localhost:8080/",
          "height": 405
        },
        "id": "66pAXwFHAzEi",
        "outputId": "efde567a-56c5-4e57-85a9-964d1b6cd757"
      },
      "source": [
        "# 第三问\n",
        "from sklearn.linear_model import LogisticRegression\n",
        "logReg = LogisticRegression()\n",
        "logReg.fit(X2, y)\n",
        "print(logReg.intercept_, logReg.coef_)\n",
        "logTheta = np.c_[logReg.intercept_, logReg.coef_].reshape(-1, 1)\n",
        "\n",
        "import matplotlib.pyplot as plt\n",
        "\n",
        "plt.plot(X2[:, 0], X2[:, 1], '.')\n",
        "plt.xlabel('credit score')\n",
        "plt.ylabel('applicants\\' income')\n",
        "\n",
        "X1_new, X2_new = np.meshgrid(\n",
        "    np.linspace(-0.4, 0.7, 200).reshape(-1, 1),\n",
        "    np.linspace(-.6, .6, 200).reshape(-1, 1)\n",
        ")\n",
        "X_new = np.c_[X1_new.reshape(-1, 1), X2_new.reshape(-1, 1)]\n",
        "y_new = logReg.predict_proba(X_new)\n",
        "\n",
        "contour = plt.contour(X1_new, X2_new, y_new[:, 0].reshape(X1_new.shape))\n",
        "plt.clabel(contour)\n",
        "plt.axis([-0.4, .7, -0.6, .6])\n",
        "\n",
        "def cal_accuracy(y, predict_y):\n",
        "  cal_right = 0\n",
        "  for i in range(len(y)):\n",
        "    if predict_y[i] == y[i]:\n",
        "      cal_right +=1\n",
        "  accuracy = round(cal_right/len(y), 2)\n",
        "  print('accuracy', accuracy)\n",
        "  return accuracy\n",
        "\n",
        "y2_predict = logReg.predict(X2)\n",
        "cal_accuracy(y, y2_predict)\n",
        "\n",
        "# predict new data for testing\n",
        "y3_predict = logReg.predict(X3)\n",
        "plt.plot(X3[:, 0], X3[:, 1], 'r.')\n",
        "cal_accuracy(y3, y3_predict)"
      ],
      "execution_count": null,
      "outputs": [
        {
          "output_type": "stream",
          "name": "stdout",
          "text": [
            "[0.22927873] [[0.75184876 0.53955903]]\n",
            "accuracy 0.89\n",
            "accuracy 0.5\n"
          ]
        },
        {
          "output_type": "stream",
          "name": "stderr",
          "text": [
            "/usr/local/lib/python3.7/dist-packages/sklearn/utils/validation.py:760: DataConversionWarning: A column-vector y was passed when a 1d array was expected. Please change the shape of y to (n_samples, ), for example using ravel().\n",
            "  y = column_or_1d(y, warn=True)\n"
          ]
        },
        {
          "output_type": "execute_result",
          "data": {
            "text/plain": [
              "0.5"
            ]
          },
          "metadata": {},
          "execution_count": 12
        },
        {
          "output_type": "display_data",
          "data": {
            "image/png": "[encoded data removed]",
            "text/plain": [
              "<Figure size 432x288 with 1 Axes>"
            ]
          },
          "metadata": {
            "needs_background": "light"
          }
        }
      ]
    }
  ]
}