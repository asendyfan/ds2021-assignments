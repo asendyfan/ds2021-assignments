{
 "cells": [
  {
   "cell_type": "code",
   "execution_count": 22,
   "metadata": {},
   "outputs": [],
   "source": [
    "import numpy as np\n",
    "import secrets # get random value from system\n",
    "# secrets.randbelow(100)"
   ]
  },
  {
   "cell_type": "markdown",
   "metadata": {},
   "source": [
    "Unicode convert"
   ]
  },
  {
   "cell_type": "code",
   "execution_count": 26,
   "metadata": {},
   "outputs": [],
   "source": [
    "# converts a string to a numpy array of unicode indexes\n",
    "def stringToUnicode(input):\n",
    "    result =[]\n",
    "    chars = list(input)\n",
    "    for c in chars:\n",
    "        result.append(ord(c))\n",
    "    return np.array(result)\n",
    "\n",
    "# converts a numpy array of unicode indexes to a string\n",
    "def unicodeToString(input):\n",
    "    result =''\n",
    "    for u in input:\n",
    "        result = result +str((chr(u)))\n",
    "    return result\n",
    "\n",
    "def generate_key(plain, n=256):\n",
    "    key = []\n",
    "    for _ in range(len(plain)):\n",
    "        key.append(secrets.randbelow(n))\n",
    "    key = unicodeToString(np.array(key))\n",
    "    return key"
   ]
  },
  {
   "cell_type": "markdown",
   "metadata": {},
   "source": [
    "#### Cesar cipher encryption & decryption\n",
    "\n",
    "$k(x) = (x + k) \\mod n$\n",
    "\n",
    "$k^{-1}(x) = (x - k) \\mod n$"
   ]
  },
  {
   "cell_type": "code",
   "execution_count": 12,
   "metadata": {},
   "outputs": [
    {
     "name": "stdout",
     "output_type": "stream",
     "text": [
      "plain text: Ensemble Learning\n",
      "encryption: z£¨¢¡U§££\n",
      "decryption: Ensemble Learning\n"
     ]
    }
   ],
   "source": [
    "def cesar_cipher_encryption(text, key:int, n=1114112):\n",
    "  unicodes = (stringToUnicode(text) + key) % n\n",
    "  return unicodeToString(unicodes)\n",
    "\n",
    "def cesar_cipher_decryption(text, key:int, n=1114112):\n",
    "  unicodes = (stringToUnicode(text) - key) % n\n",
    "  return unicodeToString(unicodes)\n",
    "\n",
    "plain = 'Ensemble Learning'\n",
    "encryptText = cesar_cipher_encryption('Ensemble Learning', 53)\n",
    "decryptText = cesar_cipher_decryption(encryptText, 53)\n",
    "\n",
    "\n",
    "print('plain text:', plain)\n",
    "print('encryption:', encryptText)\n",
    "print('decryption:', decryptText)"
   ]
  },
  {
   "cell_type": "markdown",
   "metadata": {},
   "source": [
    "#### Vigenère cipher encryption & decryption\n",
    "$k(x_i) = (x_i + k_{(i \\mod l)}) \\mod n$\n",
    "\n",
    "$k^{-1}(x_i) = (x_i - k_{(i \\mod l)}) \\mod n$"
   ]
  },
  {
   "cell_type": "code",
   "execution_count": 28,
   "metadata": {},
   "outputs": [
    {
     "name": "stdout",
     "output_type": "stream",
     "text": [
      "plain text: Stochastic Variance Gradient Descent\n",
      "encryption: Ú¤ÉÇ¨ÚÉU¼ØÇ£É|ØÊË£ÚUªÙË£Ú\n",
      "decryption: Stochastic Variance Gradient Descent\n"
     ]
    }
   ],
   "source": [
    "def vigenere_cypher(type, text, key:str, n=1114112):\n",
    "  key_unicodes = stringToUnicode(key)\n",
    "  key_len = len(key_unicodes)\n",
    "  text_unicodes = stringToUnicode(text)\n",
    "  new_unicodes = []\n",
    "  for i, v in enumerate(text_unicodes):\n",
    "    new_v = np.nan\n",
    "    if type == 'encrypt':\n",
    "      new_v = (v + key_unicodes[i%key_len]) % n\n",
    "    else:\n",
    "      new_v = (v - key_unicodes[i%key_len]) % n\n",
    "    new_unicodes.append(new_v)\n",
    "  return unicodeToString(new_unicodes)\n",
    "\n",
    "key = '5f'\n",
    "plainText = 'Stochastic Variance Gradient Descent'\n",
    "encryptText = vigenere_cypher('encrypt', plainText, key)\n",
    "decryptText = vigenere_cypher('decrypt', encryptText, key)\n",
    "encryptText, decryptText\n",
    "\n",
    "print('plain text:', plainText)\n",
    "print('encryption:', encryptText)\n",
    "print('decryption:', decryptText)"
   ]
  },
  {
   "cell_type": "markdown",
   "metadata": {},
   "source": [
    "#### One-Time Pad encryption & decryption\n",
    "\n",
    "$k(x_i) = (x_i + k_i) \\mod n$\n",
    "\n",
    "$k^{-1}(x_i) = (x_i - k_i) \\mod n$"
   ]
  },
  {
   "cell_type": "code",
   "execution_count": 27,
   "metadata": {},
   "outputs": [
    {
     "name": "stdout",
     "output_type": "stream",
     "text": [
      "plain text: Hidden Markov Model\n",
      "encryption: ØnB%UB4\u001dÁ8%­i`)\n",
      "decryption: Hidden Markov Model\n"
     ]
    }
   ],
   "source": [
    "def one_time_pad_cryption(type, text, key:str, n):\n",
    "  text_unicodes = stringToUnicode(text)\n",
    "  key_unicodes = stringToUnicode(key)\n",
    "  new_unicodes = []\n",
    "  if type == 'encrypt':\n",
    "    new_unicodes = (text_unicodes + key_unicodes) % n\n",
    "  else:\n",
    "    new_unicodes = (text_unicodes - key_unicodes) % n\n",
    "  return unicodeToString(new_unicodes)\n",
    "\n",
    "\n",
    "\n",
    "n=256\n",
    "plain = 'Hidden Markov Model'\n",
    "key=generate_key(plain,n)\n",
    "encryptText = one_time_pad_cryption('encrypt', plain, key, n)\n",
    "decryptText = one_time_pad_cryption('decrypt', encryptText, key, n)\n",
    "\n",
    "print('plain text:', plain)\n",
    "print('encryption:', encryptText)\n",
    "print('decryption:', decryptText)"
   ]
  },
  {
   "cell_type": "markdown",
   "metadata": {},
   "source": [
    "#### Lehmer pseudo random number generator\n",
    "\n",
    "$x_{t+1}=(x_{t} \\times a) \\mod n$\n",
    "\n",
    "Note: When others know current $x_{t}$, others can use formula to calculate next random number"
   ]
  },
  {
   "cell_type": "code",
   "execution_count": 29,
   "metadata": {},
   "outputs": [
    {
     "name": "stdout",
     "output_type": "stream",
     "text": [
      "random number 0-99: 7 random bit: 1\n",
      "random number 0-99: 73 random bit: 0\n",
      "random number 0-99: 30 random bit: 0\n",
      "random number 0-99: 44 random bit: 0\n",
      "random number 0-99: 23 random bit: 1\n"
     ]
    }
   ],
   "source": [
    "class LehmerPseudoRandom:\n",
    "  def __init__(self, a, n, seed):\n",
    "    self.a = a\n",
    "    self.n = n # compute the modolus\n",
    "    self.state = seed # init x_t\n",
    "  \n",
    "  def get_number(self):\n",
    "    self.state = (self.state * self.a) % self.n\n",
    "    return self.state\n",
    "  \n",
    "  def get_number_below(self, exclusive_max):\n",
    "    return self.get_number()%exclusive_max\n",
    "  \n",
    "  def get_bit(self):\n",
    "    return self.get_number_below(2)\n",
    "\n",
    "lr = LehmerPseudoRandom(a=16807, n=((2**31)-1), seed=1)\n",
    "for i in range(5):\n",
    "  print('random number 0-99:', lr.get_number_below(100), 'random bit:', lr.get_bit())"
   ]
  },
  {
   "cell_type": "markdown",
   "metadata": {},
   "source": [
    "#### HashMap\n",
    "\n",
    "Hash mainly used in download error detection, hash maps/tables, and cryptography. Below is realizing hashmap."
   ]
  },
  {
   "cell_type": "code",
   "execution_count": 3,
   "metadata": {},
   "outputs": [
    {
     "name": "stdout",
     "output_type": "stream",
     "text": [
      "four 4\n",
      "three 3\n",
      "two 2\n",
      "one 1\n"
     ]
    }
   ],
   "source": [
    "class HashMap:\n",
    "    \n",
    "    def __init__(self, array_size):\n",
    "        \"\"\"Creates a hash map\n",
    "\n",
    "        Parameters:\n",
    "        array_size (int): The size of the array created to hold the data\n",
    "        \"\"\"       \n",
    "        self.array_size = array_size \n",
    "        \n",
    "        # create array containing 'None's to hold the data\n",
    "        self.data = [None]*array_size\n",
    "        \n",
    "        # create array containing 'None's to hold the keys\n",
    "        self.keys = [None]*array_size\n",
    "           \n",
    "    def __setitem__(self, key: str, value: any):\n",
    "        \"\"\"Inserts an item into the hash map.\n",
    "        \n",
    "        The function stores the value in the 'self.data' table\n",
    "        and the key in the 'self.keys' table.\n",
    "        The function will find an empty slot for the item in case of collisions.\n",
    "\n",
    "        Parameters:\n",
    "        key (string): The key to be used\n",
    "        value: The value we want to store with the key\n",
    "        \"\"\"\n",
    "        index = hash(key) % self.array_size\n",
    "        loop_times = 0 # track the loop times\n",
    "        while self.data[index] != None: # when meeting collisions, add 1 for null position.\n",
    "          if loop_times == self.array_size: # it means the array is full\n",
    "            raise IndexError('the hash map is full, please set the array_size bigger')\n",
    "          index = (index+1) % self.array_size # add 1\n",
    "          loop_times += 1\n",
    "        self.data[index] = value\n",
    "        self.keys[index] = key\n",
    "        \n",
    "    \n",
    "    def __getitem__(self, key):\n",
    "        \"\"\"Retrieves an item from the hash map.\n",
    "        The function will search for the item in case it has been stored \n",
    "        in a different location due to a collision.\n",
    "\n",
    "        Parameters:\n",
    "        key (string): The key to be used\n",
    "\n",
    "        Returns:\n",
    "        The item assosciated with the key.\n",
    "        \"\"\"\n",
    "        index = hash(key) % self.array_size\n",
    "        # if it has collision or the key doesn't exist\n",
    "        loop_times = 0 # consider the worst situation: data is fully filled and user is checking the unexist key\n",
    "        while self.keys[index] != key:\n",
    "          # if key isn't exist, it will get None from keys or loop entire the keys if is fully filled.\n",
    "          if self.keys[index] == None or loop_times == self.array_size: \n",
    "            return None\n",
    "          index = (index + 1) % self.array_size\n",
    "          loop_times += 1\n",
    "        return self.data[index]\n",
    "\n",
    "# Create a hash map of size 4\n",
    "hm = HashMap(4)\n",
    "\n",
    "# Insert numbers under their key\n",
    "hm['one'] = 1\n",
    "hm['two'] = 2\n",
    "hm['three'] = 3\n",
    "hm['four'] = 4\n",
    "\n",
    "# Retrieve the numbers\n",
    "print('four',hm['four'])\n",
    "print('three',hm['three'])\n",
    "print('two', hm['two'])\n",
    "print('one', hm['one'])"
   ]
  }
 ],
 "metadata": {
  "interpreter": {
   "hash": "b774acfeff12025bb88a6812344d10674551d33b3b06a1f7dd54b9641286f7ce"
  },
  "kernelspec": {
   "display_name": "Python 3.7.4 ('base')",
   "language": "python",
   "name": "python3"
  },
  "language_info": {
   "codemirror_mode": {
    "name": "ipython",
    "version": 3
   },
   "file_extension": ".py",
   "mimetype": "text/x-python",
   "name": "python",
   "nbconvert_exporter": "python",
   "pygments_lexer": "ipython3",
   "version": "3.7.4"
  },
  "orig_nbformat": 4
 },
 "nbformat": 4,
 "nbformat_minor": 2
}
