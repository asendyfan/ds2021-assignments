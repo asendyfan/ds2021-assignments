{
 "cells": [
  {
   "cell_type": "code",
   "execution_count": null,
   "metadata": {
    "cell_id": "eda3abe8ee8e46a49351d5ed2dae2bb0",
    "deepnote_cell_height": 80.96875,
    "deepnote_cell_type": "code",
    "deepnote_to_be_reexecuted": false,
    "execution_millis": 1864,
    "execution_start": 1651163224973,
    "source_hash": "96b02c4",
    "tags": []
   },
   "outputs": [],
   "source": [
    "%run /home/jovyan/work/utils/pipelines.ipynb"
   ]
  },
  {
   "cell_type": "code",
   "execution_count": null,
   "metadata": {
    "cell_id": "924c0b7c58c24dbba973b49cb3c9cf2c",
    "deepnote_cell_height": 80.96875,
    "deepnote_cell_type": "code",
    "deepnote_to_be_reexecuted": false,
    "execution_millis": 509,
    "execution_start": 1651163226842,
    "source_hash": "68c88d40",
    "tags": []
   },
   "outputs": [],
   "source": [
    "X, y = data_tieandwin()"
   ]
  },
  {
   "cell_type": "code",
   "execution_count": null,
   "metadata": {
    "cell_id": "2f90d349f9a44b66956aded0fd5edc4d",
    "deepnote_cell_height": 98.984375,
    "deepnote_cell_type": "code",
    "deepnote_to_be_reexecuted": false,
    "execution_millis": 59,
    "execution_start": 1651163227354,
    "source_hash": "e7de2a4f",
    "tags": []
   },
   "outputs": [],
   "source": [
    "# data = change_result_from_raw2data()\n",
    "data = pd.read_csv('/home/jovyan/work/demostration/datasets/final.csv')"
   ]
  },
  {
   "cell_type": "code",
   "execution_count": null,
   "metadata": {
    "cell_id": "2a0262afeccd4693800a4f906c9ae2fc",
    "deepnote_cell_height": 271.953125,
    "deepnote_cell_type": "code",
    "deepnote_to_be_reexecuted": false,
    "execution_millis": 94,
    "execution_start": 1651163227415,
    "source_hash": "5d18c2ec",
    "tags": []
   },
   "outputs": [
    {
     "data": {
      "application/vnd.deepnote.dataframe.v3+json": {
       "column_count": 26,
       "columns": [
        {
         "dtype": "int64",
         "name": "HomeTeam",
         "stats": {
          "histogram": [
           {
            "bin_end": 3607.7,
            "bin_start": 3130,
            "count": 1
           },
           {
            "bin_end": 4085.4,
            "bin_start": 3607.7,
            "count": 0
           },
           {
            "bin_end": 4563.1,
            "bin_start": 4085.4,
            "count": 0
           },
           {
            "bin_end": 5040.8,
            "bin_start": 4563.1,
            "count": 0
           },
           {
            "bin_end": 5518.5,
            "bin_start": 5040.8,
            "count": 0
           },
           {
            "bin_end": 5996.2,
            "bin_start": 5518.5,
            "count": 0
           },
           {
            "bin_end": 6473.9,
            "bin_start": 5996.2,
            "count": 0
           },
           {
            "bin_end": 6951.6,
            "bin_start": 6473.9,
            "count": 0
           },
           {
            "bin_end": 7429.3,
            "bin_start": 6951.6,
            "count": 0
           },
           {
            "bin_end": 7907,
            "bin_start": 7429.3,
            "count": 1
           }
          ],
          "max": "7907",
          "min": "3130",
          "nan_count": 0,
          "unique_count": 2
         }
        },
        {
         "dtype": "int64",
         "name": "AwayTeam",
         "stats": {
          "histogram": [
           {
            "bin_end": 3607.7,
            "bin_start": 3130,
            "count": 1
           },
           {
            "bin_end": 4085.4,
            "bin_start": 3607.7,
            "count": 0
           },
           {
            "bin_end": 4563.1,
            "bin_start": 4085.4,
            "count": 0
           },
           {
            "bin_end": 5040.8,
            "bin_start": 4563.1,
            "count": 0
           },
           {
            "bin_end": 5518.5,
            "bin_start": 5040.8,
            "count": 0
           },
           {
            "bin_end": 5996.2,
            "bin_start": 5518.5,
            "count": 0
           },
           {
            "bin_end": 6473.9,
            "bin_start": 5996.2,
            "count": 0
           },
           {
            "bin_end": 6951.6,
            "bin_start": 6473.9,
            "count": 0
           },
           {
            "bin_end": 7429.3,
            "bin_start": 6951.6,
            "count": 0
           },
           {
            "bin_end": 7907,
            "bin_start": 7429.3,
            "count": 1
           }
          ],
          "max": "7907",
          "min": "3130",
          "nan_count": 0,
          "unique_count": 2
         }
        },
        {
         "dtype": "int64",
         "name": "Date",
         "stats": {
          "histogram": [
           {
            "bin_end": 3607.7,
            "bin_start": 3130,
            "count": 1
           },
           {
            "bin_end": 4085.4,
            "bin_start": 3607.7,
            "count": 0
           },
           {
            "bin_end": 4563.1,
            "bin_start": 4085.4,
            "count": 0
           },
           {
            "bin_end": 5040.8,
            "bin_start": 4563.1,
            "count": 0
           },
           {
            "bin_end": 5518.5,
            "bin_start": 5040.8,
            "count": 0
           },
           {
            "bin_end": 5996.2,
            "bin_start": 5518.5,
            "count": 0
           },
           {
            "bin_end": 6473.9,
            "bin_start": 5996.2,
            "count": 0
           },
           {
            "bin_end": 6951.6,
            "bin_start": 6473.9,
            "count": 0
           },
           {
            "bin_end": 7429.3,
            "bin_start": 6951.6,
            "count": 0
           },
           {
            "bin_end": 7907,
            "bin_start": 7429.3,
            "count": 1
           }
          ],
          "max": "7907",
          "min": "3130",
          "nan_count": 0,
          "unique_count": 2
         }
        },
        {
         "dtype": "int64",
         "name": "Season",
         "stats": {
          "histogram": [
           {
            "bin_end": 3607.7,
            "bin_start": 3130,
            "count": 1
           },
           {
            "bin_end": 4085.4,
            "bin_start": 3607.7,
            "count": 0
           },
           {
            "bin_end": 4563.1,
            "bin_start": 4085.4,
            "count": 0
           },
           {
            "bin_end": 5040.8,
            "bin_start": 4563.1,
            "count": 0
           },
           {
            "bin_end": 5518.5,
            "bin_start": 5040.8,
            "count": 0
           },
           {
            "bin_end": 5996.2,
            "bin_start": 5518.5,
            "count": 0
           },
           {
            "bin_end": 6473.9,
            "bin_start": 5996.2,
            "count": 0
           },
           {
            "bin_end": 6951.6,
            "bin_start": 6473.9,
            "count": 0
           },
           {
            "bin_end": 7429.3,
            "bin_start": 6951.6,
            "count": 0
           },
           {
            "bin_end": 7907,
            "bin_start": 7429.3,
            "count": 1
           }
          ],
          "max": "7907",
          "min": "3130",
          "nan_count": 0,
          "unique_count": 2
         }
        },
        {
         "dtype": "int64",
         "name": "X1",
         "stats": {
          "histogram": [
           {
            "bin_end": 3607.7,
            "bin_start": 3130,
            "count": 1
           },
           {
            "bin_end": 4085.4,
            "bin_start": 3607.7,
            "count": 0
           },
           {
            "bin_end": 4563.1,
            "bin_start": 4085.4,
            "count": 0
           },
           {
            "bin_end": 5040.8,
            "bin_start": 4563.1,
            "count": 0
           },
           {
            "bin_end": 5518.5,
            "bin_start": 5040.8,
            "count": 0
           },
           {
            "bin_end": 5996.2,
            "bin_start": 5518.5,
            "count": 0
           },
           {
            "bin_end": 6473.9,
            "bin_start": 5996.2,
            "count": 0
           },
           {
            "bin_end": 6951.6,
            "bin_start": 6473.9,
            "count": 0
           },
           {
            "bin_end": 7429.3,
            "bin_start": 6951.6,
            "count": 0
           },
           {
            "bin_end": 7907,
            "bin_start": 7429.3,
            "count": 1
           }
          ],
          "max": "7907",
          "min": "3130",
          "nan_count": 0,
          "unique_count": 2
         }
        },
        {
         "dtype": "int64",
         "name": "X2",
         "stats": {
          "histogram": [
           {
            "bin_end": 3607.7,
            "bin_start": 3130,
            "count": 1
           },
           {
            "bin_end": 4085.4,
            "bin_start": 3607.7,
            "count": 0
           },
           {
            "bin_end": 4563.1,
            "bin_start": 4085.4,
            "count": 0
           },
           {
            "bin_end": 5040.8,
            "bin_start": 4563.1,
            "count": 0
           },
           {
            "bin_end": 5518.5,
            "bin_start": 5040.8,
            "count": 0
           },
           {
            "bin_end": 5996.2,
            "bin_start": 5518.5,
            "count": 0
           },
           {
            "bin_end": 6473.9,
            "bin_start": 5996.2,
            "count": 0
           },
           {
            "bin_end": 6951.6,
            "bin_start": 6473.9,
            "count": 0
           },
           {
            "bin_end": 7429.3,
            "bin_start": 6951.6,
            "count": 0
           },
           {
            "bin_end": 7907,
            "bin_start": 7429.3,
            "count": 1
           }
          ],
          "max": "7907",
          "min": "3130",
          "nan_count": 0,
          "unique_count": 2
         }
        },
        {
         "dtype": "int64",
         "name": "X3",
         "stats": {
          "histogram": [
           {
            "bin_end": 3607.7,
            "bin_start": 3130,
            "count": 1
           },
           {
            "bin_end": 4085.4,
            "bin_start": 3607.7,
            "count": 0
           },
           {
            "bin_end": 4563.1,
            "bin_start": 4085.4,
            "count": 0
           },
           {
            "bin_end": 5040.8,
            "bin_start": 4563.1,
            "count": 0
           },
           {
            "bin_end": 5518.5,
            "bin_start": 5040.8,
            "count": 0
           },
           {
            "bin_end": 5996.2,
            "bin_start": 5518.5,
            "count": 0
           },
           {
            "bin_end": 6473.9,
            "bin_start": 5996.2,
            "count": 0
           },
           {
            "bin_end": 6951.6,
            "bin_start": 6473.9,
            "count": 0
           },
           {
            "bin_end": 7429.3,
            "bin_start": 6951.6,
            "count": 0
           },
           {
            "bin_end": 7907,
            "bin_start": 7429.3,
            "count": 1
           }
          ],
          "max": "7907",
          "min": "3130",
          "nan_count": 0,
          "unique_count": 2
         }
        },
        {
         "dtype": "int64",
         "name": "X4",
         "stats": {
          "histogram": [
           {
            "bin_end": 3607.7,
            "bin_start": 3130,
            "count": 1
           },
           {
            "bin_end": 4085.4,
            "bin_start": 3607.7,
            "count": 0
           },
           {
            "bin_end": 4563.1,
            "bin_start": 4085.4,
            "count": 0
           },
           {
            "bin_end": 5040.8,
            "bin_start": 4563.1,
            "count": 0
           },
           {
            "bin_end": 5518.5,
            "bin_start": 5040.8,
            "count": 0
           },
           {
            "bin_end": 5996.2,
            "bin_start": 5518.5,
            "count": 0
           },
           {
            "bin_end": 6473.9,
            "bin_start": 5996.2,
            "count": 0
           },
           {
            "bin_end": 6951.6,
            "bin_start": 6473.9,
            "count": 0
           },
           {
            "bin_end": 7429.3,
            "bin_start": 6951.6,
            "count": 0
           },
           {
            "bin_end": 7907,
            "bin_start": 7429.3,
            "count": 1
           }
          ],
          "max": "7907",
          "min": "3130",
          "nan_count": 0,
          "unique_count": 2
         }
        },
        {
         "dtype": "int64",
         "name": "X5",
         "stats": {
          "histogram": [
           {
            "bin_end": 3607.7,
            "bin_start": 3130,
            "count": 1
           },
           {
            "bin_end": 4085.4,
            "bin_start": 3607.7,
            "count": 0
           },
           {
            "bin_end": 4563.1,
            "bin_start": 4085.4,
            "count": 0
           },
           {
            "bin_end": 5040.8,
            "bin_start": 4563.1,
            "count": 0
           },
           {
            "bin_end": 5518.5,
            "bin_start": 5040.8,
            "count": 0
           },
           {
            "bin_end": 5996.2,
            "bin_start": 5518.5,
            "count": 0
           },
           {
            "bin_end": 6473.9,
            "bin_start": 5996.2,
            "count": 0
           },
           {
            "bin_end": 6951.6,
            "bin_start": 6473.9,
            "count": 0
           },
           {
            "bin_end": 7429.3,
            "bin_start": 6951.6,
            "count": 0
           },
           {
            "bin_end": 7907,
            "bin_start": 7429.3,
            "count": 1
           }
          ],
          "max": "7907",
          "min": "3130",
          "nan_count": 0,
          "unique_count": 2
         }
        },
        {
         "dtype": "int64",
         "name": "X6",
         "stats": {
          "histogram": [
           {
            "bin_end": 3607.7,
            "bin_start": 3130,
            "count": 1
           },
           {
            "bin_end": 4085.4,
            "bin_start": 3607.7,
            "count": 0
           },
           {
            "bin_end": 4563.1,
            "bin_start": 4085.4,
            "count": 0
           },
           {
            "bin_end": 5040.8,
            "bin_start": 4563.1,
            "count": 0
           },
           {
            "bin_end": 5518.5,
            "bin_start": 5040.8,
            "count": 0
           },
           {
            "bin_end": 5996.2,
            "bin_start": 5518.5,
            "count": 0
           },
           {
            "bin_end": 6473.9,
            "bin_start": 5996.2,
            "count": 0
           },
           {
            "bin_end": 6951.6,
            "bin_start": 6473.9,
            "count": 0
           },
           {
            "bin_end": 7429.3,
            "bin_start": 6951.6,
            "count": 0
           },
           {
            "bin_end": 7907,
            "bin_start": 7429.3,
            "count": 1
           }
          ],
          "max": "7907",
          "min": "3130",
          "nan_count": 0,
          "unique_count": 2
         }
        },
        {
         "dtype": "int64",
         "name": "X7",
         "stats": {
          "histogram": [
           {
            "bin_end": 3607.7,
            "bin_start": 3130,
            "count": 1
           },
           {
            "bin_end": 4085.4,
            "bin_start": 3607.7,
            "count": 0
           },
           {
            "bin_end": 4563.1,
            "bin_start": 4085.4,
            "count": 0
           },
           {
            "bin_end": 5040.8,
            "bin_start": 4563.1,
            "count": 0
           },
           {
            "bin_end": 5518.5,
            "bin_start": 5040.8,
            "count": 0
           },
           {
            "bin_end": 5996.2,
            "bin_start": 5518.5,
            "count": 0
           },
           {
            "bin_end": 6473.9,
            "bin_start": 5996.2,
            "count": 0
           },
           {
            "bin_end": 6951.6,
            "bin_start": 6473.9,
            "count": 0
           },
           {
            "bin_end": 7429.3,
            "bin_start": 6951.6,
            "count": 0
           },
           {
            "bin_end": 7907,
            "bin_start": 7429.3,
            "count": 1
           }
          ],
          "max": "7907",
          "min": "3130",
          "nan_count": 0,
          "unique_count": 2
         }
        },
        {
         "dtype": "int64",
         "name": "X8",
         "stats": {
          "histogram": [
           {
            "bin_end": 3607.7,
            "bin_start": 3130,
            "count": 1
           },
           {
            "bin_end": 4085.4,
            "bin_start": 3607.7,
            "count": 0
           },
           {
            "bin_end": 4563.1,
            "bin_start": 4085.4,
            "count": 0
           },
           {
            "bin_end": 5040.8,
            "bin_start": 4563.1,
            "count": 0
           },
           {
            "bin_end": 5518.5,
            "bin_start": 5040.8,
            "count": 0
           },
           {
            "bin_end": 5996.2,
            "bin_start": 5518.5,
            "count": 0
           },
           {
            "bin_end": 6473.9,
            "bin_start": 5996.2,
            "count": 0
           },
           {
            "bin_end": 6951.6,
            "bin_start": 6473.9,
            "count": 0
           },
           {
            "bin_end": 7429.3,
            "bin_start": 6951.6,
            "count": 0
           },
           {
            "bin_end": 7907,
            "bin_start": 7429.3,
            "count": 1
           }
          ],
          "max": "7907",
          "min": "3130",
          "nan_count": 0,
          "unique_count": 2
         }
        },
        {
         "dtype": "int64",
         "name": "X9",
         "stats": {
          "histogram": [
           {
            "bin_end": 3607.7,
            "bin_start": 3130,
            "count": 1
           },
           {
            "bin_end": 4085.4,
            "bin_start": 3607.7,
            "count": 0
           },
           {
            "bin_end": 4563.1,
            "bin_start": 4085.4,
            "count": 0
           },
           {
            "bin_end": 5040.8,
            "bin_start": 4563.1,
            "count": 0
           },
           {
            "bin_end": 5518.5,
            "bin_start": 5040.8,
            "count": 0
           },
           {
            "bin_end": 5996.2,
            "bin_start": 5518.5,
            "count": 0
           },
           {
            "bin_end": 6473.9,
            "bin_start": 5996.2,
            "count": 0
           },
           {
            "bin_end": 6951.6,
            "bin_start": 6473.9,
            "count": 0
           },
           {
            "bin_end": 7429.3,
            "bin_start": 6951.6,
            "count": 0
           },
           {
            "bin_end": 7907,
            "bin_start": 7429.3,
            "count": 1
           }
          ],
          "max": "7907",
          "min": "3130",
          "nan_count": 0,
          "unique_count": 2
         }
        },
        {
         "dtype": "int64",
         "name": "X10",
         "stats": {
          "histogram": [
           {
            "bin_end": 3607.7,
            "bin_start": 3130,
            "count": 1
           },
           {
            "bin_end": 4085.4,
            "bin_start": 3607.7,
            "count": 0
           },
           {
            "bin_end": 4563.1,
            "bin_start": 4085.4,
            "count": 0
           },
           {
            "bin_end": 5040.8,
            "bin_start": 4563.1,
            "count": 0
           },
           {
            "bin_end": 5518.5,
            "bin_start": 5040.8,
            "count": 0
           },
           {
            "bin_end": 5996.2,
            "bin_start": 5518.5,
            "count": 0
           },
           {
            "bin_end": 6473.9,
            "bin_start": 5996.2,
            "count": 0
           },
           {
            "bin_end": 6951.6,
            "bin_start": 6473.9,
            "count": 0
           },
           {
            "bin_end": 7429.3,
            "bin_start": 6951.6,
            "count": 0
           },
           {
            "bin_end": 7907,
            "bin_start": 7429.3,
            "count": 1
           }
          ],
          "max": "7907",
          "min": "3130",
          "nan_count": 0,
          "unique_count": 2
         }
        },
        {
         "dtype": "int64",
         "name": "X11",
         "stats": {
          "histogram": [
           {
            "bin_end": 3607.7,
            "bin_start": 3130,
            "count": 1
           },
           {
            "bin_end": 4085.4,
            "bin_start": 3607.7,
            "count": 0
           },
           {
            "bin_end": 4563.1,
            "bin_start": 4085.4,
            "count": 0
           },
           {
            "bin_end": 5040.8,
            "bin_start": 4563.1,
            "count": 0
           },
           {
            "bin_end": 5518.5,
            "bin_start": 5040.8,
            "count": 0
           },
           {
            "bin_end": 5996.2,
            "bin_start": 5518.5,
            "count": 0
           },
           {
            "bin_end": 6473.9,
            "bin_start": 5996.2,
            "count": 0
           },
           {
            "bin_end": 6951.6,
            "bin_start": 6473.9,
            "count": 0
           },
           {
            "bin_end": 7429.3,
            "bin_start": 6951.6,
            "count": 0
           },
           {
            "bin_end": 7907,
            "bin_start": 7429.3,
            "count": 1
           }
          ],
          "max": "7907",
          "min": "3130",
          "nan_count": 0,
          "unique_count": 2
         }
        },
        {
         "dtype": "int64",
         "name": "X12",
         "stats": {
          "histogram": [
           {
            "bin_end": 3607.7,
            "bin_start": 3130,
            "count": 1
           },
           {
            "bin_end": 4085.4,
            "bin_start": 3607.7,
            "count": 0
           },
           {
            "bin_end": 4563.1,
            "bin_start": 4085.4,
            "count": 0
           },
           {
            "bin_end": 5040.8,
            "bin_start": 4563.1,
            "count": 0
           },
           {
            "bin_end": 5518.5,
            "bin_start": 5040.8,
            "count": 0
           },
           {
            "bin_end": 5996.2,
            "bin_start": 5518.5,
            "count": 0
           },
           {
            "bin_end": 6473.9,
            "bin_start": 5996.2,
            "count": 0
           },
           {
            "bin_end": 6951.6,
            "bin_start": 6473.9,
            "count": 0
           },
           {
            "bin_end": 7429.3,
            "bin_start": 6951.6,
            "count": 0
           },
           {
            "bin_end": 7907,
            "bin_start": 7429.3,
            "count": 1
           }
          ],
          "max": "7907",
          "min": "3130",
          "nan_count": 0,
          "unique_count": 2
         }
        },
        {
         "dtype": "int64",
         "name": "X13",
         "stats": {
          "histogram": [
           {
            "bin_end": 3607.7,
            "bin_start": 3130,
            "count": 1
           },
           {
            "bin_end": 4085.4,
            "bin_start": 3607.7,
            "count": 0
           },
           {
            "bin_end": 4563.1,
            "bin_start": 4085.4,
            "count": 0
           },
           {
            "bin_end": 5040.8,
            "bin_start": 4563.1,
            "count": 0
           },
           {
            "bin_end": 5518.5,
            "bin_start": 5040.8,
            "count": 0
           },
           {
            "bin_end": 5996.2,
            "bin_start": 5518.5,
            "count": 0
           },
           {
            "bin_end": 6473.9,
            "bin_start": 5996.2,
            "count": 0
           },
           {
            "bin_end": 6951.6,
            "bin_start": 6473.9,
            "count": 0
           },
           {
            "bin_end": 7429.3,
            "bin_start": 6951.6,
            "count": 0
           },
           {
            "bin_end": 7907,
            "bin_start": 7429.3,
            "count": 1
           }
          ],
          "max": "7907",
          "min": "3130",
          "nan_count": 0,
          "unique_count": 2
         }
        },
        {
         "dtype": "int64",
         "name": "X14",
         "stats": {
          "histogram": [
           {
            "bin_end": 3607.7,
            "bin_start": 3130,
            "count": 1
           },
           {
            "bin_end": 4085.4,
            "bin_start": 3607.7,
            "count": 0
           },
           {
            "bin_end": 4563.1,
            "bin_start": 4085.4,
            "count": 0
           },
           {
            "bin_end": 5040.8,
            "bin_start": 4563.1,
            "count": 0
           },
           {
            "bin_end": 5518.5,
            "bin_start": 5040.8,
            "count": 0
           },
           {
            "bin_end": 5996.2,
            "bin_start": 5518.5,
            "count": 0
           },
           {
            "bin_end": 6473.9,
            "bin_start": 5996.2,
            "count": 0
           },
           {
            "bin_end": 6951.6,
            "bin_start": 6473.9,
            "count": 0
           },
           {
            "bin_end": 7429.3,
            "bin_start": 6951.6,
            "count": 0
           },
           {
            "bin_end": 7907,
            "bin_start": 7429.3,
            "count": 1
           }
          ],
          "max": "7907",
          "min": "3130",
          "nan_count": 0,
          "unique_count": 2
         }
        },
        {
         "dtype": "int64",
         "name": "X15",
         "stats": {
          "histogram": [
           {
            "bin_end": 3607.7,
            "bin_start": 3130,
            "count": 1
           },
           {
            "bin_end": 4085.4,
            "bin_start": 3607.7,
            "count": 0
           },
           {
            "bin_end": 4563.1,
            "bin_start": 4085.4,
            "count": 0
           },
           {
            "bin_end": 5040.8,
            "bin_start": 4563.1,
            "count": 0
           },
           {
            "bin_end": 5518.5,
            "bin_start": 5040.8,
            "count": 0
           },
           {
            "bin_end": 5996.2,
            "bin_start": 5518.5,
            "count": 0
           },
           {
            "bin_end": 6473.9,
            "bin_start": 5996.2,
            "count": 0
           },
           {
            "bin_end": 6951.6,
            "bin_start": 6473.9,
            "count": 0
           },
           {
            "bin_end": 7429.3,
            "bin_start": 6951.6,
            "count": 0
           },
           {
            "bin_end": 7907,
            "bin_start": 7429.3,
            "count": 1
           }
          ],
          "max": "7907",
          "min": "3130",
          "nan_count": 0,
          "unique_count": 2
         }
        },
        {
         "dtype": "int64",
         "name": "X16",
         "stats": {
          "histogram": [
           {
            "bin_end": 3607.7,
            "bin_start": 3130,
            "count": 1
           },
           {
            "bin_end": 4085.4,
            "bin_start": 3607.7,
            "count": 0
           },
           {
            "bin_end": 4563.1,
            "bin_start": 4085.4,
            "count": 0
           },
           {
            "bin_end": 5040.8,
            "bin_start": 4563.1,
            "count": 0
           },
           {
            "bin_end": 5518.5,
            "bin_start": 5040.8,
            "count": 0
           },
           {
            "bin_end": 5996.2,
            "bin_start": 5518.5,
            "count": 0
           },
           {
            "bin_end": 6473.9,
            "bin_start": 5996.2,
            "count": 0
           },
           {
            "bin_end": 6951.6,
            "bin_start": 6473.9,
            "count": 0
           },
           {
            "bin_end": 7429.3,
            "bin_start": 6951.6,
            "count": 0
           },
           {
            "bin_end": 7907,
            "bin_start": 7429.3,
            "count": 1
           }
          ],
          "max": "7907",
          "min": "3130",
          "nan_count": 0,
          "unique_count": 2
         }
        },
        {
         "dtype": "int64",
         "name": "X17",
         "stats": {
          "histogram": [
           {
            "bin_end": 3607.7,
            "bin_start": 3130,
            "count": 1
           },
           {
            "bin_end": 4085.4,
            "bin_start": 3607.7,
            "count": 0
           },
           {
            "bin_end": 4563.1,
            "bin_start": 4085.4,
            "count": 0
           },
           {
            "bin_end": 5040.8,
            "bin_start": 4563.1,
            "count": 0
           },
           {
            "bin_end": 5518.5,
            "bin_start": 5040.8,
            "count": 0
           },
           {
            "bin_end": 5996.2,
            "bin_start": 5518.5,
            "count": 0
           },
           {
            "bin_end": 6473.9,
            "bin_start": 5996.2,
            "count": 0
           },
           {
            "bin_end": 6951.6,
            "bin_start": 6473.9,
            "count": 0
           },
           {
            "bin_end": 7429.3,
            "bin_start": 6951.6,
            "count": 0
           },
           {
            "bin_end": 7907,
            "bin_start": 7429.3,
            "count": 1
           }
          ],
          "max": "7907",
          "min": "3130",
          "nan_count": 0,
          "unique_count": 2
         }
        },
        {
         "dtype": "int64",
         "name": "X18",
         "stats": {
          "histogram": [
           {
            "bin_end": 3607.7,
            "bin_start": 3130,
            "count": 1
           },
           {
            "bin_end": 4085.4,
            "bin_start": 3607.7,
            "count": 0
           },
           {
            "bin_end": 4563.1,
            "bin_start": 4085.4,
            "count": 0
           },
           {
            "bin_end": 5040.8,
            "bin_start": 4563.1,
            "count": 0
           },
           {
            "bin_end": 5518.5,
            "bin_start": 5040.8,
            "count": 0
           },
           {
            "bin_end": 5996.2,
            "bin_start": 5518.5,
            "count": 0
           },
           {
            "bin_end": 6473.9,
            "bin_start": 5996.2,
            "count": 0
           },
           {
            "bin_end": 6951.6,
            "bin_start": 6473.9,
            "count": 0
           },
           {
            "bin_end": 7429.3,
            "bin_start": 6951.6,
            "count": 0
           },
           {
            "bin_end": 7907,
            "bin_start": 7429.3,
            "count": 1
           }
          ],
          "max": "7907",
          "min": "3130",
          "nan_count": 0,
          "unique_count": 2
         }
        },
        {
         "dtype": "int64",
         "name": "X19",
         "stats": {
          "histogram": [
           {
            "bin_end": 3607.7,
            "bin_start": 3130,
            "count": 1
           },
           {
            "bin_end": 4085.4,
            "bin_start": 3607.7,
            "count": 0
           },
           {
            "bin_end": 4563.1,
            "bin_start": 4085.4,
            "count": 0
           },
           {
            "bin_end": 5040.8,
            "bin_start": 4563.1,
            "count": 0
           },
           {
            "bin_end": 5518.5,
            "bin_start": 5040.8,
            "count": 0
           },
           {
            "bin_end": 5996.2,
            "bin_start": 5518.5,
            "count": 0
           },
           {
            "bin_end": 6473.9,
            "bin_start": 5996.2,
            "count": 0
           },
           {
            "bin_end": 6951.6,
            "bin_start": 6473.9,
            "count": 0
           },
           {
            "bin_end": 7429.3,
            "bin_start": 6951.6,
            "count": 0
           },
           {
            "bin_end": 7907,
            "bin_start": 7429.3,
            "count": 1
           }
          ],
          "max": "7907",
          "min": "3130",
          "nan_count": 0,
          "unique_count": 2
         }
        },
        {
         "dtype": "int64",
         "name": "X20",
         "stats": {
          "histogram": [
           {
            "bin_end": 3607.7,
            "bin_start": 3130,
            "count": 1
           },
           {
            "bin_end": 4085.4,
            "bin_start": 3607.7,
            "count": 0
           },
           {
            "bin_end": 4563.1,
            "bin_start": 4085.4,
            "count": 0
           },
           {
            "bin_end": 5040.8,
            "bin_start": 4563.1,
            "count": 0
           },
           {
            "bin_end": 5518.5,
            "bin_start": 5040.8,
            "count": 0
           },
           {
            "bin_end": 5996.2,
            "bin_start": 5518.5,
            "count": 0
           },
           {
            "bin_end": 6473.9,
            "bin_start": 5996.2,
            "count": 0
           },
           {
            "bin_end": 6951.6,
            "bin_start": 6473.9,
            "count": 0
           },
           {
            "bin_end": 7429.3,
            "bin_start": 6951.6,
            "count": 0
           },
           {
            "bin_end": 7907,
            "bin_start": 7429.3,
            "count": 1
           }
          ],
          "max": "7907",
          "min": "3130",
          "nan_count": 0,
          "unique_count": 2
         }
        },
        {
         "dtype": "int64",
         "name": "X21",
         "stats": {
          "histogram": [
           {
            "bin_end": 3607.7,
            "bin_start": 3130,
            "count": 1
           },
           {
            "bin_end": 4085.4,
            "bin_start": 3607.7,
            "count": 0
           },
           {
            "bin_end": 4563.1,
            "bin_start": 4085.4,
            "count": 0
           },
           {
            "bin_end": 5040.8,
            "bin_start": 4563.1,
            "count": 0
           },
           {
            "bin_end": 5518.5,
            "bin_start": 5040.8,
            "count": 0
           },
           {
            "bin_end": 5996.2,
            "bin_start": 5518.5,
            "count": 0
           },
           {
            "bin_end": 6473.9,
            "bin_start": 5996.2,
            "count": 0
           },
           {
            "bin_end": 6951.6,
            "bin_start": 6473.9,
            "count": 0
           },
           {
            "bin_end": 7429.3,
            "bin_start": 6951.6,
            "count": 0
           },
           {
            "bin_end": 7907,
            "bin_start": 7429.3,
            "count": 1
           }
          ],
          "max": "7907",
          "min": "3130",
          "nan_count": 0,
          "unique_count": 2
         }
        },
        {
         "dtype": "int64",
         "name": "X22",
         "stats": {
          "histogram": [
           {
            "bin_end": 3607.7,
            "bin_start": 3130,
            "count": 1
           },
           {
            "bin_end": 4085.4,
            "bin_start": 3607.7,
            "count": 0
           },
           {
            "bin_end": 4563.1,
            "bin_start": 4085.4,
            "count": 0
           },
           {
            "bin_end": 5040.8,
            "bin_start": 4563.1,
            "count": 0
           },
           {
            "bin_end": 5518.5,
            "bin_start": 5040.8,
            "count": 0
           },
           {
            "bin_end": 5996.2,
            "bin_start": 5518.5,
            "count": 0
           },
           {
            "bin_end": 6473.9,
            "bin_start": 5996.2,
            "count": 0
           },
           {
            "bin_end": 6951.6,
            "bin_start": 6473.9,
            "count": 0
           },
           {
            "bin_end": 7429.3,
            "bin_start": 6951.6,
            "count": 0
           },
           {
            "bin_end": 7907,
            "bin_start": 7429.3,
            "count": 1
           }
          ],
          "max": "7907",
          "min": "3130",
          "nan_count": 0,
          "unique_count": 2
         }
        },
        {
         "dtype": "float64",
         "name": "_deepnote_index_column"
        }
       ],
       "row_count": 2,
       "rows": [
        {
         "AwayTeam": 3130,
         "Date": 3130,
         "HomeTeam": 3130,
         "Season": 3130,
         "X1": 3130,
         "X10": 3130,
         "X11": 3130,
         "X12": 3130,
         "X13": 3130,
         "X14": 3130,
         "X15": 3130,
         "X16": 3130,
         "X17": 3130,
         "X18": 3130,
         "X19": 3130,
         "X2": 3130,
         "X20": 3130,
         "X21": 3130,
         "X22": 3130,
         "X3": 3130,
         "X4": 3130,
         "X5": 3130,
         "X6": 3130,
         "X7": 3130,
         "X8": 3130,
         "X9": 3130,
         "_deepnote_index_column": 0
        },
        {
         "AwayTeam": 7907,
         "Date": 7907,
         "HomeTeam": 7907,
         "Season": 7907,
         "X1": 7907,
         "X10": 7907,
         "X11": 7907,
         "X12": 7907,
         "X13": 7907,
         "X14": 7907,
         "X15": 7907,
         "X16": 7907,
         "X17": 7907,
         "X18": 7907,
         "X19": 7907,
         "X2": 7907,
         "X20": 7907,
         "X21": 7907,
         "X22": 7907,
         "X3": 7907,
         "X4": 7907,
         "X5": 7907,
         "X6": 7907,
         "X7": 7907,
         "X8": 7907,
         "X9": 7907,
         "_deepnote_index_column": 1
        }
       ]
      },
      "text/html": [
       "<div>\n",
       "<style scoped>\n",
       "    .dataframe tbody tr th:only-of-type {\n",
       "        vertical-align: middle;\n",
       "    }\n",
       "\n",
       "    .dataframe tbody tr th {\n",
       "        vertical-align: top;\n",
       "    }\n",
       "\n",
       "    .dataframe thead th {\n",
       "        text-align: right;\n",
       "    }\n",
       "</style>\n",
       "<table border=\"1\" class=\"dataframe\">\n",
       "  <thead>\n",
       "    <tr style=\"text-align: right;\">\n",
       "      <th></th>\n",
       "      <th>HomeTeam</th>\n",
       "      <th>AwayTeam</th>\n",
       "      <th>Date</th>\n",
       "      <th>Season</th>\n",
       "      <th>X1</th>\n",
       "      <th>X2</th>\n",
       "      <th>X3</th>\n",
       "      <th>X4</th>\n",
       "      <th>X5</th>\n",
       "      <th>X6</th>\n",
       "      <th>...</th>\n",
       "      <th>X13</th>\n",
       "      <th>X14</th>\n",
       "      <th>X15</th>\n",
       "      <th>X16</th>\n",
       "      <th>X17</th>\n",
       "      <th>X18</th>\n",
       "      <th>X19</th>\n",
       "      <th>X20</th>\n",
       "      <th>X21</th>\n",
       "      <th>X22</th>\n",
       "    </tr>\n",
       "    <tr>\n",
       "      <th>Y</th>\n",
       "      <th></th>\n",
       "      <th></th>\n",
       "      <th></th>\n",
       "      <th></th>\n",
       "      <th></th>\n",
       "      <th></th>\n",
       "      <th></th>\n",
       "      <th></th>\n",
       "      <th></th>\n",
       "      <th></th>\n",
       "      <th></th>\n",
       "      <th></th>\n",
       "      <th></th>\n",
       "      <th></th>\n",
       "      <th></th>\n",
       "      <th></th>\n",
       "      <th></th>\n",
       "      <th></th>\n",
       "      <th></th>\n",
       "      <th></th>\n",
       "      <th></th>\n",
       "    </tr>\n",
       "  </thead>\n",
       "  <tbody>\n",
       "    <tr>\n",
       "      <th>0.0</th>\n",
       "      <td>3130</td>\n",
       "      <td>3130</td>\n",
       "      <td>3130</td>\n",
       "      <td>3130</td>\n",
       "      <td>3130</td>\n",
       "      <td>3130</td>\n",
       "      <td>3130</td>\n",
       "      <td>3130</td>\n",
       "      <td>3130</td>\n",
       "      <td>3130</td>\n",
       "      <td>...</td>\n",
       "      <td>3130</td>\n",
       "      <td>3130</td>\n",
       "      <td>3130</td>\n",
       "      <td>3130</td>\n",
       "      <td>3130</td>\n",
       "      <td>3130</td>\n",
       "      <td>3130</td>\n",
       "      <td>3130</td>\n",
       "      <td>3130</td>\n",
       "      <td>3130</td>\n",
       "    </tr>\n",
       "    <tr>\n",
       "      <th>1.0</th>\n",
       "      <td>7907</td>\n",
       "      <td>7907</td>\n",
       "      <td>7907</td>\n",
       "      <td>7907</td>\n",
       "      <td>7907</td>\n",
       "      <td>7907</td>\n",
       "      <td>7907</td>\n",
       "      <td>7907</td>\n",
       "      <td>7907</td>\n",
       "      <td>7907</td>\n",
       "      <td>...</td>\n",
       "      <td>7907</td>\n",
       "      <td>7907</td>\n",
       "      <td>7907</td>\n",
       "      <td>7907</td>\n",
       "      <td>7907</td>\n",
       "      <td>7907</td>\n",
       "      <td>7907</td>\n",
       "      <td>7907</td>\n",
       "      <td>7907</td>\n",
       "      <td>7907</td>\n",
       "    </tr>\n",
       "  </tbody>\n",
       "</table>\n",
       "<p>2 rows × 26 columns</p>\n",
       "</div>"
      ],
      "text/plain": [
       "     HomeTeam  AwayTeam  Date  Season    X1    X2    X3    X4    X5    X6  \\\n",
       "Y                                                                           \n",
       "0.0      3130      3130  3130    3130  3130  3130  3130  3130  3130  3130   \n",
       "1.0      7907      7907  7907    7907  7907  7907  7907  7907  7907  7907   \n",
       "\n",
       "     ...   X13   X14   X15   X16   X17   X18   X19   X20   X21   X22  \n",
       "Y    ...                                                              \n",
       "0.0  ...  3130  3130  3130  3130  3130  3130  3130  3130  3130  3130  \n",
       "1.0  ...  7907  7907  7907  7907  7907  7907  7907  7907  7907  7907  \n",
       "\n",
       "[2 rows x 26 columns]"
      ]
     },
     "execution_count": 5,
     "metadata": {},
     "output_type": "execute_result"
    }
   ],
   "source": [
    "data.groupby('Y').count()"
   ]
  },
  {
   "cell_type": "code",
   "execution_count": null,
   "metadata": {
    "cell_id": "27264b6bfcf64639a8cbde85b06af7fc",
    "deepnote_cell_height": 617.9375,
    "deepnote_cell_type": "code",
    "deepnote_to_be_reexecuted": false,
    "execution_millis": 95,
    "execution_start": 1651163227491,
    "source_hash": "85388a15",
    "tags": []
   },
   "outputs": [
    {
     "data": {
      "application/vnd.deepnote.dataframe.v3+json": {
       "column_count": 22,
       "columns": [
        {
         "dtype": "float64",
         "name": "X1",
         "stats": {
          "histogram": [
           {
            "bin_end": 19317.6,
            "bin_start": 11464,
            "count": 483
           },
           {
            "bin_end": 27171.2,
            "bin_start": 19317.6,
            "count": 2112
           },
           {
            "bin_end": 35024.8,
            "bin_start": 27171.2,
            "count": 2570
           },
           {
            "bin_end": 42878.4,
            "bin_start": 35024.8,
            "count": 2964
           },
           {
            "bin_end": 50732,
            "bin_start": 42878.4,
            "count": 420
           },
           {
            "bin_end": 58585.600000000006,
            "bin_start": 50732,
            "count": 1429
           },
           {
            "bin_end": 66439.20000000001,
            "bin_start": 58585.600000000006,
            "count": 477
           },
           {
            "bin_end": 74292.8,
            "bin_start": 66439.20000000001,
            "count": 1
           },
           {
            "bin_end": 82146.40000000001,
            "bin_start": 74292.8,
            "count": 548
           },
           {
            "bin_end": 90000,
            "bin_start": 82146.40000000001,
            "count": 33
           }
          ],
          "max": "90000.0",
          "min": "11464.0",
          "nan_count": 0,
          "unique_count": 57
         }
        },
        {
         "dtype": "float64",
         "name": "X2",
         "stats": {
          "histogram": [
           {
            "bin_end": 0.12896866096866097,
            "bin_start": 0,
            "count": 455
           },
           {
            "bin_end": 0.25793732193732194,
            "bin_start": 0.12896866096866097,
            "count": 28
           },
           {
            "bin_end": 0.3869059829059829,
            "bin_start": 0.25793732193732194,
            "count": 86
           },
           {
            "bin_end": 0.5158746438746439,
            "bin_start": 0.3869059829059829,
            "count": 314
           },
           {
            "bin_end": 0.6448433048433049,
            "bin_start": 0.5158746438746439,
            "count": 455
           },
           {
            "bin_end": 0.7738119658119658,
            "bin_start": 0.6448433048433049,
            "count": 1435
           },
           {
            "bin_end": 0.9027806267806268,
            "bin_start": 0.7738119658119658,
            "count": 2592
           },
           {
            "bin_end": 1.0317492877492878,
            "bin_start": 0.9027806267806268,
            "count": 5554
           },
           {
            "bin_end": 1.1607179487179486,
            "bin_start": 1.0317492877492878,
            "count": 111
           },
           {
            "bin_end": 1.2896866096866098,
            "bin_start": 1.1607179487179486,
            "count": 7
           }
          ],
          "max": "1.2896866096866098",
          "min": "0.0",
          "nan_count": 0,
          "unique_count": 9695
         }
        },
        {
         "dtype": "float64",
         "name": "X3",
         "stats": {
          "histogram": [
           {
            "bin_end": 3.1,
            "bin_start": 1,
            "count": 1606
           },
           {
            "bin_end": 5.2,
            "bin_start": 3.1,
            "count": 1101
           },
           {
            "bin_end": 7.300000000000001,
            "bin_start": 5.2,
            "count": 1117
           },
           {
            "bin_end": 9.4,
            "bin_start": 7.300000000000001,
            "count": 1101
           },
           {
            "bin_end": 11.5,
            "bin_start": 9.4,
            "count": 1099
           },
           {
            "bin_end": 13.600000000000001,
            "bin_start": 11.5,
            "count": 1069
           },
           {
            "bin_end": 15.700000000000001,
            "bin_start": 13.600000000000001,
            "count": 1076
           },
           {
            "bin_end": 17.8,
            "bin_start": 15.700000000000001,
            "count": 1123
           },
           {
            "bin_end": 19.900000000000002,
            "bin_start": 17.8,
            "count": 1094
           },
           {
            "bin_end": 22,
            "bin_start": 19.900000000000002,
            "count": 651
           }
          ],
          "max": "22.0",
          "min": "1.0",
          "nan_count": 0,
          "unique_count": 22
         }
        },
        {
         "dtype": "float64",
         "name": "X4",
         "stats": {
          "histogram": [
           {
            "bin_end": 3.1,
            "bin_start": 1,
            "count": 1614
           },
           {
            "bin_end": 5.2,
            "bin_start": 3.1,
            "count": 1081
           },
           {
            "bin_end": 7.300000000000001,
            "bin_start": 5.2,
            "count": 1055
           },
           {
            "bin_end": 9.4,
            "bin_start": 7.300000000000001,
            "count": 1091
           },
           {
            "bin_end": 11.5,
            "bin_start": 9.4,
            "count": 1089
           },
           {
            "bin_end": 13.600000000000001,
            "bin_start": 11.5,
            "count": 1123
           },
           {
            "bin_end": 15.700000000000001,
            "bin_start": 13.600000000000001,
            "count": 1140
           },
           {
            "bin_end": 17.8,
            "bin_start": 15.700000000000001,
            "count": 1091
           },
           {
            "bin_end": 19.900000000000002,
            "bin_start": 17.8,
            "count": 1111
           },
           {
            "bin_end": 22,
            "bin_start": 19.900000000000002,
            "count": 642
           }
          ],
          "max": "22.0",
          "min": "1.0",
          "nan_count": 0,
          "unique_count": 22
         }
        },
        {
         "dtype": "int64",
         "name": "X5",
         "stats": {
          "histogram": [
           {
            "bin_end": 2.9,
            "bin_start": 1,
            "count": 1096
           },
           {
            "bin_end": 4.8,
            "bin_start": 2.9,
            "count": 1095
           },
           {
            "bin_end": 6.699999999999999,
            "bin_start": 4.8,
            "count": 1096
           },
           {
            "bin_end": 8.6,
            "bin_start": 6.699999999999999,
            "count": 1095
           },
           {
            "bin_end": 10.5,
            "bin_start": 8.6,
            "count": 1094
           },
           {
            "bin_end": 12.399999999999999,
            "bin_start": 10.5,
            "count": 1096
           },
           {
            "bin_end": 14.299999999999999,
            "bin_start": 12.399999999999999,
            "count": 1076
           },
           {
            "bin_end": 16.2,
            "bin_start": 14.299999999999999,
            "count": 1094
           },
           {
            "bin_end": 18.099999999999998,
            "bin_start": 16.2,
            "count": 626
           },
           {
            "bin_end": 20,
            "bin_start": 18.099999999999998,
            "count": 1669
           }
          ],
          "max": "20",
          "min": "1",
          "nan_count": 0,
          "unique_count": 20
         }
        },
        {
         "dtype": "int64",
         "name": "X6",
         "stats": {
          "histogram": [
           {
            "bin_end": 2.9,
            "bin_start": 1,
            "count": 1097
           },
           {
            "bin_end": 4.8,
            "bin_start": 2.9,
            "count": 1097
           },
           {
            "bin_end": 6.699999999999999,
            "bin_start": 4.8,
            "count": 1095
           },
           {
            "bin_end": 8.6,
            "bin_start": 6.699999999999999,
            "count": 1093
           },
           {
            "bin_end": 10.5,
            "bin_start": 8.6,
            "count": 1095
           },
           {
            "bin_end": 12.399999999999999,
            "bin_start": 10.5,
            "count": 1094
           },
           {
            "bin_end": 14.299999999999999,
            "bin_start": 12.399999999999999,
            "count": 1077
           },
           {
            "bin_end": 16.2,
            "bin_start": 14.299999999999999,
            "count": 1097
           },
           {
            "bin_end": 18.099999999999998,
            "bin_start": 16.2,
            "count": 627
           },
           {
            "bin_end": 20,
            "bin_start": 18.099999999999998,
            "count": 1665
           }
          ],
          "max": "20",
          "min": "1",
          "nan_count": 0,
          "unique_count": 20
         }
        },
        {
         "dtype": "int64",
         "name": "X7",
         "stats": {
          "histogram": [
           {
            "bin_end": 0.4,
            "bin_start": 0,
            "count": 302
           },
           {
            "bin_end": 0.8,
            "bin_start": 0.4,
            "count": 0
           },
           {
            "bin_end": 1.2000000000000002,
            "bin_start": 0.8,
            "count": 4516
           },
           {
            "bin_end": 1.6,
            "bin_start": 1.2000000000000002,
            "count": 0
           },
           {
            "bin_end": 2,
            "bin_start": 1.6,
            "count": 0
           },
           {
            "bin_end": 2.4000000000000004,
            "bin_start": 2,
            "count": 2811
           },
           {
            "bin_end": 2.8000000000000003,
            "bin_start": 2.4000000000000004,
            "count": 0
           },
           {
            "bin_end": 3.2,
            "bin_start": 2.8000000000000003,
            "count": 0
           },
           {
            "bin_end": 3.6,
            "bin_start": 3.2,
            "count": 0
           },
           {
            "bin_end": 4,
            "bin_start": 3.6,
            "count": 3408
           }
          ],
          "max": "4",
          "min": "0",
          "nan_count": 0,
          "unique_count": 4
         }
        },
        {
         "dtype": "int64",
         "name": "X8",
         "stats": {
          "histogram": [
           {
            "bin_end": 0.4,
            "bin_start": 0,
            "count": 594
           },
           {
            "bin_end": 0.8,
            "bin_start": 0.4,
            "count": 0
           },
           {
            "bin_end": 1.2000000000000002,
            "bin_start": 0.8,
            "count": 3733
           },
           {
            "bin_end": 1.6,
            "bin_start": 1.2000000000000002,
            "count": 0
           },
           {
            "bin_end": 2,
            "bin_start": 1.6,
            "count": 0
           },
           {
            "bin_end": 2.4000000000000004,
            "bin_start": 2,
            "count": 2680
           },
           {
            "bin_end": 2.8000000000000003,
            "bin_start": 2.4000000000000004,
            "count": 0
           },
           {
            "bin_end": 3.2,
            "bin_start": 2.8000000000000003,
            "count": 0
           },
           {
            "bin_end": 3.6,
            "bin_start": 3.2,
            "count": 0
           },
           {
            "bin_end": 4,
            "bin_start": 3.6,
            "count": 4030
           }
          ],
          "max": "4",
          "min": "0",
          "nan_count": 0,
          "unique_count": 4
         }
        },
        {
         "dtype": "int64",
         "name": "X9",
         "stats": {
          "histogram": [
           {
            "bin_end": 0.4,
            "bin_start": 0,
            "count": 883
           },
           {
            "bin_end": 0.8,
            "bin_start": 0.4,
            "count": 0
           },
           {
            "bin_end": 1.2000000000000002,
            "bin_start": 0.8,
            "count": 3753
           },
           {
            "bin_end": 1.6,
            "bin_start": 1.2000000000000002,
            "count": 0
           },
           {
            "bin_end": 2,
            "bin_start": 1.6,
            "count": 0
           },
           {
            "bin_end": 2.4000000000000004,
            "bin_start": 2,
            "count": 2631
           },
           {
            "bin_end": 2.8000000000000003,
            "bin_start": 2.4000000000000004,
            "count": 0
           },
           {
            "bin_end": 3.2,
            "bin_start": 2.8000000000000003,
            "count": 0
           },
           {
            "bin_end": 3.6,
            "bin_start": 3.2,
            "count": 0
           },
           {
            "bin_end": 4,
            "bin_start": 3.6,
            "count": 3770
           }
          ],
          "max": "4",
          "min": "0",
          "nan_count": 0,
          "unique_count": 4
         }
        },
        {
         "dtype": "int64",
         "name": "X10"
        },
        {
         "dtype": "int64",
         "name": "X11"
        },
        {
         "dtype": "int64",
         "name": "X12"
        },
        {
         "dtype": "int64",
         "name": "X13"
        },
        {
         "dtype": "int64",
         "name": "X14"
        },
        {
         "dtype": "int64",
         "name": "X15"
        },
        {
         "dtype": "int64",
         "name": "X16"
        },
        {
         "dtype": "float64",
         "name": "X17"
        },
        {
         "dtype": "float64",
         "name": "X18"
        },
        {
         "dtype": "float64",
         "name": "X19"
        },
        {
         "dtype": "float64",
         "name": "X20"
        },
        {
         "dtype": "float64",
         "name": "X21"
        },
        {
         "dtype": "float64",
         "name": "X22"
        },
        {
         "dtype": "int64",
         "name": "_deepnote_index_column"
        }
       ],
       "row_count": 11037,
       "rows": [
        {
         "X1": 41837,
         "X10": 0,
         "X11": 0,
         "X12": 0,
         "X13": 0,
         "X14": 0,
         "X15": 0,
         "X16": 0,
         "X17": 0,
         "X18": 0,
         "X19": 0,
         "X2": 0.6976838683462008,
         "X20": 0,
         "X21": 3,
         "X22": 1,
         "X3": 10,
         "X4": 22,
         "X5": 11,
         "X6": 4,
         "X7": 0,
         "X8": 0,
         "X9": 0,
         "_deepnote_index_column": 0
        },
        {
         "X1": 35016,
         "X10": 0,
         "X11": 0,
         "X12": 0,
         "X13": 0,
         "X14": 0,
         "X15": 0,
         "X16": 0,
         "X17": 0,
         "X18": 0,
         "X19": 0,
         "X2": 0.5817055060543751,
         "X20": 0,
         "X21": 0,
         "X22": 1,
         "X3": 1,
         "X4": 16,
         "X5": 20,
         "X6": 12,
         "X7": 0,
         "X8": 0,
         "X9": 0,
         "_deepnote_index_column": 1
        },
        {
         "X1": 13624,
         "X10": 0,
         "X11": 0,
         "X12": 0,
         "X13": 0,
         "X14": 0,
         "X15": 0,
         "X16": 0,
         "X17": 0,
         "X18": 0,
         "X19": 0,
         "X2": 0.8862301820317088,
         "X20": 0,
         "X21": 8,
         "X22": 1,
         "X3": 3,
         "X4": 13,
         "X5": 19,
         "X6": 16,
         "X7": 0,
         "X8": 0,
         "X9": 0,
         "_deepnote_index_column": 2
        },
        {
         "X1": 33000,
         "X10": 0,
         "X11": 0,
         "X12": 0,
         "X13": 0,
         "X14": 0,
         "X15": 0,
         "X16": 0,
         "X17": 0,
         "X18": 0,
         "X19": 0,
         "X2": 0.6334545454545455,
         "X20": 0,
         "X21": 0,
         "X22": 1,
         "X3": 2,
         "X4": 17,
         "X5": 14,
         "X6": 20,
         "X7": 0,
         "X8": 0,
         "X9": 0,
         "_deepnote_index_column": 3
        },
        {
         "X1": 52409,
         "X10": 0,
         "X11": 0,
         "X12": 0,
         "X13": 0,
         "X14": 0,
         "X15": 0,
         "X16": 0,
         "X17": 0,
         "X18": 0,
         "X19": 0,
         "X2": 0.659524127535347,
         "X20": 0,
         "X21": 0,
         "X22": 1,
         "X3": 4,
         "X4": 12,
         "X5": 20,
         "X6": 8,
         "X7": 0,
         "X8": 0,
         "X9": 0,
         "_deepnote_index_column": 4
        },
        {
         "X1": 42788,
         "X10": 0,
         "X11": 0,
         "X12": 0,
         "X13": 0,
         "X14": 0,
         "X15": 0,
         "X16": 0,
         "X17": 0,
         "X18": 0,
         "X19": 0,
         "X2": 0.7699354959334392,
         "X20": 0,
         "X21": 5,
         "X22": 1,
         "X3": 7,
         "X4": 19,
         "X5": 2,
         "X6": 5,
         "X7": 0,
         "X8": 0,
         "X9": 0,
         "_deepnote_index_column": 5
        },
        {
         "X1": 34026,
         "X10": 0,
         "X11": 0,
         "X12": 0,
         "X13": 0,
         "X14": 0,
         "X15": 0,
         "X16": 0,
         "X17": 0,
         "X18": 0,
         "X19": 0,
         "X2": 0.9512137776994064,
         "X20": 0,
         "X21": 5,
         "X22": 1,
         "X3": 8,
         "X4": 15,
         "X5": 9,
         "X6": 17,
         "X7": 0,
         "X8": 0,
         "X9": 0,
         "_deepnote_index_column": 6
        },
        {
         "X1": 54074,
         "X10": 0,
         "X11": 0,
         "X12": 0,
         "X13": 0,
         "X14": 0,
         "X15": 0,
         "X16": 0,
         "X17": 0,
         "X18": 0,
         "X19": 0,
         "X2": 0.8137737174982431,
         "X20": 0,
         "X21": 6,
         "X22": 1,
         "X3": 9,
         "X4": 18,
         "X5": 6,
         "X6": 7,
         "X7": 0,
         "X8": 0,
         "X9": 0,
         "_deepnote_index_column": 7
        },
        {
         "X1": 16000,
         "X10": 0,
         "X11": 0,
         "X12": 0,
         "X13": 0,
         "X14": 0,
         "X15": 0,
         "X16": 0,
         "X17": 0,
         "X18": 0,
         "X19": 0,
         "X2": 0.8781875,
         "X20": 0,
         "X21": 3,
         "X22": 1,
         "X3": 6,
         "X4": 14,
         "X5": 18,
         "X6": 13,
         "X7": 0,
         "X8": 0,
         "X9": 0,
         "_deepnote_index_column": 8
        },
        {
         "X1": 38500,
         "X10": 0,
         "X11": 0,
         "X12": 0,
         "X13": 0,
         "X14": 0,
         "X15": 0,
         "X16": 0,
         "X17": 0,
         "X18": 0,
         "X19": 0,
         "X2": 0.6856363636363636,
         "X20": 0,
         "X21": 8,
         "X22": 1,
         "X3": 5,
         "X4": 21,
         "X5": 10,
         "X6": 15,
         "X7": 0,
         "X8": 0,
         "X9": 0,
         "_deepnote_index_column": 9
        }
       ]
      },
      "text/html": [
       "<div>\n",
       "<style scoped>\n",
       "    .dataframe tbody tr th:only-of-type {\n",
       "        vertical-align: middle;\n",
       "    }\n",
       "\n",
       "    .dataframe tbody tr th {\n",
       "        vertical-align: top;\n",
       "    }\n",
       "\n",
       "    .dataframe thead th {\n",
       "        text-align: right;\n",
       "    }\n",
       "</style>\n",
       "<table border=\"1\" class=\"dataframe\">\n",
       "  <thead>\n",
       "    <tr style=\"text-align: right;\">\n",
       "      <th></th>\n",
       "      <th>X1</th>\n",
       "      <th>X2</th>\n",
       "      <th>X3</th>\n",
       "      <th>X4</th>\n",
       "      <th>X5</th>\n",
       "      <th>X6</th>\n",
       "      <th>X7</th>\n",
       "      <th>X8</th>\n",
       "      <th>X9</th>\n",
       "      <th>X10</th>\n",
       "      <th>...</th>\n",
       "      <th>X13</th>\n",
       "      <th>X14</th>\n",
       "      <th>X15</th>\n",
       "      <th>X16</th>\n",
       "      <th>X17</th>\n",
       "      <th>X18</th>\n",
       "      <th>X19</th>\n",
       "      <th>X20</th>\n",
       "      <th>X21</th>\n",
       "      <th>X22</th>\n",
       "    </tr>\n",
       "  </thead>\n",
       "  <tbody>\n",
       "    <tr>\n",
       "      <th>0</th>\n",
       "      <td>41837.0</td>\n",
       "      <td>0.697684</td>\n",
       "      <td>10.0</td>\n",
       "      <td>22.0</td>\n",
       "      <td>11</td>\n",
       "      <td>4</td>\n",
       "      <td>0</td>\n",
       "      <td>0</td>\n",
       "      <td>0</td>\n",
       "      <td>0</td>\n",
       "      <td>...</td>\n",
       "      <td>0</td>\n",
       "      <td>0</td>\n",
       "      <td>0</td>\n",
       "      <td>0</td>\n",
       "      <td>0.0</td>\n",
       "      <td>0.0</td>\n",
       "      <td>0.0</td>\n",
       "      <td>0.0</td>\n",
       "      <td>3.0</td>\n",
       "      <td>1.0</td>\n",
       "    </tr>\n",
       "    <tr>\n",
       "      <th>1</th>\n",
       "      <td>35016.0</td>\n",
       "      <td>0.581706</td>\n",
       "      <td>1.0</td>\n",
       "      <td>16.0</td>\n",
       "      <td>20</td>\n",
       "      <td>12</td>\n",
       "      <td>0</td>\n",
       "      <td>0</td>\n",
       "      <td>0</td>\n",
       "      <td>0</td>\n",
       "      <td>...</td>\n",
       "      <td>0</td>\n",
       "      <td>0</td>\n",
       "      <td>0</td>\n",
       "      <td>0</td>\n",
       "      <td>0.0</td>\n",
       "      <td>0.0</td>\n",
       "      <td>0.0</td>\n",
       "      <td>0.0</td>\n",
       "      <td>0.0</td>\n",
       "      <td>1.0</td>\n",
       "    </tr>\n",
       "    <tr>\n",
       "      <th>2</th>\n",
       "      <td>13624.0</td>\n",
       "      <td>0.886230</td>\n",
       "      <td>3.0</td>\n",
       "      <td>13.0</td>\n",
       "      <td>19</td>\n",
       "      <td>16</td>\n",
       "      <td>0</td>\n",
       "      <td>0</td>\n",
       "      <td>0</td>\n",
       "      <td>0</td>\n",
       "      <td>...</td>\n",
       "      <td>0</td>\n",
       "      <td>0</td>\n",
       "      <td>0</td>\n",
       "      <td>0</td>\n",
       "      <td>0.0</td>\n",
       "      <td>0.0</td>\n",
       "      <td>0.0</td>\n",
       "      <td>0.0</td>\n",
       "      <td>8.0</td>\n",
       "      <td>1.0</td>\n",
       "    </tr>\n",
       "    <tr>\n",
       "      <th>3</th>\n",
       "      <td>33000.0</td>\n",
       "      <td>0.633455</td>\n",
       "      <td>2.0</td>\n",
       "      <td>17.0</td>\n",
       "      <td>14</td>\n",
       "      <td>20</td>\n",
       "      <td>0</td>\n",
       "      <td>0</td>\n",
       "      <td>0</td>\n",
       "      <td>0</td>\n",
       "      <td>...</td>\n",
       "      <td>0</td>\n",
       "      <td>0</td>\n",
       "      <td>0</td>\n",
       "      <td>0</td>\n",
       "      <td>0.0</td>\n",
       "      <td>0.0</td>\n",
       "      <td>0.0</td>\n",
       "      <td>0.0</td>\n",
       "      <td>0.0</td>\n",
       "      <td>1.0</td>\n",
       "    </tr>\n",
       "    <tr>\n",
       "      <th>4</th>\n",
       "      <td>52409.0</td>\n",
       "      <td>0.659524</td>\n",
       "      <td>4.0</td>\n",
       "      <td>12.0</td>\n",
       "      <td>20</td>\n",
       "      <td>8</td>\n",
       "      <td>0</td>\n",
       "      <td>0</td>\n",
       "      <td>0</td>\n",
       "      <td>0</td>\n",
       "      <td>...</td>\n",
       "      <td>0</td>\n",
       "      <td>0</td>\n",
       "      <td>0</td>\n",
       "      <td>0</td>\n",
       "      <td>0.0</td>\n",
       "      <td>0.0</td>\n",
       "      <td>0.0</td>\n",
       "      <td>0.0</td>\n",
       "      <td>0.0</td>\n",
       "      <td>1.0</td>\n",
       "    </tr>\n",
       "    <tr>\n",
       "      <th>...</th>\n",
       "      <td>...</td>\n",
       "      <td>...</td>\n",
       "      <td>...</td>\n",
       "      <td>...</td>\n",
       "      <td>...</td>\n",
       "      <td>...</td>\n",
       "      <td>...</td>\n",
       "      <td>...</td>\n",
       "      <td>...</td>\n",
       "      <td>...</td>\n",
       "      <td>...</td>\n",
       "      <td>...</td>\n",
       "      <td>...</td>\n",
       "      <td>...</td>\n",
       "      <td>...</td>\n",
       "      <td>...</td>\n",
       "      <td>...</td>\n",
       "      <td>...</td>\n",
       "      <td>...</td>\n",
       "      <td>...</td>\n",
       "      <td>...</td>\n",
       "    </tr>\n",
       "    <tr>\n",
       "      <th>11032</th>\n",
       "      <td>27244.0</td>\n",
       "      <td>0.991411</td>\n",
       "      <td>18.0</td>\n",
       "      <td>1.0</td>\n",
       "      <td>20</td>\n",
       "      <td>1</td>\n",
       "      <td>2</td>\n",
       "      <td>4</td>\n",
       "      <td>4</td>\n",
       "      <td>1</td>\n",
       "      <td>...</td>\n",
       "      <td>2</td>\n",
       "      <td>4</td>\n",
       "      <td>4</td>\n",
       "      <td>4</td>\n",
       "      <td>3.0</td>\n",
       "      <td>3.0</td>\n",
       "      <td>3.0</td>\n",
       "      <td>3.0</td>\n",
       "      <td>8.0</td>\n",
       "      <td>25.0</td>\n",
       "    </tr>\n",
       "    <tr>\n",
       "      <th>11033</th>\n",
       "      <td>32500.0</td>\n",
       "      <td>0.986492</td>\n",
       "      <td>13.0</td>\n",
       "      <td>4.0</td>\n",
       "      <td>5</td>\n",
       "      <td>6</td>\n",
       "      <td>1</td>\n",
       "      <td>2</td>\n",
       "      <td>1</td>\n",
       "      <td>0</td>\n",
       "      <td>...</td>\n",
       "      <td>1</td>\n",
       "      <td>1</td>\n",
       "      <td>4</td>\n",
       "      <td>4</td>\n",
       "      <td>8.0</td>\n",
       "      <td>6.0</td>\n",
       "      <td>8.0</td>\n",
       "      <td>6.0</td>\n",
       "      <td>7.0</td>\n",
       "      <td>25.0</td>\n",
       "    </tr>\n",
       "    <tr>\n",
       "      <th>11034</th>\n",
       "      <td>22546.0</td>\n",
       "      <td>0.000000</td>\n",
       "      <td>20.0</td>\n",
       "      <td>2.0</td>\n",
       "      <td>17</td>\n",
       "      <td>3</td>\n",
       "      <td>2</td>\n",
       "      <td>2</td>\n",
       "      <td>2</td>\n",
       "      <td>1</td>\n",
       "      <td>...</td>\n",
       "      <td>4</td>\n",
       "      <td>4</td>\n",
       "      <td>2</td>\n",
       "      <td>1</td>\n",
       "      <td>4.0</td>\n",
       "      <td>6.0</td>\n",
       "      <td>4.0</td>\n",
       "      <td>6.0</td>\n",
       "      <td>8.0</td>\n",
       "      <td>24.0</td>\n",
       "    </tr>\n",
       "    <tr>\n",
       "      <th>11035</th>\n",
       "      <td>62062.0</td>\n",
       "      <td>0.909607</td>\n",
       "      <td>7.0</td>\n",
       "      <td>8.0</td>\n",
       "      <td>7</td>\n",
       "      <td>13</td>\n",
       "      <td>1</td>\n",
       "      <td>1</td>\n",
       "      <td>4</td>\n",
       "      <td>0</td>\n",
       "      <td>...</td>\n",
       "      <td>4</td>\n",
       "      <td>4</td>\n",
       "      <td>4</td>\n",
       "      <td>0</td>\n",
       "      <td>10.0</td>\n",
       "      <td>2.0</td>\n",
       "      <td>10.0</td>\n",
       "      <td>2.0</td>\n",
       "      <td>11.0</td>\n",
       "      <td>24.0</td>\n",
       "    </tr>\n",
       "    <tr>\n",
       "      <th>11036</th>\n",
       "      <td>52409.0</td>\n",
       "      <td>0.996146</td>\n",
       "      <td>17.0</td>\n",
       "      <td>11.0</td>\n",
       "      <td>12</td>\n",
       "      <td>11</td>\n",
       "      <td>4</td>\n",
       "      <td>4</td>\n",
       "      <td>2</td>\n",
       "      <td>0</td>\n",
       "      <td>...</td>\n",
       "      <td>4</td>\n",
       "      <td>2</td>\n",
       "      <td>1</td>\n",
       "      <td>0</td>\n",
       "      <td>6.0</td>\n",
       "      <td>3.0</td>\n",
       "      <td>6.0</td>\n",
       "      <td>3.0</td>\n",
       "      <td>6.0</td>\n",
       "      <td>25.0</td>\n",
       "    </tr>\n",
       "  </tbody>\n",
       "</table>\n",
       "<p>11037 rows × 22 columns</p>\n",
       "</div>"
      ],
      "text/plain": [
       "            X1        X2    X3    X4  X5  X6  X7  X8  X9  X10  ...  X13  X14  \\\n",
       "0      41837.0  0.697684  10.0  22.0  11   4   0   0   0    0  ...    0    0   \n",
       "1      35016.0  0.581706   1.0  16.0  20  12   0   0   0    0  ...    0    0   \n",
       "2      13624.0  0.886230   3.0  13.0  19  16   0   0   0    0  ...    0    0   \n",
       "3      33000.0  0.633455   2.0  17.0  14  20   0   0   0    0  ...    0    0   \n",
       "4      52409.0  0.659524   4.0  12.0  20   8   0   0   0    0  ...    0    0   \n",
       "...        ...       ...   ...   ...  ..  ..  ..  ..  ..  ...  ...  ...  ...   \n",
       "11032  27244.0  0.991411  18.0   1.0  20   1   2   4   4    1  ...    2    4   \n",
       "11033  32500.0  0.986492  13.0   4.0   5   6   1   2   1    0  ...    1    1   \n",
       "11034  22546.0  0.000000  20.0   2.0  17   3   2   2   2    1  ...    4    4   \n",
       "11035  62062.0  0.909607   7.0   8.0   7  13   1   1   4    0  ...    4    4   \n",
       "11036  52409.0  0.996146  17.0  11.0  12  11   4   4   2    0  ...    4    2   \n",
       "\n",
       "       X15  X16   X17  X18   X19  X20   X21   X22  \n",
       "0        0    0   0.0  0.0   0.0  0.0   3.0   1.0  \n",
       "1        0    0   0.0  0.0   0.0  0.0   0.0   1.0  \n",
       "2        0    0   0.0  0.0   0.0  0.0   8.0   1.0  \n",
       "3        0    0   0.0  0.0   0.0  0.0   0.0   1.0  \n",
       "4        0    0   0.0  0.0   0.0  0.0   0.0   1.0  \n",
       "...    ...  ...   ...  ...   ...  ...   ...   ...  \n",
       "11032    4    4   3.0  3.0   3.0  3.0   8.0  25.0  \n",
       "11033    4    4   8.0  6.0   8.0  6.0   7.0  25.0  \n",
       "11034    2    1   4.0  6.0   4.0  6.0   8.0  24.0  \n",
       "11035    4    0  10.0  2.0  10.0  2.0  11.0  24.0  \n",
       "11036    1    0   6.0  3.0   6.0  3.0   6.0  25.0  \n",
       "\n",
       "[11037 rows x 22 columns]"
      ]
     },
     "execution_count": 6,
     "metadata": {},
     "output_type": "execute_result"
    }
   ],
   "source": [
    "features = data.iloc[:, 4:-1]\n",
    "features"
   ]
  },
  {
   "cell_type": "code",
   "execution_count": null,
   "metadata": {
    "cell_id": "4ffd636ab6e046a5845d1a3ec21b3d9e",
    "deepnote_cell_height": 456.71875,
    "deepnote_cell_type": "code",
    "deepnote_output_heights": [
     78.765625,
     249.984375
    ],
    "deepnote_to_be_reexecuted": false,
    "execution_millis": 259,
    "execution_start": 1651163227625,
    "source_hash": "3e238987",
    "tags": []
   },
   "outputs": [
    {
     "data": {
      "text/plain": [
       "(array([ 6., 15., 15.,  9.,  2.,  4.,  3.,  1.,  1.,  1.]),\n",
       " array([11464. , 19317.6, 27171.2, 35024.8, 42878.4, 50732. , 58585.6,\n",
       "        66439.2, 74292.8, 82146.4, 90000. ]),\n",
       " <BarContainer object of 10 artists>)"
      ]
     },
     "execution_count": 7,
     "metadata": {},
     "output_type": "execute_result"
    },
    {
     "data": {
      "image/png": "[encoded data removed]",
      "text/plain": [
       "<Figure size 432x288 with 1 Axes>"
      ]
     },
     "metadata": {
      "image/png": {
       "height": 248,
       "width": 369
      },
      "needs_background": "light"
     },
     "output_type": "display_data"
    }
   ],
   "source": [
    "plt.hist(data['X1'].unique(), )"
   ]
  },
  {
   "cell_type": "code",
   "execution_count": null,
   "metadata": {
    "cell_id": "99e0bf67d3c34bcc87eca1e17e36db38",
    "deepnote_cell_height": 399.140625,
    "deepnote_cell_type": "code",
    "deepnote_output_heights": [
     21.1875,
     249.984375
    ],
    "deepnote_to_be_reexecuted": false,
    "execution_millis": 250,
    "execution_start": 1651163227885,
    "source_hash": "f4a8d66b",
    "tags": []
   },
   "outputs": [
    {
     "data": {
      "text/plain": [
       "[<matplotlib.lines.Line2D at 0x7fde32c80a90>]"
      ]
     },
     "execution_count": 8,
     "metadata": {},
     "output_type": "execute_result"
    },
    {
     "data": {
      "image/png": "[encoded data removed]",
      "text/plain": [
       "<Figure size 432x288 with 1 Axes>"
      ]
     },
     "metadata": {
      "image/png": {
       "height": 248,
       "width": 372
      },
      "needs_background": "light"
     },
     "output_type": "display_data"
    }
   ],
   "source": [
    "plt.plot(features.index, features['X2'], '.')"
   ]
  },
  {
   "cell_type": "code",
   "execution_count": null,
   "metadata": {
    "cell_id": "8ed3b76dc1b2484ba7f28528c798b65c",
    "deepnote_cell_height": 572.890625,
    "deepnote_cell_type": "code",
    "deepnote_output_heights": [
     null,
     279.984375
    ],
    "deepnote_to_be_reexecuted": false,
    "execution_millis": 488,
    "execution_start": 1651163228137,
    "source_hash": "cbf6c1bb",
    "tags": []
   },
   "outputs": [
    {
     "name": "stderr",
     "output_type": "stream",
     "text": [
      "/shared-libs/python3.7/py/lib/python3.7/site-packages/seaborn/distributions.py:2619: FutureWarning: `distplot` is a deprecated function and will be removed in a future version. Please adapt your code to use either `displot` (a figure-level function with similar flexibility) or `histplot` (an axes-level function for histograms).\n",
      "  warnings.warn(msg, FutureWarning)\n"
     ]
    },
    {
     "data": {
      "image/png": "[encoded data removed]",
      "text/plain": [
       "<Figure size 432x288 with 1 Axes>"
      ]
     },
     "metadata": {
      "image/png": {
       "height": 278,
       "width": 401
      },
      "needs_background": "light"
     },
     "output_type": "display_data"
    }
   ],
   "source": [
    "# plt.hist(features['X2'], bins=30)\n",
    "# sns.kdeplot(features['X2'])\n",
    "dd = features[features['X2']<1]\n",
    "sns.distplot(dd['X2']*100)\n",
    "plt.xlim(0,100)\n",
    "plt.xlabel('Home attendance percentage')\n",
    "plt.title('Distribution')\n",
    "sns.despine()"
   ]
  },
  {
   "cell_type": "code",
   "execution_count": null,
   "metadata": {
    "cell_id": "975546be634748f0b7ce996e41b06a9a",
    "deepnote_cell_height": 518.890625,
    "deepnote_cell_type": "code",
    "deepnote_output_heights": [
     null,
     279.984375
    ],
    "deepnote_to_be_reexecuted": false,
    "execution_millis": 481,
    "execution_start": 1651163228629,
    "source_hash": "1bbcbff3",
    "tags": []
   },
   "outputs": [
    {
     "name": "stderr",
     "output_type": "stream",
     "text": [
      "/shared-libs/python3.7/py/lib/python3.7/site-packages/seaborn/distributions.py:2619: FutureWarning: `distplot` is a deprecated function and will be removed in a future version. Please adapt your code to use either `displot` (a figure-level function with similar flexibility) or `histplot` (an axes-level function for histograms).\n",
      "  warnings.warn(msg, FutureWarning)\n"
     ]
    },
    {
     "data": {
      "image/png": "[encoded data removed]",
      "text/plain": [
       "<Figure size 432x288 with 1 Axes>"
      ]
     },
     "metadata": {
      "image/png": {
       "height": 278,
       "width": 391
      },
      "needs_background": "light"
     },
     "output_type": "display_data"
    }
   ],
   "source": [
    "sns.distplot(features['X1'])\n",
    "# plt.xlim(0,0.99)\n",
    "plt.xlabel('Stadium capacity')\n",
    "plt.title('Distribution')\n",
    "sns.despine()"
   ]
  },
  {
   "cell_type": "code",
   "execution_count": null,
   "metadata": {
    "cell_id": "e37064726d314b569323fd10af698557",
    "deepnote_cell_height": 414.953125,
    "deepnote_cell_type": "code",
    "deepnote_output_heights": [
     263.984375
    ],
    "deepnote_to_be_reexecuted": false,
    "execution_millis": 729,
    "execution_start": 1651163229108,
    "source_hash": "5299f66e",
    "tags": []
   },
   "outputs": [
    {
     "data": {
      "image/png": "[encoded data removed]",
      "text/plain": [
       "<Figure size 432x288 with 1 Axes>"
      ]
     },
     "metadata": {
      "image/png": {
       "height": 262,
       "width": 352
      },
      "needs_background": "light"
     },
     "output_type": "display_data"
    }
   ],
   "source": [
    "sns.boxplot(x='X2', data=data)\n",
    "sns.despine()\n",
    "# plt.title('Boxplot')\n"
   ]
  },
  {
   "cell_type": "code",
   "execution_count": null,
   "metadata": {
    "cell_id": "165bd925af7846ddb66a7f331e10f3ee",
    "deepnote_cell_height": 613.390625,
    "deepnote_cell_type": "code",
    "deepnote_output_heights": [
     null,
     298.984375
    ],
    "deepnote_to_be_reexecuted": false,
    "execution_millis": 464,
    "execution_start": 1651169369674,
    "source_hash": "942a545c",
    "tags": []
   },
   "outputs": [
    {
     "name": "stderr",
     "output_type": "stream",
     "text": [
      "/shared-libs/python3.7/py/lib/python3.7/site-packages/seaborn/_decorators.py:43: FutureWarning: Pass the following variable as a keyword arg: x. From version 0.12, the only valid positional argument will be `data`, and passing other arguments without an explicit keyword will result in an error or misinterpretation.\n",
      "  FutureWarning\n",
      "/shared-libs/python3.7/py/lib/python3.7/site-packages/seaborn/distributions.py:2619: FutureWarning: `distplot` is a deprecated function and will be removed in a future version. Please adapt your code to use either `displot` (a figure-level function with similar flexibility) or `histplot` (an axes-level function for histograms).\n",
      "  warnings.warn(msg, FutureWarning)\n"
     ]
    },
    {
     "data": {
      "image/png": "[encoded data removed]",
      "text/plain": [
       "<Figure size 432x288 with 2 Axes>"
      ]
     },
     "metadata": {
      "image/png": {
       "height": 297,
       "width": 382
      }
     },
     "output_type": "display_data"
    }
   ],
   "source": [
    "f, (ax_box, ax_hist) = plt.subplots(2, sharex=True, gridspec_kw={\"height_ratios\": (.15, .85)})\n",
    "f.suptitle('Distribution')\n",
    "sns.boxplot(data['X2'], ax=ax_box)\n",
    "sns.distplot(data['X2'], ax=ax_hist)\n",
    "ax_box.set(yticks=[])\n",
    "sns.despine(ax=ax_hist)\n",
    "sns.despine(ax=ax_box, left=True)"
   ]
  },
  {
   "cell_type": "code",
   "execution_count": null,
   "metadata": {
    "cell_id": "5ee454d361f5475b862d50d3e57ff4a8",
    "deepnote_cell_height": 1265.96875,
    "deepnote_cell_type": "code",
    "deepnote_output_heights": [
     611
    ],
    "deepnote_to_be_reexecuted": false,
    "execution_millis": 4207,
    "execution_start": 1651163719619,
    "source_hash": "ba61fc2f",
    "tags": []
   },
   "outputs": [
    {
     "data": {
      "image/png": "[encoded data removed]",
      "text/plain": [
       "<Figure size 1224x2304 with 42 Axes>"
      ]
     },
     "metadata": {
      "image/png": {
       "height": 1836,
       "width": 1000
      }
     },
     "output_type": "display_data"
    }
   ],
   "source": [
    "# from matplotlib.ticker import MaxNLocator\n",
    "# ax.xaxis.set_major_locator(MaxNLocator(integer=True))\n",
    "# for key, v in features.items():\n",
    "#     sns.histplot(v)\n",
    "#     sns.despine()\n",
    "#     plt.show()\n",
    "\n",
    "import matplotlib.gridspec as gridspec\n",
    "\n",
    "others = [features.columns[0], *features.columns[2:]]\n",
    "\n",
    "\n",
    "fig = plt.figure(figsize=(17,32))\n",
    "fig.suptitle('X1, X3-X22 Features distribution', y=.9)\n",
    "outer = gridspec.GridSpec(7,3, wspace=0.2, hspace=0.2)\n",
    "for i, name in enumerate(others):\n",
    "    inner = gridspec.GridSpecFromSubplotSpec(2, 1,\n",
    "                    subplot_spec=outer[i], wspace=0.1, hspace=0.1, height_ratios=[.15,.85])\n",
    "\n",
    "    for j in range(2):\n",
    "        ax = plt.Subplot(fig, inner[j])\n",
    "        if j == 0:\n",
    "            sns.boxplot(x=features[name], ax=ax)\n",
    "        else:\n",
    "            ax.hist(features[name])\n",
    "            # sns.histplot(x=features[name], ax=ax)\n",
    "            ax.set_xlabel(name, y=0.1)\n",
    "\n",
    "        fig.add_subplot(ax)\n",
    "\n",
    "        sns.despine()\n",
    "    "
   ]
  },
  {
   "cell_type": "code",
   "execution_count": null,
   "metadata": {
    "cell_id": "3a1df558b1ee4455989837545e993117",
    "deepnote_cell_height": 610.953125,
    "deepnote_cell_type": "code",
    "deepnote_output_heights": [
     279.984375
    ],
    "deepnote_to_be_reexecuted": false,
    "execution_millis": 217,
    "execution_start": 1651159163129,
    "source_hash": "9eaa371d",
    "tags": []
   },
   "outputs": [
    {
     "data": {
      "image/png": "[encoded data removed]",
      "text/plain": [
       "<Figure size 432x288 with 1 Axes>"
      ]
     },
     "metadata": {
      "image/png": {
       "height": 278,
       "width": 389
      },
      "needs_background": "light"
     },
     "output_type": "display_data"
    }
   ],
   "source": [
    "import datetime\n",
    "temp = data.copy()\n",
    "temp['date'] = pd.to_datetime(data['Date'])\n",
    "# temp[]\n",
    "ddd = temp.groupby('Season').mean()\n",
    "ddd.reset_index(inplace=True)\n",
    "# plt.plot(ddd['date'], ddd['X2'])\n",
    "# sns.lineplot('date', 'X2', data=ddd)\n",
    "plt.bar(np.arange(1993, 1993+len(ddd)), ddd['X2']*100)\n",
    "plt.title('Home attendance percentage')\n",
    "plt.ylabel('Percentage')\n",
    "plt.xlabel('Year')\n",
    "plt.xlim(1993,2021)\n",
    "sns.despine()"
   ]
  },
  {
   "cell_type": "code",
   "execution_count": null,
   "metadata": {
    "cell_id": "304603f750814da2a0a263cbec3c1b40",
    "deepnote_cell_height": 646.953125,
    "deepnote_cell_type": "code",
    "deepnote_output_heights": [
     279.984375
    ],
    "deepnote_to_be_reexecuted": false,
    "execution_millis": 746,
    "execution_start": 1651354324990,
    "source_hash": "59487fa8",
    "tags": []
   },
   "outputs": [
    {
     "data": {
      "image/png": "[encoded data removed]",
      "text/plain": [
       "<Figure size 432x288 with 1 Axes>"
      ]
     },
     "metadata": {
      "image/png": {
       "height": 278,
       "width": 393
      },
      "needs_background": "light"
     },
     "output_type": "display_data"
    }
   ],
   "source": [
    "# plt.plot(ddd['Y'])\n",
    "import pandas as pd\n",
    "import matplotlib.pyplot as plt\n",
    "import numpy as np\n",
    "import seaborn as sns\n",
    "temp = pd.read_csv('/home/jovyan/work/demonstration/datasets/final.csv')\n",
    "import datetime\n",
    "temp['date'] = pd.to_datetime(data['Date'])\n",
    "ddd = temp.groupby('Season').mean()\n",
    "\n",
    "plt.plot(np.arange(1993, 1993+len(ddd)), ddd['Y']*100)\n",
    "plt.title('Unbeaten percentage')\n",
    "plt.ylabel('Percentage')\n",
    "plt.xlabel('Year')\n",
    "plt.xlim(1993,2021)\n",
    "sns.despine()"
   ]
  },
  {
   "cell_type": "code",
   "execution_count": null,
   "metadata": {
    "cell_id": "5d06e2c30430401e89ce3c9183050e0c",
    "deepnote_cell_height": 271.953125,
    "deepnote_cell_type": "code",
    "deepnote_to_be_reexecuted": false,
    "execution_millis": 51,
    "execution_start": 1651159163549,
    "source_hash": "5a5f374a",
    "tags": []
   },
   "outputs": [
    {
     "data": {
      "application/vnd.deepnote.dataframe.v3+json": {
       "column_count": 27,
       "columns": [
        {
         "dtype": "object",
         "name": "HomeTeam",
         "stats": {
          "categories": [
           {
            "count": 1,
            "name": "middlesbrough-fc"
           },
           {
            "count": 1,
            "name": "charlton-athletic"
           }
          ],
          "nan_count": 0,
          "unique_count": 2
         }
        },
        {
         "dtype": "object",
         "name": "AwayTeam",
         "stats": {
          "categories": [
           {
            "count": 1,
            "name": "liverpool-fc"
           },
           {
            "count": 1,
            "name": "chelsea-fc"
           }
          ],
          "nan_count": 0,
          "unique_count": 2
         }
        },
        {
         "dtype": "object",
         "name": "Date",
         "stats": {
          "categories": [
           {
            "count": 1,
            "name": "2003/11/22"
           },
           {
            "count": 1,
            "name": "2004/11/27"
           }
          ],
          "nan_count": 0,
          "unique_count": 2
         }
        },
        {
         "dtype": "object",
         "name": "Season",
         "stats": {
          "categories": [
           {
            "count": 1,
            "name": "2003-2004"
           },
           {
            "count": 1,
            "name": "2004-2005"
           }
          ],
          "nan_count": 0,
          "unique_count": 2
         }
        },
        {
         "dtype": "float64",
         "name": "X1",
         "stats": {
          "histogram": [
           {
            "bin_end": 27909.9,
            "bin_start": 27111,
            "count": 1
           },
           {
            "bin_end": 28708.8,
            "bin_start": 27909.9,
            "count": 0
           },
           {
            "bin_end": 29507.7,
            "bin_start": 28708.8,
            "count": 0
           },
           {
            "bin_end": 30306.6,
            "bin_start": 29507.7,
            "count": 0
           },
           {
            "bin_end": 31105.5,
            "bin_start": 30306.6,
            "count": 0
           },
           {
            "bin_end": 31904.4,
            "bin_start": 31105.5,
            "count": 0
           },
           {
            "bin_end": 32703.3,
            "bin_start": 31904.4,
            "count": 0
           },
           {
            "bin_end": 33502.2,
            "bin_start": 32703.3,
            "count": 0
           },
           {
            "bin_end": 34301.1,
            "bin_start": 33502.2,
            "count": 0
           },
           {
            "bin_end": 35100,
            "bin_start": 34301.1,
            "count": 1
           }
          ],
          "max": "35100.0",
          "min": "27111.0",
          "nan_count": 0,
          "unique_count": 2
         }
        },
        {
         "dtype": "float64",
         "name": "X2",
         "stats": {
          "histogram": [
           {
            "bin_end": 1.2770819729084641,
            "bin_start": 1.2756814577108924,
            "count": 1
           },
           {
            "bin_end": 1.278482488106036,
            "bin_start": 1.2770819729084641,
            "count": 0
           },
           {
            "bin_end": 1.2798830033036075,
            "bin_start": 1.278482488106036,
            "count": 0
           },
           {
            "bin_end": 1.2812835185011793,
            "bin_start": 1.2798830033036075,
            "count": 0
           },
           {
            "bin_end": 1.282684033698751,
            "bin_start": 1.2812835185011793,
            "count": 0
           },
           {
            "bin_end": 1.2840845488963228,
            "bin_start": 1.282684033698751,
            "count": 0
           },
           {
            "bin_end": 1.2854850640938946,
            "bin_start": 1.2840845488963228,
            "count": 0
           },
           {
            "bin_end": 1.2868855792914662,
            "bin_start": 1.2854850640938946,
            "count": 0
           },
           {
            "bin_end": 1.288286094489038,
            "bin_start": 1.2868855792914662,
            "count": 0
           },
           {
            "bin_end": 1.2896866096866098,
            "bin_start": 1.288286094489038,
            "count": 1
           }
          ],
          "max": "1.2896866096866098",
          "min": "1.2756814577108924",
          "nan_count": 0,
          "unique_count": 2
         }
        },
        {
         "dtype": "float64",
         "name": "X3",
         "stats": {
          "histogram": [
           {
            "bin_end": 10.2,
            "bin_start": 10,
            "count": 1
           },
           {
            "bin_end": 10.4,
            "bin_start": 10.2,
            "count": 0
           },
           {
            "bin_end": 10.6,
            "bin_start": 10.4,
            "count": 0
           },
           {
            "bin_end": 10.8,
            "bin_start": 10.6,
            "count": 0
           },
           {
            "bin_end": 11,
            "bin_start": 10.8,
            "count": 0
           },
           {
            "bin_end": 11.2,
            "bin_start": 11,
            "count": 0
           },
           {
            "bin_end": 11.4,
            "bin_start": 11.2,
            "count": 0
           },
           {
            "bin_end": 11.6,
            "bin_start": 11.4,
            "count": 0
           },
           {
            "bin_end": 11.8,
            "bin_start": 11.6,
            "count": 0
           },
           {
            "bin_end": 12,
            "bin_start": 11.8,
            "count": 1
           }
          ],
          "max": "12.0",
          "min": "10.0",
          "nan_count": 0,
          "unique_count": 2
         }
        },
        {
         "dtype": "float64",
         "name": "X4",
         "stats": {
          "histogram": [
           {
            "bin_end": 1.7,
            "bin_start": 1,
            "count": 1
           },
           {
            "bin_end": 2.4,
            "bin_start": 1.7,
            "count": 0
           },
           {
            "bin_end": 3.0999999999999996,
            "bin_start": 2.4,
            "count": 0
           },
           {
            "bin_end": 3.8,
            "bin_start": 3.0999999999999996,
            "count": 0
           },
           {
            "bin_end": 4.5,
            "bin_start": 3.8,
            "count": 0
           },
           {
            "bin_end": 5.199999999999999,
            "bin_start": 4.5,
            "count": 0
           },
           {
            "bin_end": 5.8999999999999995,
            "bin_start": 5.199999999999999,
            "count": 0
           },
           {
            "bin_end": 6.6,
            "bin_start": 5.8999999999999995,
            "count": 0
           },
           {
            "bin_end": 7.3,
            "bin_start": 6.6,
            "count": 0
           },
           {
            "bin_end": 8,
            "bin_start": 7.3,
            "count": 1
           }
          ],
          "max": "8.0",
          "min": "1.0",
          "nan_count": 0,
          "unique_count": 2
         }
        },
        {
         "dtype": "int64",
         "name": "X5",
         "stats": {
          "histogram": [
           {
            "bin_end": 7.4,
            "bin_start": 7,
            "count": 1
           },
           {
            "bin_end": 7.8,
            "bin_start": 7.4,
            "count": 0
           },
           {
            "bin_end": 8.2,
            "bin_start": 7.8,
            "count": 0
           },
           {
            "bin_end": 8.6,
            "bin_start": 8.2,
            "count": 0
           },
           {
            "bin_end": 9,
            "bin_start": 8.6,
            "count": 0
           },
           {
            "bin_end": 9.4,
            "bin_start": 9,
            "count": 0
           },
           {
            "bin_end": 9.8,
            "bin_start": 9.4,
            "count": 0
           },
           {
            "bin_end": 10.2,
            "bin_start": 9.8,
            "count": 0
           },
           {
            "bin_end": 10.6,
            "bin_start": 10.2,
            "count": 0
           },
           {
            "bin_end": 11,
            "bin_start": 10.6,
            "count": 1
           }
          ],
          "max": "11",
          "min": "7",
          "nan_count": 0,
          "unique_count": 2
         }
        },
        {
         "dtype": "int64",
         "name": "X6",
         "stats": {
          "histogram": [
           {
            "bin_end": 2.3,
            "bin_start": 2,
            "count": 1
           },
           {
            "bin_end": 2.6,
            "bin_start": 2.3,
            "count": 0
           },
           {
            "bin_end": 2.9,
            "bin_start": 2.6,
            "count": 0
           },
           {
            "bin_end": 3.2,
            "bin_start": 2.9,
            "count": 0
           },
           {
            "bin_end": 3.5,
            "bin_start": 3.2,
            "count": 0
           },
           {
            "bin_end": 3.8,
            "bin_start": 3.5,
            "count": 0
           },
           {
            "bin_end": 4.1,
            "bin_start": 3.8,
            "count": 0
           },
           {
            "bin_end": 4.4,
            "bin_start": 4.1,
            "count": 0
           },
           {
            "bin_end": 4.699999999999999,
            "bin_start": 4.4,
            "count": 0
           },
           {
            "bin_end": 5,
            "bin_start": 4.699999999999999,
            "count": 1
           }
          ],
          "max": "5",
          "min": "2",
          "nan_count": 0,
          "unique_count": 2
         }
        },
        {
         "dtype": "int64",
         "name": "X7",
         "stats": {
          "histogram": [
           {
            "bin_end": 1.3,
            "bin_start": 1,
            "count": 1
           },
           {
            "bin_end": 1.6,
            "bin_start": 1.3,
            "count": 0
           },
           {
            "bin_end": 1.9,
            "bin_start": 1.6,
            "count": 0
           },
           {
            "bin_end": 2.2,
            "bin_start": 1.9,
            "count": 0
           },
           {
            "bin_end": 2.5,
            "bin_start": 2.2,
            "count": 0
           },
           {
            "bin_end": 2.8,
            "bin_start": 2.5,
            "count": 0
           },
           {
            "bin_end": 3.1,
            "bin_start": 2.8,
            "count": 0
           },
           {
            "bin_end": 3.4,
            "bin_start": 3.1,
            "count": 0
           },
           {
            "bin_end": 3.6999999999999997,
            "bin_start": 3.4,
            "count": 0
           },
           {
            "bin_end": 4,
            "bin_start": 3.6999999999999997,
            "count": 1
           }
          ],
          "max": "4",
          "min": "1",
          "nan_count": 0,
          "unique_count": 2
         }
        },
        {
         "dtype": "int64",
         "name": "X8",
         "stats": {
          "histogram": [
           {
            "bin_end": 3.6,
            "bin_start": 3.5,
            "count": 0
           },
           {
            "bin_end": 3.7,
            "bin_start": 3.6,
            "count": 0
           },
           {
            "bin_end": 3.8,
            "bin_start": 3.7,
            "count": 0
           },
           {
            "bin_end": 3.9,
            "bin_start": 3.8,
            "count": 0
           },
           {
            "bin_end": 4,
            "bin_start": 3.9,
            "count": 0
           },
           {
            "bin_end": 4.1,
            "bin_start": 4,
            "count": 2
           },
           {
            "bin_end": 4.2,
            "bin_start": 4.1,
            "count": 0
           },
           {
            "bin_end": 4.3,
            "bin_start": 4.2,
            "count": 0
           },
           {
            "bin_end": 4.4,
            "bin_start": 4.3,
            "count": 0
           },
           {
            "bin_end": 4.5,
            "bin_start": 4.4,
            "count": 0
           }
          ],
          "max": "4",
          "min": "4",
          "nan_count": 0,
          "unique_count": 1
         }
        },
        {
         "dtype": "int64",
         "name": "X9",
         "stats": {
          "histogram": [
           {
            "bin_end": 2.2,
            "bin_start": 2,
            "count": 1
           },
           {
            "bin_end": 2.4,
            "bin_start": 2.2,
            "count": 0
           },
           {
            "bin_end": 2.6,
            "bin_start": 2.4,
            "count": 0
           },
           {
            "bin_end": 2.8,
            "bin_start": 2.6,
            "count": 0
           },
           {
            "bin_end": 3,
            "bin_start": 2.8,
            "count": 0
           },
           {
            "bin_end": 3.2,
            "bin_start": 3,
            "count": 0
           },
           {
            "bin_end": 3.4000000000000004,
            "bin_start": 3.2,
            "count": 0
           },
           {
            "bin_end": 3.6,
            "bin_start": 3.4000000000000004,
            "count": 0
           },
           {
            "bin_end": 3.8,
            "bin_start": 3.6,
            "count": 0
           },
           {
            "bin_end": 4,
            "bin_start": 3.8,
            "count": 1
           }
          ],
          "max": "4",
          "min": "2",
          "nan_count": 0,
          "unique_count": 2
         }
        },
        {
         "dtype": "int64",
         "name": "X10",
         "stats": {
          "histogram": [
           {
            "bin_end": 0.6,
            "bin_start": 0.5,
            "count": 0
           },
           {
            "bin_end": 0.7,
            "bin_start": 0.6,
            "count": 0
           },
           {
            "bin_end": 0.8,
            "bin_start": 0.7,
            "count": 0
           },
           {
            "bin_end": 0.9,
            "bin_start": 0.8,
            "count": 0
           },
           {
            "bin_end": 1,
            "bin_start": 0.9,
            "count": 0
           },
           {
            "bin_end": 1.1,
            "bin_start": 1,
            "count": 2
           },
           {
            "bin_end": 1.2000000000000002,
            "bin_start": 1.1,
            "count": 0
           },
           {
            "bin_end": 1.3,
            "bin_start": 1.2000000000000002,
            "count": 0
           },
           {
            "bin_end": 1.4,
            "bin_start": 1.3,
            "count": 0
           },
           {
            "bin_end": 1.5,
            "bin_start": 1.4,
            "count": 0
           }
          ],
          "max": "1",
          "min": "1",
          "nan_count": 0,
          "unique_count": 1
         }
        },
        {
         "dtype": "int64",
         "name": "X11",
         "stats": {
          "histogram": [
           {
            "bin_end": 0.6,
            "bin_start": 0.5,
            "count": 0
           },
           {
            "bin_end": 0.7,
            "bin_start": 0.6,
            "count": 0
           },
           {
            "bin_end": 0.8,
            "bin_start": 0.7,
            "count": 0
           },
           {
            "bin_end": 0.9,
            "bin_start": 0.8,
            "count": 0
           },
           {
            "bin_end": 1,
            "bin_start": 0.9,
            "count": 0
           },
           {
            "bin_end": 1.1,
            "bin_start": 1,
            "count": 2
           },
           {
            "bin_end": 1.2000000000000002,
            "bin_start": 1.1,
            "count": 0
           },
           {
            "bin_end": 1.3,
            "bin_start": 1.2000000000000002,
            "count": 0
           },
           {
            "bin_end": 1.4,
            "bin_start": 1.3,
            "count": 0
           },
           {
            "bin_end": 1.5,
            "bin_start": 1.4,
            "count": 0
           }
          ],
          "max": "1",
          "min": "1",
          "nan_count": 0,
          "unique_count": 1
         }
        },
        {
         "dtype": "int64",
         "name": "X12",
         "stats": {
          "histogram": [
           {
            "bin_end": 1.1,
            "bin_start": 1,
            "count": 1
           },
           {
            "bin_end": 1.2,
            "bin_start": 1.1,
            "count": 0
           },
           {
            "bin_end": 1.3,
            "bin_start": 1.2,
            "count": 0
           },
           {
            "bin_end": 1.4,
            "bin_start": 1.3,
            "count": 0
           },
           {
            "bin_end": 1.5,
            "bin_start": 1.4,
            "count": 0
           },
           {
            "bin_end": 1.6,
            "bin_start": 1.5,
            "count": 0
           },
           {
            "bin_end": 1.7000000000000002,
            "bin_start": 1.6,
            "count": 0
           },
           {
            "bin_end": 1.8,
            "bin_start": 1.7000000000000002,
            "count": 0
           },
           {
            "bin_end": 1.9,
            "bin_start": 1.8,
            "count": 0
           },
           {
            "bin_end": 2,
            "bin_start": 1.9,
            "count": 1
           }
          ],
          "max": "2",
          "min": "1",
          "nan_count": 0,
          "unique_count": 2
         }
        },
        {
         "dtype": "int64",
         "name": "X13",
         "stats": {
          "histogram": [
           {
            "bin_end": 3.6,
            "bin_start": 3.5,
            "count": 0
           },
           {
            "bin_end": 3.7,
            "bin_start": 3.6,
            "count": 0
           },
           {
            "bin_end": 3.8,
            "bin_start": 3.7,
            "count": 0
           },
           {
            "bin_end": 3.9,
            "bin_start": 3.8,
            "count": 0
           },
           {
            "bin_end": 4,
            "bin_start": 3.9,
            "count": 0
           },
           {
            "bin_end": 4.1,
            "bin_start": 4,
            "count": 2
           },
           {
            "bin_end": 4.2,
            "bin_start": 4.1,
            "count": 0
           },
           {
            "bin_end": 4.3,
            "bin_start": 4.2,
            "count": 0
           },
           {
            "bin_end": 4.4,
            "bin_start": 4.3,
            "count": 0
           },
           {
            "bin_end": 4.5,
            "bin_start": 4.4,
            "count": 0
           }
          ],
          "max": "4",
          "min": "4",
          "nan_count": 0,
          "unique_count": 1
         }
        },
        {
         "dtype": "int64",
         "name": "X14",
         "stats": {
          "histogram": [
           {
            "bin_end": 3.6,
            "bin_start": 3.5,
            "count": 0
           },
           {
            "bin_end": 3.7,
            "bin_start": 3.6,
            "count": 0
           },
           {
            "bin_end": 3.8,
            "bin_start": 3.7,
            "count": 0
           },
           {
            "bin_end": 3.9,
            "bin_start": 3.8,
            "count": 0
           },
           {
            "bin_end": 4,
            "bin_start": 3.9,
            "count": 0
           },
           {
            "bin_end": 4.1,
            "bin_start": 4,
            "count": 2
           },
           {
            "bin_end": 4.2,
            "bin_start": 4.1,
            "count": 0
           },
           {
            "bin_end": 4.3,
            "bin_start": 4.2,
            "count": 0
           },
           {
            "bin_end": 4.4,
            "bin_start": 4.3,
            "count": 0
           },
           {
            "bin_end": 4.5,
            "bin_start": 4.4,
            "count": 0
           }
          ],
          "max": "4",
          "min": "4",
          "nan_count": 0,
          "unique_count": 1
         }
        },
        {
         "dtype": "int64",
         "name": "X15",
         "stats": {
          "histogram": [
           {
            "bin_end": 1.3,
            "bin_start": 1,
            "count": 1
           },
           {
            "bin_end": 1.6,
            "bin_start": 1.3,
            "count": 0
           },
           {
            "bin_end": 1.9,
            "bin_start": 1.6,
            "count": 0
           },
           {
            "bin_end": 2.2,
            "bin_start": 1.9,
            "count": 0
           },
           {
            "bin_end": 2.5,
            "bin_start": 2.2,
            "count": 0
           },
           {
            "bin_end": 2.8,
            "bin_start": 2.5,
            "count": 0
           },
           {
            "bin_end": 3.1,
            "bin_start": 2.8,
            "count": 0
           },
           {
            "bin_end": 3.4,
            "bin_start": 3.1,
            "count": 0
           },
           {
            "bin_end": 3.6999999999999997,
            "bin_start": 3.4,
            "count": 0
           },
           {
            "bin_end": 4,
            "bin_start": 3.6999999999999997,
            "count": 1
           }
          ],
          "max": "4",
          "min": "1",
          "nan_count": 0,
          "unique_count": 2
         }
        },
        {
         "dtype": "int64",
         "name": "X16",
         "stats": {
          "histogram": [
           {
            "bin_end": 1.3,
            "bin_start": 1,
            "count": 1
           },
           {
            "bin_end": 1.6,
            "bin_start": 1.3,
            "count": 0
           },
           {
            "bin_end": 1.9,
            "bin_start": 1.6,
            "count": 0
           },
           {
            "bin_end": 2.2,
            "bin_start": 1.9,
            "count": 0
           },
           {
            "bin_end": 2.5,
            "bin_start": 2.2,
            "count": 0
           },
           {
            "bin_end": 2.8,
            "bin_start": 2.5,
            "count": 0
           },
           {
            "bin_end": 3.1,
            "bin_start": 2.8,
            "count": 0
           },
           {
            "bin_end": 3.4,
            "bin_start": 3.1,
            "count": 0
           },
           {
            "bin_end": 3.6999999999999997,
            "bin_start": 3.4,
            "count": 0
           },
           {
            "bin_end": 4,
            "bin_start": 3.6999999999999997,
            "count": 1
           }
          ],
          "max": "4",
          "min": "1",
          "nan_count": 0,
          "unique_count": 2
         }
        },
        {
         "dtype": "float64",
         "name": "X17",
         "stats": {
          "histogram": [
           {
            "bin_end": 6.1,
            "bin_start": 6,
            "count": 1
           },
           {
            "bin_end": 6.2,
            "bin_start": 6.1,
            "count": 0
           },
           {
            "bin_end": 6.3,
            "bin_start": 6.2,
            "count": 0
           },
           {
            "bin_end": 6.4,
            "bin_start": 6.3,
            "count": 0
           },
           {
            "bin_end": 6.5,
            "bin_start": 6.4,
            "count": 0
           },
           {
            "bin_end": 6.6,
            "bin_start": 6.5,
            "count": 0
           },
           {
            "bin_end": 6.7,
            "bin_start": 6.6,
            "count": 0
           },
           {
            "bin_end": 6.8,
            "bin_start": 6.7,
            "count": 0
           },
           {
            "bin_end": 6.9,
            "bin_start": 6.8,
            "count": 0
           },
           {
            "bin_end": 7,
            "bin_start": 6.9,
            "count": 1
           }
          ],
          "max": "7.0",
          "min": "6.0",
          "nan_count": 0,
          "unique_count": 2
         }
        },
        {
         "dtype": "float64",
         "name": "X18",
         "stats": {
          "histogram": [
           {
            "bin_end": 3.3,
            "bin_start": 3,
            "count": 1
           },
           {
            "bin_end": 3.6,
            "bin_start": 3.3,
            "count": 0
           },
           {
            "bin_end": 3.9,
            "bin_start": 3.6,
            "count": 0
           },
           {
            "bin_end": 4.2,
            "bin_start": 3.9,
            "count": 0
           },
           {
            "bin_end": 4.5,
            "bin_start": 4.2,
            "count": 0
           },
           {
            "bin_end": 4.8,
            "bin_start": 4.5,
            "count": 0
           },
           {
            "bin_end": 5.1,
            "bin_start": 4.8,
            "count": 0
           },
           {
            "bin_end": 5.4,
            "bin_start": 5.1,
            "count": 0
           },
           {
            "bin_end": 5.699999999999999,
            "bin_start": 5.4,
            "count": 0
           },
           {
            "bin_end": 6,
            "bin_start": 5.699999999999999,
            "count": 1
           }
          ],
          "max": "6.0",
          "min": "3.0",
          "nan_count": 0,
          "unique_count": 2
         }
        },
        {
         "dtype": "float64",
         "name": "X19",
         "stats": {
          "histogram": [
           {
            "bin_end": 6.1,
            "bin_start": 6,
            "count": 1
           },
           {
            "bin_end": 6.2,
            "bin_start": 6.1,
            "count": 0
           },
           {
            "bin_end": 6.3,
            "bin_start": 6.2,
            "count": 0
           },
           {
            "bin_end": 6.4,
            "bin_start": 6.3,
            "count": 0
           },
           {
            "bin_end": 6.5,
            "bin_start": 6.4,
            "count": 0
           },
           {
            "bin_end": 6.6,
            "bin_start": 6.5,
            "count": 0
           },
           {
            "bin_end": 6.7,
            "bin_start": 6.6,
            "count": 0
           },
           {
            "bin_end": 6.8,
            "bin_start": 6.7,
            "count": 0
           },
           {
            "bin_end": 6.9,
            "bin_start": 6.8,
            "count": 0
           },
           {
            "bin_end": 7,
            "bin_start": 6.9,
            "count": 1
           }
          ],
          "max": "7.0",
          "min": "6.0",
          "nan_count": 0,
          "unique_count": 2
         }
        },
        {
         "dtype": "float64",
         "name": "X20",
         "stats": {
          "histogram": [
           {
            "bin_end": 3.3,
            "bin_start": 3,
            "count": 1
           },
           {
            "bin_end": 3.6,
            "bin_start": 3.3,
            "count": 0
           },
           {
            "bin_end": 3.9,
            "bin_start": 3.6,
            "count": 0
           },
           {
            "bin_end": 4.2,
            "bin_start": 3.9,
            "count": 0
           },
           {
            "bin_end": 4.5,
            "bin_start": 4.2,
            "count": 0
           },
           {
            "bin_end": 4.8,
            "bin_start": 4.5,
            "count": 0
           },
           {
            "bin_end": 5.1,
            "bin_start": 4.8,
            "count": 0
           },
           {
            "bin_end": 5.4,
            "bin_start": 5.1,
            "count": 0
           },
           {
            "bin_end": 5.699999999999999,
            "bin_start": 5.4,
            "count": 0
           },
           {
            "bin_end": 6,
            "bin_start": 5.699999999999999,
            "count": 1
           }
          ],
          "max": "6.0",
          "min": "3.0",
          "nan_count": 0,
          "unique_count": 2
         }
        },
        {
         "dtype": "float64",
         "name": "X21",
         "stats": {
          "histogram": [
           {
            "bin_end": 7.1,
            "bin_start": 7,
            "count": 1
           },
           {
            "bin_end": 7.2,
            "bin_start": 7.1,
            "count": 0
           },
           {
            "bin_end": 7.3,
            "bin_start": 7.2,
            "count": 0
           },
           {
            "bin_end": 7.4,
            "bin_start": 7.3,
            "count": 0
           },
           {
            "bin_end": 7.5,
            "bin_start": 7.4,
            "count": 0
           },
           {
            "bin_end": 7.6,
            "bin_start": 7.5,
            "count": 0
           },
           {
            "bin_end": 7.7,
            "bin_start": 7.6,
            "count": 0
           },
           {
            "bin_end": 7.8,
            "bin_start": 7.7,
            "count": 0
           },
           {
            "bin_end": 7.9,
            "bin_start": 7.8,
            "count": 0
           },
           {
            "bin_end": 8,
            "bin_start": 7.9,
            "count": 1
           }
          ],
          "max": "8.0",
          "min": "7.0",
          "nan_count": 0,
          "unique_count": 2
         }
        },
        {
         "dtype": "float64",
         "name": "X22",
         "stats": {
          "histogram": [
           {
            "bin_end": 13.2,
            "bin_start": 13,
            "count": 1
           },
           {
            "bin_end": 13.4,
            "bin_start": 13.2,
            "count": 0
           },
           {
            "bin_end": 13.6,
            "bin_start": 13.4,
            "count": 0
           },
           {
            "bin_end": 13.8,
            "bin_start": 13.6,
            "count": 0
           },
           {
            "bin_end": 14,
            "bin_start": 13.8,
            "count": 0
           },
           {
            "bin_end": 14.2,
            "bin_start": 14,
            "count": 0
           },
           {
            "bin_end": 14.4,
            "bin_start": 14.2,
            "count": 0
           },
           {
            "bin_end": 14.6,
            "bin_start": 14.4,
            "count": 0
           },
           {
            "bin_end": 14.8,
            "bin_start": 14.6,
            "count": 0
           },
           {
            "bin_end": 15,
            "bin_start": 14.8,
            "count": 1
           }
          ],
          "max": "15.0",
          "min": "13.0",
          "nan_count": 0,
          "unique_count": 2
         }
        },
        {
         "dtype": "float64",
         "name": "Y",
         "stats": {
          "histogram": [
           {
            "bin_end": 0.1,
            "bin_start": 0,
            "count": 1
           },
           {
            "bin_end": 0.2,
            "bin_start": 0.1,
            "count": 0
           },
           {
            "bin_end": 0.30000000000000004,
            "bin_start": 0.2,
            "count": 0
           },
           {
            "bin_end": 0.4,
            "bin_start": 0.30000000000000004,
            "count": 0
           },
           {
            "bin_end": 0.5,
            "bin_start": 0.4,
            "count": 0
           },
           {
            "bin_end": 0.6000000000000001,
            "bin_start": 0.5,
            "count": 0
           },
           {
            "bin_end": 0.7000000000000001,
            "bin_start": 0.6000000000000001,
            "count": 0
           },
           {
            "bin_end": 0.8,
            "bin_start": 0.7000000000000001,
            "count": 0
           },
           {
            "bin_end": 0.9,
            "bin_start": 0.8,
            "count": 0
           },
           {
            "bin_end": 1,
            "bin_start": 0.9,
            "count": 1
           }
          ],
          "max": "1.0",
          "min": "0.0",
          "nan_count": 0,
          "unique_count": 2
         }
        },
        {
         "dtype": "int64",
         "name": "_deepnote_index_column"
        }
       ],
       "row_count": 2,
       "rows": [
        {
         "AwayTeam": "liverpool-fc",
         "Date": "2003/11/22",
         "HomeTeam": "middlesbrough-fc",
         "Season": "2003-2004",
         "X1": 35100,
         "X10": 1,
         "X11": 1,
         "X12": 1,
         "X13": 4,
         "X14": 4,
         "X15": 1,
         "X16": 1,
         "X17": 6,
         "X18": 6,
         "X19": 6,
         "X2": 1.2896866096866098,
         "X20": 6,
         "X21": 8,
         "X22": 13,
         "X3": 12,
         "X4": 8,
         "X5": 11,
         "X6": 5,
         "X7": 4,
         "X8": 4,
         "X9": 2,
         "Y": 1,
         "_deepnote_index_column": 4084
        },
        {
         "AwayTeam": "chelsea-fc",
         "Date": "2004/11/27",
         "HomeTeam": "charlton-athletic",
         "Season": "2004-2005",
         "X1": 27111,
         "X10": 1,
         "X11": 1,
         "X12": 2,
         "X13": 4,
         "X14": 4,
         "X15": 4,
         "X16": 4,
         "X17": 7,
         "X18": 3,
         "X19": 7,
         "X2": 1.2756814577108924,
         "X20": 3,
         "X21": 7,
         "X22": 15,
         "X3": 10,
         "X4": 1,
         "X5": 7,
         "X6": 2,
         "X7": 1,
         "X8": 4,
         "X9": 4,
         "Y": 0,
         "_deepnote_index_column": 4485
        }
       ]
      },
      "text/html": [
       "<div>\n",
       "<style scoped>\n",
       "    .dataframe tbody tr th:only-of-type {\n",
       "        vertical-align: middle;\n",
       "    }\n",
       "\n",
       "    .dataframe tbody tr th {\n",
       "        vertical-align: top;\n",
       "    }\n",
       "\n",
       "    .dataframe thead th {\n",
       "        text-align: right;\n",
       "    }\n",
       "</style>\n",
       "<table border=\"1\" class=\"dataframe\">\n",
       "  <thead>\n",
       "    <tr style=\"text-align: right;\">\n",
       "      <th></th>\n",
       "      <th>HomeTeam</th>\n",
       "      <th>AwayTeam</th>\n",
       "      <th>Date</th>\n",
       "      <th>Season</th>\n",
       "      <th>X1</th>\n",
       "      <th>X2</th>\n",
       "      <th>X3</th>\n",
       "      <th>X4</th>\n",
       "      <th>X5</th>\n",
       "      <th>X6</th>\n",
       "      <th>...</th>\n",
       "      <th>X14</th>\n",
       "      <th>X15</th>\n",
       "      <th>X16</th>\n",
       "      <th>X17</th>\n",
       "      <th>X18</th>\n",
       "      <th>X19</th>\n",
       "      <th>X20</th>\n",
       "      <th>X21</th>\n",
       "      <th>X22</th>\n",
       "      <th>Y</th>\n",
       "    </tr>\n",
       "  </thead>\n",
       "  <tbody>\n",
       "    <tr>\n",
       "      <th>4084</th>\n",
       "      <td>middlesbrough-fc</td>\n",
       "      <td>liverpool-fc</td>\n",
       "      <td>2003/11/22</td>\n",
       "      <td>2003-2004</td>\n",
       "      <td>35100.0</td>\n",
       "      <td>1.289687</td>\n",
       "      <td>12.0</td>\n",
       "      <td>8.0</td>\n",
       "      <td>11</td>\n",
       "      <td>5</td>\n",
       "      <td>...</td>\n",
       "      <td>4</td>\n",
       "      <td>1</td>\n",
       "      <td>1</td>\n",
       "      <td>6.0</td>\n",
       "      <td>6.0</td>\n",
       "      <td>6.0</td>\n",
       "      <td>6.0</td>\n",
       "      <td>8.0</td>\n",
       "      <td>13.0</td>\n",
       "      <td>1.0</td>\n",
       "    </tr>\n",
       "    <tr>\n",
       "      <th>4485</th>\n",
       "      <td>charlton-athletic</td>\n",
       "      <td>chelsea-fc</td>\n",
       "      <td>2004/11/27</td>\n",
       "      <td>2004-2005</td>\n",
       "      <td>27111.0</td>\n",
       "      <td>1.275681</td>\n",
       "      <td>10.0</td>\n",
       "      <td>1.0</td>\n",
       "      <td>7</td>\n",
       "      <td>2</td>\n",
       "      <td>...</td>\n",
       "      <td>4</td>\n",
       "      <td>4</td>\n",
       "      <td>4</td>\n",
       "      <td>7.0</td>\n",
       "      <td>3.0</td>\n",
       "      <td>7.0</td>\n",
       "      <td>3.0</td>\n",
       "      <td>7.0</td>\n",
       "      <td>15.0</td>\n",
       "      <td>0.0</td>\n",
       "    </tr>\n",
       "  </tbody>\n",
       "</table>\n",
       "<p>2 rows × 27 columns</p>\n",
       "</div>"
      ],
      "text/plain": [
       "               HomeTeam      AwayTeam        Date     Season       X1  \\\n",
       "4084   middlesbrough-fc  liverpool-fc  2003/11/22  2003-2004  35100.0   \n",
       "4485  charlton-athletic    chelsea-fc  2004/11/27  2004-2005  27111.0   \n",
       "\n",
       "            X2    X3   X4  X5  X6  ...  X14  X15  X16  X17  X18  X19  X20  \\\n",
       "4084  1.289687  12.0  8.0  11   5  ...    4    1    1  6.0  6.0  6.0  6.0   \n",
       "4485  1.275681  10.0  1.0   7   2  ...    4    4    4  7.0  3.0  7.0  3.0   \n",
       "\n",
       "      X21   X22    Y  \n",
       "4084  8.0  13.0  1.0  \n",
       "4485  7.0  15.0  0.0  \n",
       "\n",
       "[2 rows x 27 columns]"
      ]
     },
     "execution_count": 14,
     "metadata": {},
     "output_type": "execute_result"
    }
   ],
   "source": [
    "data[data['X2']>1.25]"
   ]
  },
  {
   "cell_type": "code",
   "execution_count": null,
   "metadata": {
    "cell_id": "3eb0bcc4d87046098c877af526d49435",
    "deepnote_cell_height": 289.953125,
    "deepnote_cell_type": "code",
    "deepnote_to_be_reexecuted": false,
    "execution_millis": 59,
    "execution_start": 1651159163618,
    "source_hash": "6eac0f8d",
    "tags": []
   },
   "outputs": [
    {
     "data": {
      "application/vnd.deepnote.dataframe.v3+json": {
       "column_count": 26,
       "columns": [
        {
         "dtype": "int64",
         "name": "HomeTeam",
         "stats": {
          "histogram": [
           {
            "bin_end": 134.7,
            "bin_start": 107,
            "count": 1
           },
           {
            "bin_end": 162.4,
            "bin_start": 134.7,
            "count": 0
           },
           {
            "bin_end": 190.1,
            "bin_start": 162.4,
            "count": 0
           },
           {
            "bin_end": 217.8,
            "bin_start": 190.1,
            "count": 0
           },
           {
            "bin_end": 245.5,
            "bin_start": 217.8,
            "count": 0
           },
           {
            "bin_end": 273.2,
            "bin_start": 245.5,
            "count": 0
           },
           {
            "bin_end": 300.9,
            "bin_start": 273.2,
            "count": 0
           },
           {
            "bin_end": 328.6,
            "bin_start": 300.9,
            "count": 0
           },
           {
            "bin_end": 356.29999999999995,
            "bin_start": 328.6,
            "count": 0
           },
           {
            "bin_end": 384,
            "bin_start": 356.29999999999995,
            "count": 1
           }
          ],
          "max": "384",
          "min": "107",
          "nan_count": 0,
          "unique_count": 2
         }
        },
        {
         "dtype": "int64",
         "name": "AwayTeam",
         "stats": {
          "histogram": [
           {
            "bin_end": 134.7,
            "bin_start": 107,
            "count": 1
           },
           {
            "bin_end": 162.4,
            "bin_start": 134.7,
            "count": 0
           },
           {
            "bin_end": 190.1,
            "bin_start": 162.4,
            "count": 0
           },
           {
            "bin_end": 217.8,
            "bin_start": 190.1,
            "count": 0
           },
           {
            "bin_end": 245.5,
            "bin_start": 217.8,
            "count": 0
           },
           {
            "bin_end": 273.2,
            "bin_start": 245.5,
            "count": 0
           },
           {
            "bin_end": 300.9,
            "bin_start": 273.2,
            "count": 0
           },
           {
            "bin_end": 328.6,
            "bin_start": 300.9,
            "count": 0
           },
           {
            "bin_end": 356.29999999999995,
            "bin_start": 328.6,
            "count": 0
           },
           {
            "bin_end": 384,
            "bin_start": 356.29999999999995,
            "count": 1
           }
          ],
          "max": "384",
          "min": "107",
          "nan_count": 0,
          "unique_count": 2
         }
        },
        {
         "dtype": "int64",
         "name": "Date",
         "stats": {
          "histogram": [
           {
            "bin_end": 134.7,
            "bin_start": 107,
            "count": 1
           },
           {
            "bin_end": 162.4,
            "bin_start": 134.7,
            "count": 0
           },
           {
            "bin_end": 190.1,
            "bin_start": 162.4,
            "count": 0
           },
           {
            "bin_end": 217.8,
            "bin_start": 190.1,
            "count": 0
           },
           {
            "bin_end": 245.5,
            "bin_start": 217.8,
            "count": 0
           },
           {
            "bin_end": 273.2,
            "bin_start": 245.5,
            "count": 0
           },
           {
            "bin_end": 300.9,
            "bin_start": 273.2,
            "count": 0
           },
           {
            "bin_end": 328.6,
            "bin_start": 300.9,
            "count": 0
           },
           {
            "bin_end": 356.29999999999995,
            "bin_start": 328.6,
            "count": 0
           },
           {
            "bin_end": 384,
            "bin_start": 356.29999999999995,
            "count": 1
           }
          ],
          "max": "384",
          "min": "107",
          "nan_count": 0,
          "unique_count": 2
         }
        },
        {
         "dtype": "int64",
         "name": "Season",
         "stats": {
          "histogram": [
           {
            "bin_end": 134.7,
            "bin_start": 107,
            "count": 1
           },
           {
            "bin_end": 162.4,
            "bin_start": 134.7,
            "count": 0
           },
           {
            "bin_end": 190.1,
            "bin_start": 162.4,
            "count": 0
           },
           {
            "bin_end": 217.8,
            "bin_start": 190.1,
            "count": 0
           },
           {
            "bin_end": 245.5,
            "bin_start": 217.8,
            "count": 0
           },
           {
            "bin_end": 273.2,
            "bin_start": 245.5,
            "count": 0
           },
           {
            "bin_end": 300.9,
            "bin_start": 273.2,
            "count": 0
           },
           {
            "bin_end": 328.6,
            "bin_start": 300.9,
            "count": 0
           },
           {
            "bin_end": 356.29999999999995,
            "bin_start": 328.6,
            "count": 0
           },
           {
            "bin_end": 384,
            "bin_start": 356.29999999999995,
            "count": 1
           }
          ],
          "max": "384",
          "min": "107",
          "nan_count": 0,
          "unique_count": 2
         }
        },
        {
         "dtype": "int64",
         "name": "X2",
         "stats": {
          "histogram": [
           {
            "bin_end": 134.7,
            "bin_start": 107,
            "count": 1
           },
           {
            "bin_end": 162.4,
            "bin_start": 134.7,
            "count": 0
           },
           {
            "bin_end": 190.1,
            "bin_start": 162.4,
            "count": 0
           },
           {
            "bin_end": 217.8,
            "bin_start": 190.1,
            "count": 0
           },
           {
            "bin_end": 245.5,
            "bin_start": 217.8,
            "count": 0
           },
           {
            "bin_end": 273.2,
            "bin_start": 245.5,
            "count": 0
           },
           {
            "bin_end": 300.9,
            "bin_start": 273.2,
            "count": 0
           },
           {
            "bin_end": 328.6,
            "bin_start": 300.9,
            "count": 0
           },
           {
            "bin_end": 356.29999999999995,
            "bin_start": 328.6,
            "count": 0
           },
           {
            "bin_end": 384,
            "bin_start": 356.29999999999995,
            "count": 1
           }
          ],
          "max": "384",
          "min": "107",
          "nan_count": 0,
          "unique_count": 2
         }
        },
        {
         "dtype": "int64",
         "name": "X3",
         "stats": {
          "histogram": [
           {
            "bin_end": 134.7,
            "bin_start": 107,
            "count": 1
           },
           {
            "bin_end": 162.4,
            "bin_start": 134.7,
            "count": 0
           },
           {
            "bin_end": 190.1,
            "bin_start": 162.4,
            "count": 0
           },
           {
            "bin_end": 217.8,
            "bin_start": 190.1,
            "count": 0
           },
           {
            "bin_end": 245.5,
            "bin_start": 217.8,
            "count": 0
           },
           {
            "bin_end": 273.2,
            "bin_start": 245.5,
            "count": 0
           },
           {
            "bin_end": 300.9,
            "bin_start": 273.2,
            "count": 0
           },
           {
            "bin_end": 328.6,
            "bin_start": 300.9,
            "count": 0
           },
           {
            "bin_end": 356.29999999999995,
            "bin_start": 328.6,
            "count": 0
           },
           {
            "bin_end": 384,
            "bin_start": 356.29999999999995,
            "count": 1
           }
          ],
          "max": "384",
          "min": "107",
          "nan_count": 0,
          "unique_count": 2
         }
        },
        {
         "dtype": "int64",
         "name": "X4",
         "stats": {
          "histogram": [
           {
            "bin_end": 134.7,
            "bin_start": 107,
            "count": 1
           },
           {
            "bin_end": 162.4,
            "bin_start": 134.7,
            "count": 0
           },
           {
            "bin_end": 190.1,
            "bin_start": 162.4,
            "count": 0
           },
           {
            "bin_end": 217.8,
            "bin_start": 190.1,
            "count": 0
           },
           {
            "bin_end": 245.5,
            "bin_start": 217.8,
            "count": 0
           },
           {
            "bin_end": 273.2,
            "bin_start": 245.5,
            "count": 0
           },
           {
            "bin_end": 300.9,
            "bin_start": 273.2,
            "count": 0
           },
           {
            "bin_end": 328.6,
            "bin_start": 300.9,
            "count": 0
           },
           {
            "bin_end": 356.29999999999995,
            "bin_start": 328.6,
            "count": 0
           },
           {
            "bin_end": 384,
            "bin_start": 356.29999999999995,
            "count": 1
           }
          ],
          "max": "384",
          "min": "107",
          "nan_count": 0,
          "unique_count": 2
         }
        },
        {
         "dtype": "int64",
         "name": "X5",
         "stats": {
          "histogram": [
           {
            "bin_end": 134.7,
            "bin_start": 107,
            "count": 1
           },
           {
            "bin_end": 162.4,
            "bin_start": 134.7,
            "count": 0
           },
           {
            "bin_end": 190.1,
            "bin_start": 162.4,
            "count": 0
           },
           {
            "bin_end": 217.8,
            "bin_start": 190.1,
            "count": 0
           },
           {
            "bin_end": 245.5,
            "bin_start": 217.8,
            "count": 0
           },
           {
            "bin_end": 273.2,
            "bin_start": 245.5,
            "count": 0
           },
           {
            "bin_end": 300.9,
            "bin_start": 273.2,
            "count": 0
           },
           {
            "bin_end": 328.6,
            "bin_start": 300.9,
            "count": 0
           },
           {
            "bin_end": 356.29999999999995,
            "bin_start": 328.6,
            "count": 0
           },
           {
            "bin_end": 384,
            "bin_start": 356.29999999999995,
            "count": 1
           }
          ],
          "max": "384",
          "min": "107",
          "nan_count": 0,
          "unique_count": 2
         }
        },
        {
         "dtype": "int64",
         "name": "X6",
         "stats": {
          "histogram": [
           {
            "bin_end": 134.7,
            "bin_start": 107,
            "count": 1
           },
           {
            "bin_end": 162.4,
            "bin_start": 134.7,
            "count": 0
           },
           {
            "bin_end": 190.1,
            "bin_start": 162.4,
            "count": 0
           },
           {
            "bin_end": 217.8,
            "bin_start": 190.1,
            "count": 0
           },
           {
            "bin_end": 245.5,
            "bin_start": 217.8,
            "count": 0
           },
           {
            "bin_end": 273.2,
            "bin_start": 245.5,
            "count": 0
           },
           {
            "bin_end": 300.9,
            "bin_start": 273.2,
            "count": 0
           },
           {
            "bin_end": 328.6,
            "bin_start": 300.9,
            "count": 0
           },
           {
            "bin_end": 356.29999999999995,
            "bin_start": 328.6,
            "count": 0
           },
           {
            "bin_end": 384,
            "bin_start": 356.29999999999995,
            "count": 1
           }
          ],
          "max": "384",
          "min": "107",
          "nan_count": 0,
          "unique_count": 2
         }
        },
        {
         "dtype": "int64",
         "name": "X7",
         "stats": {
          "histogram": [
           {
            "bin_end": 134.7,
            "bin_start": 107,
            "count": 1
           },
           {
            "bin_end": 162.4,
            "bin_start": 134.7,
            "count": 0
           },
           {
            "bin_end": 190.1,
            "bin_start": 162.4,
            "count": 0
           },
           {
            "bin_end": 217.8,
            "bin_start": 190.1,
            "count": 0
           },
           {
            "bin_end": 245.5,
            "bin_start": 217.8,
            "count": 0
           },
           {
            "bin_end": 273.2,
            "bin_start": 245.5,
            "count": 0
           },
           {
            "bin_end": 300.9,
            "bin_start": 273.2,
            "count": 0
           },
           {
            "bin_end": 328.6,
            "bin_start": 300.9,
            "count": 0
           },
           {
            "bin_end": 356.29999999999995,
            "bin_start": 328.6,
            "count": 0
           },
           {
            "bin_end": 384,
            "bin_start": 356.29999999999995,
            "count": 1
           }
          ],
          "max": "384",
          "min": "107",
          "nan_count": 0,
          "unique_count": 2
         }
        },
        {
         "dtype": "int64",
         "name": "X8",
         "stats": {
          "histogram": [
           {
            "bin_end": 134.7,
            "bin_start": 107,
            "count": 1
           },
           {
            "bin_end": 162.4,
            "bin_start": 134.7,
            "count": 0
           },
           {
            "bin_end": 190.1,
            "bin_start": 162.4,
            "count": 0
           },
           {
            "bin_end": 217.8,
            "bin_start": 190.1,
            "count": 0
           },
           {
            "bin_end": 245.5,
            "bin_start": 217.8,
            "count": 0
           },
           {
            "bin_end": 273.2,
            "bin_start": 245.5,
            "count": 0
           },
           {
            "bin_end": 300.9,
            "bin_start": 273.2,
            "count": 0
           },
           {
            "bin_end": 328.6,
            "bin_start": 300.9,
            "count": 0
           },
           {
            "bin_end": 356.29999999999995,
            "bin_start": 328.6,
            "count": 0
           },
           {
            "bin_end": 384,
            "bin_start": 356.29999999999995,
            "count": 1
           }
          ],
          "max": "384",
          "min": "107",
          "nan_count": 0,
          "unique_count": 2
         }
        },
        {
         "dtype": "int64",
         "name": "X9",
         "stats": {
          "histogram": [
           {
            "bin_end": 134.7,
            "bin_start": 107,
            "count": 1
           },
           {
            "bin_end": 162.4,
            "bin_start": 134.7,
            "count": 0
           },
           {
            "bin_end": 190.1,
            "bin_start": 162.4,
            "count": 0
           },
           {
            "bin_end": 217.8,
            "bin_start": 190.1,
            "count": 0
           },
           {
            "bin_end": 245.5,
            "bin_start": 217.8,
            "count": 0
           },
           {
            "bin_end": 273.2,
            "bin_start": 245.5,
            "count": 0
           },
           {
            "bin_end": 300.9,
            "bin_start": 273.2,
            "count": 0
           },
           {
            "bin_end": 328.6,
            "bin_start": 300.9,
            "count": 0
           },
           {
            "bin_end": 356.29999999999995,
            "bin_start": 328.6,
            "count": 0
           },
           {
            "bin_end": 384,
            "bin_start": 356.29999999999995,
            "count": 1
           }
          ],
          "max": "384",
          "min": "107",
          "nan_count": 0,
          "unique_count": 2
         }
        },
        {
         "dtype": "int64",
         "name": "X10",
         "stats": {
          "histogram": [
           {
            "bin_end": 134.7,
            "bin_start": 107,
            "count": 1
           },
           {
            "bin_end": 162.4,
            "bin_start": 134.7,
            "count": 0
           },
           {
            "bin_end": 190.1,
            "bin_start": 162.4,
            "count": 0
           },
           {
            "bin_end": 217.8,
            "bin_start": 190.1,
            "count": 0
           },
           {
            "bin_end": 245.5,
            "bin_start": 217.8,
            "count": 0
           },
           {
            "bin_end": 273.2,
            "bin_start": 245.5,
            "count": 0
           },
           {
            "bin_end": 300.9,
            "bin_start": 273.2,
            "count": 0
           },
           {
            "bin_end": 328.6,
            "bin_start": 300.9,
            "count": 0
           },
           {
            "bin_end": 356.29999999999995,
            "bin_start": 328.6,
            "count": 0
           },
           {
            "bin_end": 384,
            "bin_start": 356.29999999999995,
            "count": 1
           }
          ],
          "max": "384",
          "min": "107",
          "nan_count": 0,
          "unique_count": 2
         }
        },
        {
         "dtype": "int64",
         "name": "X11",
         "stats": {
          "histogram": [
           {
            "bin_end": 134.7,
            "bin_start": 107,
            "count": 1
           },
           {
            "bin_end": 162.4,
            "bin_start": 134.7,
            "count": 0
           },
           {
            "bin_end": 190.1,
            "bin_start": 162.4,
            "count": 0
           },
           {
            "bin_end": 217.8,
            "bin_start": 190.1,
            "count": 0
           },
           {
            "bin_end": 245.5,
            "bin_start": 217.8,
            "count": 0
           },
           {
            "bin_end": 273.2,
            "bin_start": 245.5,
            "count": 0
           },
           {
            "bin_end": 300.9,
            "bin_start": 273.2,
            "count": 0
           },
           {
            "bin_end": 328.6,
            "bin_start": 300.9,
            "count": 0
           },
           {
            "bin_end": 356.29999999999995,
            "bin_start": 328.6,
            "count": 0
           },
           {
            "bin_end": 384,
            "bin_start": 356.29999999999995,
            "count": 1
           }
          ],
          "max": "384",
          "min": "107",
          "nan_count": 0,
          "unique_count": 2
         }
        },
        {
         "dtype": "int64",
         "name": "X12",
         "stats": {
          "histogram": [
           {
            "bin_end": 134.7,
            "bin_start": 107,
            "count": 1
           },
           {
            "bin_end": 162.4,
            "bin_start": 134.7,
            "count": 0
           },
           {
            "bin_end": 190.1,
            "bin_start": 162.4,
            "count": 0
           },
           {
            "bin_end": 217.8,
            "bin_start": 190.1,
            "count": 0
           },
           {
            "bin_end": 245.5,
            "bin_start": 217.8,
            "count": 0
           },
           {
            "bin_end": 273.2,
            "bin_start": 245.5,
            "count": 0
           },
           {
            "bin_end": 300.9,
            "bin_start": 273.2,
            "count": 0
           },
           {
            "bin_end": 328.6,
            "bin_start": 300.9,
            "count": 0
           },
           {
            "bin_end": 356.29999999999995,
            "bin_start": 328.6,
            "count": 0
           },
           {
            "bin_end": 384,
            "bin_start": 356.29999999999995,
            "count": 1
           }
          ],
          "max": "384",
          "min": "107",
          "nan_count": 0,
          "unique_count": 2
         }
        },
        {
         "dtype": "int64",
         "name": "X13",
         "stats": {
          "histogram": [
           {
            "bin_end": 134.7,
            "bin_start": 107,
            "count": 1
           },
           {
            "bin_end": 162.4,
            "bin_start": 134.7,
            "count": 0
           },
           {
            "bin_end": 190.1,
            "bin_start": 162.4,
            "count": 0
           },
           {
            "bin_end": 217.8,
            "bin_start": 190.1,
            "count": 0
           },
           {
            "bin_end": 245.5,
            "bin_start": 217.8,
            "count": 0
           },
           {
            "bin_end": 273.2,
            "bin_start": 245.5,
            "count": 0
           },
           {
            "bin_end": 300.9,
            "bin_start": 273.2,
            "count": 0
           },
           {
            "bin_end": 328.6,
            "bin_start": 300.9,
            "count": 0
           },
           {
            "bin_end": 356.29999999999995,
            "bin_start": 328.6,
            "count": 0
           },
           {
            "bin_end": 384,
            "bin_start": 356.29999999999995,
            "count": 1
           }
          ],
          "max": "384",
          "min": "107",
          "nan_count": 0,
          "unique_count": 2
         }
        },
        {
         "dtype": "int64",
         "name": "X14",
         "stats": {
          "histogram": [
           {
            "bin_end": 134.7,
            "bin_start": 107,
            "count": 1
           },
           {
            "bin_end": 162.4,
            "bin_start": 134.7,
            "count": 0
           },
           {
            "bin_end": 190.1,
            "bin_start": 162.4,
            "count": 0
           },
           {
            "bin_end": 217.8,
            "bin_start": 190.1,
            "count": 0
           },
           {
            "bin_end": 245.5,
            "bin_start": 217.8,
            "count": 0
           },
           {
            "bin_end": 273.2,
            "bin_start": 245.5,
            "count": 0
           },
           {
            "bin_end": 300.9,
            "bin_start": 273.2,
            "count": 0
           },
           {
            "bin_end": 328.6,
            "bin_start": 300.9,
            "count": 0
           },
           {
            "bin_end": 356.29999999999995,
            "bin_start": 328.6,
            "count": 0
           },
           {
            "bin_end": 384,
            "bin_start": 356.29999999999995,
            "count": 1
           }
          ],
          "max": "384",
          "min": "107",
          "nan_count": 0,
          "unique_count": 2
         }
        },
        {
         "dtype": "int64",
         "name": "X15",
         "stats": {
          "histogram": [
           {
            "bin_end": 134.7,
            "bin_start": 107,
            "count": 1
           },
           {
            "bin_end": 162.4,
            "bin_start": 134.7,
            "count": 0
           },
           {
            "bin_end": 190.1,
            "bin_start": 162.4,
            "count": 0
           },
           {
            "bin_end": 217.8,
            "bin_start": 190.1,
            "count": 0
           },
           {
            "bin_end": 245.5,
            "bin_start": 217.8,
            "count": 0
           },
           {
            "bin_end": 273.2,
            "bin_start": 245.5,
            "count": 0
           },
           {
            "bin_end": 300.9,
            "bin_start": 273.2,
            "count": 0
           },
           {
            "bin_end": 328.6,
            "bin_start": 300.9,
            "count": 0
           },
           {
            "bin_end": 356.29999999999995,
            "bin_start": 328.6,
            "count": 0
           },
           {
            "bin_end": 384,
            "bin_start": 356.29999999999995,
            "count": 1
           }
          ],
          "max": "384",
          "min": "107",
          "nan_count": 0,
          "unique_count": 2
         }
        },
        {
         "dtype": "int64",
         "name": "X16",
         "stats": {
          "histogram": [
           {
            "bin_end": 134.7,
            "bin_start": 107,
            "count": 1
           },
           {
            "bin_end": 162.4,
            "bin_start": 134.7,
            "count": 0
           },
           {
            "bin_end": 190.1,
            "bin_start": 162.4,
            "count": 0
           },
           {
            "bin_end": 217.8,
            "bin_start": 190.1,
            "count": 0
           },
           {
            "bin_end": 245.5,
            "bin_start": 217.8,
            "count": 0
           },
           {
            "bin_end": 273.2,
            "bin_start": 245.5,
            "count": 0
           },
           {
            "bin_end": 300.9,
            "bin_start": 273.2,
            "count": 0
           },
           {
            "bin_end": 328.6,
            "bin_start": 300.9,
            "count": 0
           },
           {
            "bin_end": 356.29999999999995,
            "bin_start": 328.6,
            "count": 0
           },
           {
            "bin_end": 384,
            "bin_start": 356.29999999999995,
            "count": 1
           }
          ],
          "max": "384",
          "min": "107",
          "nan_count": 0,
          "unique_count": 2
         }
        },
        {
         "dtype": "int64",
         "name": "X17",
         "stats": {
          "histogram": [
           {
            "bin_end": 134.7,
            "bin_start": 107,
            "count": 1
           },
           {
            "bin_end": 162.4,
            "bin_start": 134.7,
            "count": 0
           },
           {
            "bin_end": 190.1,
            "bin_start": 162.4,
            "count": 0
           },
           {
            "bin_end": 217.8,
            "bin_start": 190.1,
            "count": 0
           },
           {
            "bin_end": 245.5,
            "bin_start": 217.8,
            "count": 0
           },
           {
            "bin_end": 273.2,
            "bin_start": 245.5,
            "count": 0
           },
           {
            "bin_end": 300.9,
            "bin_start": 273.2,
            "count": 0
           },
           {
            "bin_end": 328.6,
            "bin_start": 300.9,
            "count": 0
           },
           {
            "bin_end": 356.29999999999995,
            "bin_start": 328.6,
            "count": 0
           },
           {
            "bin_end": 384,
            "bin_start": 356.29999999999995,
            "count": 1
           }
          ],
          "max": "384",
          "min": "107",
          "nan_count": 0,
          "unique_count": 2
         }
        },
        {
         "dtype": "int64",
         "name": "X18",
         "stats": {
          "histogram": [
           {
            "bin_end": 134.7,
            "bin_start": 107,
            "count": 1
           },
           {
            "bin_end": 162.4,
            "bin_start": 134.7,
            "count": 0
           },
           {
            "bin_end": 190.1,
            "bin_start": 162.4,
            "count": 0
           },
           {
            "bin_end": 217.8,
            "bin_start": 190.1,
            "count": 0
           },
           {
            "bin_end": 245.5,
            "bin_start": 217.8,
            "count": 0
           },
           {
            "bin_end": 273.2,
            "bin_start": 245.5,
            "count": 0
           },
           {
            "bin_end": 300.9,
            "bin_start": 273.2,
            "count": 0
           },
           {
            "bin_end": 328.6,
            "bin_start": 300.9,
            "count": 0
           },
           {
            "bin_end": 356.29999999999995,
            "bin_start": 328.6,
            "count": 0
           },
           {
            "bin_end": 384,
            "bin_start": 356.29999999999995,
            "count": 1
           }
          ],
          "max": "384",
          "min": "107",
          "nan_count": 0,
          "unique_count": 2
         }
        },
        {
         "dtype": "int64",
         "name": "X19",
         "stats": {
          "histogram": [
           {
            "bin_end": 134.7,
            "bin_start": 107,
            "count": 1
           },
           {
            "bin_end": 162.4,
            "bin_start": 134.7,
            "count": 0
           },
           {
            "bin_end": 190.1,
            "bin_start": 162.4,
            "count": 0
           },
           {
            "bin_end": 217.8,
            "bin_start": 190.1,
            "count": 0
           },
           {
            "bin_end": 245.5,
            "bin_start": 217.8,
            "count": 0
           },
           {
            "bin_end": 273.2,
            "bin_start": 245.5,
            "count": 0
           },
           {
            "bin_end": 300.9,
            "bin_start": 273.2,
            "count": 0
           },
           {
            "bin_end": 328.6,
            "bin_start": 300.9,
            "count": 0
           },
           {
            "bin_end": 356.29999999999995,
            "bin_start": 328.6,
            "count": 0
           },
           {
            "bin_end": 384,
            "bin_start": 356.29999999999995,
            "count": 1
           }
          ],
          "max": "384",
          "min": "107",
          "nan_count": 0,
          "unique_count": 2
         }
        },
        {
         "dtype": "int64",
         "name": "X20",
         "stats": {
          "histogram": [
           {
            "bin_end": 134.7,
            "bin_start": 107,
            "count": 1
           },
           {
            "bin_end": 162.4,
            "bin_start": 134.7,
            "count": 0
           },
           {
            "bin_end": 190.1,
            "bin_start": 162.4,
            "count": 0
           },
           {
            "bin_end": 217.8,
            "bin_start": 190.1,
            "count": 0
           },
           {
            "bin_end": 245.5,
            "bin_start": 217.8,
            "count": 0
           },
           {
            "bin_end": 273.2,
            "bin_start": 245.5,
            "count": 0
           },
           {
            "bin_end": 300.9,
            "bin_start": 273.2,
            "count": 0
           },
           {
            "bin_end": 328.6,
            "bin_start": 300.9,
            "count": 0
           },
           {
            "bin_end": 356.29999999999995,
            "bin_start": 328.6,
            "count": 0
           },
           {
            "bin_end": 384,
            "bin_start": 356.29999999999995,
            "count": 1
           }
          ],
          "max": "384",
          "min": "107",
          "nan_count": 0,
          "unique_count": 2
         }
        },
        {
         "dtype": "int64",
         "name": "X21",
         "stats": {
          "histogram": [
           {
            "bin_end": 134.7,
            "bin_start": 107,
            "count": 1
           },
           {
            "bin_end": 162.4,
            "bin_start": 134.7,
            "count": 0
           },
           {
            "bin_end": 190.1,
            "bin_start": 162.4,
            "count": 0
           },
           {
            "bin_end": 217.8,
            "bin_start": 190.1,
            "count": 0
           },
           {
            "bin_end": 245.5,
            "bin_start": 217.8,
            "count": 0
           },
           {
            "bin_end": 273.2,
            "bin_start": 245.5,
            "count": 0
           },
           {
            "bin_end": 300.9,
            "bin_start": 273.2,
            "count": 0
           },
           {
            "bin_end": 328.6,
            "bin_start": 300.9,
            "count": 0
           },
           {
            "bin_end": 356.29999999999995,
            "bin_start": 328.6,
            "count": 0
           },
           {
            "bin_end": 384,
            "bin_start": 356.29999999999995,
            "count": 1
           }
          ],
          "max": "384",
          "min": "107",
          "nan_count": 0,
          "unique_count": 2
         }
        },
        {
         "dtype": "int64",
         "name": "X22",
         "stats": {
          "histogram": [
           {
            "bin_end": 134.7,
            "bin_start": 107,
            "count": 1
           },
           {
            "bin_end": 162.4,
            "bin_start": 134.7,
            "count": 0
           },
           {
            "bin_end": 190.1,
            "bin_start": 162.4,
            "count": 0
           },
           {
            "bin_end": 217.8,
            "bin_start": 190.1,
            "count": 0
           },
           {
            "bin_end": 245.5,
            "bin_start": 217.8,
            "count": 0
           },
           {
            "bin_end": 273.2,
            "bin_start": 245.5,
            "count": 0
           },
           {
            "bin_end": 300.9,
            "bin_start": 273.2,
            "count": 0
           },
           {
            "bin_end": 328.6,
            "bin_start": 300.9,
            "count": 0
           },
           {
            "bin_end": 356.29999999999995,
            "bin_start": 328.6,
            "count": 0
           },
           {
            "bin_end": 384,
            "bin_start": 356.29999999999995,
            "count": 1
           }
          ],
          "max": "384",
          "min": "107",
          "nan_count": 0,
          "unique_count": 2
         }
        },
        {
         "dtype": "int64",
         "name": "Y",
         "stats": {
          "histogram": [
           {
            "bin_end": 134.7,
            "bin_start": 107,
            "count": 1
           },
           {
            "bin_end": 162.4,
            "bin_start": 134.7,
            "count": 0
           },
           {
            "bin_end": 190.1,
            "bin_start": 162.4,
            "count": 0
           },
           {
            "bin_end": 217.8,
            "bin_start": 190.1,
            "count": 0
           },
           {
            "bin_end": 245.5,
            "bin_start": 217.8,
            "count": 0
           },
           {
            "bin_end": 273.2,
            "bin_start": 245.5,
            "count": 0
           },
           {
            "bin_end": 300.9,
            "bin_start": 273.2,
            "count": 0
           },
           {
            "bin_end": 328.6,
            "bin_start": 300.9,
            "count": 0
           },
           {
            "bin_end": 356.29999999999995,
            "bin_start": 328.6,
            "count": 0
           },
           {
            "bin_end": 384,
            "bin_start": 356.29999999999995,
            "count": 1
           }
          ],
          "max": "384",
          "min": "107",
          "nan_count": 0,
          "unique_count": 2
         }
        },
        {
         "dtype": "float64",
         "name": "_deepnote_index_column"
        }
       ],
       "row_count": 2,
       "rows": [
        {
         "AwayTeam": 384,
         "Date": 384,
         "HomeTeam": 384,
         "Season": 384,
         "X10": 384,
         "X11": 384,
         "X12": 384,
         "X13": 384,
         "X14": 384,
         "X15": 384,
         "X16": 384,
         "X17": 384,
         "X18": 384,
         "X19": 384,
         "X2": 384,
         "X20": 384,
         "X21": 384,
         "X22": 384,
         "X3": 384,
         "X4": 384,
         "X5": 384,
         "X6": 384,
         "X7": 384,
         "X8": 384,
         "X9": 384,
         "Y": 384,
         "_deepnote_index_column": 35016
        },
        {
         "AwayTeam": 107,
         "Date": 107,
         "HomeTeam": 107,
         "Season": 107,
         "X10": 107,
         "X11": 107,
         "X12": 107,
         "X13": 107,
         "X14": 107,
         "X15": 107,
         "X16": 107,
         "X17": 107,
         "X18": 107,
         "X19": 107,
         "X2": 107,
         "X20": 107,
         "X21": 107,
         "X22": 107,
         "X3": 107,
         "X4": 107,
         "X5": 107,
         "X6": 107,
         "X7": 107,
         "X8": 107,
         "X9": 107,
         "Y": 107,
         "_deepnote_index_column": 60000
        }
       ]
      },
      "text/html": [
       "<div>\n",
       "<style scoped>\n",
       "    .dataframe tbody tr th:only-of-type {\n",
       "        vertical-align: middle;\n",
       "    }\n",
       "\n",
       "    .dataframe tbody tr th {\n",
       "        vertical-align: top;\n",
       "    }\n",
       "\n",
       "    .dataframe thead th {\n",
       "        text-align: right;\n",
       "    }\n",
       "</style>\n",
       "<table border=\"1\" class=\"dataframe\">\n",
       "  <thead>\n",
       "    <tr style=\"text-align: right;\">\n",
       "      <th></th>\n",
       "      <th>HomeTeam</th>\n",
       "      <th>AwayTeam</th>\n",
       "      <th>Date</th>\n",
       "      <th>Season</th>\n",
       "      <th>X2</th>\n",
       "      <th>X3</th>\n",
       "      <th>X4</th>\n",
       "      <th>X5</th>\n",
       "      <th>X6</th>\n",
       "      <th>X7</th>\n",
       "      <th>...</th>\n",
       "      <th>X14</th>\n",
       "      <th>X15</th>\n",
       "      <th>X16</th>\n",
       "      <th>X17</th>\n",
       "      <th>X18</th>\n",
       "      <th>X19</th>\n",
       "      <th>X20</th>\n",
       "      <th>X21</th>\n",
       "      <th>X22</th>\n",
       "      <th>Y</th>\n",
       "    </tr>\n",
       "    <tr>\n",
       "      <th>X1</th>\n",
       "      <th></th>\n",
       "      <th></th>\n",
       "      <th></th>\n",
       "      <th></th>\n",
       "      <th></th>\n",
       "      <th></th>\n",
       "      <th></th>\n",
       "      <th></th>\n",
       "      <th></th>\n",
       "      <th></th>\n",
       "      <th></th>\n",
       "      <th></th>\n",
       "      <th></th>\n",
       "      <th></th>\n",
       "      <th></th>\n",
       "      <th></th>\n",
       "      <th></th>\n",
       "      <th></th>\n",
       "      <th></th>\n",
       "      <th></th>\n",
       "      <th></th>\n",
       "    </tr>\n",
       "  </thead>\n",
       "  <tbody>\n",
       "    <tr>\n",
       "      <th>35016.0</th>\n",
       "      <td>384</td>\n",
       "      <td>384</td>\n",
       "      <td>384</td>\n",
       "      <td>384</td>\n",
       "      <td>384</td>\n",
       "      <td>384</td>\n",
       "      <td>384</td>\n",
       "      <td>384</td>\n",
       "      <td>384</td>\n",
       "      <td>384</td>\n",
       "      <td>...</td>\n",
       "      <td>384</td>\n",
       "      <td>384</td>\n",
       "      <td>384</td>\n",
       "      <td>384</td>\n",
       "      <td>384</td>\n",
       "      <td>384</td>\n",
       "      <td>384</td>\n",
       "      <td>384</td>\n",
       "      <td>384</td>\n",
       "      <td>384</td>\n",
       "    </tr>\n",
       "    <tr>\n",
       "      <th>60000.0</th>\n",
       "      <td>107</td>\n",
       "      <td>107</td>\n",
       "      <td>107</td>\n",
       "      <td>107</td>\n",
       "      <td>107</td>\n",
       "      <td>107</td>\n",
       "      <td>107</td>\n",
       "      <td>107</td>\n",
       "      <td>107</td>\n",
       "      <td>107</td>\n",
       "      <td>...</td>\n",
       "      <td>107</td>\n",
       "      <td>107</td>\n",
       "      <td>107</td>\n",
       "      <td>107</td>\n",
       "      <td>107</td>\n",
       "      <td>107</td>\n",
       "      <td>107</td>\n",
       "      <td>107</td>\n",
       "      <td>107</td>\n",
       "      <td>107</td>\n",
       "    </tr>\n",
       "  </tbody>\n",
       "</table>\n",
       "<p>2 rows × 26 columns</p>\n",
       "</div>"
      ],
      "text/plain": [
       "         HomeTeam  AwayTeam  Date  Season   X2   X3   X4   X5   X6   X7  ...  \\\n",
       "X1                                                                       ...   \n",
       "35016.0       384       384   384     384  384  384  384  384  384  384  ...   \n",
       "60000.0       107       107   107     107  107  107  107  107  107  107  ...   \n",
       "\n",
       "         X14  X15  X16  X17  X18  X19  X20  X21  X22    Y  \n",
       "X1                                                         \n",
       "35016.0  384  384  384  384  384  384  384  384  384  384  \n",
       "60000.0  107  107  107  107  107  107  107  107  107  107  \n",
       "\n",
       "[2 rows x 26 columns]"
      ]
     },
     "execution_count": 15,
     "metadata": {},
     "output_type": "execute_result"
    }
   ],
   "source": [
    "whu_capicity = data[data['HomeTeam'] == 'west-ham-united'].groupby('X1')\n",
    "whu_capicity.count()"
   ]
  },
  {
   "cell_type": "code",
   "execution_count": null,
   "metadata": {
    "cell_id": "bfe85251c08844d2a56622c6c2a118cc",
    "deepnote_cell_height": 631.921875,
    "deepnote_cell_type": "code",
    "deepnote_table_loading": false,
    "deepnote_table_state": {
     "filters": [],
     "pageIndex": 3,
     "pageSize": 10,
     "sortBy": [
      {
       "id": "Date",
       "type": "desc"
      }
     ]
    },
    "deepnote_to_be_reexecuted": true,
    "execution_millis": 73,
    "execution_start": 1649773138563,
    "owner_user_id": "c20c976b-1932-4d76-9862-b49bd106d81f",
    "source_hash": "b7f1d574",
    "tags": []
   },
   "outputs": [
    {
     "data": {
      "application/vnd.deepnote.dataframe.v3+json": {
       "column_count": 27,
       "columns": [
        {
         "dtype": "object",
         "name": "HomeTeam",
         "stats": {
          "categories": [
           {
            "count": 384,
            "name": "west-ham-united"
           }
          ],
          "nan_count": 0,
          "unique_count": 1
         }
        },
        {
         "dtype": "object",
         "name": "AwayTeam",
         "stats": {
          "categories": [
           {
            "count": 20,
            "name": "manchester-united"
           },
           {
            "count": 20,
            "name": "arsenal-fc"
           },
           {
            "count": 344,
            "name": "44 others"
           }
          ],
          "nan_count": 0,
          "unique_count": 46
         }
        },
        {
         "dtype": "object",
         "name": "Date",
         "stats": {
          "categories": [
           {
            "count": 1,
            "name": "2016/05/10"
           },
           {
            "count": 1,
            "name": "2016/05/07"
           },
           {
            "count": 382,
            "name": "382 others"
           }
          ],
          "nan_count": 0,
          "unique_count": 384
         }
        },
        {
         "dtype": "object",
         "name": "Season",
         "stats": {
          "categories": [
           {
            "count": 21,
            "name": "1994-1995"
           },
           {
            "count": 21,
            "name": "1993-1994"
           },
           {
            "count": 342,
            "name": "18 others"
           }
          ],
          "nan_count": 0,
          "unique_count": 20
         }
        },
        {
         "dtype": "float64",
         "name": "X1",
         "stats": {
          "histogram": [
           {
            "bin_end": 35015.6,
            "bin_start": 35015.5,
            "count": 0
           },
           {
            "bin_end": 35015.7,
            "bin_start": 35015.6,
            "count": 0
           },
           {
            "bin_end": 35015.8,
            "bin_start": 35015.7,
            "count": 0
           },
           {
            "bin_end": 35015.9,
            "bin_start": 35015.8,
            "count": 0
           },
           {
            "bin_end": 35016,
            "bin_start": 35015.9,
            "count": 0
           },
           {
            "bin_end": 35016.1,
            "bin_start": 35016,
            "count": 384
           },
           {
            "bin_end": 35016.2,
            "bin_start": 35016.1,
            "count": 0
           },
           {
            "bin_end": 35016.3,
            "bin_start": 35016.2,
            "count": 0
           },
           {
            "bin_end": 35016.4,
            "bin_start": 35016.3,
            "count": 0
           },
           {
            "bin_end": 35016.5,
            "bin_start": 35016.4,
            "count": 0
           }
          ],
          "max": "35016.0",
          "min": "35016.0",
          "nan_count": 0,
          "unique_count": 1
         }
        },
        {
         "dtype": "float64",
         "name": "X2",
         "stats": {
          "histogram": [
           {
            "bin_end": 0.4755997258396162,
            "bin_start": 0.4156385652273247,
            "count": 3
           },
           {
            "bin_end": 0.5355608864519077,
            "bin_start": 0.4755997258396162,
            "count": 12
           },
           {
            "bin_end": 0.5955220470641993,
            "bin_start": 0.5355608864519077,
            "count": 19
           },
           {
            "bin_end": 0.6554832076764908,
            "bin_start": 0.5955220470641993,
            "count": 18
           },
           {
            "bin_end": 0.7154443682887823,
            "bin_start": 0.6554832076764908,
            "count": 44
           },
           {
            "bin_end": 0.7754055289010738,
            "bin_start": 0.7154443682887823,
            "count": 64
           },
           {
            "bin_end": 0.8353666895133653,
            "bin_start": 0.7754055289010738,
            "count": 3
           },
           {
            "bin_end": 0.895327850125657,
            "bin_start": 0.8353666895133653,
            "count": 8
           },
           {
            "bin_end": 0.9552890107379485,
            "bin_start": 0.895327850125657,
            "count": 34
           },
           {
            "bin_end": 1.01525017135024,
            "bin_start": 0.9552890107379485,
            "count": 179
           }
          ],
          "max": "1.01525017135024",
          "min": "0.4156385652273247",
          "nan_count": 0,
          "unique_count": 304
         }
        },
        {
         "dtype": "float64",
         "name": "X3",
         "stats": {
          "histogram": [
           {
            "bin_end": 2.9,
            "bin_start": 1,
            "count": 4
           },
           {
            "bin_end": 4.8,
            "bin_start": 2.9,
            "count": 9
           },
           {
            "bin_end": 6.699999999999999,
            "bin_start": 4.8,
            "count": 33
           },
           {
            "bin_end": 8.6,
            "bin_start": 6.699999999999999,
            "count": 50
           },
           {
            "bin_end": 10.5,
            "bin_start": 8.6,
            "count": 60
           },
           {
            "bin_end": 12.399999999999999,
            "bin_start": 10.5,
            "count": 43
           },
           {
            "bin_end": 14.299999999999999,
            "bin_start": 12.399999999999999,
            "count": 45
           },
           {
            "bin_end": 16.2,
            "bin_start": 14.299999999999999,
            "count": 34
           },
           {
            "bin_end": 18.099999999999998,
            "bin_start": 16.2,
            "count": 54
           },
           {
            "bin_end": 20,
            "bin_start": 18.099999999999998,
            "count": 52
           }
          ],
          "max": "20.0",
          "min": "1.0",
          "nan_count": 0,
          "unique_count": 20
         }
        },
        {
         "dtype": "float64",
         "name": "X4",
         "stats": {
          "histogram": [
           {
            "bin_end": 3.1,
            "bin_start": 1,
            "count": 54
           },
           {
            "bin_end": 5.2,
            "bin_start": 3.1,
            "count": 42
           },
           {
            "bin_end": 7.300000000000001,
            "bin_start": 5.2,
            "count": 35
           },
           {
            "bin_end": 9.4,
            "bin_start": 7.300000000000001,
            "count": 32
           },
           {
            "bin_end": 11.5,
            "bin_start": 9.4,
            "count": 42
           },
           {
            "bin_end": 13.600000000000001,
            "bin_start": 11.5,
            "count": 39
           },
           {
            "bin_end": 15.700000000000001,
            "bin_start": 13.600000000000001,
            "count": 43
           },
           {
            "bin_end": 17.8,
            "bin_start": 15.700000000000001,
            "count": 34
           },
           {
            "bin_end": 19.900000000000002,
            "bin_start": 17.8,
            "count": 36
           },
           {
            "bin_end": 22,
            "bin_start": 19.900000000000002,
            "count": 27
           }
          ],
          "max": "22.0",
          "min": "1.0",
          "nan_count": 0,
          "unique_count": 22
         }
        },
        {
         "dtype": "int64",
         "name": "X5",
         "stats": {
          "histogram": [
           {
            "bin_end": 6.5,
            "bin_start": 5,
            "count": 19
           },
           {
            "bin_end": 8,
            "bin_start": 6.5,
            "count": 19
           },
           {
            "bin_end": 9.5,
            "bin_start": 8,
            "count": 76
           },
           {
            "bin_end": 11,
            "bin_start": 9.5,
            "count": 57
           },
           {
            "bin_end": 12.5,
            "bin_start": 11,
            "count": 19
           },
           {
            "bin_end": 14,
            "bin_start": 12.5,
            "count": 40
           },
           {
            "bin_end": 15.5,
            "bin_start": 14,
            "count": 76
           },
           {
            "bin_end": 17,
            "bin_start": 15.5,
            "count": 0
           },
           {
            "bin_end": 18.5,
            "bin_start": 17,
            "count": 19
           },
           {
            "bin_end": 20,
            "bin_start": 18.5,
            "count": 59
           }
          ],
          "max": "20",
          "min": "5",
          "nan_count": 0,
          "unique_count": 11
         }
        },
        {
         "dtype": "int64",
         "name": "X6",
         "stats": {
          "histogram": [
           {
            "bin_end": 2.9,
            "bin_start": 1,
            "count": 40
           },
           {
            "bin_end": 4.8,
            "bin_start": 2.9,
            "count": 40
           },
           {
            "bin_end": 6.699999999999999,
            "bin_start": 4.8,
            "count": 39
           },
           {
            "bin_end": 8.6,
            "bin_start": 6.699999999999999,
            "count": 38
           },
           {
            "bin_end": 10.5,
            "bin_start": 8.6,
            "count": 34
           },
           {
            "bin_end": 12.399999999999999,
            "bin_start": 10.5,
            "count": 39
           },
           {
            "bin_end": 14.299999999999999,
            "bin_start": 12.399999999999999,
            "count": 36
           },
           {
            "bin_end": 16.2,
            "bin_start": 14.299999999999999,
            "count": 37
           },
           {
            "bin_end": 18.099999999999998,
            "bin_start": 16.2,
            "count": 23
           },
           {
            "bin_end": 20,
            "bin_start": 18.099999999999998,
            "count": 58
           }
          ],
          "max": "20",
          "min": "1",
          "nan_count": 0,
          "unique_count": 20
         }
        },
        {
         "dtype": "int64",
         "name": "X7",
         "stats": {
          "histogram": [
           {
            "bin_end": 0.4,
            "bin_start": 0,
            "count": 11
           },
           {
            "bin_end": 0.8,
            "bin_start": 0.4,
            "count": 0
           },
           {
            "bin_end": 1.2000000000000002,
            "bin_start": 0.8,
            "count": 170
           },
           {
            "bin_end": 1.6,
            "bin_start": 1.2000000000000002,
            "count": 0
           },
           {
            "bin_end": 2,
            "bin_start": 1.6,
            "count": 0
           },
           {
            "bin_end": 2.4000000000000004,
            "bin_start": 2,
            "count": 100
           },
           {
            "bin_end": 2.8000000000000003,
            "bin_start": 2.4000000000000004,
            "count": 0
           },
           {
            "bin_end": 3.2,
            "bin_start": 2.8000000000000003,
            "count": 0
           },
           {
            "bin_end": 3.6,
            "bin_start": 3.2,
            "count": 0
           },
           {
            "bin_end": 4,
            "bin_start": 3.6,
            "count": 103
           }
          ],
          "max": "4",
          "min": "0",
          "nan_count": 0,
          "unique_count": 4
         }
        },
        {
         "dtype": "int64",
         "name": "X8",
         "stats": {
          "histogram": [
           {
            "bin_end": 0.4,
            "bin_start": 0,
            "count": 20
           },
           {
            "bin_end": 0.8,
            "bin_start": 0.4,
            "count": 0
           },
           {
            "bin_end": 1.2000000000000002,
            "bin_start": 0.8,
            "count": 143
           },
           {
            "bin_end": 1.6,
            "bin_start": 1.2000000000000002,
            "count": 0
           },
           {
            "bin_end": 2,
            "bin_start": 1.6,
            "count": 0
           },
           {
            "bin_end": 2.4000000000000004,
            "bin_start": 2,
            "count": 98
           },
           {
            "bin_end": 2.8000000000000003,
            "bin_start": 2.4000000000000004,
            "count": 0
           },
           {
            "bin_end": 3.2,
            "bin_start": 2.8000000000000003,
            "count": 0
           },
           {
            "bin_end": 3.6,
            "bin_start": 3.2,
            "count": 0
           },
           {
            "bin_end": 4,
            "bin_start": 3.6,
            "count": 123
           }
          ],
          "max": "4",
          "min": "0",
          "nan_count": 0,
          "unique_count": 4
         }
        },
        {
         "dtype": "int64",
         "name": "X9",
         "stats": {
          "histogram": [
           {
            "bin_end": 0.4,
            "bin_start": 0,
            "count": 31
           },
           {
            "bin_end": 0.8,
            "bin_start": 0.4,
            "count": 0
           },
           {
            "bin_end": 1.2000000000000002,
            "bin_start": 0.8,
            "count": 146
           },
           {
            "bin_end": 1.6,
            "bin_start": 1.2000000000000002,
            "count": 0
           },
           {
            "bin_end": 2,
            "bin_start": 1.6,
            "count": 0
           },
           {
            "bin_end": 2.4000000000000004,
            "bin_start": 2,
            "count": 96
           },
           {
            "bin_end": 2.8000000000000003,
            "bin_start": 2.4000000000000004,
            "count": 0
           },
           {
            "bin_end": 3.2,
            "bin_start": 2.8000000000000003,
            "count": 0
           },
           {
            "bin_end": 3.6,
            "bin_start": 3.2,
            "count": 0
           },
           {
            "bin_end": 4,
            "bin_start": 3.6,
            "count": 111
           }
          ],
          "max": "4",
          "min": "0",
          "nan_count": 0,
          "unique_count": 4
         }
        },
        {
         "dtype": "int64",
         "name": "X10",
         "stats": {
          "histogram": [
           {
            "bin_end": 0.4,
            "bin_start": 0,
            "count": 39
           },
           {
            "bin_end": 0.8,
            "bin_start": 0.4,
            "count": 0
           },
           {
            "bin_end": 1.2000000000000002,
            "bin_start": 0.8,
            "count": 142
           },
           {
            "bin_end": 1.6,
            "bin_start": 1.2000000000000002,
            "count": 0
           },
           {
            "bin_end": 2,
            "bin_start": 1.6,
            "count": 0
           },
           {
            "bin_end": 2.4000000000000004,
            "bin_start": 2,
            "count": 86
           },
           {
            "bin_end": 2.8000000000000003,
            "bin_start": 2.4000000000000004,
            "count": 0
           },
           {
            "bin_end": 3.2,
            "bin_start": 2.8000000000000003,
            "count": 0
           },
           {
            "bin_end": 3.6,
            "bin_start": 3.2,
            "count": 0
           },
           {
            "bin_end": 4,
            "bin_start": 3.6,
            "count": 117
           }
          ],
          "max": "4",
          "min": "0",
          "nan_count": 0,
          "unique_count": 4
         }
        },
        {
         "dtype": "int64",
         "name": "X11",
         "stats": {
          "histogram": [
           {
            "bin_end": 0.4,
            "bin_start": 0,
            "count": 53
           },
           {
            "bin_end": 0.8,
            "bin_start": 0.4,
            "count": 0
           },
           {
            "bin_end": 1.2000000000000002,
            "bin_start": 0.8,
            "count": 128
           },
           {
            "bin_end": 1.6,
            "bin_start": 1.2000000000000002,
            "count": 0
           },
           {
            "bin_end": 2,
            "bin_start": 1.6,
            "count": 0
           },
           {
            "bin_end": 2.4000000000000004,
            "bin_start": 2,
            "count": 101
           },
           {
            "bin_end": 2.8000000000000003,
            "bin_start": 2.4000000000000004,
            "count": 0
           },
           {
            "bin_end": 3.2,
            "bin_start": 2.8000000000000003,
            "count": 0
           },
           {
            "bin_end": 3.6,
            "bin_start": 3.2,
            "count": 0
           },
           {
            "bin_end": 4,
            "bin_start": 3.6,
            "count": 102
           }
          ],
          "max": "4",
          "min": "0",
          "nan_count": 0,
          "unique_count": 4
         }
        },
        {
         "dtype": "int64",
         "name": "X12",
         "stats": {
          "histogram": [
           {
            "bin_end": 0.4,
            "bin_start": 0,
            "count": 11
           },
           {
            "bin_end": 0.8,
            "bin_start": 0.4,
            "count": 0
           },
           {
            "bin_end": 1.2000000000000002,
            "bin_start": 0.8,
            "count": 119
           },
           {
            "bin_end": 1.6,
            "bin_start": 1.2000000000000002,
            "count": 0
           },
           {
            "bin_end": 2,
            "bin_start": 1.6,
            "count": 0
           },
           {
            "bin_end": 2.4000000000000004,
            "bin_start": 2,
            "count": 92
           },
           {
            "bin_end": 2.8000000000000003,
            "bin_start": 2.4000000000000004,
            "count": 0
           },
           {
            "bin_end": 3.2,
            "bin_start": 2.8000000000000003,
            "count": 0
           },
           {
            "bin_end": 3.6,
            "bin_start": 3.2,
            "count": 0
           },
           {
            "bin_end": 4,
            "bin_start": 3.6,
            "count": 162
           }
          ],
          "max": "4",
          "min": "0",
          "nan_count": 0,
          "unique_count": 4
         }
        },
        {
         "dtype": "int64",
         "name": "X13",
         "stats": {
          "histogram": [
           {
            "bin_end": 0.4,
            "bin_start": 0,
            "count": 18
           },
           {
            "bin_end": 0.8,
            "bin_start": 0.4,
            "count": 0
           },
           {
            "bin_end": 1.2000000000000002,
            "bin_start": 0.8,
            "count": 132
           },
           {
            "bin_end": 1.6,
            "bin_start": 1.2000000000000002,
            "count": 0
           },
           {
            "bin_end": 2,
            "bin_start": 1.6,
            "count": 0
           },
           {
            "bin_end": 2.4000000000000004,
            "bin_start": 2,
            "count": 105
           },
           {
            "bin_end": 2.8000000000000003,
            "bin_start": 2.4000000000000004,
            "count": 0
           },
           {
            "bin_end": 3.2,
            "bin_start": 2.8000000000000003,
            "count": 0
           },
           {
            "bin_end": 3.6,
            "bin_start": 3.2,
            "count": 0
           },
           {
            "bin_end": 4,
            "bin_start": 3.6,
            "count": 129
           }
          ],
          "max": "4",
          "min": "0",
          "nan_count": 0,
          "unique_count": 4
         }
        },
        {
         "dtype": "int64",
         "name": "X14",
         "stats": {
          "histogram": [
           {
            "bin_end": 0.4,
            "bin_start": 0,
            "count": 27
           },
           {
            "bin_end": 0.8,
            "bin_start": 0.4,
            "count": 0
           },
           {
            "bin_end": 1.2000000000000002,
            "bin_start": 0.8,
            "count": 132
           },
           {
            "bin_end": 1.6,
            "bin_start": 1.2000000000000002,
            "count": 0
           },
           {
            "bin_end": 2,
            "bin_start": 1.6,
            "count": 0
           },
           {
            "bin_end": 2.4000000000000004,
            "bin_start": 2,
            "count": 89
           },
           {
            "bin_end": 2.8000000000000003,
            "bin_start": 2.4000000000000004,
            "count": 0
           },
           {
            "bin_end": 3.2,
            "bin_start": 2.8000000000000003,
            "count": 0
           },
           {
            "bin_end": 3.6,
            "bin_start": 3.2,
            "count": 0
           },
           {
            "bin_end": 4,
            "bin_start": 3.6,
            "count": 136
           }
          ],
          "max": "4",
          "min": "0",
          "nan_count": 0,
          "unique_count": 4
         }
        },
        {
         "dtype": "int64",
         "name": "X15",
         "stats": {
          "histogram": [
           {
            "bin_end": 0.4,
            "bin_start": 0,
            "count": 41
           },
           {
            "bin_end": 0.8,
            "bin_start": 0.4,
            "count": 0
           },
           {
            "bin_end": 1.2000000000000002,
            "bin_start": 0.8,
            "count": 113
           },
           {
            "bin_end": 1.6,
            "bin_start": 1.2000000000000002,
            "count": 0
           },
           {
            "bin_end": 2,
            "bin_start": 1.6,
            "count": 0
           },
           {
            "bin_end": 2.4000000000000004,
            "bin_start": 2,
            "count": 97
           },
           {
            "bin_end": 2.8000000000000003,
            "bin_start": 2.4000000000000004,
            "count": 0
           },
           {
            "bin_end": 3.2,
            "bin_start": 2.8000000000000003,
            "count": 0
           },
           {
            "bin_end": 3.6,
            "bin_start": 3.2,
            "count": 0
           },
           {
            "bin_end": 4,
            "bin_start": 3.6,
            "count": 133
           }
          ],
          "max": "4",
          "min": "0",
          "nan_count": 0,
          "unique_count": 4
         }
        },
        {
         "dtype": "int64",
         "name": "X16",
         "stats": {
          "histogram": [
           {
            "bin_end": 0.4,
            "bin_start": 0,
            "count": 51
           },
           {
            "bin_end": 0.8,
            "bin_start": 0.4,
            "count": 0
           },
           {
            "bin_end": 1.2000000000000002,
            "bin_start": 0.8,
            "count": 122
           },
           {
            "bin_end": 1.6,
            "bin_start": 1.2000000000000002,
            "count": 0
           },
           {
            "bin_end": 2,
            "bin_start": 1.6,
            "count": 0
           },
           {
            "bin_end": 2.4000000000000004,
            "bin_start": 2,
            "count": 92
           },
           {
            "bin_end": 2.8000000000000003,
            "bin_start": 2.4000000000000004,
            "count": 0
           },
           {
            "bin_end": 3.2,
            "bin_start": 2.8000000000000003,
            "count": 0
           },
           {
            "bin_end": 3.6,
            "bin_start": 3.2,
            "count": 0
           },
           {
            "bin_end": 4,
            "bin_start": 3.6,
            "count": 119
           }
          ],
          "max": "4",
          "min": "0",
          "nan_count": 0,
          "unique_count": 4
         }
        },
        {
         "dtype": "float64",
         "name": "X17",
         "stats": {
          "histogram": [
           {
            "bin_end": 1.4,
            "bin_start": 0,
            "count": 41
           },
           {
            "bin_end": 2.8,
            "bin_start": 1.4,
            "count": 17
           },
           {
            "bin_end": 4.199999999999999,
            "bin_start": 2.8,
            "count": 53
           },
           {
            "bin_end": 5.6,
            "bin_start": 4.199999999999999,
            "count": 39
           },
           {
            "bin_end": 7,
            "bin_start": 5.6,
            "count": 56
           },
           {
            "bin_end": 8.399999999999999,
            "bin_start": 7,
            "count": 99
           },
           {
            "bin_end": 9.799999999999999,
            "bin_start": 8.399999999999999,
            "count": 36
           },
           {
            "bin_end": 11.2,
            "bin_start": 9.799999999999999,
            "count": 36
           },
           {
            "bin_end": 12.6,
            "bin_start": 11.2,
            "count": 4
           },
           {
            "bin_end": 14,
            "bin_start": 12.6,
            "count": 3
           }
          ],
          "max": "14.0",
          "min": "0.0",
          "nan_count": 0,
          "unique_count": 14
         }
        },
        {
         "dtype": "float64",
         "name": "X18",
         "stats": {
          "histogram": [
           {
            "bin_end": 1.8,
            "bin_start": 0,
            "count": 37
           },
           {
            "bin_end": 3.6,
            "bin_start": 1.8,
            "count": 54
           },
           {
            "bin_end": 5.4,
            "bin_start": 3.6,
            "count": 67
           },
           {
            "bin_end": 7.2,
            "bin_start": 5.4,
            "count": 77
           },
           {
            "bin_end": 9,
            "bin_start": 7.2,
            "count": 38
           },
           {
            "bin_end": 10.8,
            "bin_start": 9,
            "count": 60
           },
           {
            "bin_end": 12.6,
            "bin_start": 10.8,
            "count": 28
           },
           {
            "bin_end": 14.4,
            "bin_start": 12.6,
            "count": 16
           },
           {
            "bin_end": 16.2,
            "bin_start": 14.4,
            "count": 5
           },
           {
            "bin_end": 18,
            "bin_start": 16.2,
            "count": 2
           }
          ],
          "max": "18.0",
          "min": "0.0",
          "nan_count": 0,
          "unique_count": 19
         }
        },
        {
         "dtype": "float64",
         "name": "X19",
         "stats": {
          "histogram": [
           {
            "bin_end": 1.4,
            "bin_start": 0,
            "count": 41
           },
           {
            "bin_end": 2.8,
            "bin_start": 1.4,
            "count": 17
           },
           {
            "bin_end": 4.199999999999999,
            "bin_start": 2.8,
            "count": 53
           },
           {
            "bin_end": 5.6,
            "bin_start": 4.199999999999999,
            "count": 39
           },
           {
            "bin_end": 7,
            "bin_start": 5.6,
            "count": 56
           },
           {
            "bin_end": 8.399999999999999,
            "bin_start": 7,
            "count": 99
           },
           {
            "bin_end": 9.799999999999999,
            "bin_start": 8.399999999999999,
            "count": 36
           },
           {
            "bin_end": 11.2,
            "bin_start": 9.799999999999999,
            "count": 36
           },
           {
            "bin_end": 12.6,
            "bin_start": 11.2,
            "count": 4
           },
           {
            "bin_end": 14,
            "bin_start": 12.6,
            "count": 3
           }
          ],
          "max": "14.0",
          "min": "0.0",
          "nan_count": 0,
          "unique_count": 14
         }
        },
        {
         "dtype": "float64",
         "name": "X20",
         "stats": {
          "histogram": [
           {
            "bin_end": 1.8,
            "bin_start": 0,
            "count": 37
           },
           {
            "bin_end": 3.6,
            "bin_start": 1.8,
            "count": 54
           },
           {
            "bin_end": 5.4,
            "bin_start": 3.6,
            "count": 67
           },
           {
            "bin_end": 7.2,
            "bin_start": 5.4,
            "count": 77
           },
           {
            "bin_end": 9,
            "bin_start": 7.2,
            "count": 38
           },
           {
            "bin_end": 10.8,
            "bin_start": 9,
            "count": 60
           },
           {
            "bin_end": 12.6,
            "bin_start": 10.8,
            "count": 28
           },
           {
            "bin_end": 14.4,
            "bin_start": 12.6,
            "count": 16
           },
           {
            "bin_end": 16.2,
            "bin_start": 14.4,
            "count": 5
           },
           {
            "bin_end": 18,
            "bin_start": 16.2,
            "count": 2
           }
          ],
          "max": "18.0",
          "min": "0.0",
          "nan_count": 0,
          "unique_count": 19
         }
        },
        {
         "dtype": "float64",
         "name": "X21",
         "stats": {
          "histogram": [
           {
            "bin_end": 1.6,
            "bin_start": 0,
            "count": 34
           },
           {
            "bin_end": 3.2,
            "bin_start": 1.6,
            "count": 10
           },
           {
            "bin_end": 4.800000000000001,
            "bin_start": 3.2,
            "count": 29
           },
           {
            "bin_end": 6.4,
            "bin_start": 4.800000000000001,
            "count": 76
           },
           {
            "bin_end": 8,
            "bin_start": 6.4,
            "count": 32
           },
           {
            "bin_end": 9.600000000000001,
            "bin_start": 8,
            "count": 91
           },
           {
            "bin_end": 11.200000000000001,
            "bin_start": 9.600000000000001,
            "count": 71
           },
           {
            "bin_end": 12.8,
            "bin_start": 11.200000000000001,
            "count": 15
           },
           {
            "bin_end": 14.4,
            "bin_start": 12.8,
            "count": 24
           },
           {
            "bin_end": 16,
            "bin_start": 14.4,
            "count": 2
           }
          ],
          "max": "16.0",
          "min": "0.0",
          "nan_count": 0,
          "unique_count": 16
         }
        },
        {
         "dtype": "float64",
         "name": "X22",
         "stats": {
          "histogram": [
           {
            "bin_end": 5.1,
            "bin_start": 1,
            "count": 53
           },
           {
            "bin_end": 9.2,
            "bin_start": 5.1,
            "count": 35
           },
           {
            "bin_end": 13.299999999999999,
            "bin_start": 9.2,
            "count": 41
           },
           {
            "bin_end": 17.4,
            "bin_start": 13.299999999999999,
            "count": 37
           },
           {
            "bin_end": 21.5,
            "bin_start": 17.4,
            "count": 39
           },
           {
            "bin_end": 25.599999999999998,
            "bin_start": 21.5,
            "count": 45
           },
           {
            "bin_end": 29.699999999999996,
            "bin_start": 25.599999999999998,
            "count": 37
           },
           {
            "bin_end": 33.8,
            "bin_start": 29.699999999999996,
            "count": 42
           },
           {
            "bin_end": 37.9,
            "bin_start": 33.8,
            "count": 36
           },
           {
            "bin_end": 42,
            "bin_start": 37.9,
            "count": 19
           }
          ],
          "max": "42.0",
          "min": "1.0",
          "nan_count": 0,
          "unique_count": 41
         }
        },
        {
         "dtype": "int64",
         "name": "Y",
         "stats": {
          "histogram": [
           {
            "bin_end": 0.1,
            "bin_start": 0,
            "count": 119
           },
           {
            "bin_end": 0.2,
            "bin_start": 0.1,
            "count": 0
           },
           {
            "bin_end": 0.30000000000000004,
            "bin_start": 0.2,
            "count": 0
           },
           {
            "bin_end": 0.4,
            "bin_start": 0.30000000000000004,
            "count": 0
           },
           {
            "bin_end": 0.5,
            "bin_start": 0.4,
            "count": 0
           },
           {
            "bin_end": 0.6000000000000001,
            "bin_start": 0.5,
            "count": 0
           },
           {
            "bin_end": 0.7000000000000001,
            "bin_start": 0.6000000000000001,
            "count": 0
           },
           {
            "bin_end": 0.8,
            "bin_start": 0.7000000000000001,
            "count": 0
           },
           {
            "bin_end": 0.9,
            "bin_start": 0.8,
            "count": 0
           },
           {
            "bin_end": 1,
            "bin_start": 0.9,
            "count": 265
           }
          ],
          "max": "1",
          "min": "0",
          "nan_count": 0,
          "unique_count": 2
         }
        },
        {
         "dtype": "int64",
         "name": "_deepnote_index_column"
        }
       ],
       "row_count": 384,
       "rows": [
        {
         "AwayTeam": "swansea-city",
         "Date": "2014/12/07",
         "HomeTeam": "west-ham-united",
         "Season": "2014-2015",
         "X1": 35016,
         "X10": 2,
         "X11": 2,
         "X12": 4,
         "X13": 2,
         "X14": 1,
         "X15": 4,
         "X16": 2,
         "X17": 8,
         "X18": 8,
         "X19": 8,
         "X2": 0.9745544893762852,
         "X20": 8,
         "X21": 11,
         "X22": 15,
         "X3": 5,
         "X4": 7,
         "X5": 13,
         "X6": 12,
         "X7": 4,
         "X8": 4,
         "X9": 1,
         "Y": 1,
         "_deepnote_index_column": 8292
        },
        {
         "AwayTeam": "newcastle-united",
         "Date": "2014/11/29",
         "HomeTeam": "west-ham-united",
         "Season": "2014-2015",
         "X1": 35016,
         "X10": 4,
         "X11": 4,
         "X12": 4,
         "X13": 4,
         "X14": 4,
         "X15": 4,
         "X16": 4,
         "X17": 8,
         "X18": 8,
         "X19": 8,
         "X2": 0.9988862234407128,
         "X20": 8,
         "X21": 9,
         "X22": 13,
         "X3": 6,
         "X4": 5,
         "X5": 13,
         "X6": 10,
         "X7": 1,
         "X8": 2,
         "X9": 2,
         "Y": 1,
         "_deepnote_index_column": 8264
        },
        {
         "AwayTeam": "aston-villa",
         "Date": "2014/11/08",
         "HomeTeam": "west-ham-united",
         "Season": "2014-2015",
         "X1": 35016,
         "X10": 4,
         "X11": 1,
         "X12": 1,
         "X13": 1,
         "X14": 1,
         "X15": 1,
         "X16": 1,
         "X17": 8,
         "X18": 8,
         "X19": 8,
         "X2": 0.995459218642906,
         "X20": 8,
         "X21": 11,
         "X22": 11,
         "X3": 5,
         "X4": 16,
         "X5": 13,
         "X6": 15,
         "X7": 2,
         "X8": 4,
         "X9": 4,
         "Y": 1,
         "_deepnote_index_column": 8244
        },
        {
         "AwayTeam": "manchester-city",
         "Date": "2014/10/25",
         "HomeTeam": "west-ham-united",
         "Season": "2014-2015",
         "X1": 35016,
         "X10": 4,
         "X11": 2,
         "X12": 4,
         "X13": 4,
         "X14": 4,
         "X15": 2,
         "X16": 2,
         "X17": 6,
         "X18": 4,
         "X19": 6,
         "X2": 0.9988862234407128,
         "X20": 4,
         "X21": 5,
         "X22": 9,
         "X3": 4,
         "X4": 2,
         "X5": 13,
         "X6": 1,
         "X7": 4,
         "X8": 4,
         "X9": 1,
         "Y": 1,
         "_deepnote_index_column": 8228
        },
        {
         "AwayTeam": "queens-park-rangers",
         "Date": "2014/10/05",
         "HomeTeam": "west-ham-united",
         "Season": "2014-2015",
         "X1": 35016,
         "X10": 1,
         "X11": 4,
         "X12": 1,
         "X13": 2,
         "X14": 1,
         "X15": 4,
         "X16": 1,
         "X17": 4,
         "X18": 10,
         "X19": 4,
         "X2": 0.9968871373086589,
         "X20": 10,
         "X21": 11,
         "X22": 7,
         "X3": 13,
         "X4": 18,
         "X5": 13,
         "X6": 20,
         "X7": 1,
         "X8": 4,
         "X9": 2,
         "Y": 1,
         "_deepnote_index_column": 8212
        },
        {
         "AwayTeam": "liverpool-fc",
         "Date": "2014/09/20",
         "HomeTeam": "west-ham-united",
         "Season": "2014-2015",
         "X1": 35016,
         "X10": 1,
         "X11": 0,
         "X12": 1,
         "X13": 4,
         "X14": 1,
         "X15": 4,
         "X16": 0,
         "X17": 1,
         "X18": 3,
         "X19": 1,
         "X2": 0.9988862234407128,
         "X20": 3,
         "X21": 5,
         "X22": 5,
         "X3": 13,
         "X4": 8,
         "X5": 13,
         "X6": 2,
         "X7": 2,
         "X8": 1,
         "X9": 4,
         "Y": 1,
         "_deepnote_index_column": 8184
        },
        {
         "AwayTeam": "southampton-fc",
         "Date": "2014/08/30",
         "HomeTeam": "west-ham-united",
         "Season": "2014-2015",
         "X1": 35016,
         "X10": 0,
         "X11": 0,
         "X12": 2,
         "X13": 1,
         "X14": 0,
         "X15": 0,
         "X16": 0,
         "X17": 0,
         "X18": 2,
         "X19": 0,
         "X2": 0.9968871373086589,
         "X20": 2,
         "X21": 12,
         "X22": 3,
         "X3": 8,
         "X4": 15,
         "X5": 13,
         "X6": 8,
         "X7": 4,
         "X8": 1,
         "X9": 0,
         "Y": 0,
         "_deepnote_index_column": 8164
        },
        {
         "AwayTeam": "tottenham-hotspur",
         "Date": "2014/08/16",
         "HomeTeam": "west-ham-united",
         "Season": "2014-2015",
         "X1": 35016,
         "X10": 0,
         "X11": 0,
         "X12": 0,
         "X13": 0,
         "X14": 0,
         "X15": 0,
         "X16": 0,
         "X17": 0,
         "X18": 0,
         "X19": 0,
         "X2": 0.9988862234407128,
         "X20": 0,
         "X21": 10,
         "X22": 1,
         "X3": 1,
         "X4": 18,
         "X5": 13,
         "X6": 6,
         "X7": 0,
         "X8": 0,
         "X9": 0,
         "Y": 0,
         "_deepnote_index_column": 8150
        },
        {
         "AwayTeam": "tottenham-hotspur",
         "Date": "2014/05/03",
         "HomeTeam": "west-ham-united",
         "Season": "2013-2014",
         "X1": 35016,
         "X10": 1,
         "X11": 4,
         "X12": 4,
         "X13": 4,
         "X14": 2,
         "X15": 4,
         "X16": 1,
         "X17": 6,
         "X18": 12,
         "X19": 6,
         "X2": 0.9988862234407128,
         "X20": 12,
         "X21": 8,
         "X22": 37,
         "X3": 14,
         "X4": 6,
         "X5": 10,
         "X6": 5,
         "X7": 1,
         "X8": 1,
         "X9": 1,
         "Y": 1,
         "_deepnote_index_column": 8126
        },
        {
         "AwayTeam": "crystal-palace",
         "Date": "2014/04/19",
         "HomeTeam": "west-ham-united",
         "Season": "2013-2014",
         "X1": 35016,
         "X10": 4,
         "X11": 1,
         "X12": 4,
         "X13": 4,
         "X14": 4,
         "X15": 4,
         "X16": 1,
         "X17": 8,
         "X18": 4,
         "X19": 8,
         "X2": 0.9988862234407128,
         "X20": 4,
         "X21": 8,
         "X22": 35,
         "X3": 12,
         "X4": 11,
         "X5": 10,
         "X6": 20,
         "X7": 1,
         "X8": 1,
         "X9": 4,
         "Y": 0,
         "_deepnote_index_column": 8105
        }
       ]
      },
      "text/html": [
       "<div>\n",
       "<style scoped>\n",
       "    .dataframe tbody tr th:only-of-type {\n",
       "        vertical-align: middle;\n",
       "    }\n",
       "\n",
       "    .dataframe tbody tr th {\n",
       "        vertical-align: top;\n",
       "    }\n",
       "\n",
       "    .dataframe thead th {\n",
       "        text-align: right;\n",
       "    }\n",
       "</style>\n",
       "<table border=\"1\" class=\"dataframe\">\n",
       "  <thead>\n",
       "    <tr style=\"text-align: right;\">\n",
       "      <th></th>\n",
       "      <th>HomeTeam</th>\n",
       "      <th>AwayTeam</th>\n",
       "      <th>Date</th>\n",
       "      <th>Season</th>\n",
       "      <th>X1</th>\n",
       "      <th>X2</th>\n",
       "      <th>X3</th>\n",
       "      <th>X4</th>\n",
       "      <th>X5</th>\n",
       "      <th>X6</th>\n",
       "      <th>...</th>\n",
       "      <th>X14</th>\n",
       "      <th>X15</th>\n",
       "      <th>X16</th>\n",
       "      <th>X17</th>\n",
       "      <th>X18</th>\n",
       "      <th>X19</th>\n",
       "      <th>X20</th>\n",
       "      <th>X21</th>\n",
       "      <th>X22</th>\n",
       "      <th>Y</th>\n",
       "    </tr>\n",
       "  </thead>\n",
       "  <tbody>\n",
       "    <tr>\n",
       "      <th>1</th>\n",
       "      <td>west-ham-united</td>\n",
       "      <td>wimbledon-fc</td>\n",
       "      <td>1993/08/14</td>\n",
       "      <td>1993-1994</td>\n",
       "      <td>35016.0</td>\n",
       "      <td>0.581706</td>\n",
       "      <td>1.0</td>\n",
       "      <td>16.0</td>\n",
       "      <td>20</td>\n",
       "      <td>12</td>\n",
       "      <td>...</td>\n",
       "      <td>0</td>\n",
       "      <td>0</td>\n",
       "      <td>0</td>\n",
       "      <td>0.0</td>\n",
       "      <td>0.0</td>\n",
       "      <td>0.0</td>\n",
       "      <td>0.0</td>\n",
       "      <td>0.0</td>\n",
       "      <td>1.0</td>\n",
       "      <td>0</td>\n",
       "    </tr>\n",
       "    <tr>\n",
       "      <th>42</th>\n",
       "      <td>west-ham-united</td>\n",
       "      <td>sheffield-wednesday</td>\n",
       "      <td>1993/08/25</td>\n",
       "      <td>1993-1994</td>\n",
       "      <td>35016.0</td>\n",
       "      <td>0.555203</td>\n",
       "      <td>19.0</td>\n",
       "      <td>20.0</td>\n",
       "      <td>20</td>\n",
       "      <td>7</td>\n",
       "      <td>...</td>\n",
       "      <td>1</td>\n",
       "      <td>0</td>\n",
       "      <td>0</td>\n",
       "      <td>0.0</td>\n",
       "      <td>2.0</td>\n",
       "      <td>0.0</td>\n",
       "      <td>2.0</td>\n",
       "      <td>0.0</td>\n",
       "      <td>4.0</td>\n",
       "      <td>1</td>\n",
       "    </tr>\n",
       "    <tr>\n",
       "      <th>51</th>\n",
       "      <td>west-ham-united</td>\n",
       "      <td>queens-park-rangers</td>\n",
       "      <td>1993/08/28</td>\n",
       "      <td>1993-1994</td>\n",
       "      <td>35016.0</td>\n",
       "      <td>0.516450</td>\n",
       "      <td>14.0</td>\n",
       "      <td>19.0</td>\n",
       "      <td>20</td>\n",
       "      <td>5</td>\n",
       "      <td>...</td>\n",
       "      <td>1</td>\n",
       "      <td>1</td>\n",
       "      <td>0</td>\n",
       "      <td>2.0</td>\n",
       "      <td>6.0</td>\n",
       "      <td>2.0</td>\n",
       "      <td>6.0</td>\n",
       "      <td>0.0</td>\n",
       "      <td>5.0</td>\n",
       "      <td>0</td>\n",
       "    </tr>\n",
       "    <tr>\n",
       "      <th>73</th>\n",
       "      <td>west-ham-united</td>\n",
       "      <td>swindon-town</td>\n",
       "      <td>1993/09/11</td>\n",
       "      <td>1993-1994</td>\n",
       "      <td>35016.0</td>\n",
       "      <td>0.450565</td>\n",
       "      <td>19.0</td>\n",
       "      <td>22.0</td>\n",
       "      <td>20</td>\n",
       "      <td>20</td>\n",
       "      <td>...</td>\n",
       "      <td>1</td>\n",
       "      <td>1</td>\n",
       "      <td>1</td>\n",
       "      <td>2.0</td>\n",
       "      <td>8.0</td>\n",
       "      <td>2.0</td>\n",
       "      <td>8.0</td>\n",
       "      <td>0.0</td>\n",
       "      <td>7.0</td>\n",
       "      <td>1</td>\n",
       "    </tr>\n",
       "    <tr>\n",
       "      <th>107</th>\n",
       "      <td>west-ham-united</td>\n",
       "      <td>chelsea-fc</td>\n",
       "      <td>1993/10/02</td>\n",
       "      <td>1993-1994</td>\n",
       "      <td>35016.0</td>\n",
       "      <td>0.540239</td>\n",
       "      <td>18.0</td>\n",
       "      <td>12.0</td>\n",
       "      <td>20</td>\n",
       "      <td>11</td>\n",
       "      <td>...</td>\n",
       "      <td>4</td>\n",
       "      <td>2</td>\n",
       "      <td>2</td>\n",
       "      <td>2.0</td>\n",
       "      <td>4.0</td>\n",
       "      <td>2.0</td>\n",
       "      <td>4.0</td>\n",
       "      <td>0.0</td>\n",
       "      <td>10.0</td>\n",
       "      <td>1</td>\n",
       "    </tr>\n",
       "    <tr>\n",
       "      <th>...</th>\n",
       "      <td>...</td>\n",
       "      <td>...</td>\n",
       "      <td>...</td>\n",
       "      <td>...</td>\n",
       "      <td>...</td>\n",
       "      <td>...</td>\n",
       "      <td>...</td>\n",
       "      <td>...</td>\n",
       "      <td>...</td>\n",
       "      <td>...</td>\n",
       "      <td>...</td>\n",
       "      <td>...</td>\n",
       "      <td>...</td>\n",
       "      <td>...</td>\n",
       "      <td>...</td>\n",
       "      <td>...</td>\n",
       "      <td>...</td>\n",
       "      <td>...</td>\n",
       "      <td>...</td>\n",
       "      <td>...</td>\n",
       "      <td>...</td>\n",
       "    </tr>\n",
       "    <tr>\n",
       "      <th>8832</th>\n",
       "      <td>west-ham-united</td>\n",
       "      <td>crystal-palace</td>\n",
       "      <td>2016/04/02</td>\n",
       "      <td>2015-2016</td>\n",
       "      <td>35016.0</td>\n",
       "      <td>0.995459</td>\n",
       "      <td>6.0</td>\n",
       "      <td>15.0</td>\n",
       "      <td>12</td>\n",
       "      <td>10</td>\n",
       "      <td>...</td>\n",
       "      <td>2</td>\n",
       "      <td>1</td>\n",
       "      <td>1</td>\n",
       "      <td>8.0</td>\n",
       "      <td>11.0</td>\n",
       "      <td>8.0</td>\n",
       "      <td>11.0</td>\n",
       "      <td>10.0</td>\n",
       "      <td>31.0</td>\n",
       "      <td>1</td>\n",
       "    </tr>\n",
       "    <tr>\n",
       "      <th>8842</th>\n",
       "      <td>west-ham-united</td>\n",
       "      <td>arsenal-fc</td>\n",
       "      <td>2016/04/09</td>\n",
       "      <td>2015-2016</td>\n",
       "      <td>35016.0</td>\n",
       "      <td>0.998886</td>\n",
       "      <td>6.0</td>\n",
       "      <td>3.0</td>\n",
       "      <td>12</td>\n",
       "      <td>3</td>\n",
       "      <td>...</td>\n",
       "      <td>2</td>\n",
       "      <td>1</td>\n",
       "      <td>1</td>\n",
       "      <td>8.0</td>\n",
       "      <td>5.0</td>\n",
       "      <td>8.0</td>\n",
       "      <td>5.0</td>\n",
       "      <td>7.0</td>\n",
       "      <td>32.0</td>\n",
       "      <td>1</td>\n",
       "    </tr>\n",
       "    <tr>\n",
       "      <th>8859</th>\n",
       "      <td>west-ham-united</td>\n",
       "      <td>watford-fc</td>\n",
       "      <td>2016/04/20</td>\n",
       "      <td>2015-2016</td>\n",
       "      <td>35016.0</td>\n",
       "      <td>0.995459</td>\n",
       "      <td>6.0</td>\n",
       "      <td>11.0</td>\n",
       "      <td>12</td>\n",
       "      <td>20</td>\n",
       "      <td>...</td>\n",
       "      <td>1</td>\n",
       "      <td>1</td>\n",
       "      <td>1</td>\n",
       "      <td>9.0</td>\n",
       "      <td>7.0</td>\n",
       "      <td>9.0</td>\n",
       "      <td>7.0</td>\n",
       "      <td>8.0</td>\n",
       "      <td>34.0</td>\n",
       "      <td>1</td>\n",
       "    </tr>\n",
       "    <tr>\n",
       "      <th>8881</th>\n",
       "      <td>west-ham-united</td>\n",
       "      <td>swansea-city</td>\n",
       "      <td>2016/05/07</td>\n",
       "      <td>2015-2016</td>\n",
       "      <td>35016.0</td>\n",
       "      <td>0.996887</td>\n",
       "      <td>5.0</td>\n",
       "      <td>13.0</td>\n",
       "      <td>12</td>\n",
       "      <td>8</td>\n",
       "      <td>...</td>\n",
       "      <td>1</td>\n",
       "      <td>4</td>\n",
       "      <td>2</td>\n",
       "      <td>10.0</td>\n",
       "      <td>13.0</td>\n",
       "      <td>10.0</td>\n",
       "      <td>13.0</td>\n",
       "      <td>12.0</td>\n",
       "      <td>36.0</td>\n",
       "      <td>0</td>\n",
       "    </tr>\n",
       "    <tr>\n",
       "      <th>8890</th>\n",
       "      <td>west-ham-united</td>\n",
       "      <td>manchester-united</td>\n",
       "      <td>2016/05/10</td>\n",
       "      <td>2015-2016</td>\n",
       "      <td>35016.0</td>\n",
       "      <td>0.988177</td>\n",
       "      <td>6.0</td>\n",
       "      <td>5.0</td>\n",
       "      <td>12</td>\n",
       "      <td>4</td>\n",
       "      <td>...</td>\n",
       "      <td>4</td>\n",
       "      <td>4</td>\n",
       "      <td>1</td>\n",
       "      <td>10.0</td>\n",
       "      <td>6.0</td>\n",
       "      <td>10.0</td>\n",
       "      <td>6.0</td>\n",
       "      <td>6.0</td>\n",
       "      <td>37.0</td>\n",
       "      <td>1</td>\n",
       "    </tr>\n",
       "  </tbody>\n",
       "</table>\n",
       "<p>384 rows × 27 columns</p>\n",
       "</div>"
      ],
      "text/plain": [
       "             HomeTeam             AwayTeam        Date     Season       X1  \\\n",
       "1     west-ham-united         wimbledon-fc  1993/08/14  1993-1994  35016.0   \n",
       "42    west-ham-united  sheffield-wednesday  1993/08/25  1993-1994  35016.0   \n",
       "51    west-ham-united  queens-park-rangers  1993/08/28  1993-1994  35016.0   \n",
       "73    west-ham-united         swindon-town  1993/09/11  1993-1994  35016.0   \n",
       "107   west-ham-united           chelsea-fc  1993/10/02  1993-1994  35016.0   \n",
       "...               ...                  ...         ...        ...      ...   \n",
       "8832  west-ham-united       crystal-palace  2016/04/02  2015-2016  35016.0   \n",
       "8842  west-ham-united           arsenal-fc  2016/04/09  2015-2016  35016.0   \n",
       "8859  west-ham-united           watford-fc  2016/04/20  2015-2016  35016.0   \n",
       "8881  west-ham-united         swansea-city  2016/05/07  2015-2016  35016.0   \n",
       "8890  west-ham-united    manchester-united  2016/05/10  2015-2016  35016.0   \n",
       "\n",
       "            X2    X3    X4  X5  X6  ...  X14  X15  X16   X17   X18   X19  \\\n",
       "1     0.581706   1.0  16.0  20  12  ...    0    0    0   0.0   0.0   0.0   \n",
       "42    0.555203  19.0  20.0  20   7  ...    1    0    0   0.0   2.0   0.0   \n",
       "51    0.516450  14.0  19.0  20   5  ...    1    1    0   2.0   6.0   2.0   \n",
       "73    0.450565  19.0  22.0  20  20  ...    1    1    1   2.0   8.0   2.0   \n",
       "107   0.540239  18.0  12.0  20  11  ...    4    2    2   2.0   4.0   2.0   \n",
       "...        ...   ...   ...  ..  ..  ...  ...  ...  ...   ...   ...   ...   \n",
       "8832  0.995459   6.0  15.0  12  10  ...    2    1    1   8.0  11.0   8.0   \n",
       "8842  0.998886   6.0   3.0  12   3  ...    2    1    1   8.0   5.0   8.0   \n",
       "8859  0.995459   6.0  11.0  12  20  ...    1    1    1   9.0   7.0   9.0   \n",
       "8881  0.996887   5.0  13.0  12   8  ...    1    4    2  10.0  13.0  10.0   \n",
       "8890  0.988177   6.0   5.0  12   4  ...    4    4    1  10.0   6.0  10.0   \n",
       "\n",
       "       X20   X21   X22  Y  \n",
       "1      0.0   0.0   1.0  0  \n",
       "42     2.0   0.0   4.0  1  \n",
       "51     6.0   0.0   5.0  0  \n",
       "73     8.0   0.0   7.0  1  \n",
       "107    4.0   0.0  10.0  1  \n",
       "...    ...   ...   ... ..  \n",
       "8832  11.0  10.0  31.0  1  \n",
       "8842   5.0   7.0  32.0  1  \n",
       "8859   7.0   8.0  34.0  1  \n",
       "8881  13.0  12.0  36.0  0  \n",
       "8890   6.0   6.0  37.0  1  \n",
       "\n",
       "[384 rows x 27 columns]"
      ]
     },
     "execution_count": 59,
     "metadata": {},
     "output_type": "execute_result"
    }
   ],
   "source": [
    "whu_capicity.get_group(35016)"
   ]
  },
  {
   "cell_type": "code",
   "execution_count": null,
   "metadata": {
    "cell_id": "8bc3512cf86d482b987bd180e8227a33",
    "deepnote_cell_height": 631.921875,
    "deepnote_cell_type": "code",
    "deepnote_table_loading": false,
    "deepnote_table_state": {
     "filters": [],
     "pageIndex": 3,
     "pageSize": 10,
     "sortBy": [
      {
       "id": "Date",
       "type": "asc"
      }
     ]
    },
    "deepnote_to_be_reexecuted": true,
    "execution_millis": 113,
    "execution_start": 1649773174024,
    "source_hash": "e3d9923c",
    "tags": []
   },
   "outputs": [
    {
     "data": {
      "application/vnd.deepnote.dataframe.v3+json": {
       "column_count": 27,
       "columns": [
        {
         "dtype": "object",
         "name": "HomeTeam",
         "stats": {
          "categories": [
           {
            "count": 106,
            "name": "west-ham-united"
           }
          ],
          "nan_count": 0,
          "unique_count": 1
         }
        },
        {
         "dtype": "object",
         "name": "AwayTeam",
         "stats": {
          "categories": [
           {
            "count": 6,
            "name": "manchester-united"
           },
           {
            "count": 6,
            "name": "crystal-palace"
           },
           {
            "count": 94,
            "name": "28 others"
           }
          ],
          "nan_count": 0,
          "unique_count": 30
         }
        },
        {
         "dtype": "object",
         "name": "Date",
         "stats": {
          "categories": [
           {
            "count": 1,
            "name": "2016/08/21"
           },
           {
            "count": 1,
            "name": "2016/09/10"
           },
           {
            "count": 104,
            "name": "104 others"
           }
          ],
          "nan_count": 0,
          "unique_count": 106
         }
        },
        {
         "dtype": "object",
         "name": "Season",
         "stats": {
          "categories": [
           {
            "count": 19,
            "name": "2016-2017"
           },
           {
            "count": 19,
            "name": "2018-2019"
           },
           {
            "count": 68,
            "name": "4 others"
           }
          ],
          "nan_count": 0,
          "unique_count": 6
         }
        },
        {
         "dtype": "float64",
         "name": "X1",
         "stats": {
          "histogram": [
           {
            "bin_end": 59999.6,
            "bin_start": 59999.5,
            "count": 0
           },
           {
            "bin_end": 59999.7,
            "bin_start": 59999.6,
            "count": 0
           },
           {
            "bin_end": 59999.8,
            "bin_start": 59999.7,
            "count": 0
           },
           {
            "bin_end": 59999.9,
            "bin_start": 59999.8,
            "count": 0
           },
           {
            "bin_end": 60000,
            "bin_start": 59999.9,
            "count": 0
           },
           {
            "bin_end": 60000.1,
            "bin_start": 60000,
            "count": 106
           },
           {
            "bin_end": 60000.2,
            "bin_start": 60000.1,
            "count": 0
           },
           {
            "bin_end": 60000.3,
            "bin_start": 60000.2,
            "count": 0
           },
           {
            "bin_end": 60000.4,
            "bin_start": 60000.3,
            "count": 0
           },
           {
            "bin_end": 60000.5,
            "bin_start": 60000.4,
            "count": 0
           }
          ],
          "max": "60000.0",
          "min": "60000.0",
          "nan_count": 0,
          "unique_count": 1
         }
        },
        {
         "dtype": "float64",
         "name": "X2",
         "stats": {
          "histogram": [
           {
            "bin_end": 0.1,
            "bin_start": 0,
            "count": 23
           },
           {
            "bin_end": 0.2,
            "bin_start": 0.1,
            "count": 1
           },
           {
            "bin_end": 0.30000000000000004,
            "bin_start": 0.2,
            "count": 0
           },
           {
            "bin_end": 0.4,
            "bin_start": 0.30000000000000004,
            "count": 0
           },
           {
            "bin_end": 0.5,
            "bin_start": 0.4,
            "count": 0
           },
           {
            "bin_end": 0.6000000000000001,
            "bin_start": 0.5,
            "count": 0
           },
           {
            "bin_end": 0.7000000000000001,
            "bin_start": 0.6000000000000001,
            "count": 0
           },
           {
            "bin_end": 0.8,
            "bin_start": 0.7000000000000001,
            "count": 1
           },
           {
            "bin_end": 0.9,
            "bin_start": 0.8,
            "count": 2
           },
           {
            "bin_end": 1,
            "bin_start": 0.9,
            "count": 79
           }
          ],
          "max": "1.0",
          "min": "0.0",
          "nan_count": 0,
          "unique_count": 73
         }
        },
        {
         "dtype": "float64",
         "name": "X3",
         "stats": {
          "histogram": [
           {
            "bin_end": 2.9,
            "bin_start": 1,
            "count": 2
           },
           {
            "bin_end": 4.8,
            "bin_start": 2.9,
            "count": 5
           },
           {
            "bin_end": 6.699999999999999,
            "bin_start": 4.8,
            "count": 15
           },
           {
            "bin_end": 8.6,
            "bin_start": 6.699999999999999,
            "count": 4
           },
           {
            "bin_end": 10.5,
            "bin_start": 8.6,
            "count": 14
           },
           {
            "bin_end": 12.399999999999999,
            "bin_start": 10.5,
            "count": 13
           },
           {
            "bin_end": 14.299999999999999,
            "bin_start": 12.399999999999999,
            "count": 12
           },
           {
            "bin_end": 16.2,
            "bin_start": 14.299999999999999,
            "count": 20
           },
           {
            "bin_end": 18.099999999999998,
            "bin_start": 16.2,
            "count": 17
           },
           {
            "bin_end": 20,
            "bin_start": 18.099999999999998,
            "count": 4
           }
          ],
          "max": "20.0",
          "min": "1.0",
          "nan_count": 0,
          "unique_count": 18
         }
        },
        {
         "dtype": "float64",
         "name": "X4",
         "stats": {
          "histogram": [
           {
            "bin_end": 2.9,
            "bin_start": 1,
            "count": 12
           },
           {
            "bin_end": 4.8,
            "bin_start": 2.9,
            "count": 9
           },
           {
            "bin_end": 6.699999999999999,
            "bin_start": 4.8,
            "count": 10
           },
           {
            "bin_end": 8.6,
            "bin_start": 6.699999999999999,
            "count": 8
           },
           {
            "bin_end": 10.5,
            "bin_start": 8.6,
            "count": 11
           },
           {
            "bin_end": 12.399999999999999,
            "bin_start": 10.5,
            "count": 10
           },
           {
            "bin_end": 14.299999999999999,
            "bin_start": 12.399999999999999,
            "count": 11
           },
           {
            "bin_end": 16.2,
            "bin_start": 14.299999999999999,
            "count": 14
           },
           {
            "bin_end": 18.099999999999998,
            "bin_start": 16.2,
            "count": 11
           },
           {
            "bin_end": 20,
            "bin_start": 18.099999999999998,
            "count": 10
           }
          ],
          "max": "20.0",
          "min": "1.0",
          "nan_count": 0,
          "unique_count": 20
         }
        },
        {
         "dtype": "int64",
         "name": "X5",
         "stats": {
          "histogram": [
           {
            "bin_end": 7,
            "bin_start": 6,
            "count": 12
           },
           {
            "bin_end": 8,
            "bin_start": 7,
            "count": 19
           },
           {
            "bin_end": 9,
            "bin_start": 8,
            "count": 0
           },
           {
            "bin_end": 10,
            "bin_start": 9,
            "count": 0
           },
           {
            "bin_end": 11,
            "bin_start": 10,
            "count": 19
           },
           {
            "bin_end": 12,
            "bin_start": 11,
            "count": 18
           },
           {
            "bin_end": 13,
            "bin_start": 12,
            "count": 0
           },
           {
            "bin_end": 14,
            "bin_start": 13,
            "count": 19
           },
           {
            "bin_end": 15,
            "bin_start": 14,
            "count": 0
           },
           {
            "bin_end": 16,
            "bin_start": 15,
            "count": 19
           }
          ],
          "max": "16",
          "min": "6",
          "nan_count": 0,
          "unique_count": 6
         }
        },
        {
         "dtype": "int64",
         "name": "X6",
         "stats": {
          "histogram": [
           {
            "bin_end": 2.9,
            "bin_start": 1,
            "count": 11
           },
           {
            "bin_end": 4.8,
            "bin_start": 2.9,
            "count": 12
           },
           {
            "bin_end": 6.699999999999999,
            "bin_start": 4.8,
            "count": 11
           },
           {
            "bin_end": 8.6,
            "bin_start": 6.699999999999999,
            "count": 9
           },
           {
            "bin_end": 10.5,
            "bin_start": 8.6,
            "count": 10
           },
           {
            "bin_end": 12.399999999999999,
            "bin_start": 10.5,
            "count": 9
           },
           {
            "bin_end": 14.299999999999999,
            "bin_start": 12.399999999999999,
            "count": 10
           },
           {
            "bin_end": 16.2,
            "bin_start": 14.299999999999999,
            "count": 11
           },
           {
            "bin_end": 18.099999999999998,
            "bin_start": 16.2,
            "count": 5
           },
           {
            "bin_end": 20,
            "bin_start": 18.099999999999998,
            "count": 18
           }
          ],
          "max": "20",
          "min": "1",
          "nan_count": 0,
          "unique_count": 18
         }
        },
        {
         "dtype": "int64",
         "name": "X7",
         "stats": {
          "histogram": [
           {
            "bin_end": 0.4,
            "bin_start": 0,
            "count": 2
           },
           {
            "bin_end": 0.8,
            "bin_start": 0.4,
            "count": 0
           },
           {
            "bin_end": 1.2000000000000002,
            "bin_start": 0.8,
            "count": 44
           },
           {
            "bin_end": 1.6,
            "bin_start": 1.2000000000000002,
            "count": 0
           },
           {
            "bin_end": 2,
            "bin_start": 1.6,
            "count": 0
           },
           {
            "bin_end": 2.4000000000000004,
            "bin_start": 2,
            "count": 26
           },
           {
            "bin_end": 2.8000000000000003,
            "bin_start": 2.4000000000000004,
            "count": 0
           },
           {
            "bin_end": 3.2,
            "bin_start": 2.8000000000000003,
            "count": 0
           },
           {
            "bin_end": 3.6,
            "bin_start": 3.2,
            "count": 0
           },
           {
            "bin_end": 4,
            "bin_start": 3.6,
            "count": 34
           }
          ],
          "max": "4",
          "min": "0",
          "nan_count": 0,
          "unique_count": 4
         }
        },
        {
         "dtype": "int64",
         "name": "X8",
         "stats": {
          "histogram": [
           {
            "bin_end": 0.4,
            "bin_start": 0,
            "count": 5
           },
           {
            "bin_end": 0.8,
            "bin_start": 0.4,
            "count": 0
           },
           {
            "bin_end": 1.2000000000000002,
            "bin_start": 0.8,
            "count": 40
           },
           {
            "bin_end": 1.6,
            "bin_start": 1.2000000000000002,
            "count": 0
           },
           {
            "bin_end": 2,
            "bin_start": 1.6,
            "count": 0
           },
           {
            "bin_end": 2.4000000000000004,
            "bin_start": 2,
            "count": 22
           },
           {
            "bin_end": 2.8000000000000003,
            "bin_start": 2.4000000000000004,
            "count": 0
           },
           {
            "bin_end": 3.2,
            "bin_start": 2.8000000000000003,
            "count": 0
           },
           {
            "bin_end": 3.6,
            "bin_start": 3.2,
            "count": 0
           },
           {
            "bin_end": 4,
            "bin_start": 3.6,
            "count": 39
           }
          ],
          "max": "4",
          "min": "0",
          "nan_count": 0,
          "unique_count": 4
         }
        },
        {
         "dtype": "int64",
         "name": "X9",
         "stats": {
          "histogram": [
           {
            "bin_end": 0.4,
            "bin_start": 0,
            "count": 7
           },
           {
            "bin_end": 0.8,
            "bin_start": 0.4,
            "count": 0
           },
           {
            "bin_end": 1.2000000000000002,
            "bin_start": 0.8,
            "count": 42
           },
           {
            "bin_end": 1.6,
            "bin_start": 1.2000000000000002,
            "count": 0
           },
           {
            "bin_end": 2,
            "bin_start": 1.6,
            "count": 0
           },
           {
            "bin_end": 2.4000000000000004,
            "bin_start": 2,
            "count": 25
           },
           {
            "bin_end": 2.8000000000000003,
            "bin_start": 2.4000000000000004,
            "count": 0
           },
           {
            "bin_end": 3.2,
            "bin_start": 2.8000000000000003,
            "count": 0
           },
           {
            "bin_end": 3.6,
            "bin_start": 3.2,
            "count": 0
           },
           {
            "bin_end": 4,
            "bin_start": 3.6,
            "count": 32
           }
          ],
          "max": "4",
          "min": "0",
          "nan_count": 0,
          "unique_count": 4
         }
        },
        {
         "dtype": "int64",
         "name": "X10",
         "stats": {
          "histogram": [
           {
            "bin_end": 0.4,
            "bin_start": 0,
            "count": 11
           },
           {
            "bin_end": 0.8,
            "bin_start": 0.4,
            "count": 0
           },
           {
            "bin_end": 1.2000000000000002,
            "bin_start": 0.8,
            "count": 42
           },
           {
            "bin_end": 1.6,
            "bin_start": 1.2000000000000002,
            "count": 0
           },
           {
            "bin_end": 2,
            "bin_start": 1.6,
            "count": 0
           },
           {
            "bin_end": 2.4000000000000004,
            "bin_start": 2,
            "count": 20
           },
           {
            "bin_end": 2.8000000000000003,
            "bin_start": 2.4000000000000004,
            "count": 0
           },
           {
            "bin_end": 3.2,
            "bin_start": 2.8000000000000003,
            "count": 0
           },
           {
            "bin_end": 3.6,
            "bin_start": 3.2,
            "count": 0
           },
           {
            "bin_end": 4,
            "bin_start": 3.6,
            "count": 33
           }
          ],
          "max": "4",
          "min": "0",
          "nan_count": 0,
          "unique_count": 4
         }
        },
        {
         "dtype": "int64",
         "name": "X11",
         "stats": {
          "histogram": [
           {
            "bin_end": 0.4,
            "bin_start": 0,
            "count": 12
           },
           {
            "bin_end": 0.8,
            "bin_start": 0.4,
            "count": 0
           },
           {
            "bin_end": 1.2000000000000002,
            "bin_start": 0.8,
            "count": 42
           },
           {
            "bin_end": 1.6,
            "bin_start": 1.2000000000000002,
            "count": 0
           },
           {
            "bin_end": 2,
            "bin_start": 1.6,
            "count": 0
           },
           {
            "bin_end": 2.4000000000000004,
            "bin_start": 2,
            "count": 20
           },
           {
            "bin_end": 2.8000000000000003,
            "bin_start": 2.4000000000000004,
            "count": 0
           },
           {
            "bin_end": 3.2,
            "bin_start": 2.8000000000000003,
            "count": 0
           },
           {
            "bin_end": 3.6,
            "bin_start": 3.2,
            "count": 0
           },
           {
            "bin_end": 4,
            "bin_start": 3.6,
            "count": 32
           }
          ],
          "max": "4",
          "min": "0",
          "nan_count": 0,
          "unique_count": 4
         }
        },
        {
         "dtype": "int64",
         "name": "X12",
         "stats": {
          "histogram": [
           {
            "bin_end": 0.4,
            "bin_start": 0,
            "count": 3
           },
           {
            "bin_end": 0.8,
            "bin_start": 0.4,
            "count": 0
           },
           {
            "bin_end": 1.2000000000000002,
            "bin_start": 0.8,
            "count": 32
           },
           {
            "bin_end": 1.6,
            "bin_start": 1.2000000000000002,
            "count": 0
           },
           {
            "bin_end": 2,
            "bin_start": 1.6,
            "count": 0
           },
           {
            "bin_end": 2.4000000000000004,
            "bin_start": 2,
            "count": 25
           },
           {
            "bin_end": 2.8000000000000003,
            "bin_start": 2.4000000000000004,
            "count": 0
           },
           {
            "bin_end": 3.2,
            "bin_start": 2.8000000000000003,
            "count": 0
           },
           {
            "bin_end": 3.6,
            "bin_start": 3.2,
            "count": 0
           },
           {
            "bin_end": 4,
            "bin_start": 3.6,
            "count": 46
           }
          ],
          "max": "4",
          "min": "0",
          "nan_count": 0,
          "unique_count": 4
         }
        },
        {
         "dtype": "int64",
         "name": "X13",
         "stats": {
          "histogram": [
           {
            "bin_end": 0.4,
            "bin_start": 0,
            "count": 6
           },
           {
            "bin_end": 0.8,
            "bin_start": 0.4,
            "count": 0
           },
           {
            "bin_end": 1.2000000000000002,
            "bin_start": 0.8,
            "count": 30
           },
           {
            "bin_end": 1.6,
            "bin_start": 1.2000000000000002,
            "count": 0
           },
           {
            "bin_end": 2,
            "bin_start": 1.6,
            "count": 0
           },
           {
            "bin_end": 2.4000000000000004,
            "bin_start": 2,
            "count": 27
           },
           {
            "bin_end": 2.8000000000000003,
            "bin_start": 2.4000000000000004,
            "count": 0
           },
           {
            "bin_end": 3.2,
            "bin_start": 2.8000000000000003,
            "count": 0
           },
           {
            "bin_end": 3.6,
            "bin_start": 3.2,
            "count": 0
           },
           {
            "bin_end": 4,
            "bin_start": 3.6,
            "count": 43
           }
          ],
          "max": "4",
          "min": "0",
          "nan_count": 0,
          "unique_count": 4
         }
        },
        {
         "dtype": "int64",
         "name": "X14",
         "stats": {
          "histogram": [
           {
            "bin_end": 0.4,
            "bin_start": 0,
            "count": 7
           },
           {
            "bin_end": 0.8,
            "bin_start": 0.4,
            "count": 0
           },
           {
            "bin_end": 1.2000000000000002,
            "bin_start": 0.8,
            "count": 40
           },
           {
            "bin_end": 1.6,
            "bin_start": 1.2000000000000002,
            "count": 0
           },
           {
            "bin_end": 2,
            "bin_start": 1.6,
            "count": 0
           },
           {
            "bin_end": 2.4000000000000004,
            "bin_start": 2,
            "count": 23
           },
           {
            "bin_end": 2.8000000000000003,
            "bin_start": 2.4000000000000004,
            "count": 0
           },
           {
            "bin_end": 3.2,
            "bin_start": 2.8000000000000003,
            "count": 0
           },
           {
            "bin_end": 3.6,
            "bin_start": 3.2,
            "count": 0
           },
           {
            "bin_end": 4,
            "bin_start": 3.6,
            "count": 36
           }
          ],
          "max": "4",
          "min": "0",
          "nan_count": 0,
          "unique_count": 4
         }
        },
        {
         "dtype": "int64",
         "name": "X15",
         "stats": {
          "histogram": [
           {
            "bin_end": 0.4,
            "bin_start": 0,
            "count": 11
           },
           {
            "bin_end": 0.8,
            "bin_start": 0.4,
            "count": 0
           },
           {
            "bin_end": 1.2000000000000002,
            "bin_start": 0.8,
            "count": 44
           },
           {
            "bin_end": 1.6,
            "bin_start": 1.2000000000000002,
            "count": 0
           },
           {
            "bin_end": 2,
            "bin_start": 1.6,
            "count": 0
           },
           {
            "bin_end": 2.4000000000000004,
            "bin_start": 2,
            "count": 24
           },
           {
            "bin_end": 2.8000000000000003,
            "bin_start": 2.4000000000000004,
            "count": 0
           },
           {
            "bin_end": 3.2,
            "bin_start": 2.8000000000000003,
            "count": 0
           },
           {
            "bin_end": 3.6,
            "bin_start": 3.2,
            "count": 0
           },
           {
            "bin_end": 4,
            "bin_start": 3.6,
            "count": 27
           }
          ],
          "max": "4",
          "min": "0",
          "nan_count": 0,
          "unique_count": 4
         }
        },
        {
         "dtype": "int64",
         "name": "X16",
         "stats": {
          "histogram": [
           {
            "bin_end": 0.4,
            "bin_start": 0,
            "count": 13
           },
           {
            "bin_end": 0.8,
            "bin_start": 0.4,
            "count": 0
           },
           {
            "bin_end": 1.2000000000000002,
            "bin_start": 0.8,
            "count": 36
           },
           {
            "bin_end": 1.6,
            "bin_start": 1.2000000000000002,
            "count": 0
           },
           {
            "bin_end": 2,
            "bin_start": 1.6,
            "count": 0
           },
           {
            "bin_end": 2.4000000000000004,
            "bin_start": 2,
            "count": 23
           },
           {
            "bin_end": 2.8000000000000003,
            "bin_start": 2.4000000000000004,
            "count": 0
           },
           {
            "bin_end": 3.2,
            "bin_start": 2.8000000000000003,
            "count": 0
           },
           {
            "bin_end": 3.6,
            "bin_start": 3.2,
            "count": 0
           },
           {
            "bin_end": 4,
            "bin_start": 3.6,
            "count": 34
           }
          ],
          "max": "4",
          "min": "0",
          "nan_count": 0,
          "unique_count": 4
         }
        },
        {
         "dtype": "float64",
         "name": "X17",
         "stats": {
          "histogram": [
           {
            "bin_end": 1.3,
            "bin_start": 0,
            "count": 12
           },
           {
            "bin_end": 2.6,
            "bin_start": 1.3,
            "count": 2
           },
           {
            "bin_end": 3.9000000000000004,
            "bin_start": 2.6,
            "count": 3
           },
           {
            "bin_end": 5.2,
            "bin_start": 3.9000000000000004,
            "count": 23
           },
           {
            "bin_end": 6.5,
            "bin_start": 5.2,
            "count": 13
           },
           {
            "bin_end": 7.800000000000001,
            "bin_start": 6.5,
            "count": 17
           },
           {
            "bin_end": 9.1,
            "bin_start": 7.800000000000001,
            "count": 21
           },
           {
            "bin_end": 10.4,
            "bin_start": 9.1,
            "count": 9
           },
           {
            "bin_end": 11.700000000000001,
            "bin_start": 10.4,
            "count": 5
           },
           {
            "bin_end": 13,
            "bin_start": 11.700000000000001,
            "count": 1
           }
          ],
          "max": "13.0",
          "min": "0.0",
          "nan_count": 0,
          "unique_count": 13
         }
        },
        {
         "dtype": "float64",
         "name": "X18",
         "stats": {
          "histogram": [
           {
            "bin_end": 1.5,
            "bin_start": 0,
            "count": 16
           },
           {
            "bin_end": 3,
            "bin_start": 1.5,
            "count": 5
           },
           {
            "bin_end": 4.5,
            "bin_start": 3,
            "count": 18
           },
           {
            "bin_end": 6,
            "bin_start": 4.5,
            "count": 4
           },
           {
            "bin_end": 7.5,
            "bin_start": 6,
            "count": 23
           },
           {
            "bin_end": 9,
            "bin_start": 7.5,
            "count": 12
           },
           {
            "bin_end": 10.5,
            "bin_start": 9,
            "count": 14
           },
           {
            "bin_end": 12,
            "bin_start": 10.5,
            "count": 5
           },
           {
            "bin_end": 13.5,
            "bin_start": 12,
            "count": 6
           },
           {
            "bin_end": 15,
            "bin_start": 13.5,
            "count": 3
           }
          ],
          "max": "15.0",
          "min": "0.0",
          "nan_count": 0,
          "unique_count": 16
         }
        },
        {
         "dtype": "float64",
         "name": "X19",
         "stats": {
          "histogram": [
           {
            "bin_end": 1.3,
            "bin_start": 0,
            "count": 12
           },
           {
            "bin_end": 2.6,
            "bin_start": 1.3,
            "count": 2
           },
           {
            "bin_end": 3.9000000000000004,
            "bin_start": 2.6,
            "count": 3
           },
           {
            "bin_end": 5.2,
            "bin_start": 3.9000000000000004,
            "count": 23
           },
           {
            "bin_end": 6.5,
            "bin_start": 5.2,
            "count": 13
           },
           {
            "bin_end": 7.800000000000001,
            "bin_start": 6.5,
            "count": 17
           },
           {
            "bin_end": 9.1,
            "bin_start": 7.800000000000001,
            "count": 21
           },
           {
            "bin_end": 10.4,
            "bin_start": 9.1,
            "count": 9
           },
           {
            "bin_end": 11.700000000000001,
            "bin_start": 10.4,
            "count": 5
           },
           {
            "bin_end": 13,
            "bin_start": 11.700000000000001,
            "count": 1
           }
          ],
          "max": "13.0",
          "min": "0.0",
          "nan_count": 0,
          "unique_count": 13
         }
        },
        {
         "dtype": "float64",
         "name": "X20",
         "stats": {
          "histogram": [
           {
            "bin_end": 1.5,
            "bin_start": 0,
            "count": 16
           },
           {
            "bin_end": 3,
            "bin_start": 1.5,
            "count": 5
           },
           {
            "bin_end": 4.5,
            "bin_start": 3,
            "count": 18
           },
           {
            "bin_end": 6,
            "bin_start": 4.5,
            "count": 4
           },
           {
            "bin_end": 7.5,
            "bin_start": 6,
            "count": 23
           },
           {
            "bin_end": 9,
            "bin_start": 7.5,
            "count": 12
           },
           {
            "bin_end": 10.5,
            "bin_start": 9,
            "count": 14
           },
           {
            "bin_end": 12,
            "bin_start": 10.5,
            "count": 5
           },
           {
            "bin_end": 13.5,
            "bin_start": 12,
            "count": 6
           },
           {
            "bin_end": 15,
            "bin_start": 13.5,
            "count": 3
           }
          ],
          "max": "15.0",
          "min": "0.0",
          "nan_count": 0,
          "unique_count": 16
         }
        },
        {
         "dtype": "float64",
         "name": "X21",
         "stats": {
          "histogram": [
           {
            "bin_end": 1.6,
            "bin_start": 0,
            "count": 3
           },
           {
            "bin_end": 3.2,
            "bin_start": 1.6,
            "count": 1
           },
           {
            "bin_end": 4.800000000000001,
            "bin_start": 3.2,
            "count": 6
           },
           {
            "bin_end": 6.4,
            "bin_start": 4.800000000000001,
            "count": 10
           },
           {
            "bin_end": 8,
            "bin_start": 6.4,
            "count": 9
           },
           {
            "bin_end": 9.600000000000001,
            "bin_start": 8,
            "count": 39
           },
           {
            "bin_end": 11.200000000000001,
            "bin_start": 9.600000000000001,
            "count": 23
           },
           {
            "bin_end": 12.8,
            "bin_start": 11.200000000000001,
            "count": 5
           },
           {
            "bin_end": 14.4,
            "bin_start": 12.8,
            "count": 8
           },
           {
            "bin_end": 16,
            "bin_start": 14.4,
            "count": 2
           }
          ],
          "max": "16.0",
          "min": "0.0",
          "nan_count": 0,
          "unique_count": 14
         }
        },
        {
         "dtype": "float64",
         "name": "X22",
         "stats": {
          "histogram": [
           {
            "bin_end": 4.7,
            "bin_start": 1,
            "count": 11
           },
           {
            "bin_end": 8.4,
            "bin_start": 4.7,
            "count": 12
           },
           {
            "bin_end": 12.100000000000001,
            "bin_start": 8.4,
            "count": 12
           },
           {
            "bin_end": 15.8,
            "bin_start": 12.100000000000001,
            "count": 9
           },
           {
            "bin_end": 19.5,
            "bin_start": 15.8,
            "count": 11
           },
           {
            "bin_end": 23.200000000000003,
            "bin_start": 19.5,
            "count": 12
           },
           {
            "bin_end": 26.900000000000002,
            "bin_start": 23.200000000000003,
            "count": 9
           },
           {
            "bin_end": 30.6,
            "bin_start": 26.900000000000002,
            "count": 10
           },
           {
            "bin_end": 34.300000000000004,
            "bin_start": 30.6,
            "count": 10
           },
           {
            "bin_end": 38,
            "bin_start": 34.300000000000004,
            "count": 10
           }
          ],
          "max": "38.0",
          "min": "1.0",
          "nan_count": 0,
          "unique_count": 36
         }
        },
        {
         "dtype": "int64",
         "name": "Y",
         "stats": {
          "histogram": [
           {
            "bin_end": 0.1,
            "bin_start": 0,
            "count": 38
           },
           {
            "bin_end": 0.2,
            "bin_start": 0.1,
            "count": 0
           },
           {
            "bin_end": 0.30000000000000004,
            "bin_start": 0.2,
            "count": 0
           },
           {
            "bin_end": 0.4,
            "bin_start": 0.30000000000000004,
            "count": 0
           },
           {
            "bin_end": 0.5,
            "bin_start": 0.4,
            "count": 0
           },
           {
            "bin_end": 0.6000000000000001,
            "bin_start": 0.5,
            "count": 0
           },
           {
            "bin_end": 0.7000000000000001,
            "bin_start": 0.6000000000000001,
            "count": 0
           },
           {
            "bin_end": 0.8,
            "bin_start": 0.7000000000000001,
            "count": 0
           },
           {
            "bin_end": 0.9,
            "bin_start": 0.8,
            "count": 0
           },
           {
            "bin_end": 1,
            "bin_start": 0.9,
            "count": 68
           }
          ],
          "max": "1",
          "min": "0",
          "nan_count": 0,
          "unique_count": 2
         }
        },
        {
         "dtype": "int64",
         "name": "_deepnote_index_column"
        }
       ],
       "row_count": 106,
       "rows": [
        {
         "AwayTeam": "crystal-palace",
         "Date": "2018/01/30",
         "HomeTeam": "west-ham-united",
         "Season": "2017-2018",
         "X1": 60000,
         "X10": 4,
         "X11": 2,
         "X12": 1,
         "X13": 4,
         "X14": 4,
         "X15": 2,
         "X16": 1,
         "X17": 6,
         "X18": 6,
         "X19": 6,
         "X2": 0.9485166666666668,
         "X20": 6,
         "X21": 12,
         "X22": 25,
         "X3": 11,
         "X4": 13,
         "X5": 11,
         "X6": 14,
         "X7": 2,
         "X8": 4,
         "X9": 2,
         "Y": 1,
         "_deepnote_index_column": 9524
        },
        {
         "AwayTeam": "watford-fc",
         "Date": "2018/02/10",
         "HomeTeam": "west-ham-united",
         "Season": "2017-2018",
         "X1": 60000,
         "X10": 4,
         "X11": 2,
         "X12": 4,
         "X13": 2,
         "X14": 1,
         "X15": 2,
         "X16": 1,
         "X17": 6,
         "X18": 8,
         "X19": 6,
         "X2": 0.9366166666666668,
         "X20": 8,
         "X21": 8,
         "X22": 27,
         "X3": 12,
         "X4": 11,
         "X5": 11,
         "X6": 17,
         "X7": 1,
         "X8": 2,
         "X9": 2,
         "Y": 1,
         "_deepnote_index_column": 9549
        },
        {
         "AwayTeam": "burnley-fc",
         "Date": "2018/03/10",
         "HomeTeam": "west-ham-united",
         "Season": "2017-2018",
         "X1": 60000,
         "X10": 1,
         "X11": 2,
         "X12": 4,
         "X13": 2,
         "X14": 1,
         "X15": 2,
         "X16": 2,
         "X17": 8,
         "X18": 5,
         "X19": 8,
         "X2": 0.9484,
         "X20": 5,
         "X21": 14,
         "X22": 30,
         "X3": 14,
         "X4": 7,
         "X5": 11,
         "X6": 16,
         "X7": 1,
         "X8": 1,
         "X9": 4,
         "Y": 0,
         "_deepnote_index_column": 9579
        },
        {
         "AwayTeam": "stoke-city",
         "Date": "2018/04/16",
         "HomeTeam": "west-ham-united",
         "Season": "2017-2018",
         "X1": 60000,
         "X10": 1,
         "X11": 1,
         "X12": 1,
         "X13": 1,
         "X14": 1,
         "X15": 1,
         "X16": 2,
         "X17": 7,
         "X18": 9,
         "X19": 7,
         "X2": 0.9465833333333332,
         "X20": 9,
         "X21": 9,
         "X22": 33,
         "X3": 14,
         "X4": 19,
         "X5": 11,
         "X6": 13,
         "X7": 2,
         "X8": 4,
         "X9": 1,
         "Y": 1,
         "_deepnote_index_column": 9617
        },
        {
         "AwayTeam": "manchester-city",
         "Date": "2018/04/29",
         "HomeTeam": "west-ham-united",
         "Season": "2017-2018",
         "X1": 60000,
         "X10": 4,
         "X11": 1,
         "X12": 4,
         "X13": 4,
         "X14": 1,
         "X15": 4,
         "X16": 4,
         "X17": 7,
         "X18": 3,
         "X19": 7,
         "X2": 0.9484,
         "X20": 3,
         "X21": 5,
         "X22": 35,
         "X3": 14,
         "X4": 1,
         "X5": 11,
         "X6": 3,
         "X7": 1,
         "X8": 2,
         "X9": 2,
         "Y": 0,
         "_deepnote_index_column": 9636
        },
        {
         "AwayTeam": "manchester-united",
         "Date": "2018/05/10",
         "HomeTeam": "west-ham-united",
         "Season": "2017-2018",
         "X1": 60000,
         "X10": 2,
         "X11": 2,
         "X12": 1,
         "X13": 4,
         "X14": 4,
         "X15": 1,
         "X16": 4,
         "X17": 7,
         "X18": 6,
         "X19": 7,
         "X2": 0.9483666666666668,
         "X20": 6,
         "X21": 8,
         "X22": 37,
         "X3": 15,
         "X4": 2,
         "X5": 11,
         "X6": 6,
         "X7": 4,
         "X8": 1,
         "X9": 1,
         "Y": 1,
         "_deepnote_index_column": 9653
        },
        {
         "AwayTeam": "everton-fc",
         "Date": "2018/05/13",
         "HomeTeam": "west-ham-united",
         "Season": "2017-2018",
         "X1": 60000,
         "X10": 1,
         "X11": 2,
         "X12": 2,
         "X13": 4,
         "X14": 4,
         "X15": 2,
         "X16": 2,
         "X17": 5,
         "X18": 5,
         "X19": 5,
         "X2": 0.9487666666666666,
         "X20": 5,
         "X21": 8,
         "X22": 38,
         "X3": 15,
         "X4": 8,
         "X5": 11,
         "X6": 7,
         "X7": 2,
         "X8": 4,
         "X9": 1,
         "Y": 1,
         "_deepnote_index_column": 9661
        },
        {
         "AwayTeam": "afc-bournemouth",
         "Date": "2018/08/18",
         "HomeTeam": "west-ham-united",
         "Season": "2018-2019",
         "X1": 60000,
         "X10": 0,
         "X11": 0,
         "X12": 4,
         "X13": 0,
         "X14": 0,
         "X15": 0,
         "X16": 0,
         "X17": 0,
         "X18": 0,
         "X19": 0,
         "X2": 0.9481333333333334,
         "X20": 0,
         "X21": 9,
         "X22": 2,
         "X3": 20,
         "X4": 4,
         "X5": 13,
         "X6": 12,
         "X7": 1,
         "X8": 0,
         "X9": 0,
         "Y": 0,
         "_deepnote_index_column": 9674
        },
        {
         "AwayTeam": "wolverhampton-wanderers",
         "Date": "2018/09/01",
         "HomeTeam": "west-ham-united",
         "Season": "2018-2019",
         "X1": 60000,
         "X10": 0,
         "X11": 0,
         "X12": 2,
         "X13": 1,
         "X14": 2,
         "X15": 0,
         "X16": 0,
         "X17": 1,
         "X18": 2,
         "X19": 1,
         "X2": 0.9491166666666668,
         "X20": 2,
         "X21": 11,
         "X22": 4,
         "X3": 20,
         "X4": 14,
         "X5": 13,
         "X6": 20,
         "X7": 1,
         "X8": 1,
         "X9": 1,
         "Y": 0,
         "_deepnote_index_column": 9699
        },
        {
         "AwayTeam": "chelsea-fc",
         "Date": "2018/09/23",
         "HomeTeam": "west-ham-united",
         "Season": "2018-2019",
         "X1": 60000,
         "X10": 1,
         "X11": 1,
         "X12": 4,
         "X13": 4,
         "X14": 4,
         "X15": 4,
         "X16": 4,
         "X17": 1,
         "X18": 1,
         "X19": 1,
         "X2": 0.9479166666666666,
         "X20": 1,
         "X21": 8,
         "X22": 6,
         "X3": 16,
         "X4": 1,
         "X5": 13,
         "X6": 5,
         "X7": 4,
         "X8": 1,
         "X9": 1,
         "Y": 1,
         "_deepnote_index_column": 9723
        }
       ]
      },
      "text/html": [
       "<div>\n",
       "<style scoped>\n",
       "    .dataframe tbody tr th:only-of-type {\n",
       "        vertical-align: middle;\n",
       "    }\n",
       "\n",
       "    .dataframe tbody tr th {\n",
       "        vertical-align: top;\n",
       "    }\n",
       "\n",
       "    .dataframe thead th {\n",
       "        text-align: right;\n",
       "    }\n",
       "</style>\n",
       "<table border=\"1\" class=\"dataframe\">\n",
       "  <thead>\n",
       "    <tr style=\"text-align: right;\">\n",
       "      <th></th>\n",
       "      <th>HomeTeam</th>\n",
       "      <th>AwayTeam</th>\n",
       "      <th>Date</th>\n",
       "      <th>Season</th>\n",
       "      <th>X1</th>\n",
       "      <th>X2</th>\n",
       "      <th>X3</th>\n",
       "      <th>X4</th>\n",
       "      <th>X5</th>\n",
       "      <th>X6</th>\n",
       "      <th>...</th>\n",
       "      <th>X14</th>\n",
       "      <th>X15</th>\n",
       "      <th>X16</th>\n",
       "      <th>X17</th>\n",
       "      <th>X18</th>\n",
       "      <th>X19</th>\n",
       "      <th>X20</th>\n",
       "      <th>X21</th>\n",
       "      <th>X22</th>\n",
       "      <th>Y</th>\n",
       "    </tr>\n",
       "  </thead>\n",
       "  <tbody>\n",
       "    <tr>\n",
       "      <th>8922</th>\n",
       "      <td>west-ham-united</td>\n",
       "      <td>afc-bournemouth</td>\n",
       "      <td>2016/08/21</td>\n",
       "      <td>2016-2017</td>\n",
       "      <td>60000.0</td>\n",
       "      <td>0.949617</td>\n",
       "      <td>17.0</td>\n",
       "      <td>20.0</td>\n",
       "      <td>7</td>\n",
       "      <td>16</td>\n",
       "      <td>...</td>\n",
       "      <td>0</td>\n",
       "      <td>0</td>\n",
       "      <td>0</td>\n",
       "      <td>0.0</td>\n",
       "      <td>0.0</td>\n",
       "      <td>0.0</td>\n",
       "      <td>0.0</td>\n",
       "      <td>5.0</td>\n",
       "      <td>2.0</td>\n",
       "      <td>1</td>\n",
       "    </tr>\n",
       "    <tr>\n",
       "      <th>8938</th>\n",
       "      <td>west-ham-united</td>\n",
       "      <td>watford-fc</td>\n",
       "      <td>2016/09/10</td>\n",
       "      <td>2016-2017</td>\n",
       "      <td>60000.0</td>\n",
       "      <td>0.949567</td>\n",
       "      <td>12.0</td>\n",
       "      <td>18.0</td>\n",
       "      <td>7</td>\n",
       "      <td>13</td>\n",
       "      <td>...</td>\n",
       "      <td>2</td>\n",
       "      <td>0</td>\n",
       "      <td>0</td>\n",
       "      <td>1.0</td>\n",
       "      <td>1.0</td>\n",
       "      <td>1.0</td>\n",
       "      <td>1.0</td>\n",
       "      <td>8.0</td>\n",
       "      <td>4.0</td>\n",
       "      <td>0</td>\n",
       "    </tr>\n",
       "    <tr>\n",
       "      <th>8962</th>\n",
       "      <td>west-ham-united</td>\n",
       "      <td>southampton-fc</td>\n",
       "      <td>2016/09/25</td>\n",
       "      <td>2016-2017</td>\n",
       "      <td>60000.0</td>\n",
       "      <td>0.947733</td>\n",
       "      <td>18.0</td>\n",
       "      <td>14.0</td>\n",
       "      <td>7</td>\n",
       "      <td>6</td>\n",
       "      <td>...</td>\n",
       "      <td>2</td>\n",
       "      <td>1</td>\n",
       "      <td>2</td>\n",
       "      <td>3.0</td>\n",
       "      <td>4.0</td>\n",
       "      <td>3.0</td>\n",
       "      <td>4.0</td>\n",
       "      <td>8.0</td>\n",
       "      <td>6.0</td>\n",
       "      <td>0</td>\n",
       "    </tr>\n",
       "    <tr>\n",
       "      <th>8965</th>\n",
       "      <td>west-ham-united</td>\n",
       "      <td>middlesbrough-fc</td>\n",
       "      <td>2016/10/01</td>\n",
       "      <td>2016-2017</td>\n",
       "      <td>60000.0</td>\n",
       "      <td>0.949083</td>\n",
       "      <td>18.0</td>\n",
       "      <td>16.0</td>\n",
       "      <td>7</td>\n",
       "      <td>20</td>\n",
       "      <td>...</td>\n",
       "      <td>1</td>\n",
       "      <td>2</td>\n",
       "      <td>4</td>\n",
       "      <td>3.0</td>\n",
       "      <td>4.0</td>\n",
       "      <td>3.0</td>\n",
       "      <td>4.0</td>\n",
       "      <td>14.0</td>\n",
       "      <td>7.0</td>\n",
       "      <td>1</td>\n",
       "    </tr>\n",
       "    <tr>\n",
       "      <th>8991</th>\n",
       "      <td>west-ham-united</td>\n",
       "      <td>sunderland-afc</td>\n",
       "      <td>2016/10/22</td>\n",
       "      <td>2016-2017</td>\n",
       "      <td>60000.0</td>\n",
       "      <td>0.949750</td>\n",
       "      <td>15.0</td>\n",
       "      <td>20.0</td>\n",
       "      <td>7</td>\n",
       "      <td>17</td>\n",
       "      <td>...</td>\n",
       "      <td>1</td>\n",
       "      <td>1</td>\n",
       "      <td>1</td>\n",
       "      <td>4.0</td>\n",
       "      <td>6.0</td>\n",
       "      <td>4.0</td>\n",
       "      <td>6.0</td>\n",
       "      <td>12.0</td>\n",
       "      <td>9.0</td>\n",
       "      <td>1</td>\n",
       "    </tr>\n",
       "    <tr>\n",
       "      <th>...</th>\n",
       "      <td>...</td>\n",
       "      <td>...</td>\n",
       "      <td>...</td>\n",
       "      <td>...</td>\n",
       "      <td>...</td>\n",
       "      <td>...</td>\n",
       "      <td>...</td>\n",
       "      <td>...</td>\n",
       "      <td>...</td>\n",
       "      <td>...</td>\n",
       "      <td>...</td>\n",
       "      <td>...</td>\n",
       "      <td>...</td>\n",
       "      <td>...</td>\n",
       "      <td>...</td>\n",
       "      <td>...</td>\n",
       "      <td>...</td>\n",
       "      <td>...</td>\n",
       "      <td>...</td>\n",
       "      <td>...</td>\n",
       "      <td>...</td>\n",
       "    </tr>\n",
       "    <tr>\n",
       "      <th>10947</th>\n",
       "      <td>west-ham-united</td>\n",
       "      <td>chelsea-fc</td>\n",
       "      <td>2021/12/04</td>\n",
       "      <td>2021-2022</td>\n",
       "      <td>60000.0</td>\n",
       "      <td>0.865800</td>\n",
       "      <td>5.0</td>\n",
       "      <td>1.0</td>\n",
       "      <td>6</td>\n",
       "      <td>4</td>\n",
       "      <td>...</td>\n",
       "      <td>4</td>\n",
       "      <td>2</td>\n",
       "      <td>4</td>\n",
       "      <td>7.0</td>\n",
       "      <td>1.0</td>\n",
       "      <td>7.0</td>\n",
       "      <td>1.0</td>\n",
       "      <td>10.0</td>\n",
       "      <td>15.0</td>\n",
       "      <td>1</td>\n",
       "    </tr>\n",
       "    <tr>\n",
       "      <th>10976</th>\n",
       "      <td>west-ham-united</td>\n",
       "      <td>southampton-fc</td>\n",
       "      <td>2021/12/26</td>\n",
       "      <td>2021-2022</td>\n",
       "      <td>60000.0</td>\n",
       "      <td>0.750000</td>\n",
       "      <td>5.0</td>\n",
       "      <td>15.0</td>\n",
       "      <td>6</td>\n",
       "      <td>15</td>\n",
       "      <td>...</td>\n",
       "      <td>2</td>\n",
       "      <td>2</td>\n",
       "      <td>1</td>\n",
       "      <td>9.0</td>\n",
       "      <td>11.0</td>\n",
       "      <td>9.0</td>\n",
       "      <td>11.0</td>\n",
       "      <td>12.0</td>\n",
       "      <td>18.0</td>\n",
       "      <td>0</td>\n",
       "    </tr>\n",
       "    <tr>\n",
       "      <th>10996</th>\n",
       "      <td>west-ham-united</td>\n",
       "      <td>norwich-city</td>\n",
       "      <td>2022/01/12</td>\n",
       "      <td>2021-2022</td>\n",
       "      <td>60000.0</td>\n",
       "      <td>0.996250</td>\n",
       "      <td>5.0</td>\n",
       "      <td>20.0</td>\n",
       "      <td>6</td>\n",
       "      <td>20</td>\n",
       "      <td>...</td>\n",
       "      <td>1</td>\n",
       "      <td>1</td>\n",
       "      <td>1</td>\n",
       "      <td>10.0</td>\n",
       "      <td>8.0</td>\n",
       "      <td>10.0</td>\n",
       "      <td>8.0</td>\n",
       "      <td>12.0</td>\n",
       "      <td>21.0</td>\n",
       "      <td>1</td>\n",
       "    </tr>\n",
       "    <tr>\n",
       "      <th>11004</th>\n",
       "      <td>west-ham-united</td>\n",
       "      <td>leeds-united</td>\n",
       "      <td>2022/01/16</td>\n",
       "      <td>2021-2022</td>\n",
       "      <td>60000.0</td>\n",
       "      <td>0.999183</td>\n",
       "      <td>4.0</td>\n",
       "      <td>16.0</td>\n",
       "      <td>6</td>\n",
       "      <td>9</td>\n",
       "      <td>...</td>\n",
       "      <td>1</td>\n",
       "      <td>1</td>\n",
       "      <td>1</td>\n",
       "      <td>11.0</td>\n",
       "      <td>13.0</td>\n",
       "      <td>11.0</td>\n",
       "      <td>13.0</td>\n",
       "      <td>13.0</td>\n",
       "      <td>22.0</td>\n",
       "      <td>0</td>\n",
       "    </tr>\n",
       "    <tr>\n",
       "      <th>11020</th>\n",
       "      <td>west-ham-united</td>\n",
       "      <td>watford-fc</td>\n",
       "      <td>2022/02/08</td>\n",
       "      <td>2021-2022</td>\n",
       "      <td>60000.0</td>\n",
       "      <td>0.993017</td>\n",
       "      <td>6.0</td>\n",
       "      <td>18.0</td>\n",
       "      <td>6</td>\n",
       "      <td>20</td>\n",
       "      <td>...</td>\n",
       "      <td>2</td>\n",
       "      <td>1</td>\n",
       "      <td>1</td>\n",
       "      <td>10.0</td>\n",
       "      <td>7.0</td>\n",
       "      <td>10.0</td>\n",
       "      <td>7.0</td>\n",
       "      <td>16.0</td>\n",
       "      <td>24.0</td>\n",
       "      <td>1</td>\n",
       "    </tr>\n",
       "  </tbody>\n",
       "</table>\n",
       "<p>106 rows × 27 columns</p>\n",
       "</div>"
      ],
      "text/plain": [
       "              HomeTeam          AwayTeam        Date     Season       X1  \\\n",
       "8922   west-ham-united   afc-bournemouth  2016/08/21  2016-2017  60000.0   \n",
       "8938   west-ham-united        watford-fc  2016/09/10  2016-2017  60000.0   \n",
       "8962   west-ham-united    southampton-fc  2016/09/25  2016-2017  60000.0   \n",
       "8965   west-ham-united  middlesbrough-fc  2016/10/01  2016-2017  60000.0   \n",
       "8991   west-ham-united    sunderland-afc  2016/10/22  2016-2017  60000.0   \n",
       "...                ...               ...         ...        ...      ...   \n",
       "10947  west-ham-united        chelsea-fc  2021/12/04  2021-2022  60000.0   \n",
       "10976  west-ham-united    southampton-fc  2021/12/26  2021-2022  60000.0   \n",
       "10996  west-ham-united      norwich-city  2022/01/12  2021-2022  60000.0   \n",
       "11004  west-ham-united      leeds-united  2022/01/16  2021-2022  60000.0   \n",
       "11020  west-ham-united        watford-fc  2022/02/08  2021-2022  60000.0   \n",
       "\n",
       "             X2    X3    X4  X5  X6  ...  X14  X15  X16   X17   X18   X19  \\\n",
       "8922   0.949617  17.0  20.0   7  16  ...    0    0    0   0.0   0.0   0.0   \n",
       "8938   0.949567  12.0  18.0   7  13  ...    2    0    0   1.0   1.0   1.0   \n",
       "8962   0.947733  18.0  14.0   7   6  ...    2    1    2   3.0   4.0   3.0   \n",
       "8965   0.949083  18.0  16.0   7  20  ...    1    2    4   3.0   4.0   3.0   \n",
       "8991   0.949750  15.0  20.0   7  17  ...    1    1    1   4.0   6.0   4.0   \n",
       "...         ...   ...   ...  ..  ..  ...  ...  ...  ...   ...   ...   ...   \n",
       "10947  0.865800   5.0   1.0   6   4  ...    4    2    4   7.0   1.0   7.0   \n",
       "10976  0.750000   5.0  15.0   6  15  ...    2    2    1   9.0  11.0   9.0   \n",
       "10996  0.996250   5.0  20.0   6  20  ...    1    1    1  10.0   8.0  10.0   \n",
       "11004  0.999183   4.0  16.0   6   9  ...    1    1    1  11.0  13.0  11.0   \n",
       "11020  0.993017   6.0  18.0   6  20  ...    2    1    1  10.0   7.0  10.0   \n",
       "\n",
       "        X20   X21   X22  Y  \n",
       "8922    0.0   5.0   2.0  1  \n",
       "8938    1.0   8.0   4.0  0  \n",
       "8962    4.0   8.0   6.0  0  \n",
       "8965    4.0  14.0   7.0  1  \n",
       "8991    6.0  12.0   9.0  1  \n",
       "...     ...   ...   ... ..  \n",
       "10947   1.0  10.0  15.0  1  \n",
       "10976  11.0  12.0  18.0  0  \n",
       "10996   8.0  12.0  21.0  1  \n",
       "11004  13.0  13.0  22.0  0  \n",
       "11020   7.0  16.0  24.0  1  \n",
       "\n",
       "[106 rows x 27 columns]"
      ]
     },
     "execution_count": 59,
     "metadata": {},
     "output_type": "execute_result"
    }
   ],
   "source": [
    "whu_capicity.get_group(60000)"
   ]
  },
  {
   "cell_type": "code",
   "execution_count": null,
   "metadata": {
    "cell_id": "d3287335ca9746e5ab8464580c1cdf3b",
    "deepnote_cell_height": 449.140625,
    "deepnote_cell_type": "code",
    "deepnote_output_heights": [
     21.1875,
     263.984375
    ],
    "deepnote_table_loading": false,
    "deepnote_table_state": {
     "filters": [],
     "pageIndex": 2,
     "pageSize": 10,
     "sortBy": []
    },
    "deepnote_to_be_reexecuted": true,
    "execution_millis": 249,
    "execution_start": 1649770620047,
    "source_hash": "2eb108fe",
    "tags": []
   },
   "outputs": [
    {
     "data": {
      "text/plain": [
       "<AxesSubplot:xlabel='X2', ylabel='Count'>"
      ]
     },
     "execution_count": 7,
     "metadata": {},
     "output_type": "execute_result"
    },
    {
     "data": {
      "image/png": "[encoded data removed]",
      "text/plain": [
       "<Figure size 432x288 with 1 Axes>"
      ]
     },
     "metadata": {
      "image/png": {
       "height": 262,
       "width": 382
      },
      "needs_background": "light"
     },
     "output_type": "display_data"
    }
   ],
   "source": [
    "attendance_greater1 = data[data['X2']> 1].groupby('Season').count()['X2']\n",
    "attendance_greater1\n",
    "sns.histplot(attendance_greater1)"
   ]
  },
  {
   "cell_type": "code",
   "execution_count": null,
   "metadata": {
    "cell_id": "3c2a0ec7c27c43e3bbe8b73277138bf9",
    "deepnote_cell_height": 1271.90625,
    "deepnote_cell_type": "code",
    "deepnote_table_loading": false,
    "deepnote_table_state": {
     "filters": [],
     "pageIndex": 0,
     "pageSize": 100,
     "sortBy": []
    },
    "deepnote_to_be_reexecuted": true,
    "execution_millis": 70,
    "execution_start": 1649771247670,
    "source_hash": "726e1430",
    "tags": []
   },
   "outputs": [
    {
     "data": {
      "application/vnd.deepnote.dataframe.v3+json": {
       "column_count": 26,
       "columns": [
        {
         "dtype": "int64",
         "name": "HomeTeam",
         "stats": {
          "histogram": [
           {
            "bin_end": 93.8,
            "bin_start": 40,
            "count": 2
           },
           {
            "bin_end": 147.6,
            "bin_start": 93.8,
            "count": 0
           },
           {
            "bin_end": 201.39999999999998,
            "bin_start": 147.6,
            "count": 0
           },
           {
            "bin_end": 255.2,
            "bin_start": 201.39999999999998,
            "count": 0
           },
           {
            "bin_end": 309,
            "bin_start": 255.2,
            "count": 0
           },
           {
            "bin_end": 362.79999999999995,
            "bin_start": 309,
            "count": 0
           },
           {
            "bin_end": 416.59999999999997,
            "bin_start": 362.79999999999995,
            "count": 0
           },
           {
            "bin_end": 470.4,
            "bin_start": 416.59999999999997,
            "count": 0
           },
           {
            "bin_end": 524.2,
            "bin_start": 470.4,
            "count": 2
           },
           {
            "bin_end": 578,
            "bin_start": 524.2,
            "count": 18
           }
          ],
          "max": "578",
          "min": "40",
          "nan_count": 0,
          "unique_count": 20
         }
        },
        {
         "dtype": "int64",
         "name": "AwayTeam",
         "stats": {
          "histogram": [
           {
            "bin_end": 93.8,
            "bin_start": 40,
            "count": 2
           },
           {
            "bin_end": 147.6,
            "bin_start": 93.8,
            "count": 0
           },
           {
            "bin_end": 201.39999999999998,
            "bin_start": 147.6,
            "count": 0
           },
           {
            "bin_end": 255.2,
            "bin_start": 201.39999999999998,
            "count": 0
           },
           {
            "bin_end": 309,
            "bin_start": 255.2,
            "count": 0
           },
           {
            "bin_end": 362.79999999999995,
            "bin_start": 309,
            "count": 0
           },
           {
            "bin_end": 416.59999999999997,
            "bin_start": 362.79999999999995,
            "count": 0
           },
           {
            "bin_end": 470.4,
            "bin_start": 416.59999999999997,
            "count": 0
           },
           {
            "bin_end": 524.2,
            "bin_start": 470.4,
            "count": 2
           },
           {
            "bin_end": 578,
            "bin_start": 524.2,
            "count": 18
           }
          ],
          "max": "578",
          "min": "40",
          "nan_count": 0,
          "unique_count": 20
         }
        },
        {
         "dtype": "int64",
         "name": "Date",
         "stats": {
          "histogram": [
           {
            "bin_end": 93.8,
            "bin_start": 40,
            "count": 2
           },
           {
            "bin_end": 147.6,
            "bin_start": 93.8,
            "count": 0
           },
           {
            "bin_end": 201.39999999999998,
            "bin_start": 147.6,
            "count": 0
           },
           {
            "bin_end": 255.2,
            "bin_start": 201.39999999999998,
            "count": 0
           },
           {
            "bin_end": 309,
            "bin_start": 255.2,
            "count": 0
           },
           {
            "bin_end": 362.79999999999995,
            "bin_start": 309,
            "count": 0
           },
           {
            "bin_end": 416.59999999999997,
            "bin_start": 362.79999999999995,
            "count": 0
           },
           {
            "bin_end": 470.4,
            "bin_start": 416.59999999999997,
            "count": 0
           },
           {
            "bin_end": 524.2,
            "bin_start": 470.4,
            "count": 2
           },
           {
            "bin_end": 578,
            "bin_start": 524.2,
            "count": 18
           }
          ],
          "max": "578",
          "min": "40",
          "nan_count": 0,
          "unique_count": 20
         }
        },
        {
         "dtype": "int64",
         "name": "Season",
         "stats": {
          "histogram": [
           {
            "bin_end": 93.8,
            "bin_start": 40,
            "count": 2
           },
           {
            "bin_end": 147.6,
            "bin_start": 93.8,
            "count": 0
           },
           {
            "bin_end": 201.39999999999998,
            "bin_start": 147.6,
            "count": 0
           },
           {
            "bin_end": 255.2,
            "bin_start": 201.39999999999998,
            "count": 0
           },
           {
            "bin_end": 309,
            "bin_start": 255.2,
            "count": 0
           },
           {
            "bin_end": 362.79999999999995,
            "bin_start": 309,
            "count": 0
           },
           {
            "bin_end": 416.59999999999997,
            "bin_start": 362.79999999999995,
            "count": 0
           },
           {
            "bin_end": 470.4,
            "bin_start": 416.59999999999997,
            "count": 0
           },
           {
            "bin_end": 524.2,
            "bin_start": 470.4,
            "count": 2
           },
           {
            "bin_end": 578,
            "bin_start": 524.2,
            "count": 18
           }
          ],
          "max": "578",
          "min": "40",
          "nan_count": 0,
          "unique_count": 20
         }
        },
        {
         "dtype": "int64",
         "name": "X1",
         "stats": {
          "histogram": [
           {
            "bin_end": 93.8,
            "bin_start": 40,
            "count": 2
           },
           {
            "bin_end": 147.6,
            "bin_start": 93.8,
            "count": 0
           },
           {
            "bin_end": 201.39999999999998,
            "bin_start": 147.6,
            "count": 0
           },
           {
            "bin_end": 255.2,
            "bin_start": 201.39999999999998,
            "count": 0
           },
           {
            "bin_end": 309,
            "bin_start": 255.2,
            "count": 0
           },
           {
            "bin_end": 362.79999999999995,
            "bin_start": 309,
            "count": 0
           },
           {
            "bin_end": 416.59999999999997,
            "bin_start": 362.79999999999995,
            "count": 0
           },
           {
            "bin_end": 470.4,
            "bin_start": 416.59999999999997,
            "count": 0
           },
           {
            "bin_end": 524.2,
            "bin_start": 470.4,
            "count": 2
           },
           {
            "bin_end": 578,
            "bin_start": 524.2,
            "count": 18
           }
          ],
          "max": "578",
          "min": "40",
          "nan_count": 0,
          "unique_count": 20
         }
        },
        {
         "dtype": "int64",
         "name": "X2",
         "stats": {
          "histogram": [
           {
            "bin_end": 93.8,
            "bin_start": 40,
            "count": 2
           },
           {
            "bin_end": 147.6,
            "bin_start": 93.8,
            "count": 0
           },
           {
            "bin_end": 201.39999999999998,
            "bin_start": 147.6,
            "count": 0
           },
           {
            "bin_end": 255.2,
            "bin_start": 201.39999999999998,
            "count": 0
           },
           {
            "bin_end": 309,
            "bin_start": 255.2,
            "count": 0
           },
           {
            "bin_end": 362.79999999999995,
            "bin_start": 309,
            "count": 0
           },
           {
            "bin_end": 416.59999999999997,
            "bin_start": 362.79999999999995,
            "count": 0
           },
           {
            "bin_end": 470.4,
            "bin_start": 416.59999999999997,
            "count": 0
           },
           {
            "bin_end": 524.2,
            "bin_start": 470.4,
            "count": 2
           },
           {
            "bin_end": 578,
            "bin_start": 524.2,
            "count": 18
           }
          ],
          "max": "578",
          "min": "40",
          "nan_count": 0,
          "unique_count": 20
         }
        },
        {
         "dtype": "int64",
         "name": "X4",
         "stats": {
          "histogram": [
           {
            "bin_end": 93.8,
            "bin_start": 40,
            "count": 2
           },
           {
            "bin_end": 147.6,
            "bin_start": 93.8,
            "count": 0
           },
           {
            "bin_end": 201.39999999999998,
            "bin_start": 147.6,
            "count": 0
           },
           {
            "bin_end": 255.2,
            "bin_start": 201.39999999999998,
            "count": 0
           },
           {
            "bin_end": 309,
            "bin_start": 255.2,
            "count": 0
           },
           {
            "bin_end": 362.79999999999995,
            "bin_start": 309,
            "count": 0
           },
           {
            "bin_end": 416.59999999999997,
            "bin_start": 362.79999999999995,
            "count": 0
           },
           {
            "bin_end": 470.4,
            "bin_start": 416.59999999999997,
            "count": 0
           },
           {
            "bin_end": 524.2,
            "bin_start": 470.4,
            "count": 2
           },
           {
            "bin_end": 578,
            "bin_start": 524.2,
            "count": 18
           }
          ],
          "max": "578",
          "min": "40",
          "nan_count": 0,
          "unique_count": 20
         }
        },
        {
         "dtype": "int64",
         "name": "X5",
         "stats": {
          "histogram": [
           {
            "bin_end": 93.8,
            "bin_start": 40,
            "count": 2
           },
           {
            "bin_end": 147.6,
            "bin_start": 93.8,
            "count": 0
           },
           {
            "bin_end": 201.39999999999998,
            "bin_start": 147.6,
            "count": 0
           },
           {
            "bin_end": 255.2,
            "bin_start": 201.39999999999998,
            "count": 0
           },
           {
            "bin_end": 309,
            "bin_start": 255.2,
            "count": 0
           },
           {
            "bin_end": 362.79999999999995,
            "bin_start": 309,
            "count": 0
           },
           {
            "bin_end": 416.59999999999997,
            "bin_start": 362.79999999999995,
            "count": 0
           },
           {
            "bin_end": 470.4,
            "bin_start": 416.59999999999997,
            "count": 0
           },
           {
            "bin_end": 524.2,
            "bin_start": 470.4,
            "count": 2
           },
           {
            "bin_end": 578,
            "bin_start": 524.2,
            "count": 18
           }
          ],
          "max": "578",
          "min": "40",
          "nan_count": 0,
          "unique_count": 20
         }
        },
        {
         "dtype": "int64",
         "name": "X6",
         "stats": {
          "histogram": [
           {
            "bin_end": 93.8,
            "bin_start": 40,
            "count": 2
           },
           {
            "bin_end": 147.6,
            "bin_start": 93.8,
            "count": 0
           },
           {
            "bin_end": 201.39999999999998,
            "bin_start": 147.6,
            "count": 0
           },
           {
            "bin_end": 255.2,
            "bin_start": 201.39999999999998,
            "count": 0
           },
           {
            "bin_end": 309,
            "bin_start": 255.2,
            "count": 0
           },
           {
            "bin_end": 362.79999999999995,
            "bin_start": 309,
            "count": 0
           },
           {
            "bin_end": 416.59999999999997,
            "bin_start": 362.79999999999995,
            "count": 0
           },
           {
            "bin_end": 470.4,
            "bin_start": 416.59999999999997,
            "count": 0
           },
           {
            "bin_end": 524.2,
            "bin_start": 470.4,
            "count": 2
           },
           {
            "bin_end": 578,
            "bin_start": 524.2,
            "count": 18
           }
          ],
          "max": "578",
          "min": "40",
          "nan_count": 0,
          "unique_count": 20
         }
        },
        {
         "dtype": "int64",
         "name": "X7",
         "stats": {
          "histogram": [
           {
            "bin_end": 93.8,
            "bin_start": 40,
            "count": 2
           },
           {
            "bin_end": 147.6,
            "bin_start": 93.8,
            "count": 0
           },
           {
            "bin_end": 201.39999999999998,
            "bin_start": 147.6,
            "count": 0
           },
           {
            "bin_end": 255.2,
            "bin_start": 201.39999999999998,
            "count": 0
           },
           {
            "bin_end": 309,
            "bin_start": 255.2,
            "count": 0
           },
           {
            "bin_end": 362.79999999999995,
            "bin_start": 309,
            "count": 0
           },
           {
            "bin_end": 416.59999999999997,
            "bin_start": 362.79999999999995,
            "count": 0
           },
           {
            "bin_end": 470.4,
            "bin_start": 416.59999999999997,
            "count": 0
           },
           {
            "bin_end": 524.2,
            "bin_start": 470.4,
            "count": 2
           },
           {
            "bin_end": 578,
            "bin_start": 524.2,
            "count": 18
           }
          ],
          "max": "578",
          "min": "40",
          "nan_count": 0,
          "unique_count": 20
         }
        },
        {
         "dtype": "int64",
         "name": "X8",
         "stats": {
          "histogram": [
           {
            "bin_end": 93.8,
            "bin_start": 40,
            "count": 2
           },
           {
            "bin_end": 147.6,
            "bin_start": 93.8,
            "count": 0
           },
           {
            "bin_end": 201.39999999999998,
            "bin_start": 147.6,
            "count": 0
           },
           {
            "bin_end": 255.2,
            "bin_start": 201.39999999999998,
            "count": 0
           },
           {
            "bin_end": 309,
            "bin_start": 255.2,
            "count": 0
           },
           {
            "bin_end": 362.79999999999995,
            "bin_start": 309,
            "count": 0
           },
           {
            "bin_end": 416.59999999999997,
            "bin_start": 362.79999999999995,
            "count": 0
           },
           {
            "bin_end": 470.4,
            "bin_start": 416.59999999999997,
            "count": 0
           },
           {
            "bin_end": 524.2,
            "bin_start": 470.4,
            "count": 2
           },
           {
            "bin_end": 578,
            "bin_start": 524.2,
            "count": 18
           }
          ],
          "max": "578",
          "min": "40",
          "nan_count": 0,
          "unique_count": 20
         }
        },
        {
         "dtype": "int64",
         "name": "X9",
         "stats": {
          "histogram": [
           {
            "bin_end": 93.8,
            "bin_start": 40,
            "count": 2
           },
           {
            "bin_end": 147.6,
            "bin_start": 93.8,
            "count": 0
           },
           {
            "bin_end": 201.39999999999998,
            "bin_start": 147.6,
            "count": 0
           },
           {
            "bin_end": 255.2,
            "bin_start": 201.39999999999998,
            "count": 0
           },
           {
            "bin_end": 309,
            "bin_start": 255.2,
            "count": 0
           },
           {
            "bin_end": 362.79999999999995,
            "bin_start": 309,
            "count": 0
           },
           {
            "bin_end": 416.59999999999997,
            "bin_start": 362.79999999999995,
            "count": 0
           },
           {
            "bin_end": 470.4,
            "bin_start": 416.59999999999997,
            "count": 0
           },
           {
            "bin_end": 524.2,
            "bin_start": 470.4,
            "count": 2
           },
           {
            "bin_end": 578,
            "bin_start": 524.2,
            "count": 18
           }
          ],
          "max": "578",
          "min": "40",
          "nan_count": 0,
          "unique_count": 20
         }
        },
        {
         "dtype": "int64",
         "name": "X10",
         "stats": {
          "histogram": [
           {
            "bin_end": 93.8,
            "bin_start": 40,
            "count": 2
           },
           {
            "bin_end": 147.6,
            "bin_start": 93.8,
            "count": 0
           },
           {
            "bin_end": 201.39999999999998,
            "bin_start": 147.6,
            "count": 0
           },
           {
            "bin_end": 255.2,
            "bin_start": 201.39999999999998,
            "count": 0
           },
           {
            "bin_end": 309,
            "bin_start": 255.2,
            "count": 0
           },
           {
            "bin_end": 362.79999999999995,
            "bin_start": 309,
            "count": 0
           },
           {
            "bin_end": 416.59999999999997,
            "bin_start": 362.79999999999995,
            "count": 0
           },
           {
            "bin_end": 470.4,
            "bin_start": 416.59999999999997,
            "count": 0
           },
           {
            "bin_end": 524.2,
            "bin_start": 470.4,
            "count": 2
           },
           {
            "bin_end": 578,
            "bin_start": 524.2,
            "count": 18
           }
          ],
          "max": "578",
          "min": "40",
          "nan_count": 0,
          "unique_count": 20
         }
        },
        {
         "dtype": "int64",
         "name": "X11",
         "stats": {
          "histogram": [
           {
            "bin_end": 93.8,
            "bin_start": 40,
            "count": 2
           },
           {
            "bin_end": 147.6,
            "bin_start": 93.8,
            "count": 0
           },
           {
            "bin_end": 201.39999999999998,
            "bin_start": 147.6,
            "count": 0
           },
           {
            "bin_end": 255.2,
            "bin_start": 201.39999999999998,
            "count": 0
           },
           {
            "bin_end": 309,
            "bin_start": 255.2,
            "count": 0
           },
           {
            "bin_end": 362.79999999999995,
            "bin_start": 309,
            "count": 0
           },
           {
            "bin_end": 416.59999999999997,
            "bin_start": 362.79999999999995,
            "count": 0
           },
           {
            "bin_end": 470.4,
            "bin_start": 416.59999999999997,
            "count": 0
           },
           {
            "bin_end": 524.2,
            "bin_start": 470.4,
            "count": 2
           },
           {
            "bin_end": 578,
            "bin_start": 524.2,
            "count": 18
           }
          ],
          "max": "578",
          "min": "40",
          "nan_count": 0,
          "unique_count": 20
         }
        },
        {
         "dtype": "int64",
         "name": "X12",
         "stats": {
          "histogram": [
           {
            "bin_end": 93.8,
            "bin_start": 40,
            "count": 2
           },
           {
            "bin_end": 147.6,
            "bin_start": 93.8,
            "count": 0
           },
           {
            "bin_end": 201.39999999999998,
            "bin_start": 147.6,
            "count": 0
           },
           {
            "bin_end": 255.2,
            "bin_start": 201.39999999999998,
            "count": 0
           },
           {
            "bin_end": 309,
            "bin_start": 255.2,
            "count": 0
           },
           {
            "bin_end": 362.79999999999995,
            "bin_start": 309,
            "count": 0
           },
           {
            "bin_end": 416.59999999999997,
            "bin_start": 362.79999999999995,
            "count": 0
           },
           {
            "bin_end": 470.4,
            "bin_start": 416.59999999999997,
            "count": 0
           },
           {
            "bin_end": 524.2,
            "bin_start": 470.4,
            "count": 2
           },
           {
            "bin_end": 578,
            "bin_start": 524.2,
            "count": 18
           }
          ],
          "max": "578",
          "min": "40",
          "nan_count": 0,
          "unique_count": 20
         }
        },
        {
         "dtype": "int64",
         "name": "X13",
         "stats": {
          "histogram": [
           {
            "bin_end": 93.8,
            "bin_start": 40,
            "count": 2
           },
           {
            "bin_end": 147.6,
            "bin_start": 93.8,
            "count": 0
           },
           {
            "bin_end": 201.39999999999998,
            "bin_start": 147.6,
            "count": 0
           },
           {
            "bin_end": 255.2,
            "bin_start": 201.39999999999998,
            "count": 0
           },
           {
            "bin_end": 309,
            "bin_start": 255.2,
            "count": 0
           },
           {
            "bin_end": 362.79999999999995,
            "bin_start": 309,
            "count": 0
           },
           {
            "bin_end": 416.59999999999997,
            "bin_start": 362.79999999999995,
            "count": 0
           },
           {
            "bin_end": 470.4,
            "bin_start": 416.59999999999997,
            "count": 0
           },
           {
            "bin_end": 524.2,
            "bin_start": 470.4,
            "count": 2
           },
           {
            "bin_end": 578,
            "bin_start": 524.2,
            "count": 18
           }
          ],
          "max": "578",
          "min": "40",
          "nan_count": 0,
          "unique_count": 20
         }
        },
        {
         "dtype": "int64",
         "name": "X14",
         "stats": {
          "histogram": [
           {
            "bin_end": 93.8,
            "bin_start": 40,
            "count": 2
           },
           {
            "bin_end": 147.6,
            "bin_start": 93.8,
            "count": 0
           },
           {
            "bin_end": 201.39999999999998,
            "bin_start": 147.6,
            "count": 0
           },
           {
            "bin_end": 255.2,
            "bin_start": 201.39999999999998,
            "count": 0
           },
           {
            "bin_end": 309,
            "bin_start": 255.2,
            "count": 0
           },
           {
            "bin_end": 362.79999999999995,
            "bin_start": 309,
            "count": 0
           },
           {
            "bin_end": 416.59999999999997,
            "bin_start": 362.79999999999995,
            "count": 0
           },
           {
            "bin_end": 470.4,
            "bin_start": 416.59999999999997,
            "count": 0
           },
           {
            "bin_end": 524.2,
            "bin_start": 470.4,
            "count": 2
           },
           {
            "bin_end": 578,
            "bin_start": 524.2,
            "count": 18
           }
          ],
          "max": "578",
          "min": "40",
          "nan_count": 0,
          "unique_count": 20
         }
        },
        {
         "dtype": "int64",
         "name": "X15",
         "stats": {
          "histogram": [
           {
            "bin_end": 93.8,
            "bin_start": 40,
            "count": 2
           },
           {
            "bin_end": 147.6,
            "bin_start": 93.8,
            "count": 0
           },
           {
            "bin_end": 201.39999999999998,
            "bin_start": 147.6,
            "count": 0
           },
           {
            "bin_end": 255.2,
            "bin_start": 201.39999999999998,
            "count": 0
           },
           {
            "bin_end": 309,
            "bin_start": 255.2,
            "count": 0
           },
           {
            "bin_end": 362.79999999999995,
            "bin_start": 309,
            "count": 0
           },
           {
            "bin_end": 416.59999999999997,
            "bin_start": 362.79999999999995,
            "count": 0
           },
           {
            "bin_end": 470.4,
            "bin_start": 416.59999999999997,
            "count": 0
           },
           {
            "bin_end": 524.2,
            "bin_start": 470.4,
            "count": 2
           },
           {
            "bin_end": 578,
            "bin_start": 524.2,
            "count": 18
           }
          ],
          "max": "578",
          "min": "40",
          "nan_count": 0,
          "unique_count": 20
         }
        },
        {
         "dtype": "int64",
         "name": "X16",
         "stats": {
          "histogram": [
           {
            "bin_end": 93.8,
            "bin_start": 40,
            "count": 2
           },
           {
            "bin_end": 147.6,
            "bin_start": 93.8,
            "count": 0
           },
           {
            "bin_end": 201.39999999999998,
            "bin_start": 147.6,
            "count": 0
           },
           {
            "bin_end": 255.2,
            "bin_start": 201.39999999999998,
            "count": 0
           },
           {
            "bin_end": 309,
            "bin_start": 255.2,
            "count": 0
           },
           {
            "bin_end": 362.79999999999995,
            "bin_start": 309,
            "count": 0
           },
           {
            "bin_end": 416.59999999999997,
            "bin_start": 362.79999999999995,
            "count": 0
           },
           {
            "bin_end": 470.4,
            "bin_start": 416.59999999999997,
            "count": 0
           },
           {
            "bin_end": 524.2,
            "bin_start": 470.4,
            "count": 2
           },
           {
            "bin_end": 578,
            "bin_start": 524.2,
            "count": 18
           }
          ],
          "max": "578",
          "min": "40",
          "nan_count": 0,
          "unique_count": 20
         }
        },
        {
         "dtype": "int64",
         "name": "X17",
         "stats": {
          "histogram": [
           {
            "bin_end": 93.8,
            "bin_start": 40,
            "count": 2
           },
           {
            "bin_end": 147.6,
            "bin_start": 93.8,
            "count": 0
           },
           {
            "bin_end": 201.39999999999998,
            "bin_start": 147.6,
            "count": 0
           },
           {
            "bin_end": 255.2,
            "bin_start": 201.39999999999998,
            "count": 0
           },
           {
            "bin_end": 309,
            "bin_start": 255.2,
            "count": 0
           },
           {
            "bin_end": 362.79999999999995,
            "bin_start": 309,
            "count": 0
           },
           {
            "bin_end": 416.59999999999997,
            "bin_start": 362.79999999999995,
            "count": 0
           },
           {
            "bin_end": 470.4,
            "bin_start": 416.59999999999997,
            "count": 0
           },
           {
            "bin_end": 524.2,
            "bin_start": 470.4,
            "count": 2
           },
           {
            "bin_end": 578,
            "bin_start": 524.2,
            "count": 18
           }
          ],
          "max": "578",
          "min": "40",
          "nan_count": 0,
          "unique_count": 20
         }
        },
        {
         "dtype": "int64",
         "name": "X18",
         "stats": {
          "histogram": [
           {
            "bin_end": 93.8,
            "bin_start": 40,
            "count": 2
           },
           {
            "bin_end": 147.6,
            "bin_start": 93.8,
            "count": 0
           },
           {
            "bin_end": 201.39999999999998,
            "bin_start": 147.6,
            "count": 0
           },
           {
            "bin_end": 255.2,
            "bin_start": 201.39999999999998,
            "count": 0
           },
           {
            "bin_end": 309,
            "bin_start": 255.2,
            "count": 0
           },
           {
            "bin_end": 362.79999999999995,
            "bin_start": 309,
            "count": 0
           },
           {
            "bin_end": 416.59999999999997,
            "bin_start": 362.79999999999995,
            "count": 0
           },
           {
            "bin_end": 470.4,
            "bin_start": 416.59999999999997,
            "count": 0
           },
           {
            "bin_end": 524.2,
            "bin_start": 470.4,
            "count": 2
           },
           {
            "bin_end": 578,
            "bin_start": 524.2,
            "count": 18
           }
          ],
          "max": "578",
          "min": "40",
          "nan_count": 0,
          "unique_count": 20
         }
        },
        {
         "dtype": "int64",
         "name": "X19",
         "stats": {
          "histogram": [
           {
            "bin_end": 93.8,
            "bin_start": 40,
            "count": 2
           },
           {
            "bin_end": 147.6,
            "bin_start": 93.8,
            "count": 0
           },
           {
            "bin_end": 201.39999999999998,
            "bin_start": 147.6,
            "count": 0
           },
           {
            "bin_end": 255.2,
            "bin_start": 201.39999999999998,
            "count": 0
           },
           {
            "bin_end": 309,
            "bin_start": 255.2,
            "count": 0
           },
           {
            "bin_end": 362.79999999999995,
            "bin_start": 309,
            "count": 0
           },
           {
            "bin_end": 416.59999999999997,
            "bin_start": 362.79999999999995,
            "count": 0
           },
           {
            "bin_end": 470.4,
            "bin_start": 416.59999999999997,
            "count": 0
           },
           {
            "bin_end": 524.2,
            "bin_start": 470.4,
            "count": 2
           },
           {
            "bin_end": 578,
            "bin_start": 524.2,
            "count": 18
           }
          ],
          "max": "578",
          "min": "40",
          "nan_count": 0,
          "unique_count": 20
         }
        },
        {
         "dtype": "int64",
         "name": "X20",
         "stats": {
          "histogram": [
           {
            "bin_end": 93.8,
            "bin_start": 40,
            "count": 2
           },
           {
            "bin_end": 147.6,
            "bin_start": 93.8,
            "count": 0
           },
           {
            "bin_end": 201.39999999999998,
            "bin_start": 147.6,
            "count": 0
           },
           {
            "bin_end": 255.2,
            "bin_start": 201.39999999999998,
            "count": 0
           },
           {
            "bin_end": 309,
            "bin_start": 255.2,
            "count": 0
           },
           {
            "bin_end": 362.79999999999995,
            "bin_start": 309,
            "count": 0
           },
           {
            "bin_end": 416.59999999999997,
            "bin_start": 362.79999999999995,
            "count": 0
           },
           {
            "bin_end": 470.4,
            "bin_start": 416.59999999999997,
            "count": 0
           },
           {
            "bin_end": 524.2,
            "bin_start": 470.4,
            "count": 2
           },
           {
            "bin_end": 578,
            "bin_start": 524.2,
            "count": 18
           }
          ],
          "max": "578",
          "min": "40",
          "nan_count": 0,
          "unique_count": 20
         }
        },
        {
         "dtype": "int64",
         "name": "X21",
         "stats": {
          "histogram": [
           {
            "bin_end": 93.8,
            "bin_start": 40,
            "count": 2
           },
           {
            "bin_end": 147.6,
            "bin_start": 93.8,
            "count": 0
           },
           {
            "bin_end": 201.39999999999998,
            "bin_start": 147.6,
            "count": 0
           },
           {
            "bin_end": 255.2,
            "bin_start": 201.39999999999998,
            "count": 0
           },
           {
            "bin_end": 309,
            "bin_start": 255.2,
            "count": 0
           },
           {
            "bin_end": 362.79999999999995,
            "bin_start": 309,
            "count": 0
           },
           {
            "bin_end": 416.59999999999997,
            "bin_start": 362.79999999999995,
            "count": 0
           },
           {
            "bin_end": 470.4,
            "bin_start": 416.59999999999997,
            "count": 0
           },
           {
            "bin_end": 524.2,
            "bin_start": 470.4,
            "count": 2
           },
           {
            "bin_end": 578,
            "bin_start": 524.2,
            "count": 18
           }
          ],
          "max": "578",
          "min": "40",
          "nan_count": 0,
          "unique_count": 20
         }
        },
        {
         "dtype": "int64",
         "name": "X22",
         "stats": {
          "histogram": [
           {
            "bin_end": 93.8,
            "bin_start": 40,
            "count": 2
           },
           {
            "bin_end": 147.6,
            "bin_start": 93.8,
            "count": 0
           },
           {
            "bin_end": 201.39999999999998,
            "bin_start": 147.6,
            "count": 0
           },
           {
            "bin_end": 255.2,
            "bin_start": 201.39999999999998,
            "count": 0
           },
           {
            "bin_end": 309,
            "bin_start": 255.2,
            "count": 0
           },
           {
            "bin_end": 362.79999999999995,
            "bin_start": 309,
            "count": 0
           },
           {
            "bin_end": 416.59999999999997,
            "bin_start": 362.79999999999995,
            "count": 0
           },
           {
            "bin_end": 470.4,
            "bin_start": 416.59999999999997,
            "count": 0
           },
           {
            "bin_end": 524.2,
            "bin_start": 470.4,
            "count": 2
           },
           {
            "bin_end": 578,
            "bin_start": 524.2,
            "count": 18
           }
          ],
          "max": "578",
          "min": "40",
          "nan_count": 0,
          "unique_count": 20
         }
        },
        {
         "dtype": "int64",
         "name": "Y",
         "stats": {
          "histogram": [
           {
            "bin_end": 93.8,
            "bin_start": 40,
            "count": 2
           },
           {
            "bin_end": 147.6,
            "bin_start": 93.8,
            "count": 0
           },
           {
            "bin_end": 201.39999999999998,
            "bin_start": 147.6,
            "count": 0
           },
           {
            "bin_end": 255.2,
            "bin_start": 201.39999999999998,
            "count": 0
           },
           {
            "bin_end": 309,
            "bin_start": 255.2,
            "count": 0
           },
           {
            "bin_end": 362.79999999999995,
            "bin_start": 309,
            "count": 0
           },
           {
            "bin_end": 416.59999999999997,
            "bin_start": 362.79999999999995,
            "count": 0
           },
           {
            "bin_end": 470.4,
            "bin_start": 416.59999999999997,
            "count": 0
           },
           {
            "bin_end": 524.2,
            "bin_start": 470.4,
            "count": 2
           },
           {
            "bin_end": 578,
            "bin_start": 524.2,
            "count": 18
           }
          ],
          "max": "578",
          "min": "40",
          "nan_count": 0,
          "unique_count": 20
         }
        },
        {
         "dtype": "float64",
         "name": "_deepnote_index_column"
        }
       ],
       "row_count": 22,
       "rows": [
        {
         "AwayTeam": 517,
         "Date": 517,
         "HomeTeam": 517,
         "Season": 517,
         "X1": 517,
         "X10": 517,
         "X11": 517,
         "X12": 517,
         "X13": 517,
         "X14": 517,
         "X15": 517,
         "X16": 517,
         "X17": 517,
         "X18": 517,
         "X19": 517,
         "X2": 517,
         "X20": 517,
         "X21": 517,
         "X22": 517,
         "X4": 517,
         "X5": 517,
         "X6": 517,
         "X7": 517,
         "X8": 517,
         "X9": 517,
         "Y": 517,
         "_deepnote_index_column": 1
        },
        {
         "AwayTeam": 558,
         "Date": 558,
         "HomeTeam": 558,
         "Season": 558,
         "X1": 558,
         "X10": 558,
         "X11": 558,
         "X12": 558,
         "X13": 558,
         "X14": 558,
         "X15": 558,
         "X16": 558,
         "X17": 558,
         "X18": 558,
         "X19": 558,
         "X2": 558,
         "X20": 558,
         "X21": 558,
         "X22": 558,
         "X4": 558,
         "X5": 558,
         "X6": 558,
         "X7": 558,
         "X8": 558,
         "X9": 558,
         "Y": 558,
         "_deepnote_index_column": 2
        },
        {
         "AwayTeam": 531,
         "Date": 531,
         "HomeTeam": 531,
         "Season": 531,
         "X1": 531,
         "X10": 531,
         "X11": 531,
         "X12": 531,
         "X13": 531,
         "X14": 531,
         "X15": 531,
         "X16": 531,
         "X17": 531,
         "X18": 531,
         "X19": 531,
         "X2": 531,
         "X20": 531,
         "X21": 531,
         "X22": 531,
         "X4": 531,
         "X5": 531,
         "X6": 531,
         "X7": 531,
         "X8": 531,
         "X9": 531,
         "Y": 531,
         "_deepnote_index_column": 3
        },
        {
         "AwayTeam": 564,
         "Date": 564,
         "HomeTeam": 564,
         "Season": 564,
         "X1": 564,
         "X10": 564,
         "X11": 564,
         "X12": 564,
         "X13": 564,
         "X14": 564,
         "X15": 564,
         "X16": 564,
         "X17": 564,
         "X18": 564,
         "X19": 564,
         "X2": 564,
         "X20": 564,
         "X21": 564,
         "X22": 564,
         "X4": 564,
         "X5": 564,
         "X6": 564,
         "X7": 564,
         "X8": 564,
         "X9": 564,
         "Y": 564,
         "_deepnote_index_column": 4
        },
        {
         "AwayTeam": 537,
         "Date": 537,
         "HomeTeam": 537,
         "Season": 537,
         "X1": 537,
         "X10": 537,
         "X11": 537,
         "X12": 537,
         "X13": 537,
         "X14": 537,
         "X15": 537,
         "X16": 537,
         "X17": 537,
         "X18": 537,
         "X19": 537,
         "X2": 537,
         "X20": 537,
         "X21": 537,
         "X22": 537,
         "X4": 537,
         "X5": 537,
         "X6": 537,
         "X7": 537,
         "X8": 537,
         "X9": 537,
         "Y": 537,
         "_deepnote_index_column": 5
        },
        {
         "AwayTeam": 560,
         "Date": 560,
         "HomeTeam": 560,
         "Season": 560,
         "X1": 560,
         "X10": 560,
         "X11": 560,
         "X12": 560,
         "X13": 560,
         "X14": 560,
         "X15": 560,
         "X16": 560,
         "X17": 560,
         "X18": 560,
         "X19": 560,
         "X2": 560,
         "X20": 560,
         "X21": 560,
         "X22": 560,
         "X4": 560,
         "X5": 560,
         "X6": 560,
         "X7": 560,
         "X8": 560,
         "X9": 560,
         "Y": 560,
         "_deepnote_index_column": 6
        },
        {
         "AwayTeam": 557,
         "Date": 557,
         "HomeTeam": 557,
         "Season": 557,
         "X1": 557,
         "X10": 557,
         "X11": 557,
         "X12": 557,
         "X13": 557,
         "X14": 557,
         "X15": 557,
         "X16": 557,
         "X17": 557,
         "X18": 557,
         "X19": 557,
         "X2": 557,
         "X20": 557,
         "X21": 557,
         "X22": 557,
         "X4": 557,
         "X5": 557,
         "X6": 557,
         "X7": 557,
         "X8": 557,
         "X9": 557,
         "Y": 557,
         "_deepnote_index_column": 7
        },
        {
         "AwayTeam": 548,
         "Date": 548,
         "HomeTeam": 548,
         "Season": 548,
         "X1": 548,
         "X10": 548,
         "X11": 548,
         "X12": 548,
         "X13": 548,
         "X14": 548,
         "X15": 548,
         "X16": 548,
         "X17": 548,
         "X18": 548,
         "X19": 548,
         "X2": 548,
         "X20": 548,
         "X21": 548,
         "X22": 548,
         "X4": 548,
         "X5": 548,
         "X6": 548,
         "X7": 548,
         "X8": 548,
         "X9": 548,
         "Y": 548,
         "_deepnote_index_column": 8
        },
        {
         "AwayTeam": 553,
         "Date": 553,
         "HomeTeam": 553,
         "Season": 553,
         "X1": 553,
         "X10": 553,
         "X11": 553,
         "X12": 553,
         "X13": 553,
         "X14": 553,
         "X15": 553,
         "X16": 553,
         "X17": 553,
         "X18": 553,
         "X19": 553,
         "X2": 553,
         "X20": 553,
         "X21": 553,
         "X22": 553,
         "X4": 553,
         "X5": 553,
         "X6": 553,
         "X7": 553,
         "X8": 553,
         "X9": 553,
         "Y": 553,
         "_deepnote_index_column": 9
        },
        {
         "AwayTeam": 550,
         "Date": 550,
         "HomeTeam": 550,
         "Season": 550,
         "X1": 550,
         "X10": 550,
         "X11": 550,
         "X12": 550,
         "X13": 550,
         "X14": 550,
         "X15": 550,
         "X16": 550,
         "X17": 550,
         "X18": 550,
         "X19": 550,
         "X2": 550,
         "X20": 550,
         "X21": 550,
         "X22": 550,
         "X4": 550,
         "X5": 550,
         "X6": 550,
         "X7": 550,
         "X8": 550,
         "X9": 550,
         "Y": 550,
         "_deepnote_index_column": 10
        },
        {
         "AwayTeam": 549,
         "Date": 549,
         "HomeTeam": 549,
         "Season": 549,
         "X1": 549,
         "X10": 549,
         "X11": 549,
         "X12": 549,
         "X13": 549,
         "X14": 549,
         "X15": 549,
         "X16": 549,
         "X17": 549,
         "X18": 549,
         "X19": 549,
         "X2": 549,
         "X20": 549,
         "X21": 549,
         "X22": 549,
         "X4": 549,
         "X5": 549,
         "X6": 549,
         "X7": 549,
         "X8": 549,
         "X9": 549,
         "Y": 549,
         "_deepnote_index_column": 11
        },
        {
         "AwayTeam": 516,
         "Date": 516,
         "HomeTeam": 516,
         "Season": 516,
         "X1": 516,
         "X10": 516,
         "X11": 516,
         "X12": 516,
         "X13": 516,
         "X14": 516,
         "X15": 516,
         "X16": 516,
         "X17": 516,
         "X18": 516,
         "X19": 516,
         "X2": 516,
         "X20": 516,
         "X21": 516,
         "X22": 516,
         "X4": 516,
         "X5": 516,
         "X6": 516,
         "X7": 516,
         "X8": 516,
         "X9": 516,
         "Y": 516,
         "_deepnote_index_column": 12
        },
        {
         "AwayTeam": 553,
         "Date": 553,
         "HomeTeam": 553,
         "Season": 553,
         "X1": 553,
         "X10": 553,
         "X11": 553,
         "X12": 553,
         "X13": 553,
         "X14": 553,
         "X15": 553,
         "X16": 553,
         "X17": 553,
         "X18": 553,
         "X19": 553,
         "X2": 553,
         "X20": 553,
         "X21": 553,
         "X22": 553,
         "X4": 553,
         "X5": 553,
         "X6": 553,
         "X7": 553,
         "X8": 553,
         "X9": 553,
         "Y": 553,
         "_deepnote_index_column": 13
        },
        {
         "AwayTeam": 541,
         "Date": 541,
         "HomeTeam": 541,
         "Season": 541,
         "X1": 541,
         "X10": 541,
         "X11": 541,
         "X12": 541,
         "X13": 541,
         "X14": 541,
         "X15": 541,
         "X16": 541,
         "X17": 541,
         "X18": 541,
         "X19": 541,
         "X2": 541,
         "X20": 541,
         "X21": 541,
         "X22": 541,
         "X4": 541,
         "X5": 541,
         "X6": 541,
         "X7": 541,
         "X8": 541,
         "X9": 541,
         "Y": 541,
         "_deepnote_index_column": 14
        },
        {
         "AwayTeam": 535,
         "Date": 535,
         "HomeTeam": 535,
         "Season": 535,
         "X1": 535,
         "X10": 535,
         "X11": 535,
         "X12": 535,
         "X13": 535,
         "X14": 535,
         "X15": 535,
         "X16": 535,
         "X17": 535,
         "X18": 535,
         "X19": 535,
         "X2": 535,
         "X20": 535,
         "X21": 535,
         "X22": 535,
         "X4": 535,
         "X5": 535,
         "X6": 535,
         "X7": 535,
         "X8": 535,
         "X9": 535,
         "Y": 535,
         "_deepnote_index_column": 15
        },
        {
         "AwayTeam": 545,
         "Date": 545,
         "HomeTeam": 545,
         "Season": 545,
         "X1": 545,
         "X10": 545,
         "X11": 545,
         "X12": 545,
         "X13": 545,
         "X14": 545,
         "X15": 545,
         "X16": 545,
         "X17": 545,
         "X18": 545,
         "X19": 545,
         "X2": 545,
         "X20": 545,
         "X21": 545,
         "X22": 545,
         "X4": 545,
         "X5": 545,
         "X6": 545,
         "X7": 545,
         "X8": 545,
         "X9": 545,
         "Y": 545,
         "_deepnote_index_column": 16
        },
        {
         "AwayTeam": 578,
         "Date": 578,
         "HomeTeam": 578,
         "Season": 578,
         "X1": 578,
         "X10": 578,
         "X11": 578,
         "X12": 578,
         "X13": 578,
         "X14": 578,
         "X15": 578,
         "X16": 578,
         "X17": 578,
         "X18": 578,
         "X19": 578,
         "X2": 578,
         "X20": 578,
         "X21": 578,
         "X22": 578,
         "X4": 578,
         "X5": 578,
         "X6": 578,
         "X7": 578,
         "X8": 578,
         "X9": 578,
         "Y": 578,
         "_deepnote_index_column": 17
        },
        {
         "AwayTeam": 546,
         "Date": 546,
         "HomeTeam": 546,
         "Season": 546,
         "X1": 546,
         "X10": 546,
         "X11": 546,
         "X12": 546,
         "X13": 546,
         "X14": 546,
         "X15": 546,
         "X16": 546,
         "X17": 546,
         "X18": 546,
         "X19": 546,
         "X2": 546,
         "X20": 546,
         "X21": 546,
         "X22": 546,
         "X4": 546,
         "X5": 546,
         "X6": 546,
         "X7": 546,
         "X8": 546,
         "X9": 546,
         "Y": 546,
         "_deepnote_index_column": 18
        },
        {
         "AwayTeam": 548,
         "Date": 548,
         "HomeTeam": 548,
         "Season": 548,
         "X1": 548,
         "X10": 548,
         "X11": 548,
         "X12": 548,
         "X13": 548,
         "X14": 548,
         "X15": 548,
         "X16": 548,
         "X17": 548,
         "X18": 548,
         "X19": 548,
         "X2": 548,
         "X20": 548,
         "X21": 548,
         "X22": 548,
         "X4": 548,
         "X5": 548,
         "X6": 548,
         "X7": 548,
         "X8": 548,
         "X9": 548,
         "Y": 548,
         "_deepnote_index_column": 19
        },
        {
         "AwayTeam": 562,
         "Date": 562,
         "HomeTeam": 562,
         "Season": 562,
         "X1": 562,
         "X10": 562,
         "X11": 562,
         "X12": 562,
         "X13": 562,
         "X14": 562,
         "X15": 562,
         "X16": 562,
         "X17": 562,
         "X18": 562,
         "X19": 562,
         "X2": 562,
         "X20": 562,
         "X21": 562,
         "X22": 562,
         "X4": 562,
         "X5": 562,
         "X6": 562,
         "X7": 562,
         "X8": 562,
         "X9": 562,
         "Y": 562,
         "_deepnote_index_column": 20
        },
        {
         "AwayTeam": 49,
         "Date": 49,
         "HomeTeam": 49,
         "Season": 49,
         "X1": 49,
         "X10": 49,
         "X11": 49,
         "X12": 49,
         "X13": 49,
         "X14": 49,
         "X15": 49,
         "X16": 49,
         "X17": 49,
         "X18": 49,
         "X19": 49,
         "X2": 49,
         "X20": 49,
         "X21": 49,
         "X22": 49,
         "X4": 49,
         "X5": 49,
         "X6": 49,
         "X7": 49,
         "X8": 49,
         "X9": 49,
         "Y": 49,
         "_deepnote_index_column": 21
        },
        {
         "AwayTeam": 40,
         "Date": 40,
         "HomeTeam": 40,
         "Season": 40,
         "X1": 40,
         "X10": 40,
         "X11": 40,
         "X12": 40,
         "X13": 40,
         "X14": 40,
         "X15": 40,
         "X16": 40,
         "X17": 40,
         "X18": 40,
         "X19": 40,
         "X2": 40,
         "X20": 40,
         "X21": 40,
         "X22": 40,
         "X4": 40,
         "X5": 40,
         "X6": 40,
         "X7": 40,
         "X8": 40,
         "X9": 40,
         "Y": 40,
         "_deepnote_index_column": 22
        }
       ]
      },
      "text/html": [
       "<div>\n",
       "<style scoped>\n",
       "    .dataframe tbody tr th:only-of-type {\n",
       "        vertical-align: middle;\n",
       "    }\n",
       "\n",
       "    .dataframe tbody tr th {\n",
       "        vertical-align: top;\n",
       "    }\n",
       "\n",
       "    .dataframe thead th {\n",
       "        text-align: right;\n",
       "    }\n",
       "</style>\n",
       "<table border=\"1\" class=\"dataframe\">\n",
       "  <thead>\n",
       "    <tr style=\"text-align: right;\">\n",
       "      <th></th>\n",
       "      <th>HomeTeam</th>\n",
       "      <th>AwayTeam</th>\n",
       "      <th>Date</th>\n",
       "      <th>Season</th>\n",
       "      <th>X1</th>\n",
       "      <th>X2</th>\n",
       "      <th>X4</th>\n",
       "      <th>X5</th>\n",
       "      <th>X6</th>\n",
       "      <th>X7</th>\n",
       "      <th>...</th>\n",
       "      <th>X14</th>\n",
       "      <th>X15</th>\n",
       "      <th>X16</th>\n",
       "      <th>X17</th>\n",
       "      <th>X18</th>\n",
       "      <th>X19</th>\n",
       "      <th>X20</th>\n",
       "      <th>X21</th>\n",
       "      <th>X22</th>\n",
       "      <th>Y</th>\n",
       "    </tr>\n",
       "    <tr>\n",
       "      <th>X3</th>\n",
       "      <th></th>\n",
       "      <th></th>\n",
       "      <th></th>\n",
       "      <th></th>\n",
       "      <th></th>\n",
       "      <th></th>\n",
       "      <th></th>\n",
       "      <th></th>\n",
       "      <th></th>\n",
       "      <th></th>\n",
       "      <th></th>\n",
       "      <th></th>\n",
       "      <th></th>\n",
       "      <th></th>\n",
       "      <th></th>\n",
       "      <th></th>\n",
       "      <th></th>\n",
       "      <th></th>\n",
       "      <th></th>\n",
       "      <th></th>\n",
       "      <th></th>\n",
       "    </tr>\n",
       "  </thead>\n",
       "  <tbody>\n",
       "    <tr>\n",
       "      <th>1.0</th>\n",
       "      <td>517</td>\n",
       "      <td>517</td>\n",
       "      <td>517</td>\n",
       "      <td>517</td>\n",
       "      <td>517</td>\n",
       "      <td>517</td>\n",
       "      <td>517</td>\n",
       "      <td>517</td>\n",
       "      <td>517</td>\n",
       "      <td>517</td>\n",
       "      <td>...</td>\n",
       "      <td>517</td>\n",
       "      <td>517</td>\n",
       "      <td>517</td>\n",
       "      <td>517</td>\n",
       "      <td>517</td>\n",
       "      <td>517</td>\n",
       "      <td>517</td>\n",
       "      <td>517</td>\n",
       "      <td>517</td>\n",
       "      <td>517</td>\n",
       "    </tr>\n",
       "    <tr>\n",
       "      <th>2.0</th>\n",
       "      <td>558</td>\n",
       "      <td>558</td>\n",
       "      <td>558</td>\n",
       "      <td>558</td>\n",
       "      <td>558</td>\n",
       "      <td>558</td>\n",
       "      <td>558</td>\n",
       "      <td>558</td>\n",
       "      <td>558</td>\n",
       "      <td>558</td>\n",
       "      <td>...</td>\n",
       "      <td>558</td>\n",
       "      <td>558</td>\n",
       "      <td>558</td>\n",
       "      <td>558</td>\n",
       "      <td>558</td>\n",
       "      <td>558</td>\n",
       "      <td>558</td>\n",
       "      <td>558</td>\n",
       "      <td>558</td>\n",
       "      <td>558</td>\n",
       "    </tr>\n",
       "    <tr>\n",
       "      <th>3.0</th>\n",
       "      <td>531</td>\n",
       "      <td>531</td>\n",
       "      <td>531</td>\n",
       "      <td>531</td>\n",
       "      <td>531</td>\n",
       "      <td>531</td>\n",
       "      <td>531</td>\n",
       "      <td>531</td>\n",
       "      <td>531</td>\n",
       "      <td>531</td>\n",
       "      <td>...</td>\n",
       "      <td>531</td>\n",
       "      <td>531</td>\n",
       "      <td>531</td>\n",
       "      <td>531</td>\n",
       "      <td>531</td>\n",
       "      <td>531</td>\n",
       "      <td>531</td>\n",
       "      <td>531</td>\n",
       "      <td>531</td>\n",
       "      <td>531</td>\n",
       "    </tr>\n",
       "    <tr>\n",
       "      <th>4.0</th>\n",
       "      <td>564</td>\n",
       "      <td>564</td>\n",
       "      <td>564</td>\n",
       "      <td>564</td>\n",
       "      <td>564</td>\n",
       "      <td>564</td>\n",
       "      <td>564</td>\n",
       "      <td>564</td>\n",
       "      <td>564</td>\n",
       "      <td>564</td>\n",
       "      <td>...</td>\n",
       "      <td>564</td>\n",
       "      <td>564</td>\n",
       "      <td>564</td>\n",
       "      <td>564</td>\n",
       "      <td>564</td>\n",
       "      <td>564</td>\n",
       "      <td>564</td>\n",
       "      <td>564</td>\n",
       "      <td>564</td>\n",
       "      <td>564</td>\n",
       "    </tr>\n",
       "    <tr>\n",
       "      <th>5.0</th>\n",
       "      <td>537</td>\n",
       "      <td>537</td>\n",
       "      <td>537</td>\n",
       "      <td>537</td>\n",
       "      <td>537</td>\n",
       "      <td>537</td>\n",
       "      <td>537</td>\n",
       "      <td>537</td>\n",
       "      <td>537</td>\n",
       "      <td>537</td>\n",
       "      <td>...</td>\n",
       "      <td>537</td>\n",
       "      <td>537</td>\n",
       "      <td>537</td>\n",
       "      <td>537</td>\n",
       "      <td>537</td>\n",
       "      <td>537</td>\n",
       "      <td>537</td>\n",
       "      <td>537</td>\n",
       "      <td>537</td>\n",
       "      <td>537</td>\n",
       "    </tr>\n",
       "    <tr>\n",
       "      <th>6.0</th>\n",
       "      <td>560</td>\n",
       "      <td>560</td>\n",
       "      <td>560</td>\n",
       "      <td>560</td>\n",
       "      <td>560</td>\n",
       "      <td>560</td>\n",
       "      <td>560</td>\n",
       "      <td>560</td>\n",
       "      <td>560</td>\n",
       "      <td>560</td>\n",
       "      <td>...</td>\n",
       "      <td>560</td>\n",
       "      <td>560</td>\n",
       "      <td>560</td>\n",
       "      <td>560</td>\n",
       "      <td>560</td>\n",
       "      <td>560</td>\n",
       "      <td>560</td>\n",
       "      <td>560</td>\n",
       "      <td>560</td>\n",
       "      <td>560</td>\n",
       "    </tr>\n",
       "    <tr>\n",
       "      <th>7.0</th>\n",
       "      <td>557</td>\n",
       "      <td>557</td>\n",
       "      <td>557</td>\n",
       "      <td>557</td>\n",
       "      <td>557</td>\n",
       "      <td>557</td>\n",
       "      <td>557</td>\n",
       "      <td>557</td>\n",
       "      <td>557</td>\n",
       "      <td>557</td>\n",
       "      <td>...</td>\n",
       "      <td>557</td>\n",
       "      <td>557</td>\n",
       "      <td>557</td>\n",
       "      <td>557</td>\n",
       "      <td>557</td>\n",
       "      <td>557</td>\n",
       "      <td>557</td>\n",
       "      <td>557</td>\n",
       "      <td>557</td>\n",
       "      <td>557</td>\n",
       "    </tr>\n",
       "    <tr>\n",
       "      <th>8.0</th>\n",
       "      <td>548</td>\n",
       "      <td>548</td>\n",
       "      <td>548</td>\n",
       "      <td>548</td>\n",
       "      <td>548</td>\n",
       "      <td>548</td>\n",
       "      <td>548</td>\n",
       "      <td>548</td>\n",
       "      <td>548</td>\n",
       "      <td>548</td>\n",
       "      <td>...</td>\n",
       "      <td>548</td>\n",
       "      <td>548</td>\n",
       "      <td>548</td>\n",
       "      <td>548</td>\n",
       "      <td>548</td>\n",
       "      <td>548</td>\n",
       "      <td>548</td>\n",
       "      <td>548</td>\n",
       "      <td>548</td>\n",
       "      <td>548</td>\n",
       "    </tr>\n",
       "    <tr>\n",
       "      <th>9.0</th>\n",
       "      <td>553</td>\n",
       "      <td>553</td>\n",
       "      <td>553</td>\n",
       "      <td>553</td>\n",
       "      <td>553</td>\n",
       "      <td>553</td>\n",
       "      <td>553</td>\n",
       "      <td>553</td>\n",
       "      <td>553</td>\n",
       "      <td>553</td>\n",
       "      <td>...</td>\n",
       "      <td>553</td>\n",
       "      <td>553</td>\n",
       "      <td>553</td>\n",
       "      <td>553</td>\n",
       "      <td>553</td>\n",
       "      <td>553</td>\n",
       "      <td>553</td>\n",
       "      <td>553</td>\n",
       "      <td>553</td>\n",
       "      <td>553</td>\n",
       "    </tr>\n",
       "    <tr>\n",
       "      <th>10.0</th>\n",
       "      <td>550</td>\n",
       "      <td>550</td>\n",
       "      <td>550</td>\n",
       "      <td>550</td>\n",
       "      <td>550</td>\n",
       "      <td>550</td>\n",
       "      <td>550</td>\n",
       "      <td>550</td>\n",
       "      <td>550</td>\n",
       "      <td>550</td>\n",
       "      <td>...</td>\n",
       "      <td>550</td>\n",
       "      <td>550</td>\n",
       "      <td>550</td>\n",
       "      <td>550</td>\n",
       "      <td>550</td>\n",
       "      <td>550</td>\n",
       "      <td>550</td>\n",
       "      <td>550</td>\n",
       "      <td>550</td>\n",
       "      <td>550</td>\n",
       "    </tr>\n",
       "    <tr>\n",
       "      <th>11.0</th>\n",
       "      <td>549</td>\n",
       "      <td>549</td>\n",
       "      <td>549</td>\n",
       "      <td>549</td>\n",
       "      <td>549</td>\n",
       "      <td>549</td>\n",
       "      <td>549</td>\n",
       "      <td>549</td>\n",
       "      <td>549</td>\n",
       "      <td>549</td>\n",
       "      <td>...</td>\n",
       "      <td>549</td>\n",
       "      <td>549</td>\n",
       "      <td>549</td>\n",
       "      <td>549</td>\n",
       "      <td>549</td>\n",
       "      <td>549</td>\n",
       "      <td>549</td>\n",
       "      <td>549</td>\n",
       "      <td>549</td>\n",
       "      <td>549</td>\n",
       "    </tr>\n",
       "    <tr>\n",
       "      <th>12.0</th>\n",
       "      <td>516</td>\n",
       "      <td>516</td>\n",
       "      <td>516</td>\n",
       "      <td>516</td>\n",
       "      <td>516</td>\n",
       "      <td>516</td>\n",
       "      <td>516</td>\n",
       "      <td>516</td>\n",
       "      <td>516</td>\n",
       "      <td>516</td>\n",
       "      <td>...</td>\n",
       "      <td>516</td>\n",
       "      <td>516</td>\n",
       "      <td>516</td>\n",
       "      <td>516</td>\n",
       "      <td>516</td>\n",
       "      <td>516</td>\n",
       "      <td>516</td>\n",
       "      <td>516</td>\n",
       "      <td>516</td>\n",
       "      <td>516</td>\n",
       "    </tr>\n",
       "    <tr>\n",
       "      <th>13.0</th>\n",
       "      <td>553</td>\n",
       "      <td>553</td>\n",
       "      <td>553</td>\n",
       "      <td>553</td>\n",
       "      <td>553</td>\n",
       "      <td>553</td>\n",
       "      <td>553</td>\n",
       "      <td>553</td>\n",
       "      <td>553</td>\n",
       "      <td>553</td>\n",
       "      <td>...</td>\n",
       "      <td>553</td>\n",
       "      <td>553</td>\n",
       "      <td>553</td>\n",
       "      <td>553</td>\n",
       "      <td>553</td>\n",
       "      <td>553</td>\n",
       "      <td>553</td>\n",
       "      <td>553</td>\n",
       "      <td>553</td>\n",
       "      <td>553</td>\n",
       "    </tr>\n",
       "    <tr>\n",
       "      <th>14.0</th>\n",
       "      <td>541</td>\n",
       "      <td>541</td>\n",
       "      <td>541</td>\n",
       "      <td>541</td>\n",
       "      <td>541</td>\n",
       "      <td>541</td>\n",
       "      <td>541</td>\n",
       "      <td>541</td>\n",
       "      <td>541</td>\n",
       "      <td>541</td>\n",
       "      <td>...</td>\n",
       "      <td>541</td>\n",
       "      <td>541</td>\n",
       "      <td>541</td>\n",
       "      <td>541</td>\n",
       "      <td>541</td>\n",
       "      <td>541</td>\n",
       "      <td>541</td>\n",
       "      <td>541</td>\n",
       "      <td>541</td>\n",
       "      <td>541</td>\n",
       "    </tr>\n",
       "    <tr>\n",
       "      <th>15.0</th>\n",
       "      <td>535</td>\n",
       "      <td>535</td>\n",
       "      <td>535</td>\n",
       "      <td>535</td>\n",
       "      <td>535</td>\n",
       "      <td>535</td>\n",
       "      <td>535</td>\n",
       "      <td>535</td>\n",
       "      <td>535</td>\n",
       "      <td>535</td>\n",
       "      <td>...</td>\n",
       "      <td>535</td>\n",
       "      <td>535</td>\n",
       "      <td>535</td>\n",
       "      <td>535</td>\n",
       "      <td>535</td>\n",
       "      <td>535</td>\n",
       "      <td>535</td>\n",
       "      <td>535</td>\n",
       "      <td>535</td>\n",
       "      <td>535</td>\n",
       "    </tr>\n",
       "    <tr>\n",
       "      <th>16.0</th>\n",
       "      <td>545</td>\n",
       "      <td>545</td>\n",
       "      <td>545</td>\n",
       "      <td>545</td>\n",
       "      <td>545</td>\n",
       "      <td>545</td>\n",
       "      <td>545</td>\n",
       "      <td>545</td>\n",
       "      <td>545</td>\n",
       "      <td>545</td>\n",
       "      <td>...</td>\n",
       "      <td>545</td>\n",
       "      <td>545</td>\n",
       "      <td>545</td>\n",
       "      <td>545</td>\n",
       "      <td>545</td>\n",
       "      <td>545</td>\n",
       "      <td>545</td>\n",
       "      <td>545</td>\n",
       "      <td>545</td>\n",
       "      <td>545</td>\n",
       "    </tr>\n",
       "    <tr>\n",
       "      <th>17.0</th>\n",
       "      <td>578</td>\n",
       "      <td>578</td>\n",
       "      <td>578</td>\n",
       "      <td>578</td>\n",
       "      <td>578</td>\n",
       "      <td>578</td>\n",
       "      <td>578</td>\n",
       "      <td>578</td>\n",
       "      <td>578</td>\n",
       "      <td>578</td>\n",
       "      <td>...</td>\n",
       "      <td>578</td>\n",
       "      <td>578</td>\n",
       "      <td>578</td>\n",
       "      <td>578</td>\n",
       "      <td>578</td>\n",
       "      <td>578</td>\n",
       "      <td>578</td>\n",
       "      <td>578</td>\n",
       "      <td>578</td>\n",
       "      <td>578</td>\n",
       "    </tr>\n",
       "    <tr>\n",
       "      <th>18.0</th>\n",
       "      <td>546</td>\n",
       "      <td>546</td>\n",
       "      <td>546</td>\n",
       "      <td>546</td>\n",
       "      <td>546</td>\n",
       "      <td>546</td>\n",
       "      <td>546</td>\n",
       "      <td>546</td>\n",
       "      <td>546</td>\n",
       "      <td>546</td>\n",
       "      <td>...</td>\n",
       "      <td>546</td>\n",
       "      <td>546</td>\n",
       "      <td>546</td>\n",
       "      <td>546</td>\n",
       "      <td>546</td>\n",
       "      <td>546</td>\n",
       "      <td>546</td>\n",
       "      <td>546</td>\n",
       "      <td>546</td>\n",
       "      <td>546</td>\n",
       "    </tr>\n",
       "    <tr>\n",
       "      <th>19.0</th>\n",
       "      <td>548</td>\n",
       "      <td>548</td>\n",
       "      <td>548</td>\n",
       "      <td>548</td>\n",
       "      <td>548</td>\n",
       "      <td>548</td>\n",
       "      <td>548</td>\n",
       "      <td>548</td>\n",
       "      <td>548</td>\n",
       "      <td>548</td>\n",
       "      <td>...</td>\n",
       "      <td>548</td>\n",
       "      <td>548</td>\n",
       "      <td>548</td>\n",
       "      <td>548</td>\n",
       "      <td>548</td>\n",
       "      <td>548</td>\n",
       "      <td>548</td>\n",
       "      <td>548</td>\n",
       "      <td>548</td>\n",
       "      <td>548</td>\n",
       "    </tr>\n",
       "    <tr>\n",
       "      <th>20.0</th>\n",
       "      <td>562</td>\n",
       "      <td>562</td>\n",
       "      <td>562</td>\n",
       "      <td>562</td>\n",
       "      <td>562</td>\n",
       "      <td>562</td>\n",
       "      <td>562</td>\n",
       "      <td>562</td>\n",
       "      <td>562</td>\n",
       "      <td>562</td>\n",
       "      <td>...</td>\n",
       "      <td>562</td>\n",
       "      <td>562</td>\n",
       "      <td>562</td>\n",
       "      <td>562</td>\n",
       "      <td>562</td>\n",
       "      <td>562</td>\n",
       "      <td>562</td>\n",
       "      <td>562</td>\n",
       "      <td>562</td>\n",
       "      <td>562</td>\n",
       "    </tr>\n",
       "    <tr>\n",
       "      <th>21.0</th>\n",
       "      <td>49</td>\n",
       "      <td>49</td>\n",
       "      <td>49</td>\n",
       "      <td>49</td>\n",
       "      <td>49</td>\n",
       "      <td>49</td>\n",
       "      <td>49</td>\n",
       "      <td>49</td>\n",
       "      <td>49</td>\n",
       "      <td>49</td>\n",
       "      <td>...</td>\n",
       "      <td>49</td>\n",
       "      <td>49</td>\n",
       "      <td>49</td>\n",
       "      <td>49</td>\n",
       "      <td>49</td>\n",
       "      <td>49</td>\n",
       "      <td>49</td>\n",
       "      <td>49</td>\n",
       "      <td>49</td>\n",
       "      <td>49</td>\n",
       "    </tr>\n",
       "    <tr>\n",
       "      <th>22.0</th>\n",
       "      <td>40</td>\n",
       "      <td>40</td>\n",
       "      <td>40</td>\n",
       "      <td>40</td>\n",
       "      <td>40</td>\n",
       "      <td>40</td>\n",
       "      <td>40</td>\n",
       "      <td>40</td>\n",
       "      <td>40</td>\n",
       "      <td>40</td>\n",
       "      <td>...</td>\n",
       "      <td>40</td>\n",
       "      <td>40</td>\n",
       "      <td>40</td>\n",
       "      <td>40</td>\n",
       "      <td>40</td>\n",
       "      <td>40</td>\n",
       "      <td>40</td>\n",
       "      <td>40</td>\n",
       "      <td>40</td>\n",
       "      <td>40</td>\n",
       "    </tr>\n",
       "  </tbody>\n",
       "</table>\n",
       "<p>22 rows × 26 columns</p>\n",
       "</div>"
      ],
      "text/plain": [
       "      HomeTeam  AwayTeam  Date  Season   X1   X2   X4   X5   X6   X7  ...  \\\n",
       "X3                                                                    ...   \n",
       "1.0        517       517   517     517  517  517  517  517  517  517  ...   \n",
       "2.0        558       558   558     558  558  558  558  558  558  558  ...   \n",
       "3.0        531       531   531     531  531  531  531  531  531  531  ...   \n",
       "4.0        564       564   564     564  564  564  564  564  564  564  ...   \n",
       "5.0        537       537   537     537  537  537  537  537  537  537  ...   \n",
       "6.0        560       560   560     560  560  560  560  560  560  560  ...   \n",
       "7.0        557       557   557     557  557  557  557  557  557  557  ...   \n",
       "8.0        548       548   548     548  548  548  548  548  548  548  ...   \n",
       "9.0        553       553   553     553  553  553  553  553  553  553  ...   \n",
       "10.0       550       550   550     550  550  550  550  550  550  550  ...   \n",
       "11.0       549       549   549     549  549  549  549  549  549  549  ...   \n",
       "12.0       516       516   516     516  516  516  516  516  516  516  ...   \n",
       "13.0       553       553   553     553  553  553  553  553  553  553  ...   \n",
       "14.0       541       541   541     541  541  541  541  541  541  541  ...   \n",
       "15.0       535       535   535     535  535  535  535  535  535  535  ...   \n",
       "16.0       545       545   545     545  545  545  545  545  545  545  ...   \n",
       "17.0       578       578   578     578  578  578  578  578  578  578  ...   \n",
       "18.0       546       546   546     546  546  546  546  546  546  546  ...   \n",
       "19.0       548       548   548     548  548  548  548  548  548  548  ...   \n",
       "20.0       562       562   562     562  562  562  562  562  562  562  ...   \n",
       "21.0        49        49    49      49   49   49   49   49   49   49  ...   \n",
       "22.0        40        40    40      40   40   40   40   40   40   40  ...   \n",
       "\n",
       "      X14  X15  X16  X17  X18  X19  X20  X21  X22    Y  \n",
       "X3                                                      \n",
       "1.0   517  517  517  517  517  517  517  517  517  517  \n",
       "2.0   558  558  558  558  558  558  558  558  558  558  \n",
       "3.0   531  531  531  531  531  531  531  531  531  531  \n",
       "4.0   564  564  564  564  564  564  564  564  564  564  \n",
       "5.0   537  537  537  537  537  537  537  537  537  537  \n",
       "6.0   560  560  560  560  560  560  560  560  560  560  \n",
       "7.0   557  557  557  557  557  557  557  557  557  557  \n",
       "8.0   548  548  548  548  548  548  548  548  548  548  \n",
       "9.0   553  553  553  553  553  553  553  553  553  553  \n",
       "10.0  550  550  550  550  550  550  550  550  550  550  \n",
       "11.0  549  549  549  549  549  549  549  549  549  549  \n",
       "12.0  516  516  516  516  516  516  516  516  516  516  \n",
       "13.0  553  553  553  553  553  553  553  553  553  553  \n",
       "14.0  541  541  541  541  541  541  541  541  541  541  \n",
       "15.0  535  535  535  535  535  535  535  535  535  535  \n",
       "16.0  545  545  545  545  545  545  545  545  545  545  \n",
       "17.0  578  578  578  578  578  578  578  578  578  578  \n",
       "18.0  546  546  546  546  546  546  546  546  546  546  \n",
       "19.0  548  548  548  548  548  548  548  548  548  548  \n",
       "20.0  562  562  562  562  562  562  562  562  562  562  \n",
       "21.0   49   49   49   49   49   49   49   49   49   49  \n",
       "22.0   40   40   40   40   40   40   40   40   40   40  \n",
       "\n",
       "[22 rows x 26 columns]"
      ]
     },
     "execution_count": 27,
     "metadata": {},
     "output_type": "execute_result"
    }
   ],
   "source": [
    "from sklearn.preprocessing import LabelEncoder, OneHotEncoder\n",
    "\n",
    "\n",
    "le = LabelEncoder()\n",
    "onehot = OneHotEncoder()\n",
    "a = le.fit_transform(data['X3'])\n",
    "b = onehot.fit_transform(data['X3'].to_numpy().reshape(-1,1))\n",
    "np.sort(pd.Series(a).unique())\n",
    "\n",
    "a = pd.Series(a)\n",
    "data.groupby('X3').count()"
   ]
  },
  {
   "cell_type": "code",
   "execution_count": null,
   "metadata": {
    "cell_id": "168efd2d2e024ad4b7705a1562854213",
    "deepnote_cell_height": 118.15625,
    "deepnote_cell_type": "code",
    "deepnote_output_heights": [
     21.1875
    ],
    "deepnote_to_be_reexecuted": true,
    "execution_millis": 690,
    "execution_start": 1650367345535,
    "source_hash": "9d8b75e1",
    "tags": []
   },
   "outputs": [
    {
     "data": {
      "text/plain": [
       "(9695, (11037, 27))"
      ]
     },
     "execution_count": 7,
     "metadata": {},
     "output_type": "execute_result"
    }
   ],
   "source": [
    "len(data['X2'].unique()), data.shape, data['X2'] == 0"
   ]
  },
  {
   "cell_type": "code",
   "execution_count": null,
   "metadata": {
    "cell_id": "539d9067d45a4a9a8e8d8ae0c82289d2",
    "deepnote_cell_height": 172.15625,
    "deepnote_cell_type": "code",
    "deepnote_output_heights": [
     21.1875
    ],
    "deepnote_table_loading": false,
    "deepnote_table_state": {
     "filters": [],
     "pageIndex": 6,
     "pageSize": 100,
     "sortBy": []
    },
    "deepnote_to_be_reexecuted": true,
    "execution_millis": 6,
    "execution_start": 1650368384611,
    "source_hash": "60c8481",
    "tags": []
   },
   "outputs": [
    {
     "data": {
      "text/plain": [
       "array([1])"
      ]
     },
     "execution_count": 18,
     "metadata": {},
     "output_type": "execute_result"
    }
   ],
   "source": [
    "data.groupby('X2').count().sort_values('X1', ascending=False) # 612 value is not the same\n",
    "data.groupby('X2').mean().loc[0.999727626459144, :]\n",
    "names = ['X'+str(i) for i in np.arange(1,23)]\n",
    "data.groupby(names).count()['Y'].unique()"
   ]
  }
 ],
 "metadata": {
  "deepnote": {
   "is_reactive": false
  },
  "deepnote_execution_queue": [],
  "deepnote_notebook_id": "573b176e-8b6c-4e1e-8977-73c501c9e641",
  "language_info": {
   "name": "python"
  },
  "orig_nbformat": 2
 },
 "nbformat": 4,
 "nbformat_minor": 2
}
