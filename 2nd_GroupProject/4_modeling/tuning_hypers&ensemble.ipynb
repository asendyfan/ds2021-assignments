{
 "cells": [
  {
   "cell_type": "code",
   "execution_count": null,
   "metadata": {
    "cell_id": "7010ebe7-c6c3-46a4-98b2-c7d8901e4b62",
    "deepnote_app_coordinates": {
     "h": 5,
     "w": 12,
     "x": 0,
     "y": null
    },
    "deepnote_app_is_code_hidden": false,
    "deepnote_cell_height": 206.96875,
    "deepnote_cell_type": "code",
    "deepnote_to_be_reexecuted": false,
    "execution_millis": 1924,
    "execution_start": 1651170089680,
    "source_hash": "59332032",
    "tags": []
   },
   "outputs": [],
   "source": [
    "%run /home/jovyan/work/utils/pipelines.ipynb\n",
    "X, y = data_tieandwin()\n",
    "feature_name_list = ['X'+str(i+1) for i in range(X.shape[1])]\n",
    "from sklearn.preprocessing import StandardScaler\n",
    "scal = StandardScaler()\n",
    "scal.fit(X)\n",
    "X = scal.transform(X) \n",
    "raw_data = change_result_from_raw2data()"
   ]
  },
  {
   "cell_type": "markdown",
   "metadata": {
    "cell_id": "00002-4f1ed42a-a3b0-46b8-90ee-ba8b1d3c956e",
    "deepnote_app_coordinates": {
     "h": 5,
     "w": 12,
     "x": 0,
     "y": 6
    },
    "deepnote_cell_type": "text-cell-h2",
    "is_collapsed": false,
    "tags": []
   },
   "source": [
    "## Methods"
   ]
  },
  {
   "cell_type": "code",
   "execution_count": null,
   "metadata": {
    "cell_id": "00003-5c3c6a90-4201-4147-b8d0-4beafc04118d",
    "deepnote_app_coordinates": {
     "h": 5,
     "w": 12,
     "x": 0,
     "y": 12
    },
    "deepnote_cell_height": 854.96875,
    "deepnote_cell_type": "code",
    "deepnote_to_be_reexecuted": false,
    "execution_millis": 1,
    "execution_start": 1651170093180,
    "source_hash": "b4de846f",
    "tags": []
   },
   "outputs": [],
   "source": [
    "import json\n",
    "def get_configs():\n",
    "    input_file = open('/root/work/4_data_modelling/configs.json')\n",
    "    content = json.load(input_file)\n",
    "    return content\n",
    "\n",
    "def append_to_config_file(model_name, score, params):\n",
    "    temp = {}\n",
    "    for k, v in params.items():\n",
    "        if hasattr(v, '__dict__'):\n",
    "            continue\n",
    "        if type(v) == np.int64:\n",
    "            temp[k] = int(v)\n",
    "        else:\n",
    "            temp[k] = v\n",
    "\n",
    "    input_file = open('/root/work/4_data_modelling/configs.json')\n",
    "    content = json.load(input_file)\n",
    "    content[model_name] = {'f1_score':score, 'params':temp}\n",
    "    output_file = open('/root/work/4_data_modelling/configs.json', 'w')\n",
    "    json.dump(content, output_file)\n",
    "\n",
    "import time\n",
    "def format_time(sec):\n",
    "    temp = sec\n",
    "    day_in_sec = 24*60*60\n",
    "    hour_in_sec = 60*60\n",
    "    day = 0\n",
    "    hour = 0\n",
    "    minv = 0\n",
    "    if temp > day_in_sec:\n",
    "        day = int(temp // day_in_sec)\n",
    "        temp = temp % day_in_sec\n",
    "    if temp > hour_in_sec:\n",
    "        hour = int(temp // hour_in_sec)\n",
    "        temp = temp % hour_in_sec\n",
    "    if temp > 60:\n",
    "        minv = int(temp // 60)\n",
    "        temp = temp % 60\n",
    "    return '{}{}{}{}s'.format(\n",
    "        str(day)+'d ' if day !=0 else '', \n",
    "        str(hour)+'h ' if hour !=0 else '',\n",
    "        str(minv)+'m ' if minv !=0 else '',\n",
    "        round(temp, 2))"
   ]
  },
  {
   "cell_type": "markdown",
   "metadata": {
    "cell_id": "00004-c65c7122-ce64-4694-82d9-6841f82dd2c6",
    "deepnote_app_coordinates": {
     "h": 5,
     "w": 12,
     "x": 0,
     "y": 18
    },
    "deepnote_cell_type": "text-cell-h2",
    "is_collapsed": false,
    "tags": []
   },
   "source": [
    "## tuning hyperparameter"
   ]
  },
  {
   "cell_type": "code",
   "execution_count": null,
   "metadata": {
    "cell_id": "00006-70900673-45fd-45ec-b0ad-dbf805cc056b",
    "deepnote_app_coordinates": {
     "h": 5,
     "w": 12,
     "x": 0,
     "y": 30
    },
    "deepnote_cell_height": 728.984375,
    "deepnote_cell_type": "code",
    "deepnote_to_be_reexecuted": false,
    "execution_millis": 0,
    "execution_start": 1650638886246,
    "source_hash": "b8526162",
    "tags": []
   },
   "outputs": [],
   "source": [
    "from sklearn.model_selection import cross_val_predict, RandomizedSearchCV, GridSearchCV, RepeatedStratifiedKFold\n",
    "\n",
    "def tunning_hyperparameter(X, y, model, random_hyperparameters={}, grid_hyperparameters={},  scoring='f1', \n",
    "    kFoldparams={}, random_params = {}, grid_params = {}\n",
    "):\n",
    "    print()\n",
    "    start = time.time()\n",
    "\n",
    "    cv = RepeatedStratifiedKFold(n_splits=10, n_repeats=10, random_state=66, **kFoldparams)\n",
    "\n",
    "    random_keys = random_hyperparameters.keys()\n",
    "    random_search = RandomizedSearchCV(model, random_hyperparameters, scoring=scoring, n_iter=20, **random_params)\n",
    "    random_search.fit(X,y)\n",
    "    best_score = random_search.best_score_\n",
    "    best_params = random_search.best_params_\n",
    "    print('random:', best_score, best_params)\n",
    "    \n",
    "    keys = grid_hyperparameters.keys()\n",
    "    if len(keys) != 0:\n",
    "        inner_grid_params = {}\n",
    "        for key in keys:\n",
    "            out_grid_v = grid_hyperparameters[key]\n",
    "            if hasattr(out_grid_v, '__call__'):\n",
    "                v = best_params[key]\n",
    "                inner_grid_params[key] = out_grid_v(v)\n",
    "            else:\n",
    "                inner_grid_params[key] = out_grid_v\n",
    "\n",
    "        grid_search = GridSearchCV(model, inner_grid_params, scoring=scoring, error_score='raise', **grid_params)\n",
    "        grid_search.fit(X, y)\n",
    "        best_params = dict(list(best_params.items()) + list(grid_search.best_params_.items()))\n",
    "        best_score = grid_search.best_score_\n",
    "        print('grid:', best_score, best_params)\n",
    "\n",
    "    end = time.time()\n",
    "    print('time:', format_time(end - start))\n",
    "    return best_score, best_params"
   ]
  },
  {
   "cell_type": "code",
   "execution_count": null,
   "metadata": {
    "cell_id": "00007-b69dfa2d-136a-4338-838e-4c71d81f9a55",
    "deepnote_app_coordinates": {
     "h": 5,
     "w": 12,
     "x": 0,
     "y": 36
    },
    "deepnote_cell_height": 427.40625,
    "deepnote_cell_type": "code",
    "deepnote_to_be_reexecuted": false,
    "execution_millis": 84356,
    "execution_start": 1650638886246,
    "source_hash": "b3bdd7f1",
    "tags": []
   },
   "outputs": [
    {
     "name": "stdout",
     "output_type": "stream",
     "text": [
      "\n",
      "random: 0.8350680605680584 {'weights': 'distance', 'n_neighbors': 195, 'leaf_size': 135, 'algorithm': 'ball_tree'}\n",
      "grid: 0.835571633222479 {'weights': 'distance', 'n_neighbors': 199, 'leaf_size': 135, 'algorithm': 'ball_tree'}\n",
      "time: 1m 24.35s\n"
     ]
    }
   ],
   "source": [
    "from sklearn.neighbors import KNeighborsClassifier\n",
    "\n",
    "knn = KNeighborsClassifier()\n",
    "knn_random_hyperparameters = {\n",
    "    'algorithm':['auto', 'ball_tree', 'kd_tree', 'brute'],  # Algorithm used to compute the nearest neighbors\n",
    "    'weights': ['uniform','distance'], # Weight function used in prediction\n",
    "    'leaf_size':np.arange(20, 200, 5),# Leaf size passed to BallTree or KDTree\n",
    "    'n_neighbors':np.arange(5,200,5) # Number of neighbors \n",
    "}\n",
    "knn_grid_hyperparameters = {\n",
    "    # 'leaf_size':lambda v:np.arange(v-5, v+5, 1),\n",
    "    'n_neighbors':lambda v:np.arange(v-5, v+5, 1)\n",
    "}\n",
    "knn_score, knn_params = tunning_hyperparameter(X, y, knn, knn_random_hyperparameters, knn_grid_hyperparameters)\n",
    "append_to_config_file('knn', knn_score, knn_params)"
   ]
  },
  {
   "cell_type": "code",
   "execution_count": null,
   "metadata": {
    "cell_id": "00008-9b5fd928-7b81-477f-80ed-4bda72248a75",
    "deepnote_app_coordinates": {
     "h": 5,
     "w": 12,
     "x": 0,
     "y": 42
    },
    "deepnote_cell_height": 448.90625,
    "deepnote_cell_type": "code",
    "deepnote_to_be_reexecuted": false,
    "execution_millis": 9481,
    "execution_start": 1650638970659,
    "source_hash": "9a59baa7",
    "tags": []
   },
   "outputs": [
    {
     "name": "stdout",
     "output_type": "stream",
     "text": [
      "\n",
      "/shared-libs/python3.7/py/lib/python3.7/site-packages/sklearn/model_selection/_search.py:296: UserWarning: The total space of parameters 1 is smaller than n_iter=20. Running 1 iterations. For exhaustive searches, use GridSearchCV.\n",
      "  UserWarning,\n",
      "random: 0.6856822945068367 {}\n",
      "grid: 0.7548988849147135 {'loss': 'modified_huber', 'warm_start': 'Ture'}\n",
      "time: 9.21s\n"
     ]
    }
   ],
   "source": [
    "# ## Support vector machine classifiers are non-probabilistic!\n",
    "from sklearn.linear_model import SGDClassifier\n",
    "\n",
    "sgdc = SGDClassifier()\n",
    "sgdc_random_hyperparameters = {\n",
    "\n",
    "}\n",
    "sgdc_grid_hyperparameters = {\n",
    "    # 'learning_rate':['constant','optimal','invscaling','adaptive'],\n",
    "    'warm_start':['Ture','False'],\n",
    "    'loss':['modified_huber']\n",
    "}\n",
    "sgdc_score, sgdc_params = tunning_hyperparameter(X, y, sgdc, sgdc_random_hyperparameters, sgdc_grid_hyperparameters)\n",
    "append_to_config_file('sgdc', sgdc_score, sgdc_params)"
   ]
  },
  {
   "cell_type": "code",
   "execution_count": null,
   "metadata": {
    "cell_id": "00010-91cd6142-ac43-4875-aea5-9c899e4dee0c",
    "deepnote_app_coordinates": {
     "h": 5,
     "w": 12,
     "x": 0,
     "y": 54
    },
    "deepnote_cell_height": 375.15625,
    "deepnote_cell_type": "code",
    "deepnote_to_be_reexecuted": false,
    "execution_millis": 320,
    "execution_start": 1650638987761,
    "source_hash": "d3628405",
    "tags": []
   },
   "outputs": [
    {
     "name": "stdout",
     "output_type": "stream",
     "text": [
      "\n",
      "random: 0.7664893896816973 {}\n",
      "time: 0.11s\n",
      "/shared-libs/python3.7/py/lib/python3.7/site-packages/sklearn/model_selection/_search.py:296: UserWarning: The total space of parameters 1 is smaller than n_iter=20. Running 1 iterations. For exhaustive searches, use GridSearchCV.\n",
      "  UserWarning,\n"
     ]
    }
   ],
   "source": [
    "from sklearn.naive_bayes import GaussianNB\n",
    "gb = GaussianNB()\n",
    "gb_random_hyperparameters = {\n",
    "\n",
    "}\n",
    "gb_grid_hyperparameters = {\n",
    "\n",
    "}\n",
    "gb_score, gb_params = tunning_hyperparameter(X, y, gb, gb_random_hyperparameters, gb_grid_hyperparameters)\n",
    "\n",
    "append_to_config_file('gb', gb_score, gb_params)"
   ]
  },
  {
   "cell_type": "code",
   "execution_count": null,
   "metadata": {
    "cell_id": "00011-797714f5-2e29-4ce6-9548-0c116e3cc4c1",
    "deepnote_app_coordinates": {
     "h": 5,
     "w": 12,
     "x": 0,
     "y": 60
    },
    "deepnote_cell_height": 484.890625,
    "deepnote_cell_type": "code",
    "deepnote_to_be_reexecuted": false,
    "execution_millis": 3713,
    "execution_start": 1650638987886,
    "source_hash": "e6130260",
    "tags": []
   },
   "outputs": [
    {
     "name": "stdout",
     "output_type": "stream",
     "text": [
      "\n",
      "/shared-libs/python3.7/py/lib/python3.7/site-packages/sklearn/model_selection/_search.py:296: UserWarning: The total space of parameters 1 is smaller than n_iter=20. Running 1 iterations. For exhaustive searches, use GridSearchCV.\n",
      "  UserWarning,\n",
      "random: 0.7678094315683565 {}\n",
      "grid: 0.8355755504951647 {'max_features': 0.3, 'max_samples': 0.8}\n",
      "time: 3.62s\n"
     ]
    }
   ],
   "source": [
    "# # GB --0.67  0.76 bag 0.8349   --没有参数\n",
    "from sklearn.ensemble import BaggingClassifier\n",
    "\n",
    "GB = GaussianNB()\n",
    "GBbag = BaggingClassifier(GaussianNB())\n",
    "GBbag_random_hyperparameters = {\n",
    "\n",
    "}\n",
    "GBbag_grid_hyperparameters = {\n",
    "    'max_samples':[.7, 0.8], \n",
    "    'max_features':[.3, 0.2]\n",
    "}\n",
    "GBbag_score, GBbag_params = tunning_hyperparameter(X, y, GBbag, GBbag_random_hyperparameters, GBbag_grid_hyperparameters)\n",
    "\n",
    "append_to_config_file('GBbag', GBbag_score, GBbag_params)\n"
   ]
  },
  {
   "cell_type": "code",
   "execution_count": null,
   "metadata": {
    "cell_id": "00012-dba1070c-b0cb-4fa2-950f-c012dc738368",
    "deepnote_app_coordinates": {
     "h": 5,
     "w": 12,
     "x": 0,
     "y": 66
    },
    "deepnote_cell_height": 545.890625,
    "deepnote_cell_type": "code",
    "deepnote_to_be_reexecuted": false,
    "execution_millis": 544114,
    "execution_start": 1650638991658,
    "source_hash": "a4699f92",
    "tags": []
   },
   "outputs": [
    {
     "name": "stdout",
     "output_type": "stream",
     "text": [
      "{'activation': 'relu', 'alpha': 0.0001, 'batch_size': 'auto', 'beta_1': 0.9, 'beta_2': 0.999, 'early_stopping': False, 'epsilon': 1e-08, 'hidden_layer_sizes': (100,), 'learning_rate': 'constant', 'learning_rate_init': 0.001, 'max_fun': 15000, 'max_iter': 200, 'momentum': 0.9, 'n_iter_no_change': 10, 'nesterovs_momentum': True, 'power_t': 0.5, 'random_state': None, 'shuffle': True, 'solver': 'adam', 'tol': 0.0001, 'validation_fraction': 0.1, 'verbose': False, 'warm_start': False}\n",
      "\n",
      "/shared-libs/python3.7/py/lib/python3.7/site-packages/sklearn/model_selection/_search.py:296: UserWarning: The total space of parameters 1 is smaller than n_iter=20. Running 1 iterations. For exhaustive searches, use GridSearchCV.\n",
      "  UserWarning,\n",
      "/shared-libs/python3.7/py/lib/python3.7/site-packages/sklearn/neural_network/_multilayer_perceptron.py:699: UserWarning: Training interrupted by user.\n",
      "  warnings.warn(\"Training interrupted by user.\")\n",
      "random: 0.807334554809783 {'hidden_layer_sizes': (128, 64, 80, 10, 1), 'activation': 'relu'}\n",
      "time: 9m 4.1s\n",
      "/shared-libs/python3.7/py/lib/python3.7/site-packages/sklearn/neural_network/_multilayer_perceptron.py:699: UserWarning: Training interrupted by user.\n",
      "  warnings.warn(\"Training interrupted by user.\")\n"
     ]
    }
   ],
   "source": [
    "from sklearn.neural_network import MLPClassifier\n",
    "\n",
    "mlp = MLPClassifier()\n",
    "print(mlp.get_params())\n",
    "mlp_random_hyperparameters = {\n",
    "    'hidden_layer_sizes':[(128,64,80,10,1)],\n",
    "    'activation':['relu'],\n",
    "    # 'solver':['lbfgs', 'sgd', 'adam'],\n",
    "    # 'learning_rate':['constant', 'invscaling', 'adaptive']\n",
    "}\n",
    "mlp_grid_hyperparameters = {\n",
    "    # 'hidden_layer':[-1,1,1]\n",
    "}\n",
    "mlp_score, mlp_params = tunning_hyperparameter(X, y, mlp, mlp_random_hyperparameters, mlp_grid_hyperparameters)\n",
    "append_to_config_file('mlp', mlp_score, mlp_params)"
   ]
  },
  {
   "cell_type": "code",
   "execution_count": null,
   "metadata": {
    "cell_id": "00013-65f32068-d471-4ca1-a195-be6345c3554c",
    "deepnote_app_coordinates": {
     "h": 5,
     "w": 12,
     "x": 0,
     "y": 72
    },
    "deepnote_cell_height": 414.640625,
    "deepnote_cell_type": "code",
    "deepnote_to_be_reexecuted": false,
    "execution_millis": 4604,
    "execution_start": 1650639535779,
    "source_hash": "30064513",
    "tags": []
   },
   "outputs": [
    {
     "name": "stderr",
     "output_type": "stream",
     "text": [
      "/shared-libs/python3.7/py/lib/python3.7/site-packages/sklearn/model_selection/_search.py:296: UserWarning: The total space of parameters 1 is smaller than n_iter=20. Running 1 iterations. For exhaustive searches, use GridSearchCV.\n",
      "  UserWarning,\n",
      "{'ccp_alpha': 0.0, 'class_weight': None, 'criterion': 'gini', 'max_depth': None, 'max_features': None, 'max_leaf_nodes': None, 'min_impurity_decrease': 0.0, 'min_samples_leaf': 1, 'min_samples_split': 2, 'min_weight_fraction_leaf': 0.0, 'random_state': None, 'splitter': 'best'}\n",
      "\n",
      "random: 0.7209701297331708 {}\n",
      "grid: 0.730299014920599 {'criterion': 'entropy', 'splitter': 'best'}\n",
      "time: 4.11s\n"
     ]
    }
   ],
   "source": [
    "from sklearn.tree import DecisionTreeClassifier\n",
    "dt = DecisionTreeClassifier()\n",
    "print(dt.get_params())\n",
    "dt_random_hyperparameters = {\n",
    "}\n",
    "dt_grid_hyperparameters = {\n",
    "    'criterion':['gini','entropy'],\n",
    "    'splitter':['best','random']\n",
    "}\n",
    "dt_score, dt_params = tunning_hyperparameter(X, y, dt, dt_random_hyperparameters, dt_grid_hyperparameters)\n",
    "append_to_config_file('dt', dt_score, dt_params)"
   ]
  },
  {
   "cell_type": "code",
   "execution_count": null,
   "metadata": {
    "cell_id": "00014-ba52520f-c7ba-4a84-82d8-265665e0fbb3",
    "deepnote_app_coordinates": {
     "h": 5,
     "w": 12,
     "x": 0,
     "y": 78
    },
    "deepnote_cell_height": 427.40625,
    "deepnote_cell_type": "code",
    "deepnote_to_be_reexecuted": false,
    "execution_millis": 66730,
    "execution_start": 1650639652611,
    "owner_user_id": "c20c976b-1932-4d76-9862-b49bd106d81f",
    "source_hash": "9f6dff6b",
    "tags": []
   },
   "outputs": [
    {
     "name": "stdout",
     "output_type": "stream",
     "text": [
      "\n",
      "random: 0.8323653747292126 {'n_estimators': 64, 'min_samples_split': 2, 'max_depth': None}\n",
      "grid: 0.8325942166442328 {'n_estimators': 61, 'min_samples_split': 2, 'max_depth': None}\n",
      "time: 1m 6.59s\n"
     ]
    }
   ],
   "source": [
    "from sklearn.ensemble import ExtraTreesClassifier\n",
    "\n",
    "et = ExtraTreesClassifier()\n",
    "\n",
    "et_random_hyperparameters = {\n",
    "    # 'criterion':['gini','entropy'],\n",
    "    'n_estimators':np.arange(1,80),\n",
    "    'min_samples_split':[2],\n",
    "    'max_depth':[None]\n",
    "}\n",
    "et_grid_hyperparameters = {\n",
    "    'n_estimators':lambda v:np.arange(v-3, v+3)\n",
    "}\n",
    "et_score, et_params = tunning_hyperparameter(X, y, et, et_random_hyperparameters, et_grid_hyperparameters)\n",
    "append_to_config_file('et', et_score, et_params)"
   ]
  },
  {
   "cell_type": "code",
   "execution_count": null,
   "metadata": {
    "cell_id": "00015-61fee81a-580a-44a5-81ae-052993842c42",
    "deepnote_app_coordinates": {
     "h": 5,
     "w": 12,
     "x": 0,
     "y": 84
    },
    "deepnote_cell_height": 373.40625,
    "deepnote_cell_type": "code",
    "deepnote_to_be_reexecuted": false,
    "execution_millis": 82896,
    "execution_start": 1650639719215,
    "source_hash": "674ae93a",
    "tags": []
   },
   "outputs": [
    {
     "name": "stdout",
     "output_type": "stream",
     "text": [
      "\n",
      "random: 0.8307855557513586 {'n_estimators': 73, 'criterion': 'entropy'}\n",
      "grid: 0.8302442203617231 {'n_estimators': 75, 'criterion': 'entropy'}\n",
      "time: 1m 22.93s\n"
     ]
    }
   ],
   "source": [
    "from sklearn.ensemble import RandomForestClassifier\n",
    "\n",
    "rf = RandomForestClassifier()\n",
    "rf_random_hyperparameters = {\n",
    "    'criterion':['gini','entropy'],\n",
    "    'n_estimators':np.arange(1,80)\n",
    "}\n",
    "rf_grid_hyperparameters = {\n",
    "    'n_estimators':lambda v:np.arange(v-3, v+3)\n",
    "}\n",
    "rf_score, rf_params = tunning_hyperparameter(X, y, rf, rf_random_hyperparameters, rf_grid_hyperparameters)\n",
    "append_to_config_file('rf', rf_score, rf_params)"
   ]
  },
  {
   "cell_type": "code",
   "execution_count": null,
   "metadata": {
    "cell_id": "00016-3cb1656c-7d99-4992-9320-f12de2a786a9",
    "deepnote_app_coordinates": {
     "h": 5,
     "w": 12,
     "x": 0,
     "y": 90
    },
    "deepnote_cell_height": 463.40625,
    "deepnote_cell_type": "code",
    "deepnote_to_be_reexecuted": false,
    "execution_millis": 120367,
    "execution_start": 1650639802116,
    "source_hash": "2fb29c36",
    "tags": []
   },
   "outputs": [
    {
     "name": "stdout",
     "output_type": "stream",
     "text": [
      "\n",
      "random: 0.8369333496819105 {'n_estimators': 101, 'max_depth': 4}\n",
      "grid: 0.8373716746906494 {'n_estimators': 106, 'max_depth': 4}\n",
      "time: 2m 0.36s\n"
     ]
    }
   ],
   "source": [
    "from sklearn.ensemble import GradientBoostingClassifier\n",
    "\n",
    "gbc = GradientBoostingClassifier()\n",
    "\n",
    "gbc = RandomForestClassifier()\n",
    "gbc_random_hyperparameters = {\n",
    "    # 'loss':['deviance','exponential'],\n",
    "    'n_estimators':np.arange(1,500,50),\n",
    "    # 'criterion':['friedman_mse', 'squared_error', 'mse', 'mae'],\n",
    "    'max_depth' : np.arange(1,5)\n",
    "}\n",
    "gbc_grid_hyperparameters = {\n",
    "    'n_estimators':lambda v:np.arange(v-10, v+10, 3),\n",
    "    'max_depth':lambda v:np.arange(v-1, v+1)\n",
    "}\n",
    "gbc_score, gbc_params = tunning_hyperparameter(X, y, gbc, gbc_random_hyperparameters, gbc_grid_hyperparameters)\n",
    "append_to_config_file('gbc', gbc_score, gbc_params)"
   ]
  },
  {
   "cell_type": "markdown",
   "metadata": {
    "cell_id": "00018-8b425c1c-45d2-4ec2-ab47-a684fe1c019c",
    "deepnote_app_coordinates": {
     "h": 5,
     "w": 12,
     "x": 0,
     "y": 102
    },
    "deepnote_cell_type": "text-cell-h2",
    "is_collapsed": false,
    "tags": []
   },
   "source": [
    "## Ensemble"
   ]
  },
  {
   "cell_type": "code",
   "execution_count": null,
   "metadata": {
    "cell_id": "00020-184c5682-c680-4a74-9002-4c8e4339ea89",
    "deepnote_app_coordinates": {
     "h": 5,
     "w": 12,
     "x": 0,
     "y": 108
    },
    "deepnote_cell_height": 980.96875,
    "deepnote_cell_type": "code",
    "deepnote_to_be_reexecuted": false,
    "execution_millis": 324,
    "execution_start": 1650745462527,
    "source_hash": "4d107662",
    "tags": []
   },
   "outputs": [],
   "source": [
    "from sklearn.ensemble import VotingClassifier, BaggingClassifier, ExtraTreesClassifier, RandomForestClassifier, StackingClassifier, GradientBoostingClassifier\n",
    "from sklearn.preprocessing import StandardScaler\n",
    "from sklearn.neighbors import KNeighborsClassifier\n",
    "from sklearn.neural_network import MLPClassifier\n",
    "from sklearn.naive_bayes import GaussianNB\n",
    "from sklearn.tree import DecisionTreeClassifier\n",
    "from sklearn.linear_model import LogisticRegression\n",
    "\n",
    "\n",
    "\n",
    "%run /home/jovyan/work/utils/pipelines-splited.ipynb\n",
    "X, y = data_tieandwin()\n",
    "feature_name_list = ['X'+str(i+1) for i in range(X.shape[1])]\n",
    "scal = StandardScaler()\n",
    "X = scal.fit_transform(X)\n",
    "# X = preprocessor.fit_transform(X)\n",
    "\n",
    "def get_stacking():  \n",
    "    level0 = list()  \n",
    "    # level0.append(('sgdc', SGDClassifier(**configs['sgdc']['params'])))  \n",
    "    level0.append(('GBbag', BaggingClassifier(GaussianNB(),**configs['GBbag']['params'])))  \n",
    "    level0.append(('rf', RandomForestClassifier(**configs['rf']['params'])))  \n",
    "    level0.append(('lr', LogisticRegression(**configs['lr']['params']))) \n",
    "    level1 = MLPClassifier(**configs['mlp']['params'])\n",
    "    return level0, level1 \n",
    "\n",
    "configs = get_configs()\n",
    "model_names = ['knn', 'mlp', 'GBbag', 'et', 'rf', 'lr', 'gbc']\n",
    "# model_names = ['knn', 'mlp', 'GBbag', 'gb', 'dt', 'et', 'rf', 'lr', 'stacking', 'gbc']\n",
    "model_configs, model_scores = {}, {}\n",
    "for name in model_names:\n",
    "    model_configs[name] = configs[name]['params']\n",
    "    model_scores[name] = configs[name]['f1_score']\n",
    "\n",
    "model_weights = [v/sum(model_scores.values()) for v in model_scores.values()]\n",
    "\n",
    "models = {\n",
    "    'knn':KNeighborsClassifier(**model_configs['knn']),\n",
    "    # 'sgdc':SGDClassifier(**model_configs['sgdc']),向量机不能跑出概率\n",
    "    'mlp':MLPClassifier(**model_configs['mlp']),\n",
    "    'GBbag':BaggingClassifier(GaussianNB(), **model_configs['GBbag']),\n",
    "    # 'gb':GaussianNB(**model_configs['gb']) ,\n",
    "    # 'dt':DecisionTreeClassifier(**model_configs['dt']) ,\n",
    "    'et':ExtraTreesClassifier(**model_configs['et']) ,\n",
    "    'rf':RandomForestClassifier(**model_configs['rf']) ,\n",
    "    'lr':LogisticRegression(**model_configs['lr']) ,\n",
    "    # 'stacking':StackingClassifier(*get_stacking(), **model_configs['stacking']) ,\n",
    "    'gbc':GradientBoostingClassifier(**model_configs['gbc'])\n",
    "}\n",
    "\n",
    "eclf = VotingClassifier(estimators=list(models.items()), voting='soft', weights=model_weights)"
   ]
  },
  {
   "cell_type": "markdown",
   "metadata": {
    "cell_id": "00021-2aef7724-1372-4c5c-8f27-a5340c24fbec",
    "deepnote_app_coordinates": {
     "h": 5,
     "w": 12,
     "x": 0,
     "y": 114
    },
    "deepnote_cell_type": "text-cell-h3",
    "is_collapsed": false,
    "tags": []
   },
   "source": [
    "### Test Ensemble performance"
   ]
  },
  {
   "cell_type": "code",
   "execution_count": null,
   "metadata": {
    "cell_id": "00022-aa3b18a6-2540-4b7f-bf7f-61590de34f9f",
    "deepnote_app_coordinates": {
     "h": 5,
     "w": 12,
     "x": 0,
     "y": 120
    },
    "deepnote_cell_height": 437.453125,
    "deepnote_cell_type": "code",
    "deepnote_to_be_reexecuted": false,
    "execution_millis": 126823,
    "execution_start": 1650745573927,
    "source_hash": "de411981",
    "tags": []
   },
   "outputs": [
    {
     "name": "stdout",
     "output_type": "stream",
     "text": [
      "f1 score 0.8360422297225091\n",
      "accuracy 0.7279610774803962\n"
     ]
    }
   ],
   "source": [
    "from sklearn.metrics import f1_score, accuracy_score\n",
    "from sklearn.model_selection import RepeatedStratifiedKFold\n",
    "# from skl\n",
    "cv = RepeatedStratifiedKFold(n_splits=5, n_repeats=1)\n",
    "f1s = []\n",
    "accuracys = []\n",
    "for train_index, test_index in cv.split(X, y):\n",
    "    x_train, x_test = X[train_index], X[test_index]\n",
    "    y_train, y_test = y[train_index], y[test_index]\n",
    "    eclf.fit(x_train,y_train)\n",
    "    results = eclf.predict(x_test)\n",
    "    f1 = f1_score(y_test, results)\n",
    "    f1s.append(f1)\n",
    "    accuracy = accuracy_score(y_test, results)\n",
    "    accuracys.append(accuracy)\n",
    "\n",
    "print('f1 score',np.mean(f1s))\n",
    "print('accuracy', np.mean(accuracys))"
   ]
  },
  {
   "cell_type": "code",
   "execution_count": null,
   "metadata": {
    "cell_id": "00024-88517d5d-d38f-4a1a-acf2-44a1734643d5",
    "deepnote_app_coordinates": {
     "h": 5,
     "w": 12,
     "x": 0,
     "y": 126
    },
    "deepnote_cell_height": 194.921875,
    "deepnote_cell_type": "code",
    "deepnote_output_heights": [
     97.953125
    ],
    "deepnote_to_be_reexecuted": false,
    "execution_millis": 0,
    "execution_start": 1650745700810,
    "source_hash": "ec652ec9",
    "tags": []
   },
   "outputs": [
    {
     "data": {
      "text/plain": [
       "array([[0.83429672, 0.72509323],\n",
       "       [0.83879173, 0.72974414],\n",
       "       [0.83572568, 0.72547974],\n",
       "       [0.84137056, 0.73347548],\n",
       "       [0.83002646, 0.72601279]])"
      ]
     },
     "execution_count": 8,
     "metadata": {},
     "output_type": "execute_result"
    }
   ],
   "source": [
    "np.c_[f1s, accuracys]"
   ]
  },
  {
   "cell_type": "code",
   "execution_count": null,
   "metadata": {
    "cell_id": "00025-cdad1958-5056-4edc-a10b-c8e92a292a28",
    "deepnote_app_coordinates": {
     "h": 5,
     "w": 12,
     "x": 0,
     "y": 132
    },
    "deepnote_cell_height": 118.15625,
    "deepnote_cell_type": "code",
    "deepnote_output_heights": [
     21.1875
    ],
    "deepnote_to_be_reexecuted": false,
    "execution_millis": 3,
    "execution_start": 1650745700810,
    "source_hash": "2f2d7380",
    "tags": []
   },
   "outputs": [
    {
     "data": {
      "text/plain": [
       "0.8960554371002132"
      ]
     },
     "execution_count": 9,
     "metadata": {},
     "output_type": "execute_result"
    }
   ],
   "source": [
    "np.mean(results)"
   ]
  },
  {
   "cell_type": "code",
   "execution_count": null,
   "metadata": {
    "cell_id": "00026-92da5b22-c335-4f83-b95d-02a01bf92354",
    "deepnote_app_coordinates": {
     "h": 5,
     "w": 12,
     "x": 0,
     "y": 138
    },
    "deepnote_cell_height": 154.15625,
    "deepnote_cell_type": "code",
    "deepnote_output_heights": [
     21.1875
    ],
    "deepnote_to_be_reexecuted": false,
    "execution_millis": 42244,
    "execution_start": 1650745700811,
    "source_hash": "69c82c7c",
    "tags": []
   },
   "outputs": [
    {
     "data": {
      "text/plain": [
       "['splited-scal-ensemble_model.pkl']"
      ]
     },
     "execution_count": 10,
     "metadata": {},
     "output_type": "execute_result"
    }
   ],
   "source": [
    "eclf.fit(X, y)\n",
    "import joblib\n",
    "joblib.dump(eclf, 'ensemble_model.pkl')"
   ]
  }
 ],
 "metadata": {
  "deepnote": {
   "is_reactive": false
  },
  "deepnote_app_layout": "article",
  "deepnote_execution_queue": [],
  "deepnote_notebook_id": "f151809a-d898-42fd-b2d1-4c219ec3e407",
  "language_info": {
   "name": "python"
  },
  "orig_nbformat": 2
 },
 "nbformat": 4,
 "nbformat_minor": 2
}
