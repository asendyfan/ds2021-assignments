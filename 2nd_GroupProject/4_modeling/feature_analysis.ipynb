{
 "cells": [
  {
   "cell_type": "markdown",
   "metadata": {
    "cell_id": "00030-3a8b425e-36a2-4d96-a132-167f8fc59b0d",
    "deepnote_app_coordinates": {
     "h": 5,
     "w": 12,
     "x": 0,
     "y": 144
    },
    "deepnote_cell_type": "text-cell-h2",
    "is_collapsed": false,
    "tags": []
   },
   "source": [
    "## Reference Analysis"
   ]
  },
  {
   "cell_type": "code",
   "execution_count": null,
   "metadata": {
    "cell_id": "00031-6a8dc1c9-8fa0-4d23-aa7f-8fecc267035c",
    "deepnote_cell_height": 404.96875,
    "deepnote_cell_type": "code",
    "deepnote_to_be_reexecuted": false,
    "execution_millis": 2075,
    "execution_start": 1651175245399,
    "source_hash": "c066365f",
    "tags": []
   },
   "outputs": [],
   "source": [
    "import joblib\n",
    "%run /home/jovyan/work/utils/pipelines.ipynb\n",
    "X, y = data_tieandwin()\n",
    "feature_name_list = ['X'+str(i+1) for i in range(X.shape[1])]\n",
    "scal = StandardScaler()\n",
    "scal.fit(X)\n",
    "X = scal.transform(X)\n",
    "\n",
    "eclf = joblib.load('ensemble_model.pkl')\n",
    "\n",
    "feature_names = get_features_name()\n",
    "originX, originy = data_tieandwin()\n",
    "\n",
    "raw_data = change_result_from_raw2data()\n"
   ]
  },
  {
   "cell_type": "code",
   "execution_count": null,
   "metadata": {
    "cell_id": "00032-a7f7ad67-d2b5-494a-a05d-05ae91f62b00",
    "deepnote_app_coordinates": {
     "h": 5,
     "w": 12,
     "x": 0,
     "y": 150
    },
    "deepnote_cell_height": 1916.96875,
    "deepnote_cell_type": "code",
    "deepnote_to_be_reexecuted": false,
    "execution_millis": 10,
    "execution_start": 1651170109184,
    "source_hash": "732d56fa",
    "tags": []
   },
   "outputs": [],
   "source": [
    "\n",
    "class InferringFeature:\n",
    "    def __init__(self, X, y):\n",
    "        self.X = X\n",
    "        self.y = y\n",
    "        # self.x_inferring = np.arange(0, 1, 0.001)\n",
    "        self.scaled_X = scal.fit_transform(X)\n",
    "        # self.scaled_X = preprocessor.fit_transform(X)\n",
    "\n",
    "    def get_x_coordinate(self, feature_index=1, x_type='continous'):\n",
    "        if self.x_coordinate_next != '':\n",
    "            return self.x_coordinate_next \n",
    "        if x_type=='continous':\n",
    "            feature = self.X[:, feature_index]\n",
    "            return np.arange(feature.min(), feature.max(), .01)\n",
    "        else:\n",
    "            feature = self.X[:, feature_index]\n",
    "            return np.sort(np.unique(originX[:, feature_index]))\n",
    "        \n",
    "    x_coordinate_next = ''\n",
    "\n",
    "    def infer(\n",
    "        self, model, need_plot = True, predict_func = 'predict_proba', \n",
    "        feature_index = 1, result_index=1,x_type = 'continous',\n",
    "        plot_args = {}, need_std = False\n",
    "    ):\n",
    "        specificFeature = self.X[:, feature_index].reshape(-1,1)\n",
    "\n",
    "        y_inferring = []\n",
    "        y_inferring_std = []\n",
    "        x_inferring = self.get_x_coordinate(feature_index, x_type)\n",
    "        feature_mean = originX[:, feature_index].mean()\n",
    "        feature_std = originX[:, feature_index].std()\n",
    "        for v in x_inferring:\n",
    "            v_scaled = v\n",
    "            # if x_type == 'continous':\n",
    "            v_scaled = (v - feature_mean) / feature_std # standard scale for each v\n",
    "            modifiedX = self.scaled_X.copy()\n",
    "            modifiedX[:, feature_index] = v_scaled # modify home attendance\n",
    "            modified = eval('model.{}(modifiedX)'.format(predict_func))\n",
    "            modified_mean = modified[:, result_index].mean() if len(modified.shape) >1 else modified.mean()\n",
    "            modified_std = modified[:, result_index].std() if len(modified.shape) >1 else modified.std()\n",
    "            y_inferring.append(modified_mean)\n",
    "            y_inferring_std.append(modified_std)\n",
    "        if need_plot:\n",
    "            self.plot(y_inferring, feature_index=feature_index,result_index=result_index, x_type=x_type, **plot_args)\n",
    "        self.x_coordinate_next=''\n",
    "\n",
    "        if need_std:\n",
    "            return y_inferring, y_inferring_std\n",
    "        else:\n",
    "            return y_inferring\n",
    "    \n",
    "    def plot(self, y, title=None, result_index=1, feature_index=1, x_type='continous', xlabel='Home Attendance Percentage'):\n",
    "        x_inferring = self.get_x_coordinate(feature_index, x_type)\n",
    "        plt.plot(x_inferring, y, label='modified')\n",
    "        if title:\n",
    "            plt.title(title)\n",
    "        plt.ylabel('Mean of predicting result P(y = {})'.format(result_index))\n",
    "        plt.xlabel(xlabel)\n",
    "        # plt.legend()\n",
    "        sns.despine()\n",
    "        self.x_coordinate_next=''\n",
    "        return plt\n",
    "\n",
    "def save_inferred_results(x, y, feature_index, name='', std=False):\n",
    "    # date = datetime.date.today().strftime('%Y/%m/%d')\n",
    "    data = pd.DataFrame(np.c_[x, y], columns=[feature_names[feature_index], 'mean'])\n",
    "    if std:\n",
    "        data['std'] = std\n",
    "    data.to_csv('inferred_results_0424_presentation/{}.csv'.format(name if name != '' else 'feature'+str(feature_index+1)), index=False)\n",
    "\n",
    "    \n",
    "def inferring(condition, name='', model=eclf, i=1, need_plot=False, origin_x=originX, origin_y=originy, need_save=True, savedTemplate='playground-{}-attendance'):\n",
    "    originX2 = origin_x[condition]\n",
    "    originy2 = origin_y[condition]\n",
    "    \n",
    "    infer_obj = InferringFeature(originX2, originy2)\n",
    "    infer_y = infer_obj.infer(model, False, feature_index=1, x_type='continous')\n",
    "    infer_x = infer_obj.get_x_coordinate(feature_index=1, x_type='continous')\n",
    "\n",
    "    if need_save:\n",
    "        save_inferred_results(infer_x, infer_y, i, savedTemplate.format(name))\n",
    "\n",
    "    if need_plot == True:\n",
    "        infer_obj.plot(infer_y, xlabel='Home Attendance Percentage')\n",
    "        plt.ylim(.6,.8)\n",
    "\n",
    "def inferring2(condition, name='', model=eclf, i=1, need_plot=False, need_save=True, origin_x=originX, origin_y=originy, savedTemplate='playground-{}-attendance'):\n",
    "    originX2 = origin_x[condition]\n",
    "    originy2 = origin_y[condition]\n",
    "    \n",
    "    infer_obj = InferringFeature(originX2, originy2)\n",
    "    infer_obj.x_coordinate_next = np.arange(0, origin_x[:, 1].max(), .01)\n",
    "    infer_y = infer_obj.infer(model, False, feature_index=1, x_type='continous')\n",
    "    infer_x = np.arange(0, origin_x[:, 1].max(), .01)\n",
    "\n",
    "    if need_save:\n",
    "        save_inferred_results(infer_x, infer_y, i, savedTemplate.format(name))\n",
    "\n",
    "    if need_plot == True:\n",
    "        infer_obj.plot(infer_y, xlabel='Home Attendance Percentage')\n",
    "        plt.ylim(.6,.8)"
   ]
  },
  {
   "cell_type": "code",
   "execution_count": null,
   "metadata": {
    "cell_id": "b7241a6651244592b8f82f1b1f2181b9",
    "deepnote_cell_height": 361.578125,
    "deepnote_cell_type": "code",
    "deepnote_to_be_reexecuted": false,
    "execution_millis": 5348,
    "execution_start": 1651170117113,
    "source_hash": "f6a3d75a",
    "tags": []
   },
   "outputs": [],
   "source": [
    "# for i, team_data in raw_datapby('HomeTeam'):\n",
    "#     inferring()\n",
    "\n",
    "for team_name in raw_data['HomeTeam'].unique():\n",
    "    condition = raw_data['HomeTeam'] == team_name\n",
    "    inferring2(condition, name=team_name, savedTemplate='team-{}')\n"
   ]
  },
  {
   "cell_type": "code",
   "execution_count": null,
   "metadata": {
    "cell_id": "52274ce6077344b6b26ec008cb417369",
    "deepnote_cell_height": 866.125,
    "deepnote_cell_type": "code",
    "deepnote_output_heights": [
     null,
     279.984375
    ],
    "deepnote_to_be_reexecuted": false,
    "execution_millis": 426,
    "execution_start": 1651170111998,
    "source_hash": "bec1efa0",
    "tags": []
   },
   "outputs": [],
   "source": [
    "max_results = []\n",
    "cc = raw_data.groupby('HomeTeam').count()['X1'].sort_values() < 5\n",
    "cc_names = cc[cc == True].index\n",
    "for team_name in raw_data['HomeTeam'].unique():\n",
    "    if team_name in cc_names:\n",
    "        continue\n",
    "    dd = pd.read_csv('inferred_results_0424_presentation/team-{}.csv'.format(team_name))\n",
    "    # sns.lineplot(x=cols[0], y=cols[1], data=feature2)\n",
    "    idx_max = dd.iloc[:, 1].idxmax()\n",
    "    max_results.append([dd.iloc[idx_max, 0], dd.iloc[idx_max, 1], team_name])\n",
    "    # plt.plot('Home attendance percentage', 'mean', data=dd, alpha=.5)\n",
    "max_results = pd.DataFrame(max_results, columns=['x', 'y', 'Team'])\n",
    "print(max_results[max_results['y']<.7])\n",
    "max_results = max_results[max_results['y']>.7]\n",
    "sns.scatterplot(max_results['x']*100, 'y', data=max_results, hue='Team', legend=False)\n",
    "plt.xlim(0,100)\n",
    "plt.xlabel('Home attendance percentage')\n",
    "plt.ylabel('Unbeaten rate')\n",
    "plt.title('Max predicted unbeaten rate for each stadium')\n",
    "sns.despine()\n"
   ]
  },
  {
   "cell_type": "code",
   "execution_count": null,
   "metadata": {
    "cell_id": "a8d11dfffc914e388ad41b633d26885e",
    "deepnote_cell_height": 523.015625,
    "deepnote_cell_type": "code",
    "deepnote_to_be_reexecuted": false,
    "execution_millis": 31,
    "execution_start": 1651170403805,
    "source_hash": "f877fe77",
    "tags": []
   },
   "outputs": [],
   "source": [
    "cc = raw_data.groupby('HomeTeam').count()['X1'].sort_values() < 5\n",
    "cc_names = cc[cc == True].index\n",
    "print(cc_names)\n",
    "for team_name in raw_data['HomeTeam'].unique():\n",
    "\n",
    "    if team_name in cc_names:\n",
    "        continue\n",
    "    dd = pd.read_csv('inferred_results_0424_presentation/team-{}.csv'.format(team_name))\n",
    "    # sns.scatterplot(x=dd.iloc[idx_max, 0], y=dd.iloc[idx_max, 1])\n",
    "    sns.lineplot(x=dd['Home attendance percentage']*100, y='mean', data=dd)\n",
    "    # idx_max = dd.iloc[:, 1].idxmax()\n",
    "    # max_results.append([dd.iloc[idx_max, 0], dd.iloc[idx_max, 1], team_name])\n",
    "plt.ylabel('Unbeaten rate')\n",
    "plt.title('Predicted unbeaten rate for each stadium')\n",
    "plt.xlim(0,100)\n",
    "sns.despine()"
   ]
  },
  {
   "cell_type": "code",
   "execution_count": null,
   "metadata": {
    "cell_id": "af8cd767d2d94ce88281e3cdd2a89c77",
    "deepnote_cell_height": 80.96875,
    "deepnote_cell_type": "code",
    "deepnote_to_be_reexecuted": false,
    "execution_millis": 2,
    "execution_start": 1651170246515,
    "source_hash": "6254ec26",
    "tags": []
   },
   "outputs": [],
   "source": [
    "name_list = raw_data['HomeTeam'].unique()"
   ]
  },
  {
   "cell_type": "code",
   "execution_count": null,
   "metadata": {
    "cell_id": "d75cc9eb9e0747d59767c9a8143dd658",
    "deepnote_cell_type": "input-select",
    "deepnote_to_be_reexecuted": false,
    "deepnote_variable_custom_options": [
     "Option 1",
     "Option 2"
    ],
    "deepnote_variable_name": "team_name",
    "deepnote_variable_options": [
     "norwich-city",
     "southampton-fc",
     "burnley-fc",
     "fulham-fc",
     "chelsea-fc",
     "aston-villa",
     "sunderland-afc",
     "west-bromwich-albion",
     "leicester-city",
     "west-ham-united",
     "arsenal-fc",
     "liverpool-fc",
     "manchester-city",
     "tottenham-hotspur",
     "watford-fc",
     "coventry-city",
     "manchester-united",
     "wimbledon-fc",
     "everton-fc",
     "blackburn-rovers",
     "hull-city",
     "wigan-athletic",
     "newcastle-united",
     "stoke-city",
     "middlesbrough-fc",
     "leeds-united",
     "blackpool-fc",
     "birmingham-city",
     "derby-county",
     "sheffield-united",
     "sheffield-wednesday",
     "afc-bournemouth",
     "crystal-palace",
     "cardiff-city",
     "bradford-city",
     "queens-park-rangers",
     "ipswich-town",
     "charlton-athletic",
     "brighton-hove-albion",
     "nottingham-forest",
     "swansea-city",
     "bolton-wanderers",
     "wolverhampton-wanderers",
     "portsmouth-fc",
     "oldham-athletic",
     "huddersfield-town",
     "reading-fc",
     "barnsley-fc",
     "swindon-town",
     "brentford-fc"
    ],
    "deepnote_variable_select_type": "from-variable",
    "deepnote_variable_selected_variable": "name_list",
    "deepnote_variable_value": "norwich-city",
    "execution_millis": 0,
    "execution_start": 1651170253733,
    "source_hash": "3d0e33ff"
   },
   "outputs": [],
   "source": [
    "team_name = 'norwich-city'"
   ]
  },
  {
   "cell_type": "code",
   "execution_count": null,
   "metadata": {
    "cell_id": "55a03580621e4973b418d86ef42fd85a",
    "deepnote_cell_height": 83.984375,
    "deepnote_cell_type": "code",
    "tags": []
   },
   "outputs": [],
   "source": [
    "dd = pd.read_csv('inferred_results_0424_presentation/team-{}.csv'.format(team_name))\n"
   ]
  },
  {
   "cell_type": "code",
   "execution_count": null,
   "metadata": {
    "cell_id": "c918323cd60f4adca08de24b631d8508",
    "deepnote_cell_height": 548.6875,
    "deepnote_cell_type": "code",
    "deepnote_output_heights": [
     null,
     279.984375
    ],
    "deepnote_to_be_reexecuted": false,
    "execution_millis": 781,
    "execution_start": 1651170720719,
    "source_hash": "25e69ff7",
    "tags": []
   },
   "outputs": [
    {
     "name": "stdout",
     "output_type": "stream",
     "text": [
      "0.8300000000000001 0.7111528234331924\n"
     ]
    },
    {
     "data": {
      "image/png": "[encoded data removed]",
      "text/plain": [
       "<Figure size 432x288 with 1 Axes>"
      ]
     },
     "metadata": {
      "image/png": {
       "height": 278,
       "width": 401
      },
      "needs_background": "light"
     },
     "output_type": "display_data"
    }
   ],
   "source": [
    "sns.lineplot(x=dd['Home attendance percentage']*100, y='mean', data=dd)\n",
    "idx_max = dd.iloc[:, 1].idxmax()\n",
    "plt.scatter(x=dd.iloc[idx_max, 0]*100, y=dd.iloc[idx_max, 1], color='red', label='Max Value')\n",
    "plt.legend()\n",
    "plt.ylabel('Unbeaten rate')\n",
    "plt.title('Predicted unbeaten rate for team: {}'.format(team_name))\n",
    "plt.xlim(0,100)\n",
    "sns.despine()"
   ]
  },
  {
   "cell_type": "code",
   "execution_count": null,
   "metadata": {
    "cell_id": "24f12a7b89d24889aa4e37999ed6da2c",
    "deepnote_cell_height": 779.96875,
    "deepnote_cell_type": "code",
    "deepnote_output_heights": [
     611
    ],
    "deepnote_to_be_reexecuted": false,
    "execution_millis": 18,
    "execution_start": 1650907731634,
    "source_hash": "3504e129",
    "tags": []
   },
   "outputs": [
    {
     "data": {
      "text/plain": [
       "HomeTeam\n",
       "brentford-fc                True\n",
       "swindon-town                True\n",
       "barnsley-fc                 True\n",
       "oldham-athletic             True\n",
       "blackpool-fc                True\n",
       "bradford-city               True\n",
       "cardiff-city                True\n",
       "huddersfield-town           True\n",
       "queens-park-rangers         True\n",
       "nottingham-forest          False\n",
       "ipswich-town               False\n",
       "reading-fc                 False\n",
       "afc-bournemouth            False\n",
       "brighton-hove-albion       False\n",
       "hull-city                  False\n",
       "sheffield-wednesday        False\n",
       "sheffield-united           False\n",
       "portsmouth-fc              False\n",
       "watford-fc                 False\n",
       "burnley-fc                 False\n",
       "charlton-athletic          False\n",
       "swansea-city               False\n",
       "wolverhampton-wanderers    False\n",
       "birmingham-city            False\n",
       "derby-county               False\n",
       "wimbledon-fc               False\n",
       "norwich-city               False\n",
       "wigan-athletic             False\n",
       "stoke-city                 False\n",
       "coventry-city              False\n",
       "crystal-palace             False\n",
       "bolton-wanderers           False\n",
       "leicester-city             False\n",
       "middlesbrough-fc           False\n",
       "west-bromwich-albion       False\n",
       "leeds-united               False\n",
       "sunderland-afc             False\n",
       "fulham-fc                  False\n",
       "blackburn-rovers           False\n",
       "southampton-fc             False\n",
       "manchester-city            False\n",
       "tottenham-hotspur          False\n",
       "chelsea-fc                 False\n",
       "arsenal-fc                 False\n",
       "everton-fc                 False\n",
       "aston-villa                False\n",
       "newcastle-united           False\n",
       "manchester-united          False\n",
       "liverpool-fc               False\n",
       "west-ham-united            False\n",
       "Name: X1, dtype: bool"
      ]
     },
     "execution_count": 72,
     "metadata": {},
     "output_type": "execute_result"
    }
   ],
   "source": [
    "# row_test_data[swindon-town]\n",
    "# raw_data.query('HomeTeam == \"brentford-fc\"')\n",
    "cc = raw_data.groupby('HomeTeam').count()['X1'].sort_values() < 10\n",
    "# cc[cc == True].index\n",
    "cc"
   ]
  },
  {
   "cell_type": "markdown",
   "metadata": {
    "cell_id": "00033-58281a46-2f23-4462-8980-7128f08b861d",
    "deepnote_app_coordinates": {
     "h": 5,
     "w": 12,
     "x": 0,
     "y": 156
    },
    "deepnote_cell_type": "text-cell-h3",
    "is_collapsed": false,
    "tags": []
   },
   "source": [
    "### Infer all features"
   ]
  },
  {
   "cell_type": "code",
   "execution_count": null,
   "metadata": {
    "cell_id": "00034-22dbf831-9931-4a2f-99e2-1b2468a4dcbf",
    "deepnote_cell_height": 118.15625,
    "deepnote_cell_type": "code",
    "deepnote_output_heights": [
     21.1875
    ],
    "deepnote_to_be_reexecuted": false,
    "execution_millis": 4067,
    "execution_start": 1650745883518,
    "source_hash": "5b1ac706",
    "tags": []
   },
   "outputs": [
    {
     "data": {
      "text/plain": [
       "array([1., 1., 1., ..., 1., 1., 1.])"
      ]
     },
     "execution_count": 16,
     "metadata": {},
     "output_type": "execute_result"
    }
   ],
   "source": [
    "eclf.predict(X)"
   ]
  },
  {
   "cell_type": "code",
   "execution_count": null,
   "metadata": {
    "cell_id": "00035-365a79f4-b7ff-4251-b3b1-826dd521a318",
    "deepnote_cell_height": 118.15625,
    "deepnote_cell_type": "code",
    "deepnote_output_heights": [
     21.1875
    ],
    "deepnote_to_be_reexecuted": false,
    "execution_millis": 8,
    "execution_start": 1650745887580,
    "source_hash": "f2eaaf6c",
    "tags": []
   },
   "outputs": [
    {
     "data": {
      "text/plain": [
       "(9381, 27)"
      ]
     },
     "execution_count": 17,
     "metadata": {},
     "output_type": "execute_result"
    }
   ],
   "source": [
    "raw_data.shape"
   ]
  },
  {
   "cell_type": "code",
   "execution_count": null,
   "metadata": {
    "cell_id": "00036-5523062d-f42d-4012-904a-60a83089cceb",
    "deepnote_cell_height": 418.9375,
    "deepnote_cell_type": "code",
    "deepnote_to_be_reexecuted": false,
    "execution_millis": 748,
    "execution_start": 1650745887593,
    "source_hash": "1633d358",
    "tags": []
   },
   "outputs": [
    {
     "data": {
      "application/vnd.deepnote.dataframe.v3+json": {
       "column_count": 27,
       "columns": [
        {
         "dtype": "object",
         "name": "HomeTeam",
         "stats": {
          "categories": [
           {
            "count": 1,
            "name": "middlesbrough-fc"
           },
           {
            "count": 1,
            "name": "everton-fc"
           },
           {
            "count": 3,
            "name": "3 others"
           }
          ],
          "nan_count": 0,
          "unique_count": 5
         }
        },
        {
         "dtype": "object",
         "name": "AwayTeam",
         "stats": {
          "categories": [
           {
            "count": 1,
            "name": "manchester-united"
           },
           {
            "count": 1,
            "name": "swansea-city"
           },
           {
            "count": 3,
            "name": "3 others"
           }
          ],
          "nan_count": 0,
          "unique_count": 5
         }
        },
        {
         "dtype": "object",
         "name": "Date",
         "stats": {
          "categories": [
           {
            "count": 1,
            "name": "2017/03/19"
           },
           {
            "count": 1,
            "name": "2011/12/21"
           },
           {
            "count": 3,
            "name": "3 others"
           }
          ],
          "nan_count": 0,
          "unique_count": 5
         }
        },
        {
         "dtype": "object",
         "name": "Season",
         "stats": {
          "categories": [
           {
            "count": 1,
            "name": "2016-2017"
           },
           {
            "count": 1,
            "name": "2011-2012"
           },
           {
            "count": 3,
            "name": "3 others"
           }
          ],
          "nan_count": 0,
          "unique_count": 5
         }
        },
        {
         "dtype": "float64",
         "name": "X1",
         "stats": {
          "histogram": [
           {
            "bin_end": 33275,
            "bin_start": 31149,
            "count": 2
           },
           {
            "bin_end": 35401,
            "bin_start": 33275,
            "count": 1
           },
           {
            "bin_end": 37527,
            "bin_start": 35401,
            "count": 0
           },
           {
            "bin_end": 39653,
            "bin_start": 37527,
            "count": 0
           },
           {
            "bin_end": 41779,
            "bin_start": 39653,
            "count": 1
           },
           {
            "bin_end": 43905,
            "bin_start": 41779,
            "count": 0
           },
           {
            "bin_end": 46031,
            "bin_start": 43905,
            "count": 0
           },
           {
            "bin_end": 48157,
            "bin_start": 46031,
            "count": 0
           },
           {
            "bin_end": 50283,
            "bin_start": 48157,
            "count": 0
           },
           {
            "bin_end": 52409,
            "bin_start": 50283,
            "count": 1
           }
          ],
          "max": "52409.0",
          "min": "31149.0",
          "nan_count": 0,
          "unique_count": 5
         }
        },
        {
         "dtype": "float64",
         "name": "X2",
         "stats": {
          "histogram": [
           {
            "bin_end": 0.6509068214917981,
            "bin_start": 0.6147226621381824,
            "count": 1
           },
           {
            "bin_end": 0.6870909808454139,
            "bin_start": 0.6509068214917981,
            "count": 0
           },
           {
            "bin_end": 0.7232751401990296,
            "bin_start": 0.6870909808454139,
            "count": 0
           },
           {
            "bin_end": 0.7594592995526452,
            "bin_start": 0.7232751401990296,
            "count": 0
           },
           {
            "bin_end": 0.795643458906261,
            "bin_start": 0.7594592995526452,
            "count": 0
           },
           {
            "bin_end": 0.8318276182598767,
            "bin_start": 0.795643458906261,
            "count": 1
           },
           {
            "bin_end": 0.8680117776134924,
            "bin_start": 0.8318276182598767,
            "count": 0
           },
           {
            "bin_end": 0.9041959369671082,
            "bin_start": 0.8680117776134924,
            "count": 0
           },
           {
            "bin_end": 0.9403800963207238,
            "bin_start": 0.9041959369671082,
            "count": 1
           },
           {
            "bin_end": 0.9765642556743396,
            "bin_start": 0.9403800963207238,
            "count": 2
           }
          ],
          "max": "0.9765642556743396",
          "min": "0.6147226621381824",
          "nan_count": 0,
          "unique_count": 5
         }
        },
        {
         "dtype": "float64",
         "name": "X3",
         "stats": {
          "histogram": [
           {
            "bin_end": 4.5,
            "bin_start": 3,
            "count": 1
           },
           {
            "bin_end": 6,
            "bin_start": 4.5,
            "count": 0
           },
           {
            "bin_end": 7.5,
            "bin_start": 6,
            "count": 1
           },
           {
            "bin_end": 9,
            "bin_start": 7.5,
            "count": 0
           },
           {
            "bin_end": 10.5,
            "bin_start": 9,
            "count": 0
           },
           {
            "bin_end": 12,
            "bin_start": 10.5,
            "count": 0
           },
           {
            "bin_end": 13.5,
            "bin_start": 12,
            "count": 0
           },
           {
            "bin_end": 15,
            "bin_start": 13.5,
            "count": 1
           },
           {
            "bin_end": 16.5,
            "bin_start": 15,
            "count": 0
           },
           {
            "bin_end": 18,
            "bin_start": 16.5,
            "count": 2
           }
          ],
          "max": "18.0",
          "min": "3.0",
          "nan_count": 0,
          "unique_count": 5
         }
        },
        {
         "dtype": "float64",
         "name": "X4",
         "stats": {
          "histogram": [
           {
            "bin_end": 7.4,
            "bin_start": 6,
            "count": 1
           },
           {
            "bin_end": 8.8,
            "bin_start": 7.4,
            "count": 0
           },
           {
            "bin_end": 10.2,
            "bin_start": 8.8,
            "count": 1
           },
           {
            "bin_end": 11.6,
            "bin_start": 10.2,
            "count": 0
           },
           {
            "bin_end": 13,
            "bin_start": 11.6,
            "count": 1
           },
           {
            "bin_end": 14.399999999999999,
            "bin_start": 13,
            "count": 0
           },
           {
            "bin_end": 15.799999999999999,
            "bin_start": 14.399999999999999,
            "count": 0
           },
           {
            "bin_end": 17.2,
            "bin_start": 15.799999999999999,
            "count": 1
           },
           {
            "bin_end": 18.6,
            "bin_start": 17.2,
            "count": 0
           },
           {
            "bin_end": 20,
            "bin_start": 18.6,
            "count": 1
           }
          ],
          "max": "20.0",
          "min": "6.0",
          "nan_count": 0,
          "unique_count": 5
         }
        },
        {
         "dtype": "int64",
         "name": "X5",
         "stats": {
          "histogram": [
           {
            "bin_end": 2.9,
            "bin_start": 1,
            "count": 1
           },
           {
            "bin_end": 4.8,
            "bin_start": 2.9,
            "count": 0
           },
           {
            "bin_end": 6.699999999999999,
            "bin_start": 4.8,
            "count": 0
           },
           {
            "bin_end": 8.6,
            "bin_start": 6.699999999999999,
            "count": 1
           },
           {
            "bin_end": 10.5,
            "bin_start": 8.6,
            "count": 0
           },
           {
            "bin_end": 12.399999999999999,
            "bin_start": 10.5,
            "count": 1
           },
           {
            "bin_end": 14.299999999999999,
            "bin_start": 12.399999999999999,
            "count": 0
           },
           {
            "bin_end": 16.2,
            "bin_start": 14.299999999999999,
            "count": 0
           },
           {
            "bin_end": 18.099999999999998,
            "bin_start": 16.2,
            "count": 0
           },
           {
            "bin_end": 20,
            "bin_start": 18.099999999999998,
            "count": 2
           }
          ],
          "max": "20",
          "min": "1",
          "nan_count": 0,
          "unique_count": 4
         }
        },
        {
         "dtype": "int64",
         "name": "X6",
         "stats": {
          "histogram": [
           {
            "bin_end": 3.8,
            "bin_start": 2,
            "count": 1
           },
           {
            "bin_end": 5.6,
            "bin_start": 3.8,
            "count": 1
           },
           {
            "bin_end": 7.4,
            "bin_start": 5.6,
            "count": 0
           },
           {
            "bin_end": 9.2,
            "bin_start": 7.4,
            "count": 0
           },
           {
            "bin_end": 11,
            "bin_start": 9.2,
            "count": 0
           },
           {
            "bin_end": 12.8,
            "bin_start": 11,
            "count": 0
           },
           {
            "bin_end": 14.6,
            "bin_start": 12.8,
            "count": 0
           },
           {
            "bin_end": 16.4,
            "bin_start": 14.6,
            "count": 0
           },
           {
            "bin_end": 18.2,
            "bin_start": 16.4,
            "count": 0
           },
           {
            "bin_end": 20,
            "bin_start": 18.2,
            "count": 3
           }
          ],
          "max": "20",
          "min": "2",
          "nan_count": 0,
          "unique_count": 3
         }
        },
        {
         "dtype": "int64",
         "name": "X7",
         "stats": {
          "histogram": [
           {
            "bin_end": 1.3,
            "bin_start": 1,
            "count": 1
           },
           {
            "bin_end": 1.6,
            "bin_start": 1.3,
            "count": 0
           },
           {
            "bin_end": 1.9,
            "bin_start": 1.6,
            "count": 0
           },
           {
            "bin_end": 2.2,
            "bin_start": 1.9,
            "count": 2
           },
           {
            "bin_end": 2.5,
            "bin_start": 2.2,
            "count": 0
           },
           {
            "bin_end": 2.8,
            "bin_start": 2.5,
            "count": 0
           },
           {
            "bin_end": 3.1,
            "bin_start": 2.8,
            "count": 0
           },
           {
            "bin_end": 3.4,
            "bin_start": 3.1,
            "count": 0
           },
           {
            "bin_end": 3.6999999999999997,
            "bin_start": 3.4,
            "count": 0
           },
           {
            "bin_end": 4,
            "bin_start": 3.6999999999999997,
            "count": 2
           }
          ],
          "max": "4",
          "min": "1",
          "nan_count": 0,
          "unique_count": 3
         }
        },
        {
         "dtype": "int64",
         "name": "X8",
         "stats": {
          "histogram": [
           {
            "bin_end": 1.3,
            "bin_start": 1,
            "count": 2
           },
           {
            "bin_end": 1.6,
            "bin_start": 1.3,
            "count": 0
           },
           {
            "bin_end": 1.9,
            "bin_start": 1.6,
            "count": 0
           },
           {
            "bin_end": 2.2,
            "bin_start": 1.9,
            "count": 1
           },
           {
            "bin_end": 2.5,
            "bin_start": 2.2,
            "count": 0
           },
           {
            "bin_end": 2.8,
            "bin_start": 2.5,
            "count": 0
           },
           {
            "bin_end": 3.1,
            "bin_start": 2.8,
            "count": 0
           },
           {
            "bin_end": 3.4,
            "bin_start": 3.1,
            "count": 0
           },
           {
            "bin_end": 3.6999999999999997,
            "bin_start": 3.4,
            "count": 0
           },
           {
            "bin_end": 4,
            "bin_start": 3.6999999999999997,
            "count": 2
           }
          ],
          "max": "4",
          "min": "1",
          "nan_count": 0,
          "unique_count": 3
         }
        },
        {
         "dtype": "int64",
         "name": "X9",
         "stats": {
          "histogram": [
           {
            "bin_end": 1.1,
            "bin_start": 1,
            "count": 3
           },
           {
            "bin_end": 1.2,
            "bin_start": 1.1,
            "count": 0
           },
           {
            "bin_end": 1.3,
            "bin_start": 1.2,
            "count": 0
           },
           {
            "bin_end": 1.4,
            "bin_start": 1.3,
            "count": 0
           },
           {
            "bin_end": 1.5,
            "bin_start": 1.4,
            "count": 0
           },
           {
            "bin_end": 1.6,
            "bin_start": 1.5,
            "count": 0
           },
           {
            "bin_end": 1.7000000000000002,
            "bin_start": 1.6,
            "count": 0
           },
           {
            "bin_end": 1.8,
            "bin_start": 1.7000000000000002,
            "count": 0
           },
           {
            "bin_end": 1.9,
            "bin_start": 1.8,
            "count": 0
           },
           {
            "bin_end": 2,
            "bin_start": 1.9,
            "count": 2
           }
          ],
          "max": "2",
          "min": "1",
          "nan_count": 0,
          "unique_count": 2
         }
        },
        {
         "dtype": "int64",
         "name": "X10",
         "stats": {
          "histogram": [
           {
            "bin_end": 1.3,
            "bin_start": 1,
            "count": 1
           },
           {
            "bin_end": 1.6,
            "bin_start": 1.3,
            "count": 0
           },
           {
            "bin_end": 1.9,
            "bin_start": 1.6,
            "count": 0
           },
           {
            "bin_end": 2.2,
            "bin_start": 1.9,
            "count": 2
           },
           {
            "bin_end": 2.5,
            "bin_start": 2.2,
            "count": 0
           },
           {
            "bin_end": 2.8,
            "bin_start": 2.5,
            "count": 0
           },
           {
            "bin_end": 3.1,
            "bin_start": 2.8,
            "count": 0
           },
           {
            "bin_end": 3.4,
            "bin_start": 3.1,
            "count": 0
           },
           {
            "bin_end": 3.6999999999999997,
            "bin_start": 3.4,
            "count": 0
           },
           {
            "bin_end": 4,
            "bin_start": 3.6999999999999997,
            "count": 2
           }
          ],
          "max": "4",
          "min": "1",
          "nan_count": 0,
          "unique_count": 3
         }
        },
        {
         "dtype": "int64",
         "name": "X11",
         "stats": {
          "histogram": [
           {
            "bin_end": 1.3,
            "bin_start": 1,
            "count": 1
           },
           {
            "bin_end": 1.6,
            "bin_start": 1.3,
            "count": 0
           },
           {
            "bin_end": 1.9,
            "bin_start": 1.6,
            "count": 0
           },
           {
            "bin_end": 2.2,
            "bin_start": 1.9,
            "count": 2
           },
           {
            "bin_end": 2.5,
            "bin_start": 2.2,
            "count": 0
           },
           {
            "bin_end": 2.8,
            "bin_start": 2.5,
            "count": 0
           },
           {
            "bin_end": 3.1,
            "bin_start": 2.8,
            "count": 0
           },
           {
            "bin_end": 3.4,
            "bin_start": 3.1,
            "count": 0
           },
           {
            "bin_end": 3.6999999999999997,
            "bin_start": 3.4,
            "count": 0
           },
           {
            "bin_end": 4,
            "bin_start": 3.6999999999999997,
            "count": 2
           }
          ],
          "max": "4",
          "min": "1",
          "nan_count": 0,
          "unique_count": 3
         }
        },
        {
         "dtype": "int64",
         "name": "X12",
         "stats": {
          "histogram": [
           {
            "bin_end": 1.1,
            "bin_start": 1,
            "count": 3
           },
           {
            "bin_end": 1.2,
            "bin_start": 1.1,
            "count": 0
           },
           {
            "bin_end": 1.3,
            "bin_start": 1.2,
            "count": 0
           },
           {
            "bin_end": 1.4,
            "bin_start": 1.3,
            "count": 0
           },
           {
            "bin_end": 1.5,
            "bin_start": 1.4,
            "count": 0
           },
           {
            "bin_end": 1.6,
            "bin_start": 1.5,
            "count": 0
           },
           {
            "bin_end": 1.7000000000000002,
            "bin_start": 1.6,
            "count": 0
           },
           {
            "bin_end": 1.8,
            "bin_start": 1.7000000000000002,
            "count": 0
           },
           {
            "bin_end": 1.9,
            "bin_start": 1.8,
            "count": 0
           },
           {
            "bin_end": 2,
            "bin_start": 1.9,
            "count": 2
           }
          ],
          "max": "2",
          "min": "1",
          "nan_count": 0,
          "unique_count": 2
         }
        },
        {
         "dtype": "int64",
         "name": "X13",
         "stats": {
          "histogram": [
           {
            "bin_end": 1.3,
            "bin_start": 1,
            "count": 1
           },
           {
            "bin_end": 1.6,
            "bin_start": 1.3,
            "count": 0
           },
           {
            "bin_end": 1.9,
            "bin_start": 1.6,
            "count": 0
           },
           {
            "bin_end": 2.2,
            "bin_start": 1.9,
            "count": 0
           },
           {
            "bin_end": 2.5,
            "bin_start": 2.2,
            "count": 0
           },
           {
            "bin_end": 2.8,
            "bin_start": 2.5,
            "count": 0
           },
           {
            "bin_end": 3.1,
            "bin_start": 2.8,
            "count": 0
           },
           {
            "bin_end": 3.4,
            "bin_start": 3.1,
            "count": 0
           },
           {
            "bin_end": 3.6999999999999997,
            "bin_start": 3.4,
            "count": 0
           },
           {
            "bin_end": 4,
            "bin_start": 3.6999999999999997,
            "count": 4
           }
          ],
          "max": "4",
          "min": "1",
          "nan_count": 0,
          "unique_count": 2
         }
        },
        {
         "dtype": "int64",
         "name": "X14",
         "stats": {
          "histogram": [
           {
            "bin_end": 1.3,
            "bin_start": 1,
            "count": 3
           },
           {
            "bin_end": 1.6,
            "bin_start": 1.3,
            "count": 0
           },
           {
            "bin_end": 1.9,
            "bin_start": 1.6,
            "count": 0
           },
           {
            "bin_end": 2.2,
            "bin_start": 1.9,
            "count": 1
           },
           {
            "bin_end": 2.5,
            "bin_start": 2.2,
            "count": 0
           },
           {
            "bin_end": 2.8,
            "bin_start": 2.5,
            "count": 0
           },
           {
            "bin_end": 3.1,
            "bin_start": 2.8,
            "count": 0
           },
           {
            "bin_end": 3.4,
            "bin_start": 3.1,
            "count": 0
           },
           {
            "bin_end": 3.6999999999999997,
            "bin_start": 3.4,
            "count": 0
           },
           {
            "bin_end": 4,
            "bin_start": 3.6999999999999997,
            "count": 1
           }
          ],
          "max": "4",
          "min": "1",
          "nan_count": 0,
          "unique_count": 3
         }
        },
        {
         "dtype": "int64",
         "name": "X15",
         "stats": {
          "histogram": [
           {
            "bin_end": 1.3,
            "bin_start": 1,
            "count": 1
           },
           {
            "bin_end": 1.6,
            "bin_start": 1.3,
            "count": 0
           },
           {
            "bin_end": 1.9,
            "bin_start": 1.6,
            "count": 0
           },
           {
            "bin_end": 2.2,
            "bin_start": 1.9,
            "count": 3
           },
           {
            "bin_end": 2.5,
            "bin_start": 2.2,
            "count": 0
           },
           {
            "bin_end": 2.8,
            "bin_start": 2.5,
            "count": 0
           },
           {
            "bin_end": 3.1,
            "bin_start": 2.8,
            "count": 0
           },
           {
            "bin_end": 3.4,
            "bin_start": 3.1,
            "count": 0
           },
           {
            "bin_end": 3.6999999999999997,
            "bin_start": 3.4,
            "count": 0
           },
           {
            "bin_end": 4,
            "bin_start": 3.6999999999999997,
            "count": 1
           }
          ],
          "max": "4",
          "min": "1",
          "nan_count": 0,
          "unique_count": 3
         }
        },
        {
         "dtype": "int64",
         "name": "X16",
         "stats": {
          "histogram": [
           {
            "bin_end": 1.1,
            "bin_start": 1,
            "count": 4
           },
           {
            "bin_end": 1.2,
            "bin_start": 1.1,
            "count": 0
           },
           {
            "bin_end": 1.3,
            "bin_start": 1.2,
            "count": 0
           },
           {
            "bin_end": 1.4,
            "bin_start": 1.3,
            "count": 0
           },
           {
            "bin_end": 1.5,
            "bin_start": 1.4,
            "count": 0
           },
           {
            "bin_end": 1.6,
            "bin_start": 1.5,
            "count": 0
           },
           {
            "bin_end": 1.7000000000000002,
            "bin_start": 1.6,
            "count": 0
           },
           {
            "bin_end": 1.8,
            "bin_start": 1.7000000000000002,
            "count": 0
           },
           {
            "bin_end": 1.9,
            "bin_start": 1.8,
            "count": 0
           },
           {
            "bin_end": 2,
            "bin_start": 1.9,
            "count": 1
           }
          ],
          "max": "2",
          "min": "1",
          "nan_count": 0,
          "unique_count": 2
         }
        },
        {
         "dtype": "float64",
         "name": "X17",
         "stats": {
          "histogram": [
           {
            "bin_end": 4.2,
            "bin_start": 3,
            "count": 1
           },
           {
            "bin_end": 5.4,
            "bin_start": 4.2,
            "count": 2
           },
           {
            "bin_end": 6.6,
            "bin_start": 5.4,
            "count": 0
           },
           {
            "bin_end": 7.8,
            "bin_start": 6.6,
            "count": 0
           },
           {
            "bin_end": 9,
            "bin_start": 7.8,
            "count": 0
           },
           {
            "bin_end": 10.2,
            "bin_start": 9,
            "count": 0
           },
           {
            "bin_end": 11.4,
            "bin_start": 10.2,
            "count": 0
           },
           {
            "bin_end": 12.6,
            "bin_start": 11.4,
            "count": 1
           },
           {
            "bin_end": 13.799999999999999,
            "bin_start": 12.6,
            "count": 0
           },
           {
            "bin_end": 15,
            "bin_start": 13.799999999999999,
            "count": 1
           }
          ],
          "max": "15.0",
          "min": "3.0",
          "nan_count": 0,
          "unique_count": 4
         }
        },
        {
         "dtype": "float64",
         "name": "X18",
         "stats": {
          "histogram": [
           {
            "bin_end": 3,
            "bin_start": 2,
            "count": 1
           },
           {
            "bin_end": 4,
            "bin_start": 3,
            "count": 0
           },
           {
            "bin_end": 5,
            "bin_start": 4,
            "count": 0
           },
           {
            "bin_end": 6,
            "bin_start": 5,
            "count": 0
           },
           {
            "bin_end": 7,
            "bin_start": 6,
            "count": 0
           },
           {
            "bin_end": 8,
            "bin_start": 7,
            "count": 1
           },
           {
            "bin_end": 9,
            "bin_start": 8,
            "count": 0
           },
           {
            "bin_end": 10,
            "bin_start": 9,
            "count": 1
           },
           {
            "bin_end": 11,
            "bin_start": 10,
            "count": 0
           },
           {
            "bin_end": 12,
            "bin_start": 11,
            "count": 2
           }
          ],
          "max": "12.0",
          "min": "2.0",
          "nan_count": 0,
          "unique_count": 5
         }
        },
        {
         "dtype": "float64",
         "name": "X19",
         "stats": {
          "histogram": [
           {
            "bin_end": 4.2,
            "bin_start": 3,
            "count": 1
           },
           {
            "bin_end": 5.4,
            "bin_start": 4.2,
            "count": 2
           },
           {
            "bin_end": 6.6,
            "bin_start": 5.4,
            "count": 0
           },
           {
            "bin_end": 7.8,
            "bin_start": 6.6,
            "count": 0
           },
           {
            "bin_end": 9,
            "bin_start": 7.8,
            "count": 0
           },
           {
            "bin_end": 10.2,
            "bin_start": 9,
            "count": 0
           },
           {
            "bin_end": 11.4,
            "bin_start": 10.2,
            "count": 0
           },
           {
            "bin_end": 12.6,
            "bin_start": 11.4,
            "count": 1
           },
           {
            "bin_end": 13.799999999999999,
            "bin_start": 12.6,
            "count": 0
           },
           {
            "bin_end": 15,
            "bin_start": 13.799999999999999,
            "count": 1
           }
          ],
          "max": "15.0",
          "min": "3.0",
          "nan_count": 0,
          "unique_count": 4
         }
        },
        {
         "dtype": "float64",
         "name": "X20",
         "stats": {
          "histogram": [
           {
            "bin_end": 3,
            "bin_start": 2,
            "count": 1
           },
           {
            "bin_end": 4,
            "bin_start": 3,
            "count": 0
           },
           {
            "bin_end": 5,
            "bin_start": 4,
            "count": 0
           },
           {
            "bin_end": 6,
            "bin_start": 5,
            "count": 0
           },
           {
            "bin_end": 7,
            "bin_start": 6,
            "count": 0
           },
           {
            "bin_end": 8,
            "bin_start": 7,
            "count": 1
           },
           {
            "bin_end": 9,
            "bin_start": 8,
            "count": 0
           },
           {
            "bin_end": 10,
            "bin_start": 9,
            "count": 1
           },
           {
            "bin_end": 11,
            "bin_start": 10,
            "count": 0
           },
           {
            "bin_end": 12,
            "bin_start": 11,
            "count": 2
           }
          ],
          "max": "12.0",
          "min": "2.0",
          "nan_count": 0,
          "unique_count": 5
         }
        },
        {
         "dtype": "float64",
         "name": "X21",
         "stats": {
          "histogram": [
           {
            "bin_end": 0.5,
            "bin_start": 0,
            "count": 1
           },
           {
            "bin_end": 1,
            "bin_start": 0.5,
            "count": 0
           },
           {
            "bin_end": 1.5,
            "bin_start": 1,
            "count": 1
           },
           {
            "bin_end": 2,
            "bin_start": 1.5,
            "count": 0
           },
           {
            "bin_end": 2.5,
            "bin_start": 2,
            "count": 0
           },
           {
            "bin_end": 3,
            "bin_start": 2.5,
            "count": 0
           },
           {
            "bin_end": 3.5,
            "bin_start": 3,
            "count": 0
           },
           {
            "bin_end": 4,
            "bin_start": 3.5,
            "count": 0
           },
           {
            "bin_end": 4.5,
            "bin_start": 4,
            "count": 1
           },
           {
            "bin_end": 5,
            "bin_start": 4.5,
            "count": 2
           }
          ],
          "max": "5.0",
          "min": "0.0",
          "nan_count": 0,
          "unique_count": 4
         }
        },
        {
         "dtype": "float64",
         "name": "X22",
         "stats": {
          "histogram": [
           {
            "bin_end": 14.8,
            "bin_start": 12,
            "count": 1
           },
           {
            "bin_end": 17.6,
            "bin_start": 14.8,
            "count": 1
           },
           {
            "bin_end": 20.4,
            "bin_start": 17.6,
            "count": 0
           },
           {
            "bin_end": 23.2,
            "bin_start": 20.4,
            "count": 0
           },
           {
            "bin_end": 26,
            "bin_start": 23.2,
            "count": 1
           },
           {
            "bin_end": 28.799999999999997,
            "bin_start": 26,
            "count": 1
           },
           {
            "bin_end": 31.599999999999998,
            "bin_start": 28.799999999999997,
            "count": 0
           },
           {
            "bin_end": 34.4,
            "bin_start": 31.599999999999998,
            "count": 0
           },
           {
            "bin_end": 37.2,
            "bin_start": 34.4,
            "count": 0
           },
           {
            "bin_end": 40,
            "bin_start": 37.2,
            "count": 1
           }
          ],
          "max": "40.0",
          "min": "12.0",
          "nan_count": 0,
          "unique_count": 5
         }
        },
        {
         "dtype": "float64",
         "name": "Y",
         "stats": {
          "histogram": [
           {
            "bin_end": 0.1,
            "bin_start": 0,
            "count": 1
           },
           {
            "bin_end": 0.2,
            "bin_start": 0.1,
            "count": 0
           },
           {
            "bin_end": 0.30000000000000004,
            "bin_start": 0.2,
            "count": 0
           },
           {
            "bin_end": 0.4,
            "bin_start": 0.30000000000000004,
            "count": 0
           },
           {
            "bin_end": 0.5,
            "bin_start": 0.4,
            "count": 0
           },
           {
            "bin_end": 0.6000000000000001,
            "bin_start": 0.5,
            "count": 0
           },
           {
            "bin_end": 0.7000000000000001,
            "bin_start": 0.6000000000000001,
            "count": 0
           },
           {
            "bin_end": 0.8,
            "bin_start": 0.7000000000000001,
            "count": 0
           },
           {
            "bin_end": 0.9,
            "bin_start": 0.8,
            "count": 0
           },
           {
            "bin_end": 1,
            "bin_start": 0.9,
            "count": 4
           }
          ],
          "max": "1.0",
          "min": "0.0",
          "nan_count": 0,
          "unique_count": 2
         }
        },
        {
         "dtype": "int64",
         "name": "_deepnote_index_column"
        }
       ],
       "row_count": 5,
       "rows": [
        {
         "AwayTeam": "manchester-united",
         "Date": "2017/03/19",
         "HomeTeam": "middlesbrough-fc",
         "Season": "2016-2017",
         "X1": 35100,
         "X10": 1,
         "X11": 2,
         "X12": 2,
         "X13": 4,
         "X14": 4,
         "X15": 2,
         "X16": 2,
         "X17": 5,
         "X18": 2,
         "X19": 5,
         "X2": 0.9313105413105414,
         "X20": 2,
         "X21": 5,
         "X22": 27,
         "X3": 17,
         "X4": 6,
         "X5": 20,
         "X6": 5,
         "X7": 1,
         "X8": 1,
         "X9": 2,
         "Y": 0,
         "_deepnote_index_column": 9376
        },
        {
         "AwayTeam": "swansea-city",
         "Date": "2011/12/21",
         "HomeTeam": "everton-fc",
         "Season": "2011-2012",
         "X1": 40157,
         "X10": 4,
         "X11": 4,
         "X12": 2,
         "X13": 4,
         "X14": 1,
         "X15": 2,
         "X16": 1,
         "X17": 3,
         "X18": 9,
         "X19": 3,
         "X2": 0.7969718853500012,
         "X20": 9,
         "X21": 0,
         "X22": 17,
         "X3": 14,
         "X4": 12,
         "X5": 7,
         "X6": 20,
         "X7": 2,
         "X8": 1,
         "X9": 1,
         "Y": 1,
         "_deepnote_index_column": 9377
        },
        {
         "AwayTeam": "bolton-wanderers",
         "Date": "1996/02/03",
         "HomeTeam": "blackburn-rovers",
         "Season": "1995-1996",
         "X1": 31149,
         "X10": 4,
         "X11": 4,
         "X12": 1,
         "X13": 4,
         "X14": 1,
         "X15": 1,
         "X16": 1,
         "X17": 12,
         "X18": 11,
         "X19": 12,
         "X2": 0.9765642556743396,
         "X20": 11,
         "X21": 1,
         "X22": 25,
         "X3": 7,
         "X4": 20,
         "X5": 1,
         "X6": 20,
         "X7": 4,
         "X8": 4,
         "X9": 2,
         "Y": 1,
         "_deepnote_index_column": 9378
        },
        {
         "AwayTeam": "west-bromwich-albion",
         "Date": "2004/11/06",
         "HomeTeam": "southampton-fc",
         "Season": "2004-2005",
         "X1": 32689,
         "X10": 2,
         "X11": 1,
         "X12": 1,
         "X13": 1,
         "X14": 2,
         "X15": 4,
         "X16": 1,
         "X17": 5,
         "X18": 12,
         "X19": 5,
         "X2": 0.9500749487595216,
         "X20": 12,
         "X21": 5,
         "X22": 12,
         "X3": 18,
         "X4": 17,
         "X5": 12,
         "X6": 20,
         "X7": 2,
         "X8": 2,
         "X9": 1,
         "Y": 1,
         "_deepnote_index_column": 9379
        },
        {
         "AwayTeam": "aston-villa",
         "Date": "1994/04/27",
         "HomeTeam": "newcastle-united",
         "Season": "1993-1994",
         "X1": 52409,
         "X10": 2,
         "X11": 2,
         "X12": 1,
         "X13": 4,
         "X14": 1,
         "X15": 2,
         "X16": 1,
         "X17": 15,
         "X18": 7,
         "X19": 15,
         "X2": 0.6147226621381824,
         "X20": 7,
         "X21": 4,
         "X22": 40,
         "X3": 3,
         "X4": 10,
         "X5": 20,
         "X6": 2,
         "X7": 4,
         "X8": 4,
         "X9": 1,
         "Y": 1,
         "_deepnote_index_column": 9380
        }
       ]
      },
      "text/html": [
       "<div>\n",
       "<style scoped>\n",
       "    .dataframe tbody tr th:only-of-type {\n",
       "        vertical-align: middle;\n",
       "    }\n",
       "\n",
       "    .dataframe tbody tr th {\n",
       "        vertical-align: top;\n",
       "    }\n",
       "\n",
       "    .dataframe thead th {\n",
       "        text-align: right;\n",
       "    }\n",
       "</style>\n",
       "<table border=\"1\" class=\"dataframe\">\n",
       "  <thead>\n",
       "    <tr style=\"text-align: right;\">\n",
       "      <th></th>\n",
       "      <th>HomeTeam</th>\n",
       "      <th>AwayTeam</th>\n",
       "      <th>Date</th>\n",
       "      <th>Season</th>\n",
       "      <th>X1</th>\n",
       "      <th>X2</th>\n",
       "      <th>X3</th>\n",
       "      <th>X4</th>\n",
       "      <th>X5</th>\n",
       "      <th>X6</th>\n",
       "      <th>...</th>\n",
       "      <th>X14</th>\n",
       "      <th>X15</th>\n",
       "      <th>X16</th>\n",
       "      <th>X17</th>\n",
       "      <th>X18</th>\n",
       "      <th>X19</th>\n",
       "      <th>X20</th>\n",
       "      <th>X21</th>\n",
       "      <th>X22</th>\n",
       "      <th>Y</th>\n",
       "    </tr>\n",
       "  </thead>\n",
       "  <tbody>\n",
       "    <tr>\n",
       "      <th>9376</th>\n",
       "      <td>middlesbrough-fc</td>\n",
       "      <td>manchester-united</td>\n",
       "      <td>2017/03/19</td>\n",
       "      <td>2016-2017</td>\n",
       "      <td>35100.0</td>\n",
       "      <td>0.931311</td>\n",
       "      <td>17.0</td>\n",
       "      <td>6.0</td>\n",
       "      <td>20</td>\n",
       "      <td>5</td>\n",
       "      <td>...</td>\n",
       "      <td>4</td>\n",
       "      <td>2</td>\n",
       "      <td>2</td>\n",
       "      <td>5.0</td>\n",
       "      <td>2.0</td>\n",
       "      <td>5.0</td>\n",
       "      <td>2.0</td>\n",
       "      <td>5.0</td>\n",
       "      <td>27.0</td>\n",
       "      <td>0.0</td>\n",
       "    </tr>\n",
       "    <tr>\n",
       "      <th>9377</th>\n",
       "      <td>everton-fc</td>\n",
       "      <td>swansea-city</td>\n",
       "      <td>2011/12/21</td>\n",
       "      <td>2011-2012</td>\n",
       "      <td>40157.0</td>\n",
       "      <td>0.796972</td>\n",
       "      <td>14.0</td>\n",
       "      <td>12.0</td>\n",
       "      <td>7</td>\n",
       "      <td>20</td>\n",
       "      <td>...</td>\n",
       "      <td>1</td>\n",
       "      <td>2</td>\n",
       "      <td>1</td>\n",
       "      <td>3.0</td>\n",
       "      <td>9.0</td>\n",
       "      <td>3.0</td>\n",
       "      <td>9.0</td>\n",
       "      <td>0.0</td>\n",
       "      <td>17.0</td>\n",
       "      <td>1.0</td>\n",
       "    </tr>\n",
       "    <tr>\n",
       "      <th>9378</th>\n",
       "      <td>blackburn-rovers</td>\n",
       "      <td>bolton-wanderers</td>\n",
       "      <td>1996/02/03</td>\n",
       "      <td>1995-1996</td>\n",
       "      <td>31149.0</td>\n",
       "      <td>0.976564</td>\n",
       "      <td>7.0</td>\n",
       "      <td>20.0</td>\n",
       "      <td>1</td>\n",
       "      <td>20</td>\n",
       "      <td>...</td>\n",
       "      <td>1</td>\n",
       "      <td>1</td>\n",
       "      <td>1</td>\n",
       "      <td>12.0</td>\n",
       "      <td>11.0</td>\n",
       "      <td>12.0</td>\n",
       "      <td>11.0</td>\n",
       "      <td>1.0</td>\n",
       "      <td>25.0</td>\n",
       "      <td>1.0</td>\n",
       "    </tr>\n",
       "    <tr>\n",
       "      <th>9379</th>\n",
       "      <td>southampton-fc</td>\n",
       "      <td>west-bromwich-albion</td>\n",
       "      <td>2004/11/06</td>\n",
       "      <td>2004-2005</td>\n",
       "      <td>32689.0</td>\n",
       "      <td>0.950075</td>\n",
       "      <td>18.0</td>\n",
       "      <td>17.0</td>\n",
       "      <td>12</td>\n",
       "      <td>20</td>\n",
       "      <td>...</td>\n",
       "      <td>2</td>\n",
       "      <td>4</td>\n",
       "      <td>1</td>\n",
       "      <td>5.0</td>\n",
       "      <td>12.0</td>\n",
       "      <td>5.0</td>\n",
       "      <td>12.0</td>\n",
       "      <td>5.0</td>\n",
       "      <td>12.0</td>\n",
       "      <td>1.0</td>\n",
       "    </tr>\n",
       "    <tr>\n",
       "      <th>9380</th>\n",
       "      <td>newcastle-united</td>\n",
       "      <td>aston-villa</td>\n",
       "      <td>1994/04/27</td>\n",
       "      <td>1993-1994</td>\n",
       "      <td>52409.0</td>\n",
       "      <td>0.614723</td>\n",
       "      <td>3.0</td>\n",
       "      <td>10.0</td>\n",
       "      <td>20</td>\n",
       "      <td>2</td>\n",
       "      <td>...</td>\n",
       "      <td>1</td>\n",
       "      <td>2</td>\n",
       "      <td>1</td>\n",
       "      <td>15.0</td>\n",
       "      <td>7.0</td>\n",
       "      <td>15.0</td>\n",
       "      <td>7.0</td>\n",
       "      <td>4.0</td>\n",
       "      <td>40.0</td>\n",
       "      <td>1.0</td>\n",
       "    </tr>\n",
       "  </tbody>\n",
       "</table>\n",
       "<p>5 rows × 27 columns</p>\n",
       "</div>"
      ],
      "text/plain": [
       "              HomeTeam              AwayTeam        Date     Season       X1  \\\n",
       "9376  middlesbrough-fc     manchester-united  2017/03/19  2016-2017  35100.0   \n",
       "9377        everton-fc          swansea-city  2011/12/21  2011-2012  40157.0   \n",
       "9378  blackburn-rovers      bolton-wanderers  1996/02/03  1995-1996  31149.0   \n",
       "9379    southampton-fc  west-bromwich-albion  2004/11/06  2004-2005  32689.0   \n",
       "9380  newcastle-united           aston-villa  1994/04/27  1993-1994  52409.0   \n",
       "\n",
       "            X2    X3    X4  X5  X6  ...  X14  X15  X16   X17   X18   X19  \\\n",
       "9376  0.931311  17.0   6.0  20   5  ...    4    2    2   5.0   2.0   5.0   \n",
       "9377  0.796972  14.0  12.0   7  20  ...    1    2    1   3.0   9.0   3.0   \n",
       "9378  0.976564   7.0  20.0   1  20  ...    1    1    1  12.0  11.0  12.0   \n",
       "9379  0.950075  18.0  17.0  12  20  ...    2    4    1   5.0  12.0   5.0   \n",
       "9380  0.614723   3.0  10.0  20   2  ...    1    2    1  15.0   7.0  15.0   \n",
       "\n",
       "       X20  X21   X22    Y  \n",
       "9376   2.0  5.0  27.0  0.0  \n",
       "9377   9.0  0.0  17.0  1.0  \n",
       "9378  11.0  1.0  25.0  1.0  \n",
       "9379  12.0  5.0  12.0  1.0  \n",
       "9380   7.0  4.0  40.0  1.0  \n",
       "\n",
       "[5 rows x 27 columns]"
      ]
     },
     "execution_count": 18,
     "metadata": {},
     "output_type": "execute_result"
    }
   ],
   "source": [
    "raw_data.tail()"
   ]
  },
  {
   "cell_type": "code",
   "execution_count": null,
   "metadata": {
    "cell_id": "00037-5524e334-ccbf-45ad-ba6a-4c1536166b7b",
    "deepnote_app_coordinates": {
     "h": 5,
     "w": 12,
     "x": 0,
     "y": 168
    },
    "deepnote_cell_height": 707.96875,
    "deepnote_cell_type": "code",
    "deepnote_output_heights": [
     611
    ],
    "deepnote_to_be_reexecuted": false,
    "execution_millis": 614,
    "execution_start": 1650745887728,
    "source_hash": "bf132db",
    "tags": []
   },
   "outputs": [
    {
     "data": {
      "text/plain": [
       "(['X1',\n",
       "  'X2',\n",
       "  'X3',\n",
       "  'X4',\n",
       "  'X5',\n",
       "  'X6',\n",
       "  'X7',\n",
       "  'X8',\n",
       "  'X9',\n",
       "  'X10',\n",
       "  'X11',\n",
       "  'X12',\n",
       "  'X13',\n",
       "  'X14',\n",
       "  'X15',\n",
       "  'X16',\n",
       "  'X17',\n",
       "  'X18',\n",
       "  'X19',\n",
       "  'X20',\n",
       "  'X21',\n",
       "  'X22'],\n",
       " array(['Capacity of the stadium', 'Home attendance percentage',\n",
       "        'Current ranking of home teams', 'Current ranking of away teams',\n",
       "        'Ranking of home teams in the last season',\n",
       "        'Ranking of away teams in the last season',\n",
       "        'Result of the 1st match in the last 5 Premier League matches of home teams',\n",
       "        'Result of the 2nd match in the last 5 Premier League matches of home teams',\n",
       "        'Result of the 3rd match in the last 5 Premier League matches of home teams',\n",
       "        'Result of the 4th match in the last 5 Premier League matches of home teams',\n",
       "        'Result of the 5th match in the last 5 Premier League matches of home teams',\n",
       "        'Result of the 1st match in the last 5 Premier League matches of away teams',\n",
       "        'Result of the 2nd match in the last 5 Premier League matches of away teams',\n",
       "        'Result of the 3rd match in the last 5 Premier League matches of away teams',\n",
       "        'Result of the 4th match in the last 5 Premier League matches of away teams',\n",
       "        'Result of the 5th match in the last 5 Premier League matches of away teams',\n",
       "        'GF of home teams in the last 5 Premier League matches of current season',\n",
       "        'GF of away teams in the last 5 Premier League matches of current season',\n",
       "        'GA of home teams in the last 5 Premier League matches of current season',\n",
       "        'GF of away teams in the last 5 Premier League matches of current season',\n",
       "        'Results of the last 4 matches for home teams played against away teams',\n",
       "        'How many matches of home teams have been played'], dtype=object))"
      ]
     },
     "execution_count": 19,
     "metadata": {},
     "output_type": "execute_result"
    }
   ],
   "source": [
    "feature_name_list, feature_names"
   ]
  },
  {
   "cell_type": "code",
   "execution_count": null,
   "metadata": {
    "cell_id": "00038-3b17a15c-faa6-4b85-b274-6f86eaf93605",
    "deepnote_app_coordinates": {
     "h": 5,
     "w": 12,
     "x": 0,
     "y": 174
    },
    "deepnote_cell_height": 98.984375,
    "deepnote_cell_type": "code",
    "deepnote_to_be_reexecuted": false,
    "execution_millis": 2,
    "execution_start": 1650745887732,
    "source_hash": "310d8d9a",
    "tags": []
   },
   "outputs": [],
   "source": [
    "import datetime\n",
    "date = datetime.date.today().strftime('%Y/%m/%d')"
   ]
  },
  {
   "cell_type": "code",
   "execution_count": null,
   "metadata": {
    "cell_id": "00040-19bcf8a8-c2d4-415b-ba97-5d10bcf19187",
    "deepnote_app_coordinates": {
     "h": 5,
     "w": 12,
     "x": 0,
     "y": 186
    },
    "deepnote_cell_height": 1096.96875,
    "deepnote_cell_type": "code",
    "deepnote_to_be_reexecuted": false,
    "execution_millis": 561689,
    "execution_start": 1650815384042,
    "source_hash": "8365dd99",
    "tags": []
   },
   "outputs": [],
   "source": [
    "# date = datetime.date.today().strftime('%Y%m%d')\n",
    "infer_obj = InferringFeature(originX, originy)\n",
    "for i, name in enumerate(feature_names):\n",
    "    # if i == 0:\n",
    "    #     continue\n",
    "    # if i <2:\n",
    "    #     continue\n",
    "    x_type=''\n",
    "    if i == 0:\n",
    "        capacity = originX[:, 0]\n",
    "        infer_x = np.hstack([np.arange(capacity.min(), capacity.max(), 1000), capacity.max()])\n",
    "        infer_obj.x_coordinate_next = infer_x\n",
    "        infer_y, infer_y_std = infer_obj.infer(eclf, False, x_type='continous', feature_index=i, need_std=True)\n",
    "    else:\n",
    "        if i ==1:\n",
    "            x_type = 'continous'\n",
    "        else:\n",
    "            x_type = 'interval'\n",
    "        infer_y, infer_y_std = infer_obj.infer(eclf, False, x_type=x_type, feature_index=i, need_std=True)\n",
    "        infer_x = infer_obj.get_x_coordinate(feature_index=i, x_type=x_type)\n",
    "    # print(infer_y_std)\n",
    "    save_inferred_results(infer_x, infer_y, i, 'all-feature{}'.format(i+1), std=infer_y_std)"
   ]
  },
  {
   "cell_type": "code",
   "execution_count": null,
   "metadata": {
    "cell_id": "00041-03ab8814-b48a-44d9-89b9-0b5e6605192a",
    "deepnote_cell_height": 538.953125,
    "deepnote_cell_type": "code",
    "deepnote_output_heights": [
     279.984375
    ],
    "deepnote_to_be_reexecuted": false,
    "execution_millis": 277,
    "execution_start": 1650826212768,
    "source_hash": "7dd84c7f",
    "tags": []
   },
   "outputs": [
    {
     "data": {
      "image/png": "[encoded data removed]",
      "text/plain": [
       "<Figure size 432x288 with 1 Axes>"
      ]
     },
     "metadata": {
      "image/png": {
       "height": 278,
       "width": 392
      },
      "needs_background": "light"
     },
     "output_type": "display_data"
    }
   ],
   "source": [
    "feature2 = pd.read_csv('inferred_results_0424_presentation/all-feature1.csv')\n",
    "cols = feature2.columns\n",
    "# plt.plot(x=columns[0], y=cols)\n",
    "# plt.fill_between(feature2[cols[0]], feature2[cols[1]]+feature2['std'], feature2[cols[1]]-feature2['std'], alpha=.3)\n",
    "sns.lineplot(x=cols[0], y=cols[1], data=feature2)\n",
    "# plt.ylim(.4,.8)\n",
    "plt.ylabel('Mean of predicting result P(y = 1)')\n",
    "# plt.xlim(0,0.99)\n",
    "plt.title('How Stadium capacity change the model results')\n",
    "sns.despine()"
   ]
  },
  {
   "cell_type": "code",
   "execution_count": null,
   "metadata": {
    "cell_id": "00042-3a9b532d-778b-47a1-8cb8-7aa1a16bd3e1",
    "deepnote_app_coordinates": {
     "h": 5,
     "w": 12,
     "x": 0,
     "y": 210
    },
    "deepnote_cell_height": 610.953125,
    "deepnote_cell_type": "code",
    "deepnote_output_heights": [
     279.984375
    ],
    "deepnote_to_be_reexecuted": false,
    "execution_millis": 262,
    "execution_start": 1650898223917,
    "source_hash": "694ba5f7",
    "tags": []
   },
   "outputs": [
    {
     "data": {
      "image/png": "[encoded data removed]",
      "text/plain": [
       "<Figure size 432x288 with 1 Axes>"
      ]
     },
     "metadata": {
      "image/png": {
       "height": 278,
       "width": 411
      },
      "needs_background": "light"
     },
     "output_type": "display_data"
    }
   ],
   "source": [
    "feature2 = pd.read_csv('inferred_results_0424_presentation/all-feature2.csv')\n",
    "cols = feature2.columns\n",
    "# plt.plot(x=columns[0], y=cols)\n",
    "# plt.fill_between(feature2[cols[0]], feature2[cols[1]]+feature2['std'], feature2[cols[1]]-feature2['std'], alpha=.3)\n",
    "# datafea\n",
    "feature2[cols[0]] = feature2[cols[0]]*100\n",
    "sns.lineplot(x=cols[0], y=cols[1], data=feature2)\n",
    "# sns.scatterplot(x=cols[0], y=cols[1], data=feature2)\n",
    "# plt.ylim(.4,.9)\n",
    "plt.ylabel('Mean of predicting result P(y = 1)')\n",
    "# plt.xlim(0,0.99)\n",
    "plt.xlim(0,100)\n",
    "plt.title('How home attendance percentages change the model results')\n",
    "sns.despine()"
   ]
  },
  {
   "cell_type": "code",
   "execution_count": null,
   "metadata": {
    "cell_id": "00043-890903d9-07f3-4fab-8308-3216d452ad70",
    "deepnote_app_coordinates": {
     "h": 5,
     "w": 12,
     "x": 0,
     "y": 216
    },
    "deepnote_cell_height": 118.15625,
    "deepnote_cell_type": "code",
    "deepnote_output_heights": [
     21.1875
    ],
    "deepnote_to_be_reexecuted": false,
    "execution_millis": 12,
    "execution_start": 1650746165078,
    "source_hash": "4040b18b",
    "tags": []
   },
   "outputs": [
    {
     "data": {
      "text/plain": [
       "0.08829756835127589"
      ]
     },
     "execution_count": 26,
     "metadata": {},
     "output_type": "execute_result"
    }
   ],
   "source": [
    "feature2.iloc[:, 1].max() - feature2.iloc[:, 1].min()"
   ]
  },
  {
   "cell_type": "code",
   "execution_count": null,
   "metadata": {
    "cell_id": "00044-0a070662-8d31-4d0b-91bc-70ac3d64ccc7",
    "deepnote_app_coordinates": {
     "h": 5,
     "w": 12,
     "x": 0,
     "y": 222
    },
    "deepnote_cell_height": 1157.96875,
    "deepnote_cell_type": "code",
    "deepnote_output_heights": [
     611
    ],
    "deepnote_to_be_reexecuted": false,
    "execution_millis": 4303,
    "execution_start": 1650816627494,
    "source_hash": "fad796fc",
    "tags": []
   },
   "outputs": [
    {
     "data": {
      "image/png": "[encoded data removed]",
      "text/plain": [
       "<Figure size 1296x1728 with 21 Axes>"
      ]
     },
     "metadata": {
      "image/png": {
       "height": 1354,
       "width": 1110
      },
      "needs_background": "light"
     },
     "output_type": "display_data"
    }
   ],
   "source": [
    "from matplotlib.ticker import MaxNLocator\n",
    "\n",
    "number_in_row = 3\n",
    "fig, axes = plt.subplots(7, number_in_row, figsize=(18,24))\n",
    "draw_names = feature_names[2:]\n",
    "for i, name in enumerate(draw_names):\n",
    "    # if i < 2:\n",
    "    #     continue\n",
    "    current_row = (i // number_in_row)\n",
    "    current_i = (i % number_in_row) \n",
    "    # print(current_row, current_i)\n",
    "\n",
    "    file_index = feature_names.tolist().index(name)\n",
    "    # print(file_index)\n",
    "    feature_data = pd.read_csv('inferred_results_0424_presentation/all-feature{}.csv'.format(file_index+1))\n",
    "    cols = feature_data.columns\n",
    "\n",
    "    ax = axes[current_row, current_i]\n",
    "\n",
    "    ax.xaxis.set_major_locator(MaxNLocator(integer=True))\n",
    "    # ax.fill_between(feature_data[cols[0]], feature_data[cols[1]]+feature_data['std'], feature_data[cols[1]]-feature_data['std'], alpha=.3)\n",
    "    sns.lineplot(ax=ax, x=cols[0], y=cols[1], data=feature_data)\n",
    "    sns.scatterplot(ax=ax, x=cols[0], y=cols[1], data=feature_data)\n",
    "    # ax.set_ylim(.6,.5)\n",
    "    ax.set_ylim(.4,.9)\n",
    "    sns.despine()"
   ]
  },
  {
   "cell_type": "markdown",
   "metadata": {
    "cell_id": "00045-4df4600e-23c3-48f1-af7b-74795eb1f070",
    "deepnote_app_coordinates": {
     "h": 5,
     "w": 12,
     "x": 0,
     "y": 228
    },
    "deepnote_cell_type": "text-cell-h3",
    "is_collapsed": false,
    "tags": []
   },
   "source": [
    "### Analysis each club"
   ]
  },
  {
   "cell_type": "code",
   "execution_count": null,
   "metadata": {
    "cell_id": "00046-d351ccd6-6123-4d6e-9fb6-c2e5f082be21",
    "deepnote_app_coordinates": {
     "h": 5,
     "w": 12,
     "x": 0,
     "y": 246
    },
    "deepnote_cell_height": 314.96875,
    "deepnote_cell_type": "code",
    "deepnote_to_be_reexecuted": false,
    "execution_millis": 3254,
    "execution_start": 1650826500901,
    "source_hash": "6c71b3ca",
    "tags": []
   },
   "outputs": [],
   "source": [
    "team_play_times = raw_data.groupby('HomeTeam').count()['X1'].sort_values( ascending=False)\n",
    "\n",
    "\n",
    "f1s, accuracys, team_names =[], [], []\n",
    "for home_team, data in  raw_data.groupby('HomeTeam'):\n",
    "    if len(data) < 20:\n",
    "        continue\n",
    "    x = scal.transform(data.iloc[:, 4:-1].to_numpy())\n",
    "    y = data.iloc[:, -1]\n",
    "    y_pred = eclf.predict(x)\n",
    "    f1s.append(f1_score(y, y_pred))\n",
    "    accuracys.append(accuracy_score(y, y_pred))\n",
    "    team_names.append(home_team)"
   ]
  },
  {
   "cell_type": "code",
   "execution_count": null,
   "metadata": {
    "cell_id": "00047-46b486f6-6630-45dd-be95-b58f3e8f7322",
    "deepnote_app_coordinates": {
     "h": 5,
     "w": 12,
     "x": 0,
     "y": 258
    },
    "deepnote_cell_height": 875.140625,
    "deepnote_cell_type": "code",
    "deepnote_output_heights": [
     21.1875,
     293.984375
    ],
    "deepnote_to_be_reexecuted": false,
    "execution_millis": 361,
    "execution_start": 1650758034847,
    "source_hash": "ef586d8c",
    "tags": []
   },
   "outputs": [
    {
     "data": {
      "text/plain": [
       "[Text(0, 0.5, 'Played numbers')]"
      ]
     },
     "execution_count": 115,
     "metadata": {},
     "output_type": "execute_result"
    },
    {
     "data": {
      "image/png": "[encoded data removed]",
      "text/plain": [
       "<Figure size 432x288 with 2 Axes>"
      ]
     },
     "metadata": {
      "image/png": {
       "height": 292,
       "width": 430
      },
      "needs_background": "light"
     },
     "output_type": "display_data"
    }
   ],
   "source": [
    "evaluates = pd.DataFrame(np.c_[f1s, accuracys], index=team_names, columns=[ 'F1 score','Accuracy'])\n",
    "# sns.lineplot(y = 'F1_score', data=evaluates)\n",
    "\n",
    "evaluates = pd.merge(evaluates, team_play_times, left_index=True, right_index=True)\n",
    "evaluates.rename({'X1':'numbers'}, axis=1, inplace=True)\n",
    "# evaluates.sort_values(by='numbers', ascending=False, inplace=True)\n",
    "evaluates.sort_values(by='F1 score', ascending=False, inplace=True)\n",
    "\n",
    "evaluates.reset_index(inplace=True)\n",
    "sorted_numbers = (evaluates['numbers'] - evaluates['numbers'].min()) / (evaluates['numbers'].max() - evaluates['numbers'].min())\n",
    "evaluates['numbers_normalised'] = sorted_numbers\n",
    "evaluates.rename({'index':'Club Name', 'numbers':'Played numbers'}, axis=1, inplace=True)\n",
    "\n",
    "evaluates['rank'] = rangking_indices = np.array(evaluates.index)+1\n",
    "\n",
    "# ax = sorted_numbers(label='Played numbers')\n",
    "\n",
    "\n",
    "ax = evaluates.plot(x='rank', y = 'F1 score', legend=False, color='r')\n",
    "ax2 = ax.twinx()\n",
    "evaluates.plot(x='rank', y = 'Played numbers', ax=ax2, legend=False, alpha=.7)\n",
    "ax.figure.legend()\n",
    "\n",
    "ax.set(xlabel='Ranking of club in f1 scores', ylabel='F1 score', title='Club performance')\n",
    "ax2.set(ylabel='Played numbers')"
   ]
  },
  {
   "cell_type": "code",
   "execution_count": null,
   "metadata": {
    "cell_id": "00048-7e685c17-2cd3-4d98-ac20-9e63d743dc98",
    "deepnote_cell_height": 174.53125,
    "deepnote_cell_type": "code",
    "deepnote_output_heights": [
     59.5625
    ],
    "deepnote_to_be_reexecuted": false,
    "execution_millis": 7,
    "execution_start": 1650746310210,
    "source_hash": "7c8bc7a7",
    "tags": []
   },
   "outputs": [
    {
     "data": {
      "text/plain": [
       "array([ 1,  2,  3,  4,  5,  6,  7,  8,  9, 10, 11, 12, 13, 14, 15, 16, 17,\n",
       "       18, 19, 20, 21, 22, 23, 24, 25, 26, 27, 28, 29, 30, 31, 32, 33, 34,\n",
       "       35, 36, 37, 38, 39, 40, 41, 42, 43, 44, 45, 46, 47, 48, 49, 50])"
      ]
     },
     "execution_count": 33,
     "metadata": {},
     "output_type": "execute_result"
    }
   ],
   "source": [
    "rangking_indices = np.array(evaluates.index)+1\n",
    "rangking_indices"
   ]
  },
  {
   "cell_type": "code",
   "execution_count": null,
   "metadata": {
    "cell_id": "00049-64d29e3e-e6a2-4b3d-8ec3-52e1a7372d92",
    "deepnote_cell_height": 677.921875,
    "deepnote_cell_type": "code",
    "deepnote_table_loading": false,
    "deepnote_table_state": {
     "filters": [],
     "pageIndex": 0,
     "pageSize": 10,
     "sortBy": []
    },
    "deepnote_to_be_reexecuted": false,
    "execution_millis": 364,
    "execution_start": 1650758104050,
    "source_hash": "ed2da7c6",
    "tags": []
   },
   "outputs": [
    {
     "data": {
      "application/vnd.deepnote.dataframe.v3+json": {
       "column_count": 3,
       "columns": [
        {
         "dtype": "object",
         "name": "Club Name",
         "stats": {
          "categories": [
           {
            "count": 1,
            "name": "manchester-united"
           },
           {
            "count": 1,
            "name": "liverpool-fc"
           },
           {
            "count": 19,
            "name": "19 others"
           }
          ],
          "nan_count": 0,
          "unique_count": 21
         }
        },
        {
         "dtype": "float64",
         "name": "F1 score",
         "stats": {
          "histogram": [
           {
            "bin_end": 0.7568,
            "bin_start": 0.733,
            "count": 2
           },
           {
            "bin_end": 0.7806,
            "bin_start": 0.7568,
            "count": 4
           },
           {
            "bin_end": 0.8044,
            "bin_start": 0.7806,
            "count": 4
           },
           {
            "bin_end": 0.8281999999999999,
            "bin_start": 0.8044,
            "count": 0
           },
           {
            "bin_end": 0.852,
            "bin_start": 0.8281999999999999,
            "count": 3
           },
           {
            "bin_end": 0.8757999999999999,
            "bin_start": 0.852,
            "count": 4
           },
           {
            "bin_end": 0.8996,
            "bin_start": 0.8757999999999999,
            "count": 2
           },
           {
            "bin_end": 0.9234,
            "bin_start": 0.8996,
            "count": 1
           },
           {
            "bin_end": 0.9471999999999999,
            "bin_start": 0.9234,
            "count": 0
           },
           {
            "bin_end": 0.971,
            "bin_start": 0.9471999999999999,
            "count": 1
           }
          ],
          "max": "0.971",
          "min": "0.733",
          "nan_count": 0,
          "unique_count": 19
         }
        },
        {
         "dtype": "int64",
         "name": "Played numbers",
         "stats": {
          "histogram": [
           {
            "bin_end": 29,
            "bin_start": 22,
            "count": 7
           },
           {
            "bin_end": 36,
            "bin_start": 29,
            "count": 1
           },
           {
            "bin_end": 43,
            "bin_start": 36,
            "count": 1
           },
           {
            "bin_end": 50,
            "bin_start": 43,
            "count": 1
           },
           {
            "bin_end": 57,
            "bin_start": 50,
            "count": 2
           },
           {
            "bin_end": 64,
            "bin_start": 57,
            "count": 1
           },
           {
            "bin_end": 71,
            "bin_start": 64,
            "count": 2
           },
           {
            "bin_end": 78,
            "bin_start": 71,
            "count": 2
           },
           {
            "bin_end": 85,
            "bin_start": 78,
            "count": 2
           },
           {
            "bin_end": 92,
            "bin_start": 85,
            "count": 2
           }
          ],
          "max": "92",
          "min": "22",
          "nan_count": 0,
          "unique_count": 19
         }
        },
        {
         "dtype": "int64",
         "name": "_deepnote_index_column"
        }
       ],
       "row_count": 21,
       "rows": [
        {
         "Club Name": "manchester-united",
         "F1 score": 0.971,
         "Played numbers": 90,
         "_deepnote_index_column": 0
        },
        {
         "Club Name": "liverpool-fc",
         "F1 score": 0.902,
         "Played numbers": 92,
         "_deepnote_index_column": 1
        },
        {
         "Club Name": "arsenal-fc",
         "F1 score": 0.887,
         "Played numbers": 71,
         "_deepnote_index_column": 2
        },
        {
         "Club Name": "chelsea-fc",
         "F1 score": 0.883,
         "Played numbers": 69,
         "_deepnote_index_column": 3
        },
        {
         "Club Name": "manchester-city",
         "F1 score": 0.871,
         "Played numbers": 60,
         "_deepnote_index_column": 4
        },
        {
         "Club Name": "everton-fc",
         "F1 score": 0.86,
         "Played numbers": 72,
         "_deepnote_index_column": 5
        },
        {
         "Club Name": "coventry-city",
         "F1 score": 0.857,
         "Played numbers": 27,
         "_deepnote_index_column": 6
        },
        {
         "Club Name": "swansea-city",
         "F1 score": 0.857,
         "Played numbers": 22,
         "_deepnote_index_column": 7
        },
        {
         "Club Name": "newcastle-united",
         "F1 score": 0.842,
         "Played numbers": 81,
         "_deepnote_index_column": 8
        },
        {
         "Club Name": "aston-villa",
         "F1 score": 0.836,
         "Played numbers": 78,
         "_deepnote_index_column": 9
        }
       ]
      },
      "text/html": [
       "<div>\n",
       "<style scoped>\n",
       "    .dataframe tbody tr th:only-of-type {\n",
       "        vertical-align: middle;\n",
       "    }\n",
       "\n",
       "    .dataframe tbody tr th {\n",
       "        vertical-align: top;\n",
       "    }\n",
       "\n",
       "    .dataframe thead th {\n",
       "        text-align: right;\n",
       "    }\n",
       "</style>\n",
       "<table border=\"1\" class=\"dataframe\">\n",
       "  <thead>\n",
       "    <tr style=\"text-align: right;\">\n",
       "      <th></th>\n",
       "      <th>Club Name</th>\n",
       "      <th>F1 score</th>\n",
       "      <th>Played numbers</th>\n",
       "    </tr>\n",
       "  </thead>\n",
       "  <tbody>\n",
       "    <tr>\n",
       "      <th>0</th>\n",
       "      <td>manchester-united</td>\n",
       "      <td>0.971</td>\n",
       "      <td>90</td>\n",
       "    </tr>\n",
       "    <tr>\n",
       "      <th>1</th>\n",
       "      <td>liverpool-fc</td>\n",
       "      <td>0.902</td>\n",
       "      <td>92</td>\n",
       "    </tr>\n",
       "    <tr>\n",
       "      <th>2</th>\n",
       "      <td>arsenal-fc</td>\n",
       "      <td>0.887</td>\n",
       "      <td>71</td>\n",
       "    </tr>\n",
       "    <tr>\n",
       "      <th>3</th>\n",
       "      <td>chelsea-fc</td>\n",
       "      <td>0.883</td>\n",
       "      <td>69</td>\n",
       "    </tr>\n",
       "    <tr>\n",
       "      <th>4</th>\n",
       "      <td>manchester-city</td>\n",
       "      <td>0.871</td>\n",
       "      <td>60</td>\n",
       "    </tr>\n",
       "    <tr>\n",
       "      <th>5</th>\n",
       "      <td>everton-fc</td>\n",
       "      <td>0.860</td>\n",
       "      <td>72</td>\n",
       "    </tr>\n",
       "    <tr>\n",
       "      <th>6</th>\n",
       "      <td>coventry-city</td>\n",
       "      <td>0.857</td>\n",
       "      <td>27</td>\n",
       "    </tr>\n",
       "    <tr>\n",
       "      <th>7</th>\n",
       "      <td>swansea-city</td>\n",
       "      <td>0.857</td>\n",
       "      <td>22</td>\n",
       "    </tr>\n",
       "    <tr>\n",
       "      <th>8</th>\n",
       "      <td>newcastle-united</td>\n",
       "      <td>0.842</td>\n",
       "      <td>81</td>\n",
       "    </tr>\n",
       "    <tr>\n",
       "      <th>9</th>\n",
       "      <td>aston-villa</td>\n",
       "      <td>0.836</td>\n",
       "      <td>78</td>\n",
       "    </tr>\n",
       "    <tr>\n",
       "      <th>10</th>\n",
       "      <td>tottenham-hotspur</td>\n",
       "      <td>0.832</td>\n",
       "      <td>69</td>\n",
       "    </tr>\n",
       "    <tr>\n",
       "      <th>11</th>\n",
       "      <td>wigan-athletic</td>\n",
       "      <td>0.800</td>\n",
       "      <td>25</td>\n",
       "    </tr>\n",
       "    <tr>\n",
       "      <th>12</th>\n",
       "      <td>leeds-united</td>\n",
       "      <td>0.800</td>\n",
       "      <td>45</td>\n",
       "    </tr>\n",
       "    <tr>\n",
       "      <th>13</th>\n",
       "      <td>bolton-wanderers</td>\n",
       "      <td>0.792</td>\n",
       "      <td>35</td>\n",
       "    </tr>\n",
       "    <tr>\n",
       "      <th>14</th>\n",
       "      <td>birmingham-city</td>\n",
       "      <td>0.788</td>\n",
       "      <td>22</td>\n",
       "    </tr>\n",
       "    <tr>\n",
       "      <th>15</th>\n",
       "      <td>sunderland-afc</td>\n",
       "      <td>0.778</td>\n",
       "      <td>51</td>\n",
       "    </tr>\n",
       "    <tr>\n",
       "      <th>16</th>\n",
       "      <td>stoke-city</td>\n",
       "      <td>0.769</td>\n",
       "      <td>26</td>\n",
       "    </tr>\n",
       "    <tr>\n",
       "      <th>17</th>\n",
       "      <td>fulham-fc</td>\n",
       "      <td>0.765</td>\n",
       "      <td>52</td>\n",
       "    </tr>\n",
       "    <tr>\n",
       "      <th>18</th>\n",
       "      <td>norwich-city</td>\n",
       "      <td>0.759</td>\n",
       "      <td>24</td>\n",
       "    </tr>\n",
       "    <tr>\n",
       "      <th>19</th>\n",
       "      <td>middlesbrough-fc</td>\n",
       "      <td>0.742</td>\n",
       "      <td>41</td>\n",
       "    </tr>\n",
       "    <tr>\n",
       "      <th>20</th>\n",
       "      <td>derby-county</td>\n",
       "      <td>0.733</td>\n",
       "      <td>23</td>\n",
       "    </tr>\n",
       "  </tbody>\n",
       "</table>\n",
       "</div>"
      ],
      "text/plain": [
       "            Club Name  F1 score  Played numbers\n",
       "0   manchester-united     0.971              90\n",
       "1        liverpool-fc     0.902              92\n",
       "2          arsenal-fc     0.887              71\n",
       "3          chelsea-fc     0.883              69\n",
       "4     manchester-city     0.871              60\n",
       "5          everton-fc     0.860              72\n",
       "6       coventry-city     0.857              27\n",
       "7        swansea-city     0.857              22\n",
       "8    newcastle-united     0.842              81\n",
       "9         aston-villa     0.836              78\n",
       "10  tottenham-hotspur     0.832              69\n",
       "11     wigan-athletic     0.800              25\n",
       "12       leeds-united     0.800              45\n",
       "13   bolton-wanderers     0.792              35\n",
       "14    birmingham-city     0.788              22\n",
       "15     sunderland-afc     0.778              51\n",
       "16         stoke-city     0.769              26\n",
       "17          fulham-fc     0.765              52\n",
       "18       norwich-city     0.759              24\n",
       "19   middlesbrough-fc     0.742              41\n",
       "20       derby-county     0.733              23"
      ]
     },
     "execution_count": 117,
     "metadata": {},
     "output_type": "execute_result"
    }
   ],
   "source": [
    "showing = evaluates.copy()\n",
    "showing['F1 score'] = np.round(showing['F1 score'], 3)\n",
    "showing = showing[showing['Played numbers'] > 20]\n",
    "showing[['Club Name', 'F1 score', 'Played numbers']].head(21)"
   ]
  },
  {
   "cell_type": "markdown",
   "metadata": {
    "cell_id": "00050-a500a8b6-7c68-4e68-a23c-07a8a2337eb8",
    "deepnote_app_coordinates": {
     "h": 5,
     "w": 12,
     "x": 0,
     "y": 264
    },
    "deepnote_cell_type": "text-cell-h3",
    "is_collapsed": false,
    "tags": []
   },
   "source": [
    "### Split by playground"
   ]
  },
  {
   "cell_type": "code",
   "execution_count": null,
   "metadata": {
    "cell_id": "cd709abb94544974beed40634abea202",
    "deepnote_cell_height": 229.40625,
    "deepnote_cell_type": "code",
    "deepnote_to_be_reexecuted": false,
    "execution_millis": 429495,
    "execution_start": 1650810972005,
    "source_hash": "4d66299f",
    "tags": []
   },
   "outputs": [],
   "source": [
    "condition = originX[:, 0] < 30000\n",
    "inferring2(condition, name=\"lt30000\", origin_x=originX, origin_y=originy)"
   ]
  },
  {
   "cell_type": "code",
   "execution_count": null,
   "metadata": {
    "cell_id": "d5b2fe0a8434464a9d8f9465970a3c4b",
    "deepnote_cell_height": 153.90625,
    "deepnote_cell_type": "code",
    "deepnote_to_be_reexecuted": false,
    "execution_millis": 184365,
    "execution_start": 1650811620540,
    "source_hash": "123340ca",
    "tags": []
   },
   "outputs": [],
   "source": [
    "condition3 = originX[:, 0] > 50000\n",
    "inferring2(condition3, name=\"gt50000\", origin_x=originX, origin_y=originy)"
   ]
  },
  {
   "cell_type": "code",
   "execution_count": null,
   "metadata": {
    "cell_id": "57142d854d29432f8a1c475bebe148a3",
    "deepnote_cell_height": 153.90625,
    "deepnote_cell_type": "code",
    "deepnote_to_be_reexecuted": false,
    "execution_millis": 373553,
    "execution_start": 1650811894353,
    "source_hash": "2ce9eb1f",
    "tags": []
   },
   "outputs": [],
   "source": [
    "condition2 = (originX[:, 0] >= 30000) & (originX[:, 0] < 50000)\n",
    "inferring2(condition2, name=\"lt50000\", origin_x=originX, origin_y=originy)"
   ]
  },
  {
   "cell_type": "code",
   "execution_count": null,
   "metadata": {
    "cell_id": "9b345d60e1934df483fccc128a95b9d8",
    "deepnote_cell_height": 717.140625,
    "deepnote_cell_type": "code",
    "deepnote_output_heights": [
     21.1875,
     279.984375
    ],
    "deepnote_to_be_reexecuted": false,
    "execution_millis": 474,
    "execution_start": 1650812267906,
    "source_hash": "caa70737",
    "tags": []
   },
   "outputs": [
    {
     "data": {
      "text/plain": [
       "<matplotlib.legend.Legend at 0x7f9558a56690>"
      ]
     },
     "execution_count": 19,
     "metadata": {},
     "output_type": "execute_result"
    },
    {
     "data": {
      "image/png": "[encoded data removed]",
      "text/plain": [
       "<Figure size 432x288 with 1 Axes>"
      ]
     },
     "metadata": {
      "image/png": {
       "height": 278,
       "width": 392
      },
      "needs_background": "light"
     },
     "output_type": "display_data"
    }
   ],
   "source": [
    "d2 = pd.read_csv('/work/inferred_results_0424_presentation/playground-gt50000-attendance.csv')\n",
    "cols1 = d2.columns\n",
    "sns.lineplot(x=cols1[0], y=cols1[1], data=d2, label='>50k')\n",
    "\n",
    "d3 = pd.read_csv('/work/inferred_results_0424_presentation/playground-lt30000-attendance.csv')\n",
    "cols1 = d3.columns\n",
    "sns.lineplot(x=cols1[0], y=cols1[1], data=d3, label='<30k')\n",
    "d3 = pd.read_csv('/work/inferred_results_0424_presentation/playground-lt50000-attendance.csv')\n",
    "cols1 = d3.columns\n",
    "sns.lineplot(x=cols1[0], y=cols1[1], data=d3, label='30k -50k')\n",
    "plt.ylim(.62,.74)\n",
    "plt.xlabel('Home Attendance Percentage')\n",
    "plt.ylabel('Mean of predicting result P(y = 1)')\n",
    "plt.xlim(0,0.98)\n",
    "plt.title('Classification for capacity')\n",
    "sns.despine()\n",
    "plt.legend()"
   ]
  },
  {
   "cell_type": "markdown",
   "metadata": {
    "cell_id": "00056-d2efcf6b-baef-406d-b1d1-af7e4980bdcd",
    "deepnote_cell_type": "text-cell-h3",
    "is_collapsed": false,
    "tags": []
   },
   "source": [
    "### Strengthen"
   ]
  },
  {
   "cell_type": "code",
   "execution_count": null,
   "metadata": {
    "cell_id": "92dc2b0d6b1d4f7794aee4a2386e895a",
    "deepnote_cell_height": 229.40625,
    "deepnote_cell_type": "code",
    "deepnote_to_be_reexecuted": false,
    "execution_millis": 372476,
    "execution_start": 1650813045161,
    "source_hash": "d19074b",
    "tags": []
   },
   "outputs": [
    {
     "name": "stderr",
     "output_type": "stream",
     "text": [
      "/shared-libs/python3.7/py-core/lib/python3.7/site-packages/ipykernel_launcher.py:10: FutureWarning: elementwise comparison failed; returning scalar instead, but in the future will perform elementwise comparison\n",
      "  # Remove the CWD from sys.path while we load stuff.\n",
      "/shared-libs/python3.7/py-core/lib/python3.7/site-packages/ipykernel_launcher.py:10: FutureWarning: elementwise comparison failed; returning scalar instead, but in the future will perform elementwise comparison\n",
      "  # Remove the CWD from sys.path while we load stuff.\n"
     ]
    }
   ],
   "source": [
    "condition4 = originX[:, 4]< 5\n",
    "inferring2(condition4, 'topteam', origin_x=originX, origin_y=originy)\n",
    "condition5 = originX[:, 4]> 15\n",
    "inferring2(condition5, 'smallteam', origin_x=originX, origin_y=originy)"
   ]
  },
  {
   "cell_type": "code",
   "execution_count": null,
   "metadata": {
    "cell_id": "9ab083bdcd9e4443a09b8c7e73b96f2d",
    "deepnote_cell_height": 610.953125,
    "deepnote_cell_type": "code",
    "deepnote_output_heights": [
     279.984375
    ],
    "deepnote_to_be_reexecuted": false,
    "execution_millis": 524,
    "execution_start": 1650813417661,
    "source_hash": "da0238ea",
    "tags": []
   },
   "outputs": [
    {
     "data": {
      "image/png": "[encoded data removed]",
      "text/plain": [
       "<Figure size 432x288 with 1 Axes>"
      ]
     },
     "metadata": {
      "image/png": {
       "height": 278,
       "width": 398
      },
      "needs_background": "light"
     },
     "output_type": "display_data"
    }
   ],
   "source": [
    "d4 = pd.read_csv('/work/inferred_results_0424_presentation/playground-topteam-attendance.csv')\n",
    "cols1 = d4.columns\n",
    "sns.lineplot(x=cols1[0], y=cols1[1], data=d4, label='top team')\n",
    "\n",
    "d5 = pd.read_csv('/work/inferred_results_0424_presentation/playground-smallteam-attendance.csv')\n",
    "cols2 = d5.columns\n",
    "sns.lineplot(x=cols2[0], y=cols2[1], data=d5, label='small team')\n",
    "\n",
    "plt.ylim(.57,.75)\n",
    "plt.xlabel('Home Attendance Percentage')\n",
    "plt.ylabel('Mean of predicting result P(y = 1)')\n",
    "plt.xlim(0,0.98)\n",
    "plt.title('Classification for team strength')\n",
    "sns.despine()"
   ]
  },
  {
   "cell_type": "code",
   "execution_count": null,
   "metadata": {
    "cell_id": "7d8ec2e5321b45079a48d2cfddd5142d",
    "deepnote_cell_height": 171.90625,
    "deepnote_cell_type": "code",
    "deepnote_to_be_reexecuted": false,
    "execution_millis": 28458,
    "execution_start": 1650760026351,
    "source_hash": "5a030755",
    "tags": []
   },
   "outputs": [
    {
     "name": "stderr",
     "output_type": "stream",
     "text": [
      "/shared-libs/python3.7/py-core/lib/python3.7/site-packages/ipykernel_launcher.py:10: FutureWarning: elementwise comparison failed; returning scalar instead, but in the future will perform elementwise comparison\n",
      "  # Remove the CWD from sys.path while we load stuff.\n"
     ]
    }
   ],
   "source": [
    "dd = pd.to_datetime(raw_data['Date'])\n",
    "cc = dd > np.datetime64('2017-01-01')\n",
    "inferring2(cc, 'last5y')"
   ]
  },
  {
   "cell_type": "code",
   "execution_count": null,
   "metadata": {
    "cell_id": "27ae6b46348a4fdb83d586af5f43a28c",
    "deepnote_cell_height": 592.953125,
    "deepnote_cell_type": "code",
    "deepnote_output_heights": [
     279.984375
    ],
    "deepnote_to_be_reexecuted": false,
    "execution_millis": 307,
    "execution_start": 1650826546168,
    "source_hash": "854ebd50",
    "tags": []
   },
   "outputs": [
    {
     "data": {
      "image/png": "[encoded data removed]",
      "text/plain": [
       "<Figure size 432x288 with 1 Axes>"
      ]
     },
     "metadata": {
      "image/png": {
       "height": 278,
       "width": 401
      },
      "needs_background": "light"
     },
     "output_type": "display_data"
    }
   ],
   "source": [
    "d6 = pd.read_csv('/work/inferred_results_0424_presentation/playground-covid_period-attendance.csv')\n",
    "cols3 = d6.columns\n",
    "sns.lineplot(x=d6[cols3[0]]*100, y=cols3[1], data=d6, label='Covid_period')\n",
    "\n",
    "# plt.ylim(.57,.75)\n",
    "plt.plot(0, raw_data[raw_data['X2'] == 0]['Y'].mean(), 'r.', label='Real')\n",
    "plt.xlabel('Home Attendance Percentage')\n",
    "plt.ylabel('Mean of predicting result P(y = 1)')\n",
    "plt.xlim(-5,100)\n",
    "plt.ylim(.6, .75)\n",
    "plt.title('Classification for Covid perid')\n",
    "plt.legend()\n",
    "sns.despine()"
   ]
  },
  {
   "cell_type": "code",
   "execution_count": null,
   "metadata": {
    "cell_id": "00075-5c3a564a-dc5f-401d-90c4-58fdf3a18998",
    "deepnote_cell_height": 435.734375,
    "deepnote_cell_type": "code",
    "deepnote_to_be_reexecuted": false,
    "execution_millis": 21,
    "execution_start": 1650747061169,
    "source_hash": "9139e101",
    "tags": []
   },
   "outputs": [],
   "source": [
    "condition = (raw_data['X2'] == 0) & (raw_data['Y'] == 0)\n",
    "inferring(condition, 'covid_periody0', )\n",
    "\n",
    "originX2 = originX[condition]\n",
    "originy2 = originyition]\n",
    "\n",
    "infer_obj = InferringFeature(originX2, originy2)\n",
    "infer_obj.x_coordinate_next = np.arange(0, originX[:, 1].max(), .01)\n",
    "infer_y = infer_obj.infer(eclf, False, feature_index=1, x_type='continous')\n",
    "infer_x = np.arange(0, originX[:, 1].max(), .01)\n",
    "\n",
    "capacity = originX2[:, 0]\n",
    "save_inferred_results(infer_x, infer_y, 1, 'playground-{}-attendance'.format('covid_periody0'))\n"
   ]
  },
  {
   "cell_type": "code",
   "execution_count": null,
   "metadata": {
    "cell_id": "00076-ed259de0-5745-4b2e-811d-305c1a6febc2",
    "deepnote_cell_height": 296.96875,
    "deepnote_cell_type": "code",
    "deepnote_to_be_reexecuted": true,
    "source_hash": "cad1319b",
    "tags": []
   },
   "outputs": [],
   "source": [
    "d6 = pd.read_csv('/work/inferred_results_0424_presentation/playground-covid_periody0-attendance.csv')\n",
    "cols3 = d6.columns\n",
    "sns.lineplot(x=cols3[0], y=cols3[1], data=d6, label='Covid_period')\n",
    "\n",
    "# plt.ylim(.57,.75)\n",
    "plt.plot(0, raw_data[raw_data['X2'] == 0]['Y'].mean(), 'r.', label='Real')\n",
    "plt.xlabel('Home Attendance Percentage')\n",
    "plt.ylabel('Mean of predicting result P(y = 1)')\n",
    "plt.xlim(-.05, 0.99)\n",
    "plt.ylim(.6, .75)\n",
    "plt.title('Classification for Covid perid')\n",
    "plt.legend()\n",
    "sns.despine()"
   ]
  },
  {
   "cell_type": "code",
   "execution_count": null,
   "metadata": {
    "cell_id": "ef9f386cd2b449ffb694a036ffb6e057",
    "deepnote_cell_height": 656.84375,
    "deepnote_cell_type": "code",
    "deepnote_output_heights": [
     397.875
    ],
    "deepnote_to_be_reexecuted": false,
    "execution_millis": 3341032,
    "execution_start": 1650802485165,
    "source_hash": "17a12935",
    "tags": []
   },
   "outputs": [
    {
     "data": {
      "text/html": [
       "\n",
       "    <style>\n",
       "    table.eli5-weights tr:hover {\n",
       "        filter: brightness(85%);\n",
       "    }\n",
       "</style>\n",
       "\n",
       "\n",
       "\n",
       "    \n",
       "\n",
       "    \n",
       "\n",
       "    \n",
       "\n",
       "    \n",
       "\n",
       "    \n",
       "\n",
       "    \n",
       "\n",
       "\n",
       "    \n",
       "\n",
       "    \n",
       "\n",
       "    \n",
       "\n",
       "    \n",
       "\n",
       "    \n",
       "\n",
       "    \n",
       "\n",
       "\n",
       "    \n",
       "\n",
       "    \n",
       "\n",
       "    \n",
       "\n",
       "    \n",
       "\n",
       "    \n",
       "        <table class=\"eli5-weights eli5-feature-importances\" style=\"border-collapse: collapse; border: none; margin-top: 0em; table-layout: auto;\">\n",
       "    <thead>\n",
       "    <tr style=\"border: none;\">\n",
       "        <th style=\"padding: 0 1em 0 0.5em; text-align: right; border: none;\">Weight</th>\n",
       "        <th style=\"padding: 0 0.5em 0 0.5em; text-align: left; border: none;\">Feature</th>\n",
       "    </tr>\n",
       "    </thead>\n",
       "    <tbody>\n",
       "    \n",
       "        <tr style=\"background-color: hsl(120, 100.00%, 80.00%); border: none;\">\n",
       "            <td style=\"padding: 0 1em 0 0.5em; text-align: right; border: none;\">\n",
       "                0.1043\n",
       "                \n",
       "                    &plusmn; 0.0025\n",
       "                \n",
       "            </td>\n",
       "            <td style=\"padding: 0 0.5em 0 0.5em; text-align: left; border: none;\">\n",
       "                X6\n",
       "            </td>\n",
       "        </tr>\n",
       "    \n",
       "        <tr style=\"background-color: hsl(120, 100.00%, 82.20%); border: none;\">\n",
       "            <td style=\"padding: 0 1em 0 0.5em; text-align: right; border: none;\">\n",
       "                0.0883\n",
       "                \n",
       "                    &plusmn; 0.0017\n",
       "                \n",
       "            </td>\n",
       "            <td style=\"padding: 0 0.5em 0 0.5em; text-align: left; border: none;\">\n",
       "                X4\n",
       "            </td>\n",
       "        </tr>\n",
       "    \n",
       "        <tr style=\"background-color: hsl(120, 100.00%, 82.92%); border: none;\">\n",
       "            <td style=\"padding: 0 1em 0 0.5em; text-align: right; border: none;\">\n",
       "                0.0833\n",
       "                \n",
       "                    &plusmn; 0.0019\n",
       "                \n",
       "            </td>\n",
       "            <td style=\"padding: 0 0.5em 0 0.5em; text-align: left; border: none;\">\n",
       "                X5\n",
       "            </td>\n",
       "        </tr>\n",
       "    \n",
       "        <tr style=\"background-color: hsl(120, 100.00%, 83.46%); border: none;\">\n",
       "            <td style=\"padding: 0 1em 0 0.5em; text-align: right; border: none;\">\n",
       "                0.0795\n",
       "                \n",
       "                    &plusmn; 0.0022\n",
       "                \n",
       "            </td>\n",
       "            <td style=\"padding: 0 0.5em 0 0.5em; text-align: left; border: none;\">\n",
       "                X3\n",
       "            </td>\n",
       "        </tr>\n",
       "    \n",
       "        <tr style=\"background-color: hsl(120, 100.00%, 83.85%); border: none;\">\n",
       "            <td style=\"padding: 0 1em 0 0.5em; text-align: right; border: none;\">\n",
       "                0.0769\n",
       "                \n",
       "                    &plusmn; 0.0017\n",
       "                \n",
       "            </td>\n",
       "            <td style=\"padding: 0 0.5em 0 0.5em; text-align: left; border: none;\">\n",
       "                X1\n",
       "            </td>\n",
       "        </tr>\n",
       "    \n",
       "        <tr style=\"background-color: hsl(120, 100.00%, 84.43%); border: none;\">\n",
       "            <td style=\"padding: 0 1em 0 0.5em; text-align: right; border: none;\">\n",
       "                0.0730\n",
       "                \n",
       "                    &plusmn; 0.0014\n",
       "                \n",
       "            </td>\n",
       "            <td style=\"padding: 0 0.5em 0 0.5em; text-align: left; border: none;\">\n",
       "                X21\n",
       "            </td>\n",
       "        </tr>\n",
       "    \n",
       "        <tr style=\"background-color: hsl(120, 100.00%, 84.63%); border: none;\">\n",
       "            <td style=\"padding: 0 1em 0 0.5em; text-align: right; border: none;\">\n",
       "                0.0716\n",
       "                \n",
       "                    &plusmn; 0.0014\n",
       "                \n",
       "            </td>\n",
       "            <td style=\"padding: 0 0.5em 0 0.5em; text-align: left; border: none;\">\n",
       "                X2\n",
       "            </td>\n",
       "        </tr>\n",
       "    \n",
       "        <tr style=\"background-color: hsl(120, 100.00%, 84.78%); border: none;\">\n",
       "            <td style=\"padding: 0 1em 0 0.5em; text-align: right; border: none;\">\n",
       "                0.0706\n",
       "                \n",
       "                    &plusmn; 0.0014\n",
       "                \n",
       "            </td>\n",
       "            <td style=\"padding: 0 0.5em 0 0.5em; text-align: left; border: none;\">\n",
       "                X22\n",
       "            </td>\n",
       "        </tr>\n",
       "    \n",
       "        <tr style=\"background-color: hsl(120, 100.00%, 85.48%); border: none;\">\n",
       "            <td style=\"padding: 0 1em 0 0.5em; text-align: right; border: none;\">\n",
       "                0.0660\n",
       "                \n",
       "                    &plusmn; 0.0022\n",
       "                \n",
       "            </td>\n",
       "            <td style=\"padding: 0 0.5em 0 0.5em; text-align: left; border: none;\">\n",
       "                X18\n",
       "            </td>\n",
       "        </tr>\n",
       "    \n",
       "        <tr style=\"background-color: hsl(120, 100.00%, 85.88%); border: none;\">\n",
       "            <td style=\"padding: 0 1em 0 0.5em; text-align: right; border: none;\">\n",
       "                0.0634\n",
       "                \n",
       "                    &plusmn; 0.0018\n",
       "                \n",
       "            </td>\n",
       "            <td style=\"padding: 0 0.5em 0 0.5em; text-align: left; border: none;\">\n",
       "                X19\n",
       "            </td>\n",
       "        </tr>\n",
       "    \n",
       "        <tr style=\"background-color: hsl(120, 100.00%, 85.96%); border: none;\">\n",
       "            <td style=\"padding: 0 1em 0 0.5em; text-align: right; border: none;\">\n",
       "                0.0629\n",
       "                \n",
       "                    &plusmn; 0.0018\n",
       "                \n",
       "            </td>\n",
       "            <td style=\"padding: 0 0.5em 0 0.5em; text-align: left; border: none;\">\n",
       "                X20\n",
       "            </td>\n",
       "        </tr>\n",
       "    \n",
       "        <tr style=\"background-color: hsl(120, 100.00%, 86.11%); border: none;\">\n",
       "            <td style=\"padding: 0 1em 0 0.5em; text-align: right; border: none;\">\n",
       "                0.0620\n",
       "                \n",
       "                    &plusmn; 0.0015\n",
       "                \n",
       "            </td>\n",
       "            <td style=\"padding: 0 0.5em 0 0.5em; text-align: left; border: none;\">\n",
       "                X17\n",
       "            </td>\n",
       "        </tr>\n",
       "    \n",
       "        <tr style=\"background-color: hsl(120, 100.00%, 86.59%); border: none;\">\n",
       "            <td style=\"padding: 0 1em 0 0.5em; text-align: right; border: none;\">\n",
       "                0.0589\n",
       "                \n",
       "                    &plusmn; 0.0017\n",
       "                \n",
       "            </td>\n",
       "            <td style=\"padding: 0 0.5em 0 0.5em; text-align: left; border: none;\">\n",
       "                X13\n",
       "            </td>\n",
       "        </tr>\n",
       "    \n",
       "        <tr style=\"background-color: hsl(120, 100.00%, 86.69%); border: none;\">\n",
       "            <td style=\"padding: 0 1em 0 0.5em; text-align: right; border: none;\">\n",
       "                0.0583\n",
       "                \n",
       "                    &plusmn; 0.0015\n",
       "                \n",
       "            </td>\n",
       "            <td style=\"padding: 0 0.5em 0 0.5em; text-align: left; border: none;\">\n",
       "                X12\n",
       "            </td>\n",
       "        </tr>\n",
       "    \n",
       "        <tr style=\"background-color: hsl(120, 100.00%, 86.80%); border: none;\">\n",
       "            <td style=\"padding: 0 1em 0 0.5em; text-align: right; border: none;\">\n",
       "                0.0576\n",
       "                \n",
       "                    &plusmn; 0.0021\n",
       "                \n",
       "            </td>\n",
       "            <td style=\"padding: 0 0.5em 0 0.5em; text-align: left; border: none;\">\n",
       "                X11\n",
       "            </td>\n",
       "        </tr>\n",
       "    \n",
       "        <tr style=\"background-color: hsl(120, 100.00%, 86.93%); border: none;\">\n",
       "            <td style=\"padding: 0 1em 0 0.5em; text-align: right; border: none;\">\n",
       "                0.0568\n",
       "                \n",
       "                    &plusmn; 0.0022\n",
       "                \n",
       "            </td>\n",
       "            <td style=\"padding: 0 0.5em 0 0.5em; text-align: left; border: none;\">\n",
       "                X7\n",
       "            </td>\n",
       "        </tr>\n",
       "    \n",
       "        <tr style=\"background-color: hsl(120, 100.00%, 86.94%); border: none;\">\n",
       "            <td style=\"padding: 0 1em 0 0.5em; text-align: right; border: none;\">\n",
       "                0.0567\n",
       "                \n",
       "                    &plusmn; 0.0028\n",
       "                \n",
       "            </td>\n",
       "            <td style=\"padding: 0 0.5em 0 0.5em; text-align: left; border: none;\">\n",
       "                X8\n",
       "            </td>\n",
       "        </tr>\n",
       "    \n",
       "        <tr style=\"background-color: hsl(120, 100.00%, 86.95%); border: none;\">\n",
       "            <td style=\"padding: 0 1em 0 0.5em; text-align: right; border: none;\">\n",
       "                0.0566\n",
       "                \n",
       "                    &plusmn; 0.0020\n",
       "                \n",
       "            </td>\n",
       "            <td style=\"padding: 0 0.5em 0 0.5em; text-align: left; border: none;\">\n",
       "                X16\n",
       "            </td>\n",
       "        </tr>\n",
       "    \n",
       "        <tr style=\"background-color: hsl(120, 100.00%, 87.03%); border: none;\">\n",
       "            <td style=\"padding: 0 1em 0 0.5em; text-align: right; border: none;\">\n",
       "                0.0561\n",
       "                \n",
       "                    &plusmn; 0.0027\n",
       "                \n",
       "            </td>\n",
       "            <td style=\"padding: 0 0.5em 0 0.5em; text-align: left; border: none;\">\n",
       "                X14\n",
       "            </td>\n",
       "        </tr>\n",
       "    \n",
       "        <tr style=\"background-color: hsl(120, 100.00%, 87.08%); border: none;\">\n",
       "            <td style=\"padding: 0 1em 0 0.5em; text-align: right; border: none;\">\n",
       "                0.0558\n",
       "                \n",
       "                    &plusmn; 0.0017\n",
       "                \n",
       "            </td>\n",
       "            <td style=\"padding: 0 0.5em 0 0.5em; text-align: left; border: none;\">\n",
       "                X15\n",
       "            </td>\n",
       "        </tr>\n",
       "    \n",
       "    \n",
       "        \n",
       "            <tr style=\"background-color: hsl(120, 100.00%, 87.08%); border: none;\">\n",
       "                <td colspan=\"2\" style=\"padding: 0 0.5em 0 0.5em; text-align: center; border: none; white-space: nowrap;\">\n",
       "                    <i>&hellip; 2 more &hellip;</i>\n",
       "                </td>\n",
       "            </tr>\n",
       "        \n",
       "    \n",
       "    </tbody>\n",
       "</table>\n",
       "    \n",
       "\n",
       "    \n",
       "\n",
       "\n",
       "    \n",
       "\n",
       "    \n",
       "\n",
       "    \n",
       "\n",
       "    \n",
       "\n",
       "    \n",
       "\n",
       "    \n",
       "\n",
       "\n",
       "\n"
      ],
      "text/plain": [
       "<IPython.core.display.HTML object>"
      ]
     },
     "execution_count": 9,
     "metadata": {},
     "output_type": "execute_result"
    }
   ],
   "source": [
    "import eli5\n",
    "from eli5.sklearn import PermutationImportance\n",
    "  \n",
    "# create permutation importance object using model\n",
    "perm4 = PermutationImportance(eclf, random_state=2, n_iter=20, scoring='f1').fit(X, y)\n",
    "\n",
    "\n",
    "# display weights using PermutationImportance object\n",
    "eli5.show_weights(perm4, feature_names = feature_name_list)"
   ]
  },
  {
   "cell_type": "code",
   "execution_count": null,
   "metadata": {
    "cell_id": "fd0d5b49a78644a0a21cf8d53f671547",
    "deepnote_cell_height": 501.140625,
    "deepnote_cell_type": "code",
    "deepnote_output_heights": [
     21.1875,
     279.984375
    ],
    "deepnote_to_be_reexecuted": false,
    "execution_millis": 339,
    "execution_start": 1650805826243,
    "source_hash": "1ab2efdb",
    "tags": []
   },
   "outputs": [
    {
     "data": {
      "text/plain": [
       "Text(0.5, 1.0, 'Permutation importance')"
      ]
     },
     "execution_count": 10,
     "metadata": {},
     "output_type": "execute_result"
    },
    {
     "data": {
      "image/png": "[encoded data removed]",
      "text/plain": [
       "<Figure size 432x288 with 1 Axes>"
      ]
     },
     "metadata": {
      "image/png": {
       "height": 278,
       "width": 389
      },
      "needs_background": "light"
     },
     "output_type": "display_data"
    }
   ],
   "source": [
    "pi_df4 = eli5.explain_weights_df(perm4, feature_names = feature_name_list)\n",
    "pi_df4.to_csv('permutation_importance_f1.csv', index=False)\n",
    "sns.barplot(x='weight', y='feature', data=pi_df4)\n",
    "sns.despine()\n",
    "plt.title('Permutation importance')"
   ]
  },
  {
   "cell_type": "code",
   "execution_count": null,
   "metadata": {
    "cell_id": "609c6c3f58d34961a5580b4adb435ac3",
    "deepnote_cell_height": 208.15625,
    "deepnote_cell_type": "code",
    "deepnote_output_heights": [
     21.1875
    ],
    "deepnote_to_be_reexecuted": false,
    "execution_millis": 35,
    "execution_start": 1650763786413,
    "source_hash": "1bbb923",
    "tags": []
   },
   "outputs": [
    {
     "data": {
      "text/plain": [
       "0.8"
      ]
     },
     "execution_count": 158,
     "metadata": {},
     "output_type": "execute_result"
    }
   ],
   "source": [
    "futures = pd.read_csv('/home/jovyan/work/demostration/datasets/future.csv')\n",
    "futures_X, futures_y = split_Xy(futures)\n",
    "futures_X = scal.fit_transform(futures_X)\n",
    "# eclf.predict()\n",
    "# futures_X.shape\n",
    "f1_score(futures_y, eclf.predict(futures_X))"
   ]
  },
  {
   "cell_type": "code",
   "execution_count": null,
   "metadata": {
    "cell_id": "72f03f977c4b470592ce8054ebc8b003",
    "deepnote_cell_height": 482.8125,
    "deepnote_cell_type": "code",
    "deepnote_output_heights": [
     385.84375
    ],
    "deepnote_to_be_reexecuted": false,
    "execution_millis": 2,
    "execution_start": 1650768559530,
    "source_hash": "efd57022",
    "tags": []
   },
   "outputs": [
    {
     "data": {
      "text/plain": [
       "array(['Capacity of the stadium', 'Home attendance percentage',\n",
       "       'Current ranking of home teams', 'Current ranking of away teams',\n",
       "       'Ranking of home teams in the last season',\n",
       "       'Ranking of away teams in the last season',\n",
       "       'Result of the 1st match in the last 5 Premier League matches of home teams',\n",
       "       'Result of the 2nd match in the last 5 Premier League matches of home teams',\n",
       "       'Result of the 3rd match in the last 5 Premier League matches of home teams',\n",
       "       'Result of the 4th match in the last 5 Premier League matches of home teams',\n",
       "       'Result of the 5th match in the last 5 Premier League matches of home teams',\n",
       "       'Result of the 1st match in the last 5 Premier League matches of away teams',\n",
       "       'Result of the 2nd match in the last 5 Premier League matches of away teams',\n",
       "       'Result of the 3rd match in the last 5 Premier League matches of away teams',\n",
       "       'Result of the 4th match in the last 5 Premier League matches of away teams',\n",
       "       'Result of the 5th match in the last 5 Premier League matches of away teams',\n",
       "       'GF of home teams in the last 5 Premier League matches of current season',\n",
       "       'GF of away teams in the last 5 Premier League matches of current season',\n",
       "       'GA of home teams in the last 5 Premier League matches of current season',\n",
       "       'GF of away teams in the last 5 Premier League matches of current season',\n",
       "       'Results of the last 4 matches for home teams played against away teams',\n",
       "       'How many matches of home teams have been played'], dtype=object)"
      ]
     },
     "execution_count": 212,
     "metadata": {},
     "output_type": "execute_result"
    }
   ],
   "source": [
    "feature_names"
   ]
  },
  {
   "cell_type": "markdown",
   "metadata": {
    "created_in_deepnote_cell": true,
    "deepnote_cell_type": "markdown",
    "tags": []
   },
   "source": [
    "<a style='text-decoration:none;line-height:16px;display:flex;color:#5B5B62;padding:10px;justify-content:end;' href='https://deepnote.com?utm_source=created-in-deepnote-cell&projectId=b150ef30-52fe-41e2-b3cd-643278d2147a' target=\"_blank\">\n",
    "<img alt='Created in deepnote.com' style='display:inline;max-height:16px;margin:0px;margin-right:7.5px;' src='data:image/svg+xml;base64,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' > </img>\n",
    "Created in <span style='font-weight:600;margin-left:4px;'>Deepnote</span></a>"
   ]
  }
 ],
 "metadata": {
  "deepnote": {
   "is_reactive": false
  },
  "deepnote_app_layout": "article",
  "deepnote_execution_queue": [],
  "deepnote_notebook_id": "f151809a-d898-42fd-b2d1-4c219ec3e407",
  "language_info": {
   "name": "python"
  },
  "orig_nbformat": 2
 },
 "nbformat": 4,
 "nbformat_minor": 2
}
