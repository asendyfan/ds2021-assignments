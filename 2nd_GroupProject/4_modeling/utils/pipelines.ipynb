{
 "cells": [
  {
   "cell_type": "markdown",
   "metadata": {
    "cell_id": "583507c5-657c-4453-9794-970900ca259c",
    "deepnote_cell_type": "text-cell-h3",
    "is_collapsed": false,
    "tags": []
   },
   "source": [
    "### Dependences"
   ]
  },
  {
   "cell_type": "code",
   "execution_count": null,
   "metadata": {
    "cell_id": "bedaec7c-5fce-48a0-9f85-106ee0d2acf1",
    "deepnote_cell_height": 405,
    "deepnote_cell_type": "code",
    "deepnote_to_be_reexecuted": false,
    "execution_millis": 4,
    "execution_start": 1649625803137,
    "source_hash": "ec9bee7a",
    "tags": []
   },
   "outputs": [],
   "source": [
    "from sklearn.pipeline import Pipeline, make_pipeline\n",
    "import pandas as pd\n",
    "import numpy as np\n",
    "from sklearn import preprocessing, model_selection, svm\n",
    "from sklearn import naive_bayes\n",
    "from sklearn.linear_model import LogisticRegression\n",
    "from sklearn.model_selection import cross_val_score\n",
    "from sklearn.neighbors import KNeighborsClassifier\n",
    "from sklearn.decomposition import PCA\n",
    "from sklearn.model_selection import train_test_split\n",
    "from sklearn.tree import DecisionTreeClassifier\n",
    "from sklearn.metrics import confusion_matrix, ConfusionMatrixDisplay, f1_score, accuracy_score\n",
    "import matplotlib.pyplot as plt\n",
    "import seaborn as sns\n",
    "import json\n",
    "from sklearn.compose import ColumnTransformer\n",
    "from sklearn.preprocessing import StandardScaler\n",
    "import warnings\n",
    "warnings.filterwarnings(\"ignore\")"
   ]
  },
  {
   "cell_type": "markdown",
   "metadata": {},
   "source": [
    "### Feature analysis class"
   ]
  },
  {
   "cell_type": "code",
   "execution_count": null,
   "metadata": {
    "cell_id": "ea14048d-0f42-4094-834f-f631fb7ae45a",
    "deepnote_cell_height": 2565,
    "deepnote_cell_type": "code",
    "deepnote_to_be_reexecuted": true,
    "execution_millis": 107,
    "execution_start": 1648854397050,
    "source_hash": "ad814559",
    "tags": []
   },
   "outputs": [],
   "source": [
    "# print('accuracy', result[-1])\n",
    "\n",
    "class InferringFeature:\n",
    "    def __init__(self, X, y):\n",
    "        self.X = X\n",
    "        self.y = y\n",
    "        # self.x_inferring = np.arange(0, 1, 0.001)\n",
    "        self.scaled_X = StandardScaler().fit_transform(X)\n",
    "\n",
    "    def get_x_coordinate(self, feature_index=1, x_type='continous'):\n",
    "        if self.x_coordinate_next != '':\n",
    "            return self.x_coordinate_next\n",
    "        if x_type=='continous':\n",
    "            feature = self.X[:, feature_index]\n",
    "            return np.arange(feature.min(), feature.max(), .01)\n",
    "        else:\n",
    "            feature = self.X[:, feature_index]\n",
    "            return np.arange(feature.min(), feature.max()+1)\n",
    "        \n",
    "    x_coordinate_next = ''\n",
    "\n",
    "    def infer(\n",
    "        self, model, need_plot = True, predict_func = 'predict_proba', \n",
    "        feature_index = 1, result_index=1,x_type = 'continous',\n",
    "        plot_args = {}\n",
    "    ):\n",
    "        specificFeature = self.X[:, feature_index].reshape(-1,1)\n",
    "\n",
    "        y_inferring = []\n",
    "        x_inferring = self.get_x_coordinate(feature_index, x_type)\n",
    "        feature_mean = specificFeature.mean()\n",
    "        feature_std = specificFeature.std()\n",
    "        for v in x_inferring:\n",
    "            v_scaled = (v - feature_mean) / feature_std # standard scale for each v\n",
    "            modified_test_X = self.scaled_X.copy()\n",
    "            modified_test_X[:, feature_index] = v_scaled # modify home attendance\n",
    "            modified = eval('model.{}(modified_test_X)'.format(predict_func))\n",
    "            modified_mean = modified[:, result_index].mean() if len(modified.shape) >1 else modified.mean()\n",
    "            y_inferring.append(modified_mean)\n",
    "        if need_plot:\n",
    "            self.plot(y_inferring, feature_index=feature_index,result_index=result_index, x_type=x_type, **plot_args)\n",
    "        self.x_coordinate_next=''\n",
    "        return y_inferring\n",
    "    \n",
    "    def plot(self, y, title=None, result_index=1, feature_index=1, x_type='continous', xlabel='Home Attendance Percentage'):\n",
    "        x_inferring = self.get_x_coordinate(feature_index, x_type)\n",
    "        plt.plot(x_inferring, y, label='modified')\n",
    "        if title:\n",
    "            plt.title(title)\n",
    "        plt.ylabel('Mean of modeling result P(y = {})'.format(result_index))\n",
    "        plt.xlabel(xlabel)\n",
    "        # plt.legend()\n",
    "        sns.despine()\n",
    "        self.x_coordinate_next=''\n",
    "        return plt"
   ]
  },
  {
   "cell_type": "markdown",
   "metadata": {
    "cell_id": "7c4d621a-ded5-450c-8184-9007744440c8",
    "deepnote_cell_type": "text-cell-h3",
    "is_collapsed": false,
    "tags": []
   },
   "source": [
    "### Changing result feature： 1 equals win or tie, 0 equals lose"
   ]
  },
  {
   "cell_type": "code",
   "execution_count": null,
   "metadata": {
    "cell_id": "0f43055f-fba9-4657-a86d-65dfa2974116",
    "deepnote_cell_height": 459,
    "deepnote_cell_type": "code",
    "deepnote_table_loading": false,
    "deepnote_table_state": {
     "filters": [],
     "pageIndex": 3,
     "pageSize": 10,
     "sortBy": []
    },
    "deepnote_to_be_reexecuted": true,
    "execution_millis": 53,
    "execution_start": 1648854397177,
    "source_hash": "64c955a8",
    "tags": []
   },
   "outputs": [],
   "source": [
    "def change_result_from_raw2data(\n",
    "    path1 = '/datasets/rawdataversion2/raw_data3.csv', \n",
    "    path2 = '/root/work/demonstration/datasets/final.csv',\n",
    "    logic = lambda raw: 1 if raw['Score'] - raw['Lost'] >= 0 else 0\n",
    "):\n",
    "    raw2 = pd.read_csv(path1)\n",
    "    data = pd.read_csv(path2)\n",
    "\n",
    "\n",
    "    raw2['result'] = raw2.apply(logic, axis=1)\n",
    "\n",
    "    data_changed = data.copy()\n",
    "    raw2.rename(columns = {\n",
    "        'Home_Team':'HomeTeam', \n",
    "        'Away_Team':'AwayTeam', \n",
    "    }, inplace=True)\n",
    "\n",
    "    data_changed = pd.merge(data_changed, raw2[['HomeTeam', 'AwayTeam', 'Date', 'result']], on=['HomeTeam', 'AwayTeam', 'Date'], how='left')\n",
    "    data_changed.drop(['Y'], axis=1, inplace=True)\n",
    "    data_changed.rename(columns={'result':'Y'}, inplace=True)\n",
    "\n",
    "    return data_changed"
   ]
  },
  {
   "cell_type": "markdown",
   "metadata": {
    "cell_id": "980094f1-614f-46a6-a09c-fa504a265d11",
    "deepnote_cell_type": "text-cell-h3",
    "is_collapsed": false,
    "tags": []
   },
   "source": [
    "### Changing result feature： 0 equals lose, 1 equals tie, 2 equals win "
   ]
  },
  {
   "cell_type": "code",
   "execution_count": null,
   "metadata": {
    "cell_id": "6d38875d-ac1c-4aac-8ba3-a925a8a0bd17",
    "deepnote_cell_height": 297,
    "deepnote_cell_type": "code",
    "deepnote_to_be_reexecuted": true,
    "execution_millis": 2,
    "execution_start": 1648854397286,
    "source_hash": "2d1201d8",
    "tags": []
   },
   "outputs": [],
   "source": [
    "def change_result2_from_raw2data(\n",
    "    path1 = '/datasets/rawdataversion2/raw_data3.csv', \n",
    "    path2 = '/root/work/demonstration/datasets/final.csv'\n",
    "):\n",
    "    def logic(raw):\n",
    "        net_score = raw['Score'] - raw['Lost']\n",
    "        if net_score > 0:\n",
    "            return 2\n",
    "        elif net_score == 0:\n",
    "            return 1\n",
    "        else:\n",
    "            return 0\n",
    "    return change_result_from_raw2data( path1=path1, path2=path2, logic=logic)"
   ]
  },
  {
   "cell_type": "markdown",
   "metadata": {
    "cell_id": "cf937800-60cc-481a-a070-d297c550c77f",
    "deepnote_cell_type": "text-cell-h3",
    "is_collapsed": false,
    "tags": []
   },
   "source": [
    "### Data"
   ]
  },
  {
   "cell_type": "code",
   "execution_count": null,
   "metadata": {
    "cell_id": "421a6a49-2b24-4d13-ac51-6f07bd2a066c",
    "deepnote_cell_height": 441,
    "deepnote_cell_type": "code",
    "deepnote_to_be_reexecuted": true,
    "execution_millis": 1232125443,
    "execution_start": 1648854397475,
    "owner_user_id": "c20c976b-1932-4d76-9862-b49bd106d81f",
    "source_hash": "3811c104",
    "tags": []
   },
   "outputs": [],
   "source": [
    "def split_Xy(data):\n",
    "    return data.iloc[:,4:-1].values, data['Y'].values\n",
    "\n",
    "def get_train_validation_test(X, y, test_ratio=.2, validation_ratio=.1):\n",
    "    X_trainfull, X_test, y_trainfull, y_test = train_test_split(X, y, test_size=test_ratio)\n",
    "    valid_index = int(X_trainfull.size * validation_ratio)\n",
    "    X_train, X_valid = X_trainfull[:valid_index], X_trainfull[valid_index:]\n",
    "    y_train, y_valid = y_trainfull[:valid_index], y_trainfull[valid_index:]\n",
    "    return X_train, X_valid, X_test, y_train, y_valid, y_test\n",
    "\n",
    "def data_loseandtie():\n",
    "    data = pd.read_csv('/root/work/demonstration/datasets/final.csv')\n",
    "    return split_Xy(data)\n",
    "\n",
    "def data_tieandwin():\n",
    "    data = change_result_from_raw2data()\n",
    "    return split_Xy(data)\n",
    "\n",
    "def data_splited():\n",
    "    data = change_result2_from_raw2data()\n",
    "    return split_Xy(data)"
   ]
  },
  {
   "cell_type": "code",
   "execution_count": null,
   "metadata": {
    "cell_id": "f08d5945f27b4c33a2c6843128373554",
    "deepnote_cell_height": 135,
    "deepnote_cell_type": "code",
    "deepnote_to_be_reexecuted": true,
    "execution_millis": 0,
    "execution_start": 1648913512458,
    "source_hash": "9b4f2c84",
    "tags": []
   },
   "outputs": [],
   "source": [
    "def get_configs():\n",
    "    input_file = open('/root/work/configs.json')\n",
    "    content = json.load(input_file)\n",
    "    return content"
   ]
  },
  {
   "cell_type": "code",
   "execution_count": null,
   "metadata": {
    "cell_id": "4487019d3d304e0799911f57e70d1bf4",
    "deepnote_cell_height": 147.6875,
    "deepnote_cell_type": "code",
    "deepnote_table_loading": false,
    "deepnote_table_state": {
     "filters": [],
     "pageIndex": 0,
     "pageSize": 10,
     "sortBy": []
    },
    "deepnote_to_be_reexecuted": true,
    "execution_millis": 3940,
    "execution_start": 1648854717801,
    "source_hash": "82fece78",
    "tags": []
   },
   "outputs": [
    {
     "name": "stdout",
     "output_type": "stream",
     "text": [
      "all.csv  pipelines.ipynb  test.ipynb\r\n"
     ]
    }
   ],
   "source": [
    "def get_features_name():\n",
    "    features = pd.read_json('/root/work/demonstration/datasets/Features_Metadata.json')\n",
    "    return features['Name'].values"
   ]
  },
  {
   "cell_type": "markdown",
   "metadata": {
    "created_in_deepnote_cell": true,
    "deepnote_cell_type": "markdown",
    "tags": []
   },
   "source": [
    "<a style='text-decoration:none;line-height:16px;display:flex;color:#5B5B62;padding:10px;justify-content:end;' href='https://deepnote.com?utm_source=created-in-deepnote-cell&projectId=b150ef30-52fe-41e2-b3cd-643278d2147a' target=\"_blank\">\n",
    "<img alt='Created in deepnote.com' style='display:inline;max-height:16px;margin:0px;margin-right:7.5px;' src='data:image/svg+xml;base64,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' > </img>\n",
    "Created in <span style='font-weight:600;margin-left:4px;'>Deepnote</span></a>"
   ]
  }
 ],
 "metadata": {
  "deepnote": {
   "is_reactive": false
  },
  "deepnote_execution_queue": [],
  "deepnote_notebook_id": "b2d92be7-8985-485b-a08c-6c36603f098d",
  "language_info": {
   "name": "python"
  },
  "orig_nbformat": 2
 },
 "nbformat": 4,
 "nbformat_minor": 2
}
