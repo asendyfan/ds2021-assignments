{
 "cells": [
  {
   "cell_type": "markdown",
   "metadata": {
    "id": "q0_4Ol7IWXU8"
   },
   "source": [
    " <center>Assignment 3</center> \n"
   ]
  },
  {
   "cell_type": "markdown",
   "metadata": {
    "id": "xpagnXRbrogE"
   },
   "source": [
    "## Question 1 ##"
   ]
  },
  {
   "cell_type": "markdown",
   "metadata": {
    "id": "P-dzxh8Srktk"
   },
   "source": [
    "### Read data"
   ]
  },
  {
   "cell_type": "code",
   "execution_count": 34,
   "metadata": {
    "colab": {
     "base_uri": "https://localhost:8080/"
    },
    "id": "oeObmBzUVKAf",
    "outputId": "9f48f564-fdb0-49e6-dc14-9fab763f6a3f"
   },
   "outputs": [
    {
     "name": "stdout",
     "output_type": "stream",
     "text": [
      "data length: 1788\n",
      "numbers of column 'sample' unique value 1779\n"
     ]
    }
   ],
   "source": [
    "import pandas as pd\n",
    "import numpy as np\n",
    "\n",
    "# read data\n",
    "data = pd.read_csv('Mamani09_Table_DR2.csv', encoding='cp1252')\n",
    "# data.info(verbose=True, null_counts=True)\n",
    "print('data length:',len(data))\n",
    "print('numbers of column \\'sample\\' unique value', len(data['Sample'].unique()))"
   ]
  },
  {
   "cell_type": "markdown",
   "metadata": {
    "id": "RgWW0MidVAAe"
   },
   "source": [
    "### Data clearning\n"
   ]
  },
  {
   "cell_type": "markdown",
   "metadata": {
    "id": "IMvl2ibtCLs2"
   },
   "source": [
    "#### Drop some columns and change null value of Rock_type\n",
    "From the information and analysing, some columns is less data or irrelvant to sample feature, it can take action by following steps: \n",
    "1. There are many columns that have a lot of null values. It should be deleted if the null value is more than ***70%***. \n",
    "\n",
    "2. Our goal is to predict `Sample_type` column, if the sample type value is null, it can be assumed that the data is missing and that row should be deleted \n",
    "\n",
    "3. Some columns also need to be deleted:\n",
    "  1. Column *'Sample'* have 1779 unique value, It almost has the number of data length, so it is too identical to find extra common information\n",
    "  2. columns *'Location'*, *'Geochemistry Reference'*, *'Country'*, *'Longitude (X)'*, *'Latitude (Y)'* is not the characteristics of the sample itself, can be deleted\n",
    "4. Column *'Rock_type'* have three value is null, it can be named as 'unknown'"
   ]
  },
  {
   "cell_type": "code",
   "execution_count": 35,
   "metadata": {
    "id": "Wwex3YIGWykt"
   },
   "outputs": [],
   "source": [
    "# get each colum null numbers\n",
    "data_isnull_nums = data.isnull().sum().sort_values()\n",
    "# drop columns that contain more than 70% null value\n",
    "drop_cols = data_isnull_nums[data_isnull_nums>len(data)*.7].index \n",
    "\n",
    "# drop row item if target value (Sample type value) is null\n",
    "data_cleaning = data.drop(drop_cols, axis=1)\n",
    "data_cleaning = data_cleaning[~data_cleaning['Sample_type'].isnull()]\n",
    "\n",
    "# drop the columns which is not related to the characteristics of the sample itself\n",
    "data_cleaning.drop(['Sample', 'Location', 'Geochemistry Reference', 'Country', 'Longitude (X)', 'Latitude (Y)'], axis=1, inplace=True)\n",
    "\n",
    "# rename null value to 'unknown' in the 'Rock_type'\n",
    "data_cleaning['Rock_type'] = data_cleaning['Rock_type'].apply(lambda x: 'unknown' if str(x) == 'nan' else x)"
   ]
  },
  {
   "cell_type": "markdown",
   "metadata": {
    "id": "KFTiJTAaWukO"
   },
   "source": [
    "### Feature transformation"
   ]
  },
  {
   "cell_type": "markdown",
   "metadata": {
    "id": "bP2uhgJNSDTF"
   },
   "source": [
    "#### Convert **object** columns to **float64** columns\n",
    "Then, there are some columns that seems is float, but include some extra symbol, like ``<`` or ``-``, we should delete it and change the value to float"
   ]
  },
  {
   "cell_type": "code",
   "execution_count": 36,
   "metadata": {
    "id": "t30phvZ6Dt_G"
   },
   "outputs": [],
   "source": [
    "data_cleaning2 = data_cleaning\\\n",
    "  .applymap(lambda x: x.strip() if type(x) is str else x)\\\n",
    "  .replace('-','')\\\n",
    "  .replace(r'<|<=|=|>|>=', '', regex=True)\\\n",
    "  .replace('',np.nan)\\\n",
    "  .astype('float', errors='ignore')\n",
    "\n",
    "# watch the info\n",
    "# data_cleaning2.info(verbose=True, null_counts=True)"
   ]
  },
  {
   "cell_type": "markdown",
   "metadata": {
    "id": "-lTxp_C7s9yU"
   },
   "source": [
    "#### Impute value and add xx(feature)_was_missing columns\n",
    "Using the **median** of each column value to impute the null value by `SimpleImputer`, and **mark the null data** by adding boolean column (``[feature_name]_was_missing``)."
   ]
  },
  {
   "cell_type": "code",
   "execution_count": 37,
   "metadata": {
    "id": "IU7Oa156s8Ne"
   },
   "outputs": [],
   "source": [
    "import warnings\n",
    "# Ignore the chain warning and the least populated class number which is smaller than split number\n",
    "warnings.filterwarnings('ignore') \n",
    "\n",
    "data_float64 = data_cleaning2.select_dtypes('float64')\n",
    "\n",
    "col_with_missing = [col for col in data_cleaning2.columns if data_cleaning2[col].isnull().any()]\n",
    "for col in col_with_missing:\n",
    "  data_float64.loc[:, col+'_was_missing'] = data_float64[col].isnull().astype(int) # add column\n",
    "\n",
    "from sklearn.impute import SimpleImputer\n",
    "si = SimpleImputer(strategy='median')\n",
    "\n",
    "data_float64_cols = data_float64.columns\n",
    "\n",
    "data_float64[data_float64_cols] = si.fit_transform(data_float64) # replace null value of column median value\n",
    "\n",
    "# data_float64.isnull().any().unique(), data_float64.shape\n"
   ]
  },
  {
   "cell_type": "markdown",
   "metadata": {
    "id": "9FRMG1GMP6xA"
   },
   "source": [
    "\n",
    "#### Transform all the non-numeric features into numbers.\n",
    "Using **One Hot Encoder** to change input features to numeric columns and using **Label Encoder** to change output(Sample_type) column to number.\n",
    "\n",
    "Besides, fix the **multicollinearity** by dropping each one of the input subcolumns."
   ]
  },
  {
   "cell_type": "code",
   "execution_count": 38,
   "metadata": {
    "colab": {
     "base_uri": "https://localhost:8080/"
    },
    "id": "QXYHN3DyPwt1",
    "outputId": "4f75a21f-73f2-48aa-b827-582145e4148d"
   },
   "outputs": [
    {
     "name": "stdout",
     "output_type": "stream",
     "text": [
      "<class 'pandas.core.frame.DataFrame'>\n",
      "RangeIndex: 1786 entries, 0 to 1785\n",
      "Data columns (total 241 columns):\n",
      " #    Column                                  Non-Null Count  Dtype  \n",
      "---   ------                                  --------------  -----  \n",
      " 0    Arc_Chocolate                           1786 non-null   float64\n",
      " 1    Arc_Frontal arc                         1786 non-null   float64\n",
      " 2    Arc_Huaylillas                          1786 non-null   float64\n",
      " 3    Arc_Huaylillas backarc                  1786 non-null   float64\n",
      " 4    Arc_Huaylillas backarc-Ignimbrite       1786 non-null   float64\n",
      " 5    Arc_Huaylillas-Alpabamba-Ignimbrite     1786 non-null   float64\n",
      " 6    Arc_Huaylillas-Azapa                    1786 non-null   float64\n",
      " 7    Arc_Huaylillas-Chucal-Ignimbrite        1786 non-null   float64\n",
      " 8    Arc_Huaylillas-Ignimbrite               1786 non-null   float64\n",
      " 9    Arc_Huaylillas-Mauri-Ignimbrite         1786 non-null   float64\n",
      " 10   Arc_Huaylillas-Oxaya                    1786 non-null   float64\n",
      " 11   Arc_Huaylillas-Oxaya-Ignimbrite         1786 non-null   float64\n",
      " 12   Arc_Huaylillas-Zapahuira                1786 non-null   float64\n",
      " 13   Arc_Lower  Barroso                      1786 non-null   float64\n",
      " 14   Arc_Lower Barroso                       1786 non-null   float64\n",
      " 15   Arc_Lower Barroso-Caraveli-Ignimbrite   1786 non-null   float64\n",
      " 16   Arc_Lower Barroso-Diablo                1786 non-null   float64\n",
      " 17   Arc_Lower Barroso-Huaylas               1786 non-null   float64\n",
      " 18   Arc_Lower Barroso-Huayllas              1786 non-null   float64\n",
      " 19   Arc_Lower Barroso-Huayllas-Ignimbrite   1786 non-null   float64\n",
      " 20   Arc_Lower Barroso-Ignimbrite            1786 non-null   float64\n",
      " 21   Arc_Lower Barroso-Sencca-Ignimbrite     1786 non-null   float64\n",
      " 22   Arc_Lower Barroso_Sencca_Ignimbrite     1786 non-null   float64\n",
      " 23   Arc_Paleozoic                           1786 non-null   float64\n",
      " 24   Arc_Proterozoic                         1786 non-null   float64\n",
      " 25   Arc_Quinsachata backarc                 1786 non-null   float64\n",
      " 26   Arc_Shoshonites                         1786 non-null   float64\n",
      " 27   Arc_Tacaza                              1786 non-null   float64\n",
      " 28   Arc_Tacaza Backarc                      1786 non-null   float64\n",
      " 29   Arc_Tacaza backarc                      1786 non-null   float64\n",
      " 30   Arc_Tacaza backarc-Ignimbrite           1786 non-null   float64\n",
      " 31   Arc_Tacaza-Ignimbrite                   1786 non-null   float64\n",
      " 32   Arc_Tacaza-Nazca-Ignimbrite             1786 non-null   float64\n",
      " 33   Arc_Toquepala                           1786 non-null   float64\n",
      " 34   Arc_Upper Barroso                       1786 non-null   float64\n",
      " 35   Arc_Upper Barroso-Capillune-Ignimbrite  1786 non-null   float64\n",
      " 36   Arc_Upper Barroso-Huaylas               1786 non-null   float64\n",
      " 37   Arc_Upper Barroso-Huayllas              1786 non-null   float64\n",
      " 38   Arc_Upper Barroso-Ignimbrite            1786 non-null   float64\n",
      " 39   Arc_Upper Barroso-Sencca-Ignimbrite     1786 non-null   float64\n",
      " 40   Geologycal_age_Cretaceous               1786 non-null   float64\n",
      " 41   Geologycal_age_Devonian                 1786 non-null   float64\n",
      " 42   Geologycal_age_Eocene                   1786 non-null   float64\n",
      " 43   Geologycal_age_Jurassic                 1786 non-null   float64\n",
      " 44   Geologycal_age_Lower Miocene            1786 non-null   float64\n",
      " 45   Geologycal_age_Lower Pliocene           1786 non-null   float64\n",
      " 46   Geologycal_age_MIocene                  1786 non-null   float64\n",
      " 47   Geologycal_age_Middle Miocene           1786 non-null   float64\n",
      " 48   Geologycal_age_Mio-Pliocene             1786 non-null   float64\n",
      " 49   Geologycal_age_Miocene                  1786 non-null   float64\n",
      " 50   Geologycal_age_Oligocene                1786 non-null   float64\n",
      " 51   Geologycal_age_Ordovician               1786 non-null   float64\n",
      " 52   Geologycal_age_Paleocene                1786 non-null   float64\n",
      " 53   Geologycal_age_Paleogene                1786 non-null   float64\n",
      " 54   Geologycal_age_Paleozoic                1786 non-null   float64\n",
      " 55   Geologycal_age_Permian                  1786 non-null   float64\n",
      " 56   Geologycal_age_Plio-Pleistocene         1786 non-null   float64\n",
      " 57   Geologycal_age_Pliocene                 1786 non-null   float64\n",
      " 58   Geologycal_age_Proterozoic              1786 non-null   float64\n",
      " 59   Geologycal_age_Quaternary               1786 non-null   float64\n",
      " 60   Geologycal_age_Upper Miocene            1786 non-null   float64\n",
      " 61   Geologycal_age_Upper Pliocene           1786 non-null   float64\n",
      " 62   Domain_Arequipa                         1786 non-null   float64\n",
      " 63   Domain_Coastal Cordillera               1786 non-null   float64\n",
      " 64   Domain_Paracas                          1786 non-null   float64\n",
      " 65   Domain_transition                       1786 non-null   float64\n",
      " 66   Rock_type_Monzonite                     1786 non-null   float64\n",
      " 67   Rock_type_amphibolite                   1786 non-null   float64\n",
      " 68   Rock_type_andesite                      1786 non-null   float64\n",
      " 69   Rock_type_basalt                        1786 non-null   float64\n",
      " 70   Rock_type_basalt-andesite               1786 non-null   float64\n",
      " 71   Rock_type_basaltic andesite             1786 non-null   float64\n",
      " 72   Rock_type_dacite                        1786 non-null   float64\n",
      " 73   Rock_type_diorite                       1786 non-null   float64\n",
      " 74   Rock_type_gabbro                        1786 non-null   float64\n",
      " 75   Rock_type_gneiss                        1786 non-null   float64\n",
      " 76   Rock_type_granite                       1786 non-null   float64\n",
      " 77   Rock_type_granodiorite                  1786 non-null   float64\n",
      " 78   Rock_type_granulite                     1786 non-null   float64\n",
      " 79   Rock_type_latite                        1786 non-null   float64\n",
      " 80   Rock_type_monzonite                     1786 non-null   float64\n",
      " 81   Rock_type_quartzite                     1786 non-null   float64\n",
      " 82   Rock_type_rhyodacite                    1786 non-null   float64\n",
      " 83   Rock_type_rhyolite                      1786 non-null   float64\n",
      " 84   Rock_type_scoria                        1786 non-null   float64\n",
      " 85   Rock_type_serpentinite                  1786 non-null   float64\n",
      " 86   Rock_type_shoshonite                    1786 non-null   float64\n",
      " 87   Rock_type_tonalite                      1786 non-null   float64\n",
      " 88   Rock_type_trachyandesite                1786 non-null   float64\n",
      " 89   Rock_type_trachybasalt                  1786 non-null   float64\n",
      " 90   Rock_type_unknown                       1786 non-null   float64\n",
      " 91   SiO2                                    1786 non-null   float64\n",
      " 92   TiO2                                    1786 non-null   float64\n",
      " 93   Al2O3                                   1786 non-null   float64\n",
      " 94   Fe2O3                                   1786 non-null   float64\n",
      " 95   MnO                                     1786 non-null   float64\n",
      " 96   MgO                                     1786 non-null   float64\n",
      " 97   CaO                                     1786 non-null   float64\n",
      " 98   Na2O                                    1786 non-null   float64\n",
      " 99   K2O                                     1786 non-null   float64\n",
      " 100  P2O5                                    1786 non-null   float64\n",
      " 101  LOI                                     1786 non-null   float64\n",
      " 102  SUM (no water)                          1786 non-null   float64\n",
      " 103  Nb_xrf                                  1786 non-null   float64\n",
      " 104  Zr_xrf                                  1786 non-null   float64\n",
      " 105  Y_xrf                                   1786 non-null   float64\n",
      " 106  Sr_xrf                                  1786 non-null   float64\n",
      " 107  Rb_xrf                                  1786 non-null   float64\n",
      " 108  Pb_xrf                                  1786 non-null   float64\n",
      " 109  Ga_xrf                                  1786 non-null   float64\n",
      " 110  Zn_xrf                                  1786 non-null   float64\n",
      " 111  Cu_xrf                                  1786 non-null   float64\n",
      " 112  Ni_xrf                                  1786 non-null   float64\n",
      " 113  Co_xrf                                  1786 non-null   float64\n",
      " 114  Cr_xrf                                  1786 non-null   float64\n",
      " 115  V_xrf                                   1786 non-null   float64\n",
      " 116  Ba_xrf                                  1786 non-null   float64\n",
      " 117  Sc_xrf                                  1786 non-null   float64\n",
      " 118  Li_icpms                                1786 non-null   float64\n",
      " 119  Sc_icpms                                1786 non-null   float64\n",
      " 120  V_icpms                                 1786 non-null   float64\n",
      " 121  Co_icpms                                1786 non-null   float64\n",
      " 122  Ni_icpms                                1786 non-null   float64\n",
      " 123  Cu_icpms                                1786 non-null   float64\n",
      " 124  Zn_icpms                                1786 non-null   float64\n",
      " 125  Rb_icpms                                1786 non-null   float64\n",
      " 126  Sr_icpms                                1786 non-null   float64\n",
      " 127  Y_icpms                                 1786 non-null   float64\n",
      " 128  Nb_icpms                                1786 non-null   float64\n",
      " 129  Zr_icpms                                1786 non-null   float64\n",
      " 130  Mo_icpms                                1786 non-null   float64\n",
      " 131  Cs_icpms                                1786 non-null   float64\n",
      " 132  Cd_icpms                                1786 non-null   float64\n",
      " 133  Ba_icpms                                1786 non-null   float64\n",
      " 134  La_icpms                                1786 non-null   float64\n",
      " 135  Ce_icpms                                1786 non-null   float64\n",
      " 136  Pr_icpms                                1786 non-null   float64\n",
      " 137  Nd_icpms                                1786 non-null   float64\n",
      " 138  Sm_icpms                                1786 non-null   float64\n",
      " 139  Eu_icpms                                1786 non-null   float64\n",
      " 140  Gd_icpms                                1786 non-null   float64\n",
      " 141  Tb_icpms                                1786 non-null   float64\n",
      " 142  Dy_icpms                                1786 non-null   float64\n",
      " 143  Ho_icpms                                1786 non-null   float64\n",
      " 144  Er_icpms                                1786 non-null   float64\n",
      " 145  Tm_icpms                                1786 non-null   float64\n",
      " 146  Yb_icpms                                1786 non-null   float64\n",
      " 147  Lu_icpms                                1786 non-null   float64\n",
      " 148  Hf_icpms                                1786 non-null   float64\n",
      " 149  Ta_icpms                                1786 non-null   float64\n",
      " 150  W_icpms                                 1786 non-null   float64\n",
      " 151  Pb_icpms                                1786 non-null   float64\n",
      " 152  Th_icpms                                1786 non-null   float64\n",
      " 153  U_icpms                                 1786 non-null   float64\n",
      " 154  La/Sm                                   1786 non-null   float64\n",
      " 155  La/Yb                                   1786 non-null   float64\n",
      " 156  Sr/Y                                    1786 non-null   float64\n",
      " 157  Sm/Yb                                   1786 non-null   float64\n",
      " 158  Dy/Yb                                   1786 non-null   float64\n",
      " 159  87_86Sr                                 1786 non-null   float64\n",
      " 160  87_86Sr initial                         1786 non-null   float64\n",
      " 161  143_144Nd                               1786 non-null   float64\n",
      " 162  eNd                                     1786 non-null   float64\n",
      " 163  206_204Pb                               1786 non-null   float64\n",
      " 164  207_204Pb                               1786 non-null   float64\n",
      " 165  208Pb_204Pb                             1786 non-null   float64\n",
      " 166  SiO2_was_missing                        1786 non-null   float64\n",
      " 167  TiO2_was_missing                        1786 non-null   float64\n",
      " 168  Al2O3_was_missing                       1786 non-null   float64\n",
      " 169  Fe2O3_was_missing                       1786 non-null   float64\n",
      " 170  MnO_was_missing                         1786 non-null   float64\n",
      " 171  MgO_was_missing                         1786 non-null   float64\n",
      " 172  CaO_was_missing                         1786 non-null   float64\n",
      " 173  Na2O_was_missing                        1786 non-null   float64\n",
      " 174  K2O_was_missing                         1786 non-null   float64\n",
      " 175  P2O5_was_missing                        1786 non-null   float64\n",
      " 176  LOI_was_missing                         1786 non-null   float64\n",
      " 177  SUM (no water)_was_missing              1786 non-null   float64\n",
      " 178  Nb_xrf_was_missing                      1786 non-null   float64\n",
      " 179  Zr_xrf_was_missing                      1786 non-null   float64\n",
      " 180  Y_xrf_was_missing                       1786 non-null   float64\n",
      " 181  Sr_xrf_was_missing                      1786 non-null   float64\n",
      " 182  Rb_xrf_was_missing                      1786 non-null   float64\n",
      " 183  Pb_xrf_was_missing                      1786 non-null   float64\n",
      " 184  Ga_xrf_was_missing                      1786 non-null   float64\n",
      " 185  Zn_xrf_was_missing                      1786 non-null   float64\n",
      " 186  Cu_xrf_was_missing                      1786 non-null   float64\n",
      " 187  Ni_xrf_was_missing                      1786 non-null   float64\n",
      " 188  Co_xrf_was_missing                      1786 non-null   float64\n",
      " 189  Cr_xrf_was_missing                      1786 non-null   float64\n",
      " 190  V_xrf_was_missing                       1786 non-null   float64\n",
      " 191  Ba_xrf_was_missing                      1786 non-null   float64\n",
      " 192  Sc_xrf_was_missing                      1786 non-null   float64\n",
      " 193  Li_icpms_was_missing                    1786 non-null   float64\n",
      " 194  Sc_icpms_was_missing                    1786 non-null   float64\n",
      " 195  V_icpms_was_missing                     1786 non-null   float64\n",
      " 196  Co_icpms_was_missing                    1786 non-null   float64\n",
      " 197  Ni_icpms_was_missing                    1786 non-null   float64\n",
      " 198  Cu_icpms_was_missing                    1786 non-null   float64\n",
      " 199  Zn_icpms_was_missing                    1786 non-null   float64\n",
      " 200  Rb_icpms_was_missing                    1786 non-null   float64\n",
      " 201  Sr_icpms_was_missing                    1786 non-null   float64\n",
      " 202  Y_icpms_was_missing                     1786 non-null   float64\n",
      " 203  Nb_icpms_was_missing                    1786 non-null   float64\n",
      " 204  Zr_icpms_was_missing                    1786 non-null   float64\n",
      " 205  Mo_icpms_was_missing                    1786 non-null   float64\n",
      " 206  Cs_icpms_was_missing                    1786 non-null   float64\n",
      " 207  Cd_icpms_was_missing                    1786 non-null   float64\n",
      " 208  Ba_icpms_was_missing                    1786 non-null   float64\n",
      " 209  La_icpms_was_missing                    1786 non-null   float64\n",
      " 210  Ce_icpms_was_missing                    1786 non-null   float64\n",
      " 211  Pr_icpms_was_missing                    1786 non-null   float64\n",
      " 212  Nd_icpms_was_missing                    1786 non-null   float64\n",
      " 213  Sm_icpms_was_missing                    1786 non-null   float64\n",
      " 214  Eu_icpms_was_missing                    1786 non-null   float64\n",
      " 215  Gd_icpms_was_missing                    1786 non-null   float64\n",
      " 216  Tb_icpms_was_missing                    1786 non-null   float64\n",
      " 217  Dy_icpms_was_missing                    1786 non-null   float64\n",
      " 218  Ho_icpms_was_missing                    1786 non-null   float64\n",
      " 219  Er_icpms_was_missing                    1786 non-null   float64\n",
      " 220  Tm_icpms_was_missing                    1786 non-null   float64\n",
      " 221  Yb_icpms_was_missing                    1786 non-null   float64\n",
      " 222  Lu_icpms_was_missing                    1786 non-null   float64\n",
      " 223  Hf_icpms_was_missing                    1786 non-null   float64\n",
      " 224  Ta_icpms_was_missing                    1786 non-null   float64\n",
      " 225  W_icpms_was_missing                     1786 non-null   float64\n",
      " 226  Pb_icpms_was_missing                    1786 non-null   float64\n",
      " 227  Th_icpms_was_missing                    1786 non-null   float64\n",
      " 228  U_icpms_was_missing                     1786 non-null   float64\n",
      " 229  La/Sm_was_missing                       1786 non-null   float64\n",
      " 230  La/Yb_was_missing                       1786 non-null   float64\n",
      " 231  Sr/Y_was_missing                        1786 non-null   float64\n",
      " 232  Sm/Yb_was_missing                       1786 non-null   float64\n",
      " 233  Dy/Yb_was_missing                       1786 non-null   float64\n",
      " 234  87_86Sr_was_missing                     1786 non-null   float64\n",
      " 235  87_86Sr initial_was_missing             1786 non-null   float64\n",
      " 236  143_144Nd_was_missing                   1786 non-null   float64\n",
      " 237  eNd_was_missing                         1786 non-null   float64\n",
      " 238  206_204Pb_was_missing                   1786 non-null   float64\n",
      " 239  207_204Pb_was_missing                   1786 non-null   float64\n",
      " 240  208Pb_204Pb_was_missing                 1786 non-null   float64\n",
      "dtypes: float64(241)\n",
      "memory usage: 3.3 MB\n"
     ]
    }
   ],
   "source": [
    "from sklearn.preprocessing import OneHotEncoder\n",
    "\n",
    "data_nonnum = data_cleaning2.select_dtypes('object') # select the object cols\n",
    "data_nonnum.drop('Sample_type', inplace=True, axis=1)# drop target value column\n",
    "\n",
    "ohe = OneHotEncoder(sparse=True)# using one hot encoder\n",
    "ohe.fit(data_nonnum)\n",
    "\n",
    "# get the transform data \n",
    "data_nonnum2_columns = ohe.get_feature_names_out(data_nonnum.columns).tolist()\n",
    "data_nonnum2 = pd.DataFrame(ohe.fit_transform(data_nonnum).toarray(), columns=data_nonnum2_columns)\n",
    "\n",
    "# drop one subcolumn to avoid multicollinearity\n",
    "for col in data_nonnum.columns:\n",
    "  sub_col1 = [col2 for i, col2 in enumerate(data_nonnum2_columns) if col in col2][0]\n",
    "  data_nonnum2.drop(sub_col1, axis=1, inplace=True)\n",
    "data_trans = data_nonnum2.join(data_float64)\n",
    "\n",
    "# convert dependent column (Sample_type)'s type from object to float64\n",
    "from sklearn.preprocessing import LabelEncoder # using label encoder\n",
    "le = LabelEncoder()\n",
    "y = le.fit_transform(data_cleaning2['Sample_type'])\n",
    "y_classes = le.classes_\n",
    "\n",
    "# print the result\n",
    "data_trans.info(verbose=True, null_counts=True)"
   ]
  },
  {
   "cell_type": "markdown",
   "metadata": {
    "id": "qq8Py9eApgK6"
   },
   "source": [
    "#### Feature scalling\n",
    "\n",
    "Using Standardization to scale features"
   ]
  },
  {
   "cell_type": "code",
   "execution_count": 39,
   "metadata": {
    "id": "PMjdcBGNpqQD"
   },
   "outputs": [],
   "source": [
    "from sklearn.preprocessing import StandardScaler\n",
    "stds = StandardScaler() # scalling\n",
    "\n",
    "features = data_trans.columns\n",
    "X = stds.fit_transform(data_trans) "
   ]
  },
  {
   "cell_type": "markdown",
   "metadata": {
    "id": "m5_BAw4xmOOL"
   },
   "source": [
    "## Question 2\n",
    "Using algorihms **Naive Bayes** and **Decision Tree**"
   ]
  },
  {
   "cell_type": "markdown",
   "metadata": {
    "id": "mjL3zMQvnGEj"
   },
   "source": [
    "### Build model with default hyperparameter and train it"
   ]
  },
  {
   "cell_type": "code",
   "execution_count": 40,
   "metadata": {
    "colab": {
     "base_uri": "https://localhost:8080/"
    },
    "id": "soYpQ9ZwnFKg",
    "outputId": "97a0be70-aba1-4ff3-c7fa-9b69b2d95ea2"
   },
   "outputs": [
    {
     "name": "stdout",
     "output_type": "stream",
     "text": [
      "Navie Bayes [0.75977654 0.51396648 0.48044693 0.58659218 0.59776536 0.70391061\n",
      " 0.75280899 0.96067416 0.70224719 0.19662921]\n",
      "Decision Tree [0.74301676 0.73743017 0.93854749 0.93854749 0.91061453 0.95530726\n",
      " 0.88202247 0.85393258 0.91011236 0.40449438]\n",
      "Navie Bayes average accuracy: 0.6254817651120457/n Decision Tree average accuracy: 0.8274025484903647\n"
     ]
    }
   ],
   "source": [
    "from sklearn.neighbors import KNeighborsClassifier\n",
    "from sklearn.tree import DecisionTreeClassifier\n",
    "from sklearn.model_selection import cross_val_score\n",
    "from sklearn.naive_bayes import GaussianNB\n",
    "\n",
    "clf = DecisionTreeClassifier()\n",
    "nb = GaussianNB()\n",
    "clf_predict_val = cross_val_score(clf, X, y, cv=10, scoring='accuracy')\n",
    "nb_predict_val = cross_val_score(nb, X, y, cv=10, scoring='accuracy')\n",
    "\n",
    "print('Navie Bayes', nb_predict_val)\n",
    "print('Decision Tree', clf_predict_val)\n",
    "print('Navie Bayes average accuracy: {}/n Decision Tree average accuracy: {}'.format(nb_predict_val.mean(), clf_predict_val.mean()))"
   ]
  },
  {
   "cell_type": "markdown",
   "metadata": {
    "id": "zh-gW3VM0Wxo"
   },
   "source": [
    "### Analysis models"
   ]
  },
  {
   "cell_type": "markdown",
   "metadata": {
    "id": "re8aJoX4nxyB"
   },
   "source": [
    "#### Metric **Accruracy**, its distribution (boxplot) and Mann-Whitney U Test\n",
    "\n",
    "##### **Boxplot**\n",
    "\n",
    "The boxplot shows the distribution of outliers, maximum, 3rd quartile, median, 1st quartile, minimum, and more intuitive data distribution. To facilitate our general analysis.\n",
    "\n",
    "This plot, it shows how the accuracy is distributed. The result is that the Decision Tree model has a better distribution of accuracy, which has a higher median value and higher narrow range of value distribution.\n",
    "\n",
    "\n",
    "##### **Mann-Whitney U Test**:\n",
    "\n",
    "In this case, each of the two models is testing different part of data 10 times, so it is **unpair** and independent and identically distributed (**iid**). Besides, each model **only has 10 accuracy results**, the sample size is too small. Thus it can use Mann-Whitney U Test to do it.\n",
    "\n",
    "Mann-Whitney U Test shows the p-value of these two data is about ***0.01***, smaller than 0.05. It means their performance is **significantly different**, and the Decision tree is way better than Naive Bayes in the metric of accuracy.\n",
    "\n",
    "\n",
    "\n"
   ]
  },
  {
   "cell_type": "code",
   "execution_count": 41,
   "metadata": {
    "colab": {
     "base_uri": "https://localhost:8080/",
     "height": 298
    },
    "id": "b5Nq5jqx3pre",
    "outputId": "07d2430c-dfcd-4d33-c242-bc5d42e7ed6f"
   },
   "outputs": [
    {
     "name": "stdout",
     "output_type": "stream",
     "text": [
      "MannwhitneyuResult(statistic=22.0, pvalue=0.03756347188589839)\n"
     ]
    },
    {
     "data": {
      "image/png": "[encoded data removed]",
      "text/plain": [
       "<Figure size 432x288 with 1 Axes>"
      ]
     },
     "metadata": {
      "needs_background": "light"
     },
     "output_type": "display_data"
    }
   ],
   "source": [
    "import matplotlib.pyplot as plt\n",
    "from scipy.stats import mannwhitneyu\n",
    "\n",
    "# draw boxplot\n",
    "plt.title('Algorithm Comparison')\n",
    "plt.boxplot([nb_predict_val, clf_predict_val])\n",
    "plt.xticks(np.arange(1,3), ['nb', 'clf'])\n",
    "\n",
    "\n",
    "# test\n",
    "print(mannwhitneyu(nb_predict_val, clf_predict_val))"
   ]
  },
  {
   "cell_type": "markdown",
   "metadata": {
    "id": "fY3ZY-SUqlLd"
   },
   "source": [
    "#### using **confusion matrix** and **F-measure**\n",
    "\n",
    "##### **Confusion Matrix**\n",
    "The matrix can show more details about how predicted classes match the right classes.\n",
    "\n",
    "Comparing the Decision Tree model, The predicted value of the Naive Bayes model is not more focused on the diagonal. Such as the prediction of *lava* class, has many misjudgments as *ignimbrite* and *intrusion*.\n",
    "\n",
    "##### **F-measure**\n",
    "Then after 10 folder cross-validation, using **macro f-measure values** to judge two models. Using **Mann-Whitney U Test** to know if the results of the two models are significantly different. And the reason why using this test method is similar to the above. The statistic results show that:\n",
    "1. The average macro f-score in the Decision tree is slightly better than Naive Bayes.\n",
    "2. Besides, the p-value of these two methods is larger than 0.05. It means their performance is probably 95% same "
   ]
  },
  {
   "cell_type": "code",
   "execution_count": 42,
   "metadata": {
    "colab": {
     "base_uri": "https://localhost:8080/",
     "height": 695
    },
    "id": "gu-cwRNoL7xf",
    "outputId": "e9f6ef88-ed94-460f-b6eb-21b2bdfb81b7"
   },
   "outputs": [
    {
     "name": "stdout",
     "output_type": "stream",
     "text": [
      "Naive Bayes: f-measureaverage score:0.6701086525906537\n",
      "Decision Tree: f-measure average score:0.7457944763545181\n",
      "MannwhitneyuResult(statistic=43.0, pvalue=0.6231762238821174)\n"
     ]
    },
    {
     "data": {
      "image/png": "[encoded data removed]",
      "text/plain": [
       "<Figure size 432x288 with 2 Axes>"
      ]
     },
     "metadata": {
      "needs_background": "light"
     },
     "output_type": "display_data"
    },
    {
     "data": {
      "image/png": "[encoded data removed]",
      "text/plain": [
       "<Figure size 432x288 with 2 Axes>"
      ]
     },
     "metadata": {
      "needs_background": "light"
     },
     "output_type": "display_data"
    }
   ],
   "source": [
    "from sklearn import metrics\n",
    "from sklearn.model_selection import train_test_split\n",
    "from sklearn.metrics import confusion_matrix, ConfusionMatrixDisplay, f1_score, accuracy_score\n",
    "\n",
    "# get train and test subsets and fit two models \n",
    "nb = GaussianNB()\n",
    "clf = DecisionTreeClassifier()\n",
    "X_train, X_test, y_train, y_test = train_test_split(X, y, test_size=.3, random_state=1)\n",
    "nb.fit(X_train, y_train)\n",
    "clf.fit(X_train, y_train)\n",
    "\n",
    "# Naive Bayes Confusion Matrix\n",
    "predict_val1 = nb.predict(X_test)\n",
    "cm1 = confusion_matrix(y_test, predict_val1)\n",
    "disp1 = ConfusionMatrixDisplay(cm1, display_labels=y_classes)\n",
    "disp1.plot()\n",
    "disp1.ax_.set_title('Naive Bayes Confusion Matrix')\n",
    "disp1.figure_.autofmt_xdate(rotation=90)\n",
    "\n",
    "# Decision Tree Classifier Confusion Matrix\n",
    "predict_val2 = clf.predict(X_test)\n",
    "cm2 = confusion_matrix(y_test, predict_val2)\n",
    "disp2 = ConfusionMatrixDisplay(cm2, display_labels=y_classes)\n",
    "disp2.plot()\n",
    "disp2.ax_.set_title('Decision Tree Classifier Confusion Matrix')\n",
    "disp2.figure_.autofmt_xdate(rotation=90)\n",
    "\n",
    "\n",
    "# using macro average f-measure to judge two models, \n",
    "nb_f1 = cross_val_score(GaussianNB(), X, y, cv=10, scoring='f1_macro')\n",
    "clf_f1 = cross_val_score(DecisionTreeClassifier(), X, y, cv=10, scoring='f1_macro')\n",
    "print('Naive Bayes: f-measureaverage score:{}\\nDecision Tree: f-measure average score:{}'.format(nb_f1.mean(), clf_f1.mean()))\n",
    "\n",
    "# using mannwhitneyu to test if two models result is significantly different.\n",
    "print(mannwhitneyu(nb_f1, clf_f1))"
   ]
  },
  {
   "cell_type": "markdown",
   "metadata": {
    "id": "6T4QTDfWZCa1"
   },
   "source": [
    "## Question 3\n"
   ]
  },
  {
   "cell_type": "markdown",
   "metadata": {
    "id": "S-NI7cRDeZEV"
   },
   "source": [
    "\n",
    "### Tuning the hyperparameter to imporve Decision Tree Model\n",
    "\n",
    "After selecting the decision tree model, we can tune the hyperparameter by `GridSearchCV` to get the best model and judge it through accuracy."
   ]
  },
  {
   "cell_type": "code",
   "execution_count": 43,
   "metadata": {
    "id": "_s5dHexUG0On"
   },
   "outputs": [],
   "source": [
    "from sklearn.model_selection import GridSearchCV\n",
    "from sklearn.tree import DecisionTreeClassifier\n",
    "\n",
    "# set the range of hyperparameter\n",
    "clf_hyperparams = dict(\n",
    "    criterion=['gini', 'entropy'],\n",
    "    max_depth=np.arange(10,40),\n",
    "    min_samples_split=np.arange(3, 6),\n",
    ")\n",
    "\n",
    "# get the best hyperparameter\n",
    "gridSearch = GridSearchCV(DecisionTreeClassifier(), clf_hyperparams, scoring='accuracy')\n",
    "clf_params_results = gridSearch.fit(X, y)"
   ]
  },
  {
   "cell_type": "markdown",
   "metadata": {
    "id": "RBZkX64_OGNQ"
   },
   "source": [
    "### Compare two decision tree models (default hyperparameter and tuned hyperparameter)\n",
    "\n",
    "After tuning the hyperparamers and applying them to the model, the average accuracy is slightly arisen and is better than before. However, from the statistic point, after using Mann-Whitney U Test, it shows that the performances of these two models are 95% probably same. Although the accuracy has been improved, it still has 95% is a similar accuracy distribution with the untuned model."
   ]
  },
  {
   "cell_type": "code",
   "execution_count": 44,
   "metadata": {
    "colab": {
     "base_uri": "https://localhost:8080/"
    },
    "id": "6eQDhz_BHUcv",
    "outputId": "c036eaf6-b31a-426e-a1b0-47160e5d8d1f"
   },
   "outputs": [
    {
     "name": "stdout",
     "output_type": "stream",
     "text": [
      "origin mean accuracy: 0.8274025484903647\n",
      "after tuning mean accuracy: 0.8678425710878163\n"
     ]
    },
    {
     "data": {
      "text/plain": [
       "MannwhitneyuResult(statistic=46.5, pvalue=0.8204630988382954)"
      ]
     },
     "execution_count": 44,
     "metadata": {},
     "output_type": "execute_result"
    }
   ],
   "source": [
    "# print(clf_params_results.best_params_, clf_params_results.best_score_)\n",
    "clf_tuned_params = clf_params_results.best_params_\n",
    "clf_tuned_val = cross_val_score(\n",
    "    DecisionTreeClassifier(\n",
    "      criterion=clf_tuned_params['criterion'], \n",
    "      max_depth=clf_tuned_params['max_depth'], \n",
    "      min_samples_split=clf_tuned_params['min_samples_split']\n",
    "    ),\n",
    "    X, y, scoring='accuracy', cv=10\n",
    ")\n",
    "\n",
    "print('origin mean accuracy: {}'.format(clf_predict_val.mean()))\n",
    "print('after tuning mean accuracy: {}'.format(clf_tuned_val.mean()))\n",
    "mannwhitneyu(clf_predict_val, clf_tuned_val)"
   ]
  }
 ],
 "metadata": {
  "colab": {
   "collapsed_sections": [],
   "name": "programming pyf-assignment3.ipynb",
   "provenance": [],
   "toc_visible": true
  },
  "kernelspec": {
   "display_name": "Python 3 (ipykernel)",
   "language": "python",
   "name": "python3"
  },
  "language_info": {
   "codemirror_mode": {
    "name": "ipython",
    "version": 3
   },
   "file_extension": ".py",
   "mimetype": "text/x-python",
   "name": "python",
   "nbconvert_exporter": "python",
   "pygments_lexer": "ipython3",
   "version": "3.7.4"
  },
  "toc": {
   "base_numbering": 1,
   "nav_menu": {},
   "number_sections": true,
   "sideBar": true,
   "skip_h1_title": false,
   "title_cell": "Table of Contents",
   "title_sidebar": "Contents",
   "toc_cell": false,
   "toc_position": {
    "height": "calc(100% - 180px)",
    "left": "10px",
    "top": "150px",
    "width": "328px"
   },
   "toc_section_display": true,
   "toc_window_display": true
  },
  "varInspector": {
   "cols": {
    "lenName": 16,
    "lenType": 16,
    "lenVar": 40
   },
   "kernels_config": {
    "python": {
     "delete_cmd_postfix": "",
     "delete_cmd_prefix": "del ",
     "library": "var_list.py",
     "varRefreshCmd": "print(var_dic_list())"
    },
    "r": {
     "delete_cmd_postfix": ") ",
     "delete_cmd_prefix": "rm(",
     "library": "var_list.r",
     "varRefreshCmd": "cat(var_dic_list()) "
    }
   },
   "types_to_exclude": [
    "module",
    "function",
    "builtin_function_or_method",
    "instance",
    "_Feature"
   ],
   "window_display": false
  }
 },
 "nbformat": 4,
 "nbformat_minor": 1
}
