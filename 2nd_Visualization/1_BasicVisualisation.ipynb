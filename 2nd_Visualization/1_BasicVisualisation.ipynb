{
 "cells": [
  {
   "cell_type": "markdown",
   "metadata": {},
   "source": [
    "## What is visualisation?\n",
    "Visualisation mke data more easy to understand, it translate data for out visual cortex to get intuitive, effortless and fast advantages.\n",
    "\n",
    "## Variables and Aesthetics:\n",
    "It is sth like change data dimensions to the x,y coordinates or colour etc., to map variables to aesthetics.\n",
    "\n",
    "* **Variables** can be categorized:\n",
    "    * Numerical, categorical\n",
    "    * Continuous, discrete\n",
    "    * Ordered, unordered\n",
    "* **Aesthetics** are not created equal:\n",
    "    * Ordered, unordered\n",
    "    * Position and length most accurate\n",
    "    * Area and volume not so good\n",
    "\n",
    "\n",
    "## Colour\n",
    "* different people seeing colour is different, It is based on type of vision: Trichromatic, Dichromatic, Monochromatic and Tetrachromatic vision.\n",
    "* Colour is 3 dimensional: RGB or HSV or HSL\n",
    "* context dependent perception\n",
    "* Colour scales (aka color maps, aka colour palettes), can be used for categorical variables(order, unorder)\n",
    "* Perceptually uniform colour maps, which is colour-blind-friendly, grayscale compatible.\n",
    "* Keep in mind that should choose color scales carefully:\n",
    "    * Ordered vs unordered\n",
    "    * perceptual uniformity\n",
    "    colour-blind-friendliness\n",
    "\n",
    "## Positional Scales\n",
    "\n",
    "Positional scales map variables to positions along an axis.\n",
    "\n",
    "1. Linear-Linear: $y =ax + b$ is a line\n",
    "2. Log-Linear: $y=\\lambda\\alpha^{\\gamma x}$ is a line\n",
    "3. Log-Log: $y=\\alpha x^{k}$ is a line\n",
    "\n"
   ]
  },
  {
   "cell_type": "markdown",
   "metadata": {},
   "source": [
    "## Visual Perception\n",
    "\n",
    "When seeing the graph, we can find the difference by perceiving its structure.\n",
    "\n",
    "**Gestalt principles** can tell us this difference to know what belongs together:\n",
    "1. Proximity\n",
    "2. Similarity\n",
    "3. Closure\n",
    "4. Good Continuation\n",
    "5. Symmetry\n",
    "6. Connection\n",
    "7. Enclosure\n",
    "8. Hierarchy\n",
    "\n",
    "More explanations and examples can be found [here](http://daydreamingnumbers.com/concepts/gestalt-laws-data-visualization/)\n",
    "\n",
    "**Preattentive attributes** can make objects stand out and then guide our attentions. It can make use work less well the background differs in multiple attributes.\n",
    "\n",
    "\n",
    "Following above methods, There are two books practice the visualisation.\n",
    "*The Visual Display of Quantitative Information*, written by Edward Tufte, and *Storytelling with Data*, written by Nussbaumer Knaflic.\n",
    "The main summaries are:\n",
    "1. Know the context and what you want to say. (Message, audience, means of communication)\n",
    "2. Keep it simple\n",
    "    * Remove useless chart junk\n",
    "    * Maximize data-ink ratio (within reason)\n",
    "    * Design should be simple so data can be complex\n",
    "    * If possible, avoid legends directly include labels in plot\n",
    "3. Guide attention (to whether is important for your message)\n",
    "4. For the graph content: induce the viewer to think about the substance rather than others and avoid distorting information.\n",
    "\n",
    "The process can like: Re-Evaluate $\\rightleftharpoons$ Modify. It can be finished by (Seaborn & Matplotlib) + (Illustrator, PS, etc.).\n",
    "\n",
    "\n",
    "\n",
    "\n",
    "\n",
    "\n",
    "\n",
    "\n",
    "\n",
    "\n"
   ]
  }
 ],
 "metadata": {
  "interpreter": {
   "hash": "b774acfeff12025bb88a6812344d10674551d33b3b06a1f7dd54b9641286f7ce"
  },
  "kernelspec": {
   "display_name": "Python 3.7.4 ('base')",
   "language": "python",
   "name": "python3"
  },
  "language_info": {
   "codemirror_mode": {
    "name": "ipython",
    "version": 3
   },
   "file_extension": ".py",
   "mimetype": "text/x-python",
   "name": "python",
   "nbconvert_exporter": "python",
   "pygments_lexer": "ipython3",
   "version": "3.7.4"
  },
  "orig_nbformat": 4
 },
 "nbformat": 4,
 "nbformat_minor": 2
}
